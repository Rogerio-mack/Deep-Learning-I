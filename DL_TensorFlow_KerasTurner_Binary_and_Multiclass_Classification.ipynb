{
  "nbformat": 4,
  "nbformat_minor": 0,
  "metadata": {
    "colab": {
      "name": "DL_TensorFlow_KerasTurner_Binary_and_Multiclass_Classification.ipynb",
      "provenance": [],
      "authorship_tag": "ABX9TyM3XHnuoMD7yMWZIuodOnzK",
      "include_colab_link": true
    },
    "kernelspec": {
      "name": "python3",
      "display_name": "Python 3"
    },
    "language_info": {
      "name": "python"
    }
  },
  "cells": [
    {
      "cell_type": "markdown",
      "metadata": {
        "id": "view-in-github",
        "colab_type": "text"
      },
      "source": [
        "<a href=\"https://colab.research.google.com/github/Rogerio-mack/Deep-Learning-I/blob/main/DL_TensorFlow_KerasTurner_Binary_and_Multiclass_Classification.ipynb\" target=\"_parent\"><img src=\"https://colab.research.google.com/assets/colab-badge.svg\" alt=\"Open In Colab\"/></a>"
      ]
    },
    {
      "cell_type": "markdown",
      "metadata": {
        "id": "eSaNGzOu-p45"
      },
      "source": [
        "<head>\n",
        "  <meta name=\"author\" content=\"Rogério de Oliveira\">\n",
        "  <meta institution=\"author\" content=\"Universidade Presbiteriana Mackenzie\">\n",
        "</head>\n",
        "\n",
        "<img src=\"http://meusite.mackenzie.br/rogerio/mackenzie_logo/UPM.2_horizontal_vermelho.jpg\" width=300, align=\"right\"> \n",
        "\n",
        "<h1 align=left><font size = 6, style=\"color:rgb(0,0,0)\"><b>Deep Learning</b></font></h1> \n",
        "\n",
        "# Seleção de Hyperparâmetros de Modelos com o Keras Turner\n",
        "### Modelos de Classificação Binária e Multiclasse \n",
        "Rogério de Oliveira\n",
        "\n",
        "<br>\n",
        "<br>\n",
        "\n",
        "---\n"
      ]
    },
    {
      "cell_type": "code",
      "metadata": {
        "id": "Ofpr09BNmsg2"
      },
      "source": [
        "import pandas as pd\n",
        "import numpy as np\n",
        "import matplotlib.pyplot as plt\n",
        "%matplotlib inline\n",
        "import seaborn as sns"
      ],
      "execution_count": 31,
      "outputs": []
    },
    {
      "cell_type": "code",
      "metadata": {
        "cellView": "form",
        "id": "sDqijtvx37vH"
      },
      "source": [
        "#@title Execute antes de seguir.\n",
        "#@markdown Funções pré-definidas de report de classificação e plot da curva de aprendizado.\n",
        "\n",
        "from sklearn.metrics import confusion_matrix, classification_report, accuracy_score\n",
        "def print_results(y_test, y_pred):\n",
        "  print('\\nConfusion Matrix: \\n\\n', confusion_matrix(y_test, y_pred))\n",
        "  print('\\nClassification Report: \\n\\n', classification_report(y_test, y_pred))\n",
        "  print('\\nAccuracy Score: \\n\\n', accuracy_score(y_test, y_pred), '\\n')\n",
        "  return\n",
        "\n",
        "def display_acc_hist(history):\n",
        "  history_df = pd.DataFrame(history.history)\n",
        "  print('\\n\\nLearning Curve... \\n\\n')\n",
        "  print('\\n', history_df.head())\n",
        "  # Start the plot at epoch 0\n",
        "  history_df.loc[0:, ['loss', 'val_loss']].plot()\n",
        "  history_df.loc[0:, [history_df.columns[1], history_df.columns[3]]].plot()\n",
        "\n",
        "  print((\"\\nBest Validation Loss: {:0.4f}\" +\\\n",
        "      \"\\nBest Validation Accuracy: {:0.4f}\")\\\n",
        "      .format(history_df[history_df.columns[2]].min(), \n",
        "              history_df[history_df.columns[3]].max()))\n",
        "  print('\\n ')\n",
        "  return\n",
        "\n",
        "# print_results(y_test_one, y_pred_one)\n",
        "# display_acc_hist(history)\n",
        "\n"
      ],
      "execution_count": 32,
      "outputs": []
    },
    {
      "cell_type": "markdown",
      "metadata": {
        "id": "LMorkoIHFaiK"
      },
      "source": [
        "# **Binary Class Problem**\n",
        "\n",
        "---"
      ]
    },
    {
      "cell_type": "markdown",
      "metadata": {
        "id": "VOnqE04pI_7z"
      },
      "source": [
        "![imagem](https://upload.wikimedia.org/wikipedia/commons/thumb/4/43/Sagittal_balance.png/220px-Sagittal_balance.png)\n",
        "\n",
        "<small>\n",
        "<b>\n",
        "\n",
        "Sagittal balance measurement."
      ]
    },
    {
      "cell_type": "markdown",
      "metadata": {
        "id": "OHRpuqhSDAqS"
      },
      "source": [
        "## AQUISIÇÃO E EXPLORAÇÃO DOS DADOS\n",
        "Variáveis preditoras e objetivo, número de classes, tipo dos dados etc.\n"
      ]
    },
    {
      "cell_type": "code",
      "metadata": {
        "colab": {
          "base_uri": "https://localhost:8080/",
          "height": 206
        },
        "id": "jiVXKgxSpVVF",
        "outputId": "795e4f11-f840-4afd-df1d-2ec77c1833f3"
      },
      "source": [
        "df = pd.read_csv('https://vincentarelbundock.github.io/Rdatasets/csv/rpart/kyphosis.csv',index_col=0)\n",
        "df.head()"
      ],
      "execution_count": 33,
      "outputs": [
        {
          "output_type": "execute_result",
          "data": {
            "text/html": [
              "<div>\n",
              "<style scoped>\n",
              "    .dataframe tbody tr th:only-of-type {\n",
              "        vertical-align: middle;\n",
              "    }\n",
              "\n",
              "    .dataframe tbody tr th {\n",
              "        vertical-align: top;\n",
              "    }\n",
              "\n",
              "    .dataframe thead th {\n",
              "        text-align: right;\n",
              "    }\n",
              "</style>\n",
              "<table border=\"1\" class=\"dataframe\">\n",
              "  <thead>\n",
              "    <tr style=\"text-align: right;\">\n",
              "      <th></th>\n",
              "      <th>Kyphosis</th>\n",
              "      <th>Age</th>\n",
              "      <th>Number</th>\n",
              "      <th>Start</th>\n",
              "    </tr>\n",
              "  </thead>\n",
              "  <tbody>\n",
              "    <tr>\n",
              "      <th>1</th>\n",
              "      <td>absent</td>\n",
              "      <td>71</td>\n",
              "      <td>3</td>\n",
              "      <td>5</td>\n",
              "    </tr>\n",
              "    <tr>\n",
              "      <th>2</th>\n",
              "      <td>absent</td>\n",
              "      <td>158</td>\n",
              "      <td>3</td>\n",
              "      <td>14</td>\n",
              "    </tr>\n",
              "    <tr>\n",
              "      <th>3</th>\n",
              "      <td>present</td>\n",
              "      <td>128</td>\n",
              "      <td>4</td>\n",
              "      <td>5</td>\n",
              "    </tr>\n",
              "    <tr>\n",
              "      <th>4</th>\n",
              "      <td>absent</td>\n",
              "      <td>2</td>\n",
              "      <td>5</td>\n",
              "      <td>1</td>\n",
              "    </tr>\n",
              "    <tr>\n",
              "      <th>5</th>\n",
              "      <td>absent</td>\n",
              "      <td>1</td>\n",
              "      <td>4</td>\n",
              "      <td>15</td>\n",
              "    </tr>\n",
              "  </tbody>\n",
              "</table>\n",
              "</div>"
            ],
            "text/plain": [
              "  Kyphosis  Age  Number  Start\n",
              "1   absent   71       3      5\n",
              "2   absent  158       3     14\n",
              "3  present  128       4      5\n",
              "4   absent    2       5      1\n",
              "5   absent    1       4     15"
            ]
          },
          "metadata": {},
          "execution_count": 33
        }
      ]
    },
    {
      "cell_type": "markdown",
      "metadata": {
        "id": "EsBshICEDNaA"
      },
      "source": [
        "## PREPARAÇÃO DOS DADOS\n",
        "\n",
        "Seleção de atributos, tratamento de nulos, encodes, normalização etc.\n"
      ]
    },
    {
      "cell_type": "code",
      "metadata": {
        "colab": {
          "base_uri": "https://localhost:8080/",
          "height": 499
        },
        "id": "82ucRaiw98-w",
        "outputId": "0bc494a9-4774-4841-dd83-2c82f1beb062"
      },
      "source": [
        "from sklearn.preprocessing import MinMaxScaler\n",
        "from sklearn.preprocessing import OneHotEncoder, LabelEncoder\n",
        "\n",
        "X = df.drop(columns=['Kyphosis'])\n",
        "y = df[['Kyphosis']]\n",
        "\n",
        "# One Encode\n",
        "#-------------------------------------------------------------------------------\n",
        "\n",
        "y = y.replace({'absent':0,'present':1})\n",
        "\n",
        "# Scale\n",
        "#-------------------------------------------------------------------------------\n",
        "\n",
        "scaler = MinMaxScaler()\n",
        "scaler.fit(X)\n",
        "X = pd.DataFrame(scaler.transform(X), columns = df.columns[1:4])   \n",
        "\n",
        "# Show Results\n",
        "#-------------------------------------------------------------------------------\n",
        "\n",
        "print('\\nEntradas para o Treinamento, X...\\n')\n",
        "display(X.head())\n",
        "print('\\nSaídas para o Treinamento, y....\\n')\n",
        "display(y.head())\n",
        "\n",
        "# Conjuntos de Treinamento e Teste\n",
        "#-------------------------------------------------------------------------------\n",
        "\n",
        "from sklearn.model_selection import train_test_split\n",
        "X_train, X_test, y_train, y_test = train_test_split(X, y, test_size=0.3, random_state=123)"
      ],
      "execution_count": 34,
      "outputs": [
        {
          "output_type": "stream",
          "name": "stdout",
          "text": [
            "\n",
            "Entradas para o Treinamento, X...\n",
            "\n"
          ]
        },
        {
          "output_type": "display_data",
          "data": {
            "text/html": [
              "<div>\n",
              "<style scoped>\n",
              "    .dataframe tbody tr th:only-of-type {\n",
              "        vertical-align: middle;\n",
              "    }\n",
              "\n",
              "    .dataframe tbody tr th {\n",
              "        vertical-align: top;\n",
              "    }\n",
              "\n",
              "    .dataframe thead th {\n",
              "        text-align: right;\n",
              "    }\n",
              "</style>\n",
              "<table border=\"1\" class=\"dataframe\">\n",
              "  <thead>\n",
              "    <tr style=\"text-align: right;\">\n",
              "      <th></th>\n",
              "      <th>Age</th>\n",
              "      <th>Number</th>\n",
              "      <th>Start</th>\n",
              "    </tr>\n",
              "  </thead>\n",
              "  <tbody>\n",
              "    <tr>\n",
              "      <th>0</th>\n",
              "      <td>0.341463</td>\n",
              "      <td>0.125</td>\n",
              "      <td>0.235294</td>\n",
              "    </tr>\n",
              "    <tr>\n",
              "      <th>1</th>\n",
              "      <td>0.765854</td>\n",
              "      <td>0.125</td>\n",
              "      <td>0.764706</td>\n",
              "    </tr>\n",
              "    <tr>\n",
              "      <th>2</th>\n",
              "      <td>0.619512</td>\n",
              "      <td>0.250</td>\n",
              "      <td>0.235294</td>\n",
              "    </tr>\n",
              "    <tr>\n",
              "      <th>3</th>\n",
              "      <td>0.004878</td>\n",
              "      <td>0.375</td>\n",
              "      <td>0.000000</td>\n",
              "    </tr>\n",
              "    <tr>\n",
              "      <th>4</th>\n",
              "      <td>0.000000</td>\n",
              "      <td>0.250</td>\n",
              "      <td>0.823529</td>\n",
              "    </tr>\n",
              "  </tbody>\n",
              "</table>\n",
              "</div>"
            ],
            "text/plain": [
              "        Age  Number     Start\n",
              "0  0.341463   0.125  0.235294\n",
              "1  0.765854   0.125  0.764706\n",
              "2  0.619512   0.250  0.235294\n",
              "3  0.004878   0.375  0.000000\n",
              "4  0.000000   0.250  0.823529"
            ]
          },
          "metadata": {}
        },
        {
          "output_type": "stream",
          "name": "stdout",
          "text": [
            "\n",
            "Saídas para o Treinamento, y....\n",
            "\n"
          ]
        },
        {
          "output_type": "display_data",
          "data": {
            "text/html": [
              "<div>\n",
              "<style scoped>\n",
              "    .dataframe tbody tr th:only-of-type {\n",
              "        vertical-align: middle;\n",
              "    }\n",
              "\n",
              "    .dataframe tbody tr th {\n",
              "        vertical-align: top;\n",
              "    }\n",
              "\n",
              "    .dataframe thead th {\n",
              "        text-align: right;\n",
              "    }\n",
              "</style>\n",
              "<table border=\"1\" class=\"dataframe\">\n",
              "  <thead>\n",
              "    <tr style=\"text-align: right;\">\n",
              "      <th></th>\n",
              "      <th>Kyphosis</th>\n",
              "    </tr>\n",
              "  </thead>\n",
              "  <tbody>\n",
              "    <tr>\n",
              "      <th>1</th>\n",
              "      <td>0</td>\n",
              "    </tr>\n",
              "    <tr>\n",
              "      <th>2</th>\n",
              "      <td>0</td>\n",
              "    </tr>\n",
              "    <tr>\n",
              "      <th>3</th>\n",
              "      <td>1</td>\n",
              "    </tr>\n",
              "    <tr>\n",
              "      <th>4</th>\n",
              "      <td>0</td>\n",
              "    </tr>\n",
              "    <tr>\n",
              "      <th>5</th>\n",
              "      <td>0</td>\n",
              "    </tr>\n",
              "  </tbody>\n",
              "</table>\n",
              "</div>"
            ],
            "text/plain": [
              "   Kyphosis\n",
              "1         0\n",
              "2         0\n",
              "3         1\n",
              "4         0\n",
              "5         0"
            ]
          },
          "metadata": {}
        }
      ]
    },
    {
      "cell_type": "markdown",
      "metadata": {
        "id": "sDESd8hsHmyl"
      },
      "source": [
        "# Keras Tuner\n",
        "\n",
        "Vamos empregar aqui o `Keras Tuner` para fazer o ajuste automático de hiperparâmetros."
      ]
    },
    {
      "cell_type": "markdown",
      "metadata": {
        "id": "obhVKDvnH00d"
      },
      "source": [
        "## Instalação e import"
      ]
    },
    {
      "cell_type": "code",
      "metadata": {
        "id": "-eqkWqGm7wYW"
      },
      "source": [
        "!pip install -q -U keras-tuner"
      ],
      "execution_count": 35,
      "outputs": []
    },
    {
      "cell_type": "code",
      "metadata": {
        "id": "x7BuBRg87rAA"
      },
      "source": [
        "import kerastuner as kt"
      ],
      "execution_count": 36,
      "outputs": []
    },
    {
      "cell_type": "markdown",
      "metadata": {
        "id": "C9Rx6fu9H85m"
      },
      "source": [
        "## Definição do Modelo\n",
        "\n",
        "Agora nosso modelo será definido como hiperparâmetros *parametrizáveis*, isto é, indicaremos para o `Keras Tuner` um range de valores que queremos sejam avaliados na busca dos melhores hiperparâmetros. \n",
        "\n",
        "Existem 2 tipos de parâmetros que queremos otimizar:      \n",
        "\n",
        "* **Hiperparâmetros do modelo** que influenciam a seleção do modelo, como o número de camadas e a quantidade de elementos em cada uma delas\n",
        "\n",
        "* **Hiperparâmetros do algoritmo** que influenciam a velocidade e qualidade do treinamento, como a taxa de aprendizado ou o tamanho dos lotes empregados, para citar apenas parâmetros de modelos neurais de aprendizado"
      ]
    },
    {
      "cell_type": "code",
      "metadata": {
        "id": "OFC-UUSD75GO"
      },
      "source": [
        "# imports\n",
        "#-------------------------------------------------------------------------------\n",
        "\n",
        "from tensorflow import keras\n",
        "from tensorflow.keras import layers\n",
        "import tensorflow as tf\n",
        "from keras.layers import Dropout\n",
        "\n",
        "# Define o Modelo\n",
        "#-------------------------------------------------------------------------------\n",
        "\n",
        "def model_builder(hp):\n",
        "\n",
        "  # Hiperparâmetros do modelo\n",
        "  #----------------------------------------------------------------------------- \n",
        "  hp_units_1 = hp.Int('hp_units_1', min_value=4, max_value=64, step=4)\n",
        "  hp_drop_out = hp.Choice('Dropout', values=[0.05, 0.10, 0.15, 0.20])\n",
        "  hp_activaton_out = hp.Choice('activation', values=['sigmoid','tanh'])\n",
        "\n",
        "  # Hiperparâmetros do algoritmo\n",
        "  #----------------------------------------------------------------------------- \n",
        "  hp_learning_rate = hp.Choice('learning_rate', values=[1e-2, 1e-3, 1e-4])\n",
        "\n",
        "  model = keras.Sequential(layers.Dense(units=hp_units_1, activation='relu', input_shape=[X.shape[1]]))\n",
        "  model.add(Dropout(hp_drop_out))\n",
        "  model.add(layers.Dense(1, activation=hp_activaton_out))\n",
        "  \n",
        "# Compila o Modelo\n",
        "#-------------------------------------------------------------------------------\n",
        "\n",
        "  model.compile(keras.optimizers.Adam(learning_rate=hp_learning_rate), \n",
        "                loss='binary_crossentropy', \n",
        "                metrics=['binary_accuracy'])\n",
        "\n",
        "  return model"
      ],
      "execution_count": 37,
      "outputs": []
    },
    {
      "cell_type": "markdown",
      "source": [
        "## Tunnig, a Busca pelos melhores Hyperparâmetros\n",
        "\n",
        "Você pode precisar trocar o nome do `project_name=` para atualizar no Keras Turner as versões testadas do modelo."
      ],
      "metadata": {
        "id": "_yTixTxZq9cV"
      }
    },
    {
      "cell_type": "code",
      "source": [
        "# Instancia o Tuner\n",
        "#-------------------------------------------------------------------------------\n",
        "\n",
        "tuner = kt.Hyperband(model_builder,\n",
        "                     objective='val_binary_accuracy',\n",
        "                     max_epochs=50,\n",
        "                     factor=3,\n",
        "                     directory='mydir',\n",
        "                     project_name='mackenzie_dl_kyphosis')\n",
        "\n",
        "stop_early = tf.keras.callbacks.EarlyStopping(monitor='val_binary_accuracy', patience=5)"
      ],
      "metadata": {
        "colab": {
          "base_uri": "https://localhost:8080/"
        },
        "id": "DY6UE3Szft5r",
        "outputId": "97f74cd8-8221-4cf3-be05-8ff2cd5b4ffa"
      },
      "execution_count": 38,
      "outputs": [
        {
          "output_type": "stream",
          "name": "stdout",
          "text": [
            "INFO:tensorflow:Reloading Oracle from existing project mydir/mackenzie_dl_kyphosis/oracle.json\n",
            "INFO:tensorflow:Reloading Tuner from mydir/mackenzie_dl_kyphosis/tuner0.json\n"
          ]
        }
      ]
    },
    {
      "cell_type": "code",
      "metadata": {
        "colab": {
          "base_uri": "https://localhost:8080/"
        },
        "id": "nxNdwSQ2_IyX",
        "outputId": "6561b009-5d4b-44ef-da61-b5cc1683652e"
      },
      "source": [
        "tuner.search(X_train, y_train, \n",
        "             batch_size=8,\n",
        "             epochs=50, \n",
        "             validation_split=0.2, \n",
        "             callbacks=[stop_early])\n",
        "\n",
        "# Get the optimal hyperparameters\n",
        "best_hps=tuner.get_best_hyperparameters(num_trials=1)[0]\n",
        "\n"
      ],
      "execution_count": 39,
      "outputs": [
        {
          "output_type": "stream",
          "name": "stdout",
          "text": [
            "INFO:tensorflow:Oracle triggered exit\n"
          ]
        }
      ]
    },
    {
      "cell_type": "code",
      "source": [
        "print(f\"\"\"\n",
        "The hyperparameter search is complete.\n",
        "\n",
        "The optimal hp_units_1 for de optimizer is {best_hps.get('hp_units_1')} \n",
        "The optimal Dropout for the optimizer is {best_hps.get('Dropout')} \n",
        "The optimal activation for the optimizer is {best_hps.get('activation')}\n",
        "The optimal learning_rate for the optimizer is {best_hps.get('learning_rate')}\n",
        "\"\"\")\n"
      ],
      "metadata": {
        "colab": {
          "base_uri": "https://localhost:8080/"
        },
        "id": "lH29R5YHmN42",
        "outputId": "5c1e7045-71a6-4231-ce9b-7a9f942a86bb"
      },
      "execution_count": 40,
      "outputs": [
        {
          "output_type": "stream",
          "name": "stdout",
          "text": [
            "\n",
            "The hyperparameter search is complete.\n",
            "\n",
            "The optimal hp_units_1 for de optimizer is 16 \n",
            "The optimal Dropout for the optimizer is 0.15 \n",
            "The optimal activation for the optimizer is tanh\n",
            "The optimal learning_rate for the optimizer is 0.001\n",
            "\n"
          ]
        }
      ]
    },
    {
      "cell_type": "markdown",
      "source": [
        "## Treinando o modelo Final"
      ],
      "metadata": {
        "id": "B1qKB2nJr9X0"
      }
    },
    {
      "cell_type": "markdown",
      "source": [
        "Primeiro vamos obter a partir do modelo ótimo indicado o melhor número de épocas de Ajuste do Modelo para interromper o treinamento neste ponto."
      ],
      "metadata": {
        "id": "n7eDQgZWrZM7"
      }
    },
    {
      "cell_type": "code",
      "source": [
        "model = tuner.hypermodel.build(best_hps)\n",
        "\n",
        "history = model.fit(X_train, y_train, \n",
        "                    batch_size=8,\n",
        "                    epochs=50, \n",
        "                    validation_split=0.2,\n",
        "                    verbose=0)\n",
        "\n",
        "val_acc_per_epoch = history.history['val_binary_accuracy']\n",
        "best_epoch = val_acc_per_epoch.index(max(val_acc_per_epoch)) + 1\n",
        "print('Best epoch: %d' % (best_epoch,))"
      ],
      "metadata": {
        "colab": {
          "base_uri": "https://localhost:8080/"
        },
        "id": "fadWPjWQnYI7",
        "outputId": "85b4a987-5f45-4a59-fd05-5335735e694e"
      },
      "execution_count": 41,
      "outputs": [
        {
          "output_type": "stream",
          "name": "stdout",
          "text": [
            "Best epoch: 1\n"
          ]
        }
      ]
    },
    {
      "cell_type": "markdown",
      "source": [
        "Agora podemos treinar o modelo final."
      ],
      "metadata": {
        "id": "2N2BAx6wsMRc"
      }
    },
    {
      "cell_type": "code",
      "metadata": {
        "id": "NoiPUEHmMhCe",
        "colab": {
          "base_uri": "https://localhost:8080/"
        },
        "outputId": "a117998d-2618-4e9c-8bc0-f885a39a0d80"
      },
      "source": [
        "hypermodel = tuner.hypermodel.build(best_hps)\n",
        "\n",
        "# Retrain the model\n",
        "hypermodel.fit(X_train, y_train, \n",
        "               batch_size=8,\n",
        "               epochs=best_epoch,\n",
        "               validation_split=0.2)"
      ],
      "execution_count": 42,
      "outputs": [
        {
          "output_type": "stream",
          "name": "stdout",
          "text": [
            "6/6 [==============================] - 1s 36ms/step - loss: 0.5448 - binary_accuracy: 0.7955 - val_loss: 0.3031 - val_binary_accuracy: 0.9167\n"
          ]
        },
        {
          "output_type": "execute_result",
          "data": {
            "text/plain": [
              "<keras.callbacks.History at 0x7fcc21770890>"
            ]
          },
          "metadata": {},
          "execution_count": 42
        }
      ]
    },
    {
      "cell_type": "code",
      "source": [
        "eval_result = hypermodel.evaluate(X_test, y_test)\n",
        "print(\"[test loss, test accuracy]:\", eval_result)"
      ],
      "metadata": {
        "colab": {
          "base_uri": "https://localhost:8080/"
        },
        "id": "HyjnZIRvn8hM",
        "outputId": "6153461e-164b-49a6-b6d6-f795b805376d"
      },
      "execution_count": 43,
      "outputs": [
        {
          "output_type": "stream",
          "name": "stdout",
          "text": [
            "1/1 [==============================] - 0s 30ms/step - loss: 0.7164 - binary_accuracy: 0.7200\n",
            "[test loss, test accuracy]: [0.7164044380187988, 0.7200000286102295]\n"
          ]
        }
      ]
    },
    {
      "cell_type": "code",
      "source": [
        "display_acc_hist(history)"
      ],
      "metadata": {
        "colab": {
          "base_uri": "https://localhost:8080/",
          "height": 808
        },
        "id": "hFPdlvS7safs",
        "outputId": "896e47f0-0547-49f4-b70d-f198a72a93e2"
      },
      "execution_count": 44,
      "outputs": [
        {
          "output_type": "stream",
          "name": "stdout",
          "text": [
            "\n",
            "\n",
            "Learning Curve... \n",
            "\n",
            "\n",
            "\n",
            "        loss  binary_accuracy  val_loss  val_binary_accuracy\n",
            "0  1.965718         0.795455  0.388808             0.916667\n",
            "1  1.384397         0.772727  0.381849             0.916667\n",
            "2  1.385389         0.795455  0.383275             0.916667\n",
            "3  2.621605         0.772727  0.385050             0.916667\n",
            "4  1.256317         0.795455  0.393163             0.916667\n",
            "\n",
            "Best Validation Loss: 0.3818\n",
            "Best Validation Accuracy: 0.9167\n",
            "\n",
            " \n"
          ]
        },
        {
          "output_type": "display_data",
          "data": {
            "image/png": "[encoded data removed]",
            "text/plain": [
              "<Figure size 432x288 with 1 Axes>"
            ]
          },
          "metadata": {
            "needs_background": "light"
          }
        },
        {
          "output_type": "display_data",
          "data": {
            "image/png": "[encoded data removed]",
            "text/plain": [
              "<Figure size 432x288 with 1 Axes>"
            ]
          },
          "metadata": {
            "needs_background": "light"
          }
        }
      ]
    },
    {
      "cell_type": "markdown",
      "source": [
        "## Avaliando o Modelo\n",
        "\n",
        "A avaliação final é então feita sobre o conjunto de teste."
      ],
      "metadata": {
        "id": "Og8sAnYWrvuz"
      }
    },
    {
      "cell_type": "code",
      "source": [
        "# Avalia o Modelo\n",
        "#-------------------------------------------------------------------------------\n",
        "y_pred = hypermodel.predict(X_test) > 0.5 # classes binárias, retorna a probabilidade de ser 1, então > 0.5 é classe 1, senão é classe 0\n",
        "\n",
        "print_results(y_test, y_pred)\n"
      ],
      "metadata": {
        "colab": {
          "base_uri": "https://localhost:8080/"
        },
        "id": "Te17aWdVoFfM",
        "outputId": "e6a16568-15bb-4549-ce4a-3c995e3d3020"
      },
      "execution_count": 45,
      "outputs": [
        {
          "output_type": "stream",
          "name": "stdout",
          "text": [
            "\n",
            "Confusion Matrix: \n",
            "\n",
            " [[18  0]\n",
            " [ 7  0]]\n",
            "\n",
            "Classification Report: \n",
            "\n",
            "               precision    recall  f1-score   support\n",
            "\n",
            "           0       0.72      1.00      0.84        18\n",
            "           1       0.00      0.00      0.00         7\n",
            "\n",
            "    accuracy                           0.72        25\n",
            "   macro avg       0.36      0.50      0.42        25\n",
            "weighted avg       0.52      0.72      0.60        25\n",
            "\n",
            "\n",
            "Accuracy Score: \n",
            "\n",
            " 0.72 \n",
            "\n"
          ]
        },
        {
          "output_type": "stream",
          "name": "stderr",
          "text": [
            "/usr/local/lib/python3.7/dist-packages/sklearn/metrics/_classification.py:1308: UndefinedMetricWarning: Precision and F-score are ill-defined and being set to 0.0 in labels with no predicted samples. Use `zero_division` parameter to control this behavior.\n",
            "  _warn_prf(average, modifier, msg_start, len(result))\n",
            "/usr/local/lib/python3.7/dist-packages/sklearn/metrics/_classification.py:1308: UndefinedMetricWarning: Precision and F-score are ill-defined and being set to 0.0 in labels with no predicted samples. Use `zero_division` parameter to control this behavior.\n",
            "  _warn_prf(average, modifier, msg_start, len(result))\n",
            "/usr/local/lib/python3.7/dist-packages/sklearn/metrics/_classification.py:1308: UndefinedMetricWarning: Precision and F-score are ill-defined and being set to 0.0 in labels with no predicted samples. Use `zero_division` parameter to control this behavior.\n",
            "  _warn_prf(average, modifier, msg_start, len(result))\n"
          ]
        }
      ]
    },
    {
      "cell_type": "markdown",
      "metadata": {
        "id": "68AbP5f8FnuA"
      },
      "source": [
        "# **Multi Class Problem**\n",
        "\n",
        "---"
      ]
    },
    {
      "cell_type": "markdown",
      "metadata": {
        "id": "q-Wx1qTcJlYC"
      },
      "source": [
        "![imagem](https://upload.wikimedia.org/wikipedia/commons/thumb/4/41/Iris_versicolor_3.jpg/220px-Iris_versicolor_3.jpg)\n",
        "\n",
        "<small>\n",
        "<b>\n",
        "\n",
        "Iris Versicolor."
      ]
    },
    {
      "cell_type": "markdown",
      "metadata": {
        "id": "xlg2ozZ-Dnnl"
      },
      "source": [
        "## AQUISIÇÃO E EXPLORAÇÃO DOS DADOS\n",
        "Variáveis preditoras e objetivo, número de classes, tipo dos dados etc.\n"
      ]
    },
    {
      "cell_type": "code",
      "metadata": {
        "colab": {
          "base_uri": "https://localhost:8080/",
          "height": 206
        },
        "id": "k8p1tgt7pmb7",
        "outputId": "f1d67bd9-965b-4dde-f177-4c1463d0a07d"
      },
      "source": [
        "df = pd.read_csv('https://vincentarelbundock.github.io/Rdatasets/csv/datasets/iris.csv',index_col=0)\n",
        "df.head()"
      ],
      "execution_count": 16,
      "outputs": [
        {
          "output_type": "execute_result",
          "data": {
            "text/html": [
              "<div>\n",
              "<style scoped>\n",
              "    .dataframe tbody tr th:only-of-type {\n",
              "        vertical-align: middle;\n",
              "    }\n",
              "\n",
              "    .dataframe tbody tr th {\n",
              "        vertical-align: top;\n",
              "    }\n",
              "\n",
              "    .dataframe thead th {\n",
              "        text-align: right;\n",
              "    }\n",
              "</style>\n",
              "<table border=\"1\" class=\"dataframe\">\n",
              "  <thead>\n",
              "    <tr style=\"text-align: right;\">\n",
              "      <th></th>\n",
              "      <th>Sepal.Length</th>\n",
              "      <th>Sepal.Width</th>\n",
              "      <th>Petal.Length</th>\n",
              "      <th>Petal.Width</th>\n",
              "      <th>Species</th>\n",
              "    </tr>\n",
              "  </thead>\n",
              "  <tbody>\n",
              "    <tr>\n",
              "      <th>1</th>\n",
              "      <td>5.1</td>\n",
              "      <td>3.5</td>\n",
              "      <td>1.4</td>\n",
              "      <td>0.2</td>\n",
              "      <td>setosa</td>\n",
              "    </tr>\n",
              "    <tr>\n",
              "      <th>2</th>\n",
              "      <td>4.9</td>\n",
              "      <td>3.0</td>\n",
              "      <td>1.4</td>\n",
              "      <td>0.2</td>\n",
              "      <td>setosa</td>\n",
              "    </tr>\n",
              "    <tr>\n",
              "      <th>3</th>\n",
              "      <td>4.7</td>\n",
              "      <td>3.2</td>\n",
              "      <td>1.3</td>\n",
              "      <td>0.2</td>\n",
              "      <td>setosa</td>\n",
              "    </tr>\n",
              "    <tr>\n",
              "      <th>4</th>\n",
              "      <td>4.6</td>\n",
              "      <td>3.1</td>\n",
              "      <td>1.5</td>\n",
              "      <td>0.2</td>\n",
              "      <td>setosa</td>\n",
              "    </tr>\n",
              "    <tr>\n",
              "      <th>5</th>\n",
              "      <td>5.0</td>\n",
              "      <td>3.6</td>\n",
              "      <td>1.4</td>\n",
              "      <td>0.2</td>\n",
              "      <td>setosa</td>\n",
              "    </tr>\n",
              "  </tbody>\n",
              "</table>\n",
              "</div>"
            ],
            "text/plain": [
              "   Sepal.Length  Sepal.Width  Petal.Length  Petal.Width Species\n",
              "1           5.1          3.5           1.4          0.2  setosa\n",
              "2           4.9          3.0           1.4          0.2  setosa\n",
              "3           4.7          3.2           1.3          0.2  setosa\n",
              "4           4.6          3.1           1.5          0.2  setosa\n",
              "5           5.0          3.6           1.4          0.2  setosa"
            ]
          },
          "metadata": {},
          "execution_count": 16
        }
      ]
    },
    {
      "cell_type": "markdown",
      "metadata": {
        "id": "jsyf95F7Dnnl"
      },
      "source": [
        "## PREPARAÇÃO DOS DADOS\n",
        "\n",
        "Seleção de atributos, tratamento de nulos, encodes, normalização etc.\n"
      ]
    },
    {
      "cell_type": "code",
      "metadata": {
        "colab": {
          "base_uri": "https://localhost:8080/",
          "height": 499
        },
        "id": "M8Fb2UmpyXMe",
        "outputId": "a3b3a11d-6594-4202-a3c3-b33206204d3d"
      },
      "source": [
        "from sklearn.preprocessing import MinMaxScaler\n",
        "from sklearn.preprocessing import OneHotEncoder, LabelEncoder\n",
        "\n",
        "X = df.drop(columns=['Species'])\n",
        "y = df[['Species']]\n",
        "\n",
        "# Hot Encode\n",
        "#-------------------------------------------------------------------------------\n",
        "\n",
        "hot_encode = OneHotEncoder(handle_unknown='ignore') \n",
        "hot_encode.fit(y)\n",
        "y = pd.DataFrame(hot_encode.transform(y).toarray(), columns = hot_encode.categories_)  \n",
        "\n",
        "# Scale\n",
        "#-------------------------------------------------------------------------------\n",
        "\n",
        "scaler = MinMaxScaler()\n",
        "scaler.fit(X)\n",
        "X = pd.DataFrame(scaler.transform(X), columns = df.columns[0:4])   \n",
        "\n",
        "# Show Results\n",
        "#-------------------------------------------------------------------------------\n",
        "\n",
        "print('\\nEntradas para o Treinamento, X...\\n')\n",
        "display(X.head())\n",
        "print('\\nSaídas para o Treinamento, y....\\n')\n",
        "display(y.head())\n",
        "\n",
        "# Conjuntos de Treinamento e Teste\n",
        "#-------------------------------------------------------------------------------\n",
        "\n",
        "from sklearn.model_selection import train_test_split\n",
        "X_train, X_test, y_train, y_test = train_test_split(X, y, test_size=0.3, random_state=123)"
      ],
      "execution_count": 17,
      "outputs": [
        {
          "output_type": "stream",
          "name": "stdout",
          "text": [
            "\n",
            "Entradas para o Treinamento, X...\n",
            "\n"
          ]
        },
        {
          "output_type": "display_data",
          "data": {
            "text/html": [
              "<div>\n",
              "<style scoped>\n",
              "    .dataframe tbody tr th:only-of-type {\n",
              "        vertical-align: middle;\n",
              "    }\n",
              "\n",
              "    .dataframe tbody tr th {\n",
              "        vertical-align: top;\n",
              "    }\n",
              "\n",
              "    .dataframe thead th {\n",
              "        text-align: right;\n",
              "    }\n",
              "</style>\n",
              "<table border=\"1\" class=\"dataframe\">\n",
              "  <thead>\n",
              "    <tr style=\"text-align: right;\">\n",
              "      <th></th>\n",
              "      <th>Sepal.Length</th>\n",
              "      <th>Sepal.Width</th>\n",
              "      <th>Petal.Length</th>\n",
              "      <th>Petal.Width</th>\n",
              "    </tr>\n",
              "  </thead>\n",
              "  <tbody>\n",
              "    <tr>\n",
              "      <th>0</th>\n",
              "      <td>0.222222</td>\n",
              "      <td>0.625000</td>\n",
              "      <td>0.067797</td>\n",
              "      <td>0.041667</td>\n",
              "    </tr>\n",
              "    <tr>\n",
              "      <th>1</th>\n",
              "      <td>0.166667</td>\n",
              "      <td>0.416667</td>\n",
              "      <td>0.067797</td>\n",
              "      <td>0.041667</td>\n",
              "    </tr>\n",
              "    <tr>\n",
              "      <th>2</th>\n",
              "      <td>0.111111</td>\n",
              "      <td>0.500000</td>\n",
              "      <td>0.050847</td>\n",
              "      <td>0.041667</td>\n",
              "    </tr>\n",
              "    <tr>\n",
              "      <th>3</th>\n",
              "      <td>0.083333</td>\n",
              "      <td>0.458333</td>\n",
              "      <td>0.084746</td>\n",
              "      <td>0.041667</td>\n",
              "    </tr>\n",
              "    <tr>\n",
              "      <th>4</th>\n",
              "      <td>0.194444</td>\n",
              "      <td>0.666667</td>\n",
              "      <td>0.067797</td>\n",
              "      <td>0.041667</td>\n",
              "    </tr>\n",
              "  </tbody>\n",
              "</table>\n",
              "</div>"
            ],
            "text/plain": [
              "   Sepal.Length  Sepal.Width  Petal.Length  Petal.Width\n",
              "0      0.222222     0.625000      0.067797     0.041667\n",
              "1      0.166667     0.416667      0.067797     0.041667\n",
              "2      0.111111     0.500000      0.050847     0.041667\n",
              "3      0.083333     0.458333      0.084746     0.041667\n",
              "4      0.194444     0.666667      0.067797     0.041667"
            ]
          },
          "metadata": {}
        },
        {
          "output_type": "stream",
          "name": "stdout",
          "text": [
            "\n",
            "Saídas para o Treinamento, y....\n",
            "\n"
          ]
        },
        {
          "output_type": "display_data",
          "data": {
            "text/html": [
              "<div>\n",
              "<style scoped>\n",
              "    .dataframe tbody tr th:only-of-type {\n",
              "        vertical-align: middle;\n",
              "    }\n",
              "\n",
              "    .dataframe tbody tr th {\n",
              "        vertical-align: top;\n",
              "    }\n",
              "\n",
              "    .dataframe thead tr th {\n",
              "        text-align: left;\n",
              "    }\n",
              "</style>\n",
              "<table border=\"1\" class=\"dataframe\">\n",
              "  <thead>\n",
              "    <tr>\n",
              "      <th></th>\n",
              "      <th>setosa</th>\n",
              "      <th>versicolor</th>\n",
              "      <th>virginica</th>\n",
              "    </tr>\n",
              "  </thead>\n",
              "  <tbody>\n",
              "    <tr>\n",
              "      <th>0</th>\n",
              "      <td>1.0</td>\n",
              "      <td>0.0</td>\n",
              "      <td>0.0</td>\n",
              "    </tr>\n",
              "    <tr>\n",
              "      <th>1</th>\n",
              "      <td>1.0</td>\n",
              "      <td>0.0</td>\n",
              "      <td>0.0</td>\n",
              "    </tr>\n",
              "    <tr>\n",
              "      <th>2</th>\n",
              "      <td>1.0</td>\n",
              "      <td>0.0</td>\n",
              "      <td>0.0</td>\n",
              "    </tr>\n",
              "    <tr>\n",
              "      <th>3</th>\n",
              "      <td>1.0</td>\n",
              "      <td>0.0</td>\n",
              "      <td>0.0</td>\n",
              "    </tr>\n",
              "    <tr>\n",
              "      <th>4</th>\n",
              "      <td>1.0</td>\n",
              "      <td>0.0</td>\n",
              "      <td>0.0</td>\n",
              "    </tr>\n",
              "  </tbody>\n",
              "</table>\n",
              "</div>"
            ],
            "text/plain": [
              "  setosa versicolor virginica\n",
              "0    1.0        0.0       0.0\n",
              "1    1.0        0.0       0.0\n",
              "2    1.0        0.0       0.0\n",
              "3    1.0        0.0       0.0\n",
              "4    1.0        0.0       0.0"
            ]
          },
          "metadata": {}
        }
      ]
    },
    {
      "cell_type": "markdown",
      "metadata": {
        "id": "7BaUOoP-teA7"
      },
      "source": [
        "# Keras Tuner\n",
        "\n",
        "Vamos empregar aqui o `Keras Tuner` para fazer o ajuste automático de hiperparâmetros."
      ]
    },
    {
      "cell_type": "markdown",
      "metadata": {
        "id": "YbcNKXIwteBC"
      },
      "source": [
        "## Instalação e import"
      ]
    },
    {
      "cell_type": "code",
      "metadata": {
        "id": "FNMXXFNCteBC"
      },
      "source": [
        "!pip install -q -U keras-tuner"
      ],
      "execution_count": 18,
      "outputs": []
    },
    {
      "cell_type": "code",
      "metadata": {
        "id": "jLShhwUuteBD"
      },
      "source": [
        "import kerastuner as kt"
      ],
      "execution_count": 19,
      "outputs": []
    },
    {
      "cell_type": "markdown",
      "metadata": {
        "id": "lGUO6alwteBD"
      },
      "source": [
        "## Definição do Modelo\n",
        "\n",
        "Agora nosso modelo será definido como hiperparâmetros *parametrizáveis*, isto é, indicaremos para o `Keras Tuner` um range de valores que queremos sejam avaliados na busca dos melhores hiperparâmetros. \n",
        "\n",
        "Existem 2 tipos de parâmetros que queremos otimizar:      \n",
        "\n",
        "* **Hiperparâmetros do modelo** que influenciam a seleção do modelo, como o número de camadas e a quantidade de elementos em cada uma delas\n",
        "\n",
        "* **Hiperparâmetros do algoritmo** que influenciam a velocidade e qualidade do treinamento, como a taxa de aprendizado ou o tamanho dos lotes empregados, para citar apenas parâmetros de modelos neurais de aprendizado"
      ]
    },
    {
      "cell_type": "code",
      "metadata": {
        "id": "JZlkRnUtteBD"
      },
      "source": [
        "# imports\n",
        "#-------------------------------------------------------------------------------\n",
        "\n",
        "from tensorflow import keras\n",
        "from tensorflow.keras import layers\n",
        "import tensorflow as tf\n",
        "from keras.layers import Dropout\n",
        "\n",
        "# Define o Modelo\n",
        "#-------------------------------------------------------------------------------\n",
        "\n",
        "def model_builder(hp):\n",
        "\n",
        "  # Hiperparâmetros do modelo\n",
        "  #----------------------------------------------------------------------------- \n",
        "  hp_units_1 = hp.Int('hp_units_1', min_value=4, max_value=64, step=4)\n",
        "  hp_units_2 = hp.Int('hp_units_2', min_value=4, max_value=64, step=4)\n",
        "  hp_drop_out = hp.Choice('Dropout', values=[0.05, 0.10, 0.15, 0.20])\n",
        "  hp_activaton_out = hp.Choice('activation', values=['sigmoid','tanh'])\n",
        "\n",
        "  # Hiperparâmetros do algoritmo\n",
        "  #----------------------------------------------------------------------------- \n",
        "  hp_learning_rate = hp.Choice('learning_rate', values=[1e-2, 1e-3, 1e-4])\n",
        "\n",
        "  model = keras.Sequential(layers.Dense(units=hp_units_1, activation='relu', input_shape=[X.shape[1]]))\n",
        "  model.add(Dropout(hp_drop_out))\n",
        "  model.add(layers.Dense(units=hp_units_2, activation='relu'))\n",
        "  model.add(Dropout(hp_drop_out))\n",
        "  model.add(layers.Dense(y_train.shape[1], activation=hp_activaton_out))\n",
        "  \n",
        "# Compila o Modelo\n",
        "#-------------------------------------------------------------------------------\n",
        "\n",
        "  model.compile(keras.optimizers.Adam(learning_rate=hp_learning_rate), \n",
        "                loss='categorical_crossentropy', \n",
        "                metrics=['accuracy'])\n",
        "\n",
        "  return model"
      ],
      "execution_count": 20,
      "outputs": []
    },
    {
      "cell_type": "markdown",
      "source": [
        "## Tunnig, a Busca pelos melhores Hyperparâmetros\n",
        "\n",
        "Você pode precisar trocar o nome do `project_name=` para atualizar no Keras Turner as versões testadas do modelo."
      ],
      "metadata": {
        "id": "i7wo3xV4teBD"
      }
    },
    {
      "cell_type": "code",
      "source": [
        "# Instancia o Tuner\n",
        "#-------------------------------------------------------------------------------\n",
        "\n",
        "tuner = kt.Hyperband(model_builder,\n",
        "                     objective='val_accuracy',\n",
        "                     max_epochs=50,\n",
        "                     factor=3,\n",
        "                     directory='mydir',\n",
        "                     project_name='mackenzie_dl_iris')\n",
        "\n",
        "stop_early = tf.keras.callbacks.EarlyStopping(monitor='val_accuracy', patience=5)"
      ],
      "metadata": {
        "id": "4LZvO6oxteBD"
      },
      "execution_count": 21,
      "outputs": []
    },
    {
      "cell_type": "code",
      "metadata": {
        "colab": {
          "base_uri": "https://localhost:8080/"
        },
        "outputId": "7df4e5de-e72a-4ffe-a6c0-46c80e77d71b",
        "id": "CjUVpA-AteBE"
      },
      "source": [
        "tuner.search(X_train, y_train, \n",
        "             batch_size=8,\n",
        "             epochs=50, \n",
        "             validation_split=0.2, \n",
        "             callbacks=[stop_early])\n",
        "\n",
        "# Get the optimal hyperparameters\n",
        "best_hps=tuner.get_best_hyperparameters(num_trials=1)[0]\n",
        "\n"
      ],
      "execution_count": 22,
      "outputs": [
        {
          "output_type": "stream",
          "name": "stdout",
          "text": [
            "Trial 90 Complete [00h 00m 01s]\n",
            "val_accuracy: 0.190476194024086\n",
            "\n",
            "Best val_accuracy So Far: 0.9523809552192688\n",
            "Total elapsed time: 00h 02m 09s\n",
            "INFO:tensorflow:Oracle triggered exit\n"
          ]
        }
      ]
    },
    {
      "cell_type": "code",
      "source": [
        "print(f\"\"\"\n",
        "The hyperparameter search is complete.\n",
        "\n",
        "The optimal hp_units_1 for de optimizer is {best_hps.get('hp_units_1')} \n",
        "The optimal hp_units_2 for the optimizer is {best_hps.get('hp_units_2')} \n",
        "The optimal Dropout for the optimizer is {best_hps.get('Dropout')} \n",
        "The optimal activation for the optimizer is {best_hps.get('activation')}\n",
        "The optimal learning_rate for the optimizer is {best_hps.get('learning_rate')}\n",
        "\"\"\")\n",
        "\n"
      ],
      "metadata": {
        "outputId": "7667e7bf-a88f-4c35-a629-1bbb21358a85",
        "colab": {
          "base_uri": "https://localhost:8080/"
        },
        "id": "BwlO2YSTteBE"
      },
      "execution_count": 23,
      "outputs": [
        {
          "output_type": "stream",
          "name": "stdout",
          "text": [
            "\n",
            "The hyperparameter search is complete.\n",
            "\n",
            "The optimal hp_units_1 for de optimizer is 48 \n",
            "The optimal hp_units_2 for the optimizer is 32 \n",
            "The optimal Dropout for the optimizer is 0.15 \n",
            "The optimal activation for the optimizer is sigmoid\n",
            "The optimal learning_rate for the optimizer is 0.01\n",
            "\n"
          ]
        }
      ]
    },
    {
      "cell_type": "markdown",
      "source": [
        "## Treinando o modelo Final"
      ],
      "metadata": {
        "id": "IaghrchgteBE"
      }
    },
    {
      "cell_type": "markdown",
      "source": [
        "Primeiro vamos obter a partir do modelo ótimo indicado o melhor número de épocas de Ajuste do Modelo para interromper o treinamento neste ponto."
      ],
      "metadata": {
        "id": "CcyftwWOteBE"
      }
    },
    {
      "cell_type": "code",
      "source": [
        "model = tuner.hypermodel.build(best_hps)\n",
        "\n",
        "history = model.fit(X_train, y_train, \n",
        "                    batch_size=8,\n",
        "                    epochs=50, \n",
        "                    validation_split=0.2,\n",
        "                    verbose=0)\n",
        "\n",
        "val_acc_per_epoch = history.history['val_accuracy']\n",
        "best_epoch = val_acc_per_epoch.index(max(val_acc_per_epoch)) + 1\n",
        "print('Best epoch: %d' % (best_epoch,))"
      ],
      "metadata": {
        "outputId": "56708fe9-aad9-40f8-82af-fe2ed632da14",
        "colab": {
          "base_uri": "https://localhost:8080/"
        },
        "id": "xUTJiL1MteBE"
      },
      "execution_count": 24,
      "outputs": [
        {
          "output_type": "stream",
          "name": "stdout",
          "text": [
            "Best epoch: 26\n"
          ]
        }
      ]
    },
    {
      "cell_type": "markdown",
      "source": [
        "Agora podemos treinar o modelo final."
      ],
      "metadata": {
        "id": "e67s-ZfCteBF"
      }
    },
    {
      "cell_type": "code",
      "metadata": {
        "colab": {
          "base_uri": "https://localhost:8080/"
        },
        "outputId": "6f601ad6-d7b2-4c07-bbf2-960db0b85028",
        "id": "QAQn5Uv7teBF"
      },
      "source": [
        "hypermodel = tuner.hypermodel.build(best_hps)\n",
        "\n",
        "# Retrain the model\n",
        "hypermodel.fit(X_train, y_train, \n",
        "               batch_size=8,\n",
        "               epochs=best_epoch,\n",
        "               validation_split=0.2)"
      ],
      "execution_count": 25,
      "outputs": [
        {
          "output_type": "stream",
          "name": "stdout",
          "text": [
            "Epoch 1/26\n",
            "11/11 [==============================] - 1s 23ms/step - loss: 0.9556 - accuracy: 0.6071 - val_loss: 0.7542 - val_accuracy: 0.7143\n",
            "Epoch 2/26\n",
            "11/11 [==============================] - 0s 4ms/step - loss: 0.6385 - accuracy: 0.7262 - val_loss: 0.5366 - val_accuracy: 0.8095\n",
            "Epoch 3/26\n",
            "11/11 [==============================] - 0s 6ms/step - loss: 0.4306 - accuracy: 0.8452 - val_loss: 0.4165 - val_accuracy: 0.8571\n",
            "Epoch 4/26\n",
            "11/11 [==============================] - 0s 6ms/step - loss: 0.3576 - accuracy: 0.8095 - val_loss: 0.3470 - val_accuracy: 0.9048\n",
            "Epoch 5/26\n",
            "11/11 [==============================] - 0s 6ms/step - loss: 0.2489 - accuracy: 0.9286 - val_loss: 0.3910 - val_accuracy: 0.7143\n",
            "Epoch 6/26\n",
            "11/11 [==============================] - 0s 4ms/step - loss: 0.2791 - accuracy: 0.8810 - val_loss: 0.4357 - val_accuracy: 0.7143\n",
            "Epoch 7/26\n",
            "11/11 [==============================] - 0s 6ms/step - loss: 0.3291 - accuracy: 0.8571 - val_loss: 0.3863 - val_accuracy: 0.8571\n",
            "Epoch 8/26\n",
            "11/11 [==============================] - 0s 4ms/step - loss: 0.1924 - accuracy: 0.9405 - val_loss: 0.2498 - val_accuracy: 0.9048\n",
            "Epoch 9/26\n",
            "11/11 [==============================] - 0s 6ms/step - loss: 0.1524 - accuracy: 0.9762 - val_loss: 0.2407 - val_accuracy: 0.9048\n",
            "Epoch 10/26\n",
            "11/11 [==============================] - 0s 6ms/step - loss: 0.1558 - accuracy: 0.9405 - val_loss: 0.2338 - val_accuracy: 0.9048\n",
            "Epoch 11/26\n",
            "11/11 [==============================] - 0s 6ms/step - loss: 0.1477 - accuracy: 0.9286 - val_loss: 0.2690 - val_accuracy: 0.9048\n",
            "Epoch 12/26\n",
            "11/11 [==============================] - 0s 6ms/step - loss: 0.0990 - accuracy: 0.9762 - val_loss: 0.2524 - val_accuracy: 0.9048\n",
            "Epoch 13/26\n",
            "11/11 [==============================] - 0s 5ms/step - loss: 0.1192 - accuracy: 0.9524 - val_loss: 0.3129 - val_accuracy: 0.8095\n",
            "Epoch 14/26\n",
            "11/11 [==============================] - 0s 6ms/step - loss: 0.1635 - accuracy: 0.9405 - val_loss: 0.2882 - val_accuracy: 0.9048\n",
            "Epoch 15/26\n",
            "11/11 [==============================] - 0s 4ms/step - loss: 0.0839 - accuracy: 0.9762 - val_loss: 0.2080 - val_accuracy: 0.9048\n",
            "Epoch 16/26\n",
            "11/11 [==============================] - 0s 4ms/step - loss: 0.0884 - accuracy: 0.9524 - val_loss: 0.3579 - val_accuracy: 0.9048\n",
            "Epoch 17/26\n",
            "11/11 [==============================] - 0s 6ms/step - loss: 0.0970 - accuracy: 0.9762 - val_loss: 0.2634 - val_accuracy: 0.9048\n",
            "Epoch 18/26\n",
            "11/11 [==============================] - 0s 4ms/step - loss: 0.0829 - accuracy: 0.9524 - val_loss: 0.2117 - val_accuracy: 0.9048\n",
            "Epoch 19/26\n",
            "11/11 [==============================] - 0s 6ms/step - loss: 0.0684 - accuracy: 0.9762 - val_loss: 0.1870 - val_accuracy: 0.9048\n",
            "Epoch 20/26\n",
            "11/11 [==============================] - 0s 4ms/step - loss: 0.0781 - accuracy: 0.9643 - val_loss: 0.2202 - val_accuracy: 0.9048\n",
            "Epoch 21/26\n",
            "11/11 [==============================] - 0s 6ms/step - loss: 0.0578 - accuracy: 0.9881 - val_loss: 0.1710 - val_accuracy: 0.9048\n",
            "Epoch 22/26\n",
            "11/11 [==============================] - 0s 6ms/step - loss: 0.0761 - accuracy: 0.9643 - val_loss: 0.1745 - val_accuracy: 0.9048\n",
            "Epoch 23/26\n",
            "11/11 [==============================] - 0s 6ms/step - loss: 0.1172 - accuracy: 0.9405 - val_loss: 0.4800 - val_accuracy: 0.8571\n",
            "Epoch 24/26\n",
            "11/11 [==============================] - 0s 6ms/step - loss: 0.1195 - accuracy: 0.9405 - val_loss: 0.1894 - val_accuracy: 0.9048\n",
            "Epoch 25/26\n",
            "11/11 [==============================] - 0s 5ms/step - loss: 0.2184 - accuracy: 0.8929 - val_loss: 0.1972 - val_accuracy: 0.9524\n",
            "Epoch 26/26\n",
            "11/11 [==============================] - 0s 5ms/step - loss: 0.2012 - accuracy: 0.9405 - val_loss: 0.3685 - val_accuracy: 0.8571\n"
          ]
        },
        {
          "output_type": "execute_result",
          "data": {
            "text/plain": [
              "<keras.callbacks.History at 0x7fcc2251acd0>"
            ]
          },
          "metadata": {},
          "execution_count": 25
        }
      ]
    },
    {
      "cell_type": "code",
      "source": [
        "eval_result = hypermodel.evaluate(X_test, y_test)\n",
        "print(\"[test loss, test accuracy]:\", eval_result)"
      ],
      "metadata": {
        "outputId": "a1e2d62e-796f-40f0-fc7a-96fe127ed999",
        "colab": {
          "base_uri": "https://localhost:8080/"
        },
        "id": "6d_jNsogteBF"
      },
      "execution_count": 26,
      "outputs": [
        {
          "output_type": "stream",
          "name": "stdout",
          "text": [
            "2/2 [==============================] - 0s 6ms/step - loss: 0.1442 - accuracy: 0.9333\n",
            "[test loss, test accuracy]: [0.14422699809074402, 0.9333333373069763]\n"
          ]
        }
      ]
    },
    {
      "cell_type": "code",
      "source": [
        "display_acc_hist(history)"
      ],
      "metadata": {
        "outputId": "5dc94556-4c3c-40a1-84ad-3c83a3afff6c",
        "colab": {
          "base_uri": "https://localhost:8080/",
          "height": 808
        },
        "id": "Lsph7foAteBF"
      },
      "execution_count": 27,
      "outputs": [
        {
          "output_type": "stream",
          "name": "stdout",
          "text": [
            "\n",
            "\n",
            "Learning Curve... \n",
            "\n",
            "\n",
            "\n",
            "        loss  accuracy  val_loss  val_accuracy\n",
            "0  0.938481  0.583333  0.769872      0.571429\n",
            "1  0.614873  0.666667  0.518824      0.714286\n",
            "2  0.428844  0.785714  0.443206      0.904762\n",
            "3  0.362033  0.821429  0.359964      0.904762\n",
            "4  0.271798  0.916667  0.298096      0.904762\n",
            "\n",
            "Best Validation Loss: 0.1285\n",
            "Best Validation Accuracy: 1.0000\n",
            "\n",
            " \n"
          ]
        },
        {
          "output_type": "display_data",
          "data": {
            "image/png": "[encoded data removed]",
            "text/plain": [
              "<Figure size 432x288 with 1 Axes>"
            ]
          },
          "metadata": {
            "needs_background": "light"
          }
        },
        {
          "output_type": "display_data",
          "data": {
            "image/png": "[encoded data removed]",
            "text/plain": [
              "<Figure size 432x288 with 1 Axes>"
            ]
          },
          "metadata": {
            "needs_background": "light"
          }
        }
      ]
    },
    {
      "cell_type": "markdown",
      "source": [
        "## Avaliando o Modelo\n",
        "\n",
        "A avaliação final é então feita sobre o conjunto de teste."
      ],
      "metadata": {
        "id": "AyAYqV9kteBF"
      }
    },
    {
      "cell_type": "code",
      "source": [
        "# Avalia o Modelo\n",
        "#-------------------------------------------------------------------------------\n",
        "y_pred_one = np.argmax(model.predict(X_test), axis=1)\n",
        "y_test_one = np.argmax(np.array(y_test), axis=1)\n",
        "\n",
        "print_results(y_test_one, y_pred_one)\n"
      ],
      "metadata": {
        "outputId": "196c22cc-55a8-412a-9053-e919a6fc5aeb",
        "colab": {
          "base_uri": "https://localhost:8080/"
        },
        "id": "BphFWpN8teBF"
      },
      "execution_count": 28,
      "outputs": [
        {
          "output_type": "stream",
          "name": "stdout",
          "text": [
            "\n",
            "Confusion Matrix: \n",
            "\n",
            " [[18  0  0]\n",
            " [ 0  9  1]\n",
            " [ 0  4 13]]\n",
            "\n",
            "Classification Report: \n",
            "\n",
            "               precision    recall  f1-score   support\n",
            "\n",
            "           0       1.00      1.00      1.00        18\n",
            "           1       0.69      0.90      0.78        10\n",
            "           2       0.93      0.76      0.84        17\n",
            "\n",
            "    accuracy                           0.89        45\n",
            "   macro avg       0.87      0.89      0.87        45\n",
            "weighted avg       0.90      0.89      0.89        45\n",
            "\n",
            "\n",
            "Accuracy Score: \n",
            "\n",
            " 0.8888888888888888 \n",
            "\n"
          ]
        }
      ]
    },
    {
      "cell_type": "markdown",
      "metadata": {
        "id": "UVYK1SbCD_jZ"
      },
      "source": [
        "# Experimente Você... "
      ]
    },
    {
      "cell_type": "markdown",
      "metadata": {
        "id": "DVvMgITZEMb4"
      },
      "source": [
        "## Dados para Classificação Binária"
      ]
    },
    {
      "cell_type": "code",
      "metadata": {
        "colab": {
          "base_uri": "https://localhost:8080/",
          "height": 206
        },
        "id": "dEw7e954qDnc",
        "outputId": "5d269bc3-99f4-4db9-a550-70017745ec21"
      },
      "source": [
        "df = pd.read_csv('https://vincentarelbundock.github.io/Rdatasets/csv/AER/HealthInsurance.csv',index_col=0)\n",
        "df.head()"
      ],
      "execution_count": 29,
      "outputs": [
        {
          "output_type": "execute_result",
          "data": {
            "text/html": [
              "<div>\n",
              "<style scoped>\n",
              "    .dataframe tbody tr th:only-of-type {\n",
              "        vertical-align: middle;\n",
              "    }\n",
              "\n",
              "    .dataframe tbody tr th {\n",
              "        vertical-align: top;\n",
              "    }\n",
              "\n",
              "    .dataframe thead th {\n",
              "        text-align: right;\n",
              "    }\n",
              "</style>\n",
              "<table border=\"1\" class=\"dataframe\">\n",
              "  <thead>\n",
              "    <tr style=\"text-align: right;\">\n",
              "      <th></th>\n",
              "      <th>health</th>\n",
              "      <th>age</th>\n",
              "      <th>limit</th>\n",
              "      <th>gender</th>\n",
              "      <th>insurance</th>\n",
              "      <th>married</th>\n",
              "      <th>selfemp</th>\n",
              "      <th>family</th>\n",
              "      <th>region</th>\n",
              "      <th>ethnicity</th>\n",
              "      <th>education</th>\n",
              "    </tr>\n",
              "  </thead>\n",
              "  <tbody>\n",
              "    <tr>\n",
              "      <th>1</th>\n",
              "      <td>yes</td>\n",
              "      <td>31</td>\n",
              "      <td>no</td>\n",
              "      <td>male</td>\n",
              "      <td>yes</td>\n",
              "      <td>yes</td>\n",
              "      <td>yes</td>\n",
              "      <td>4</td>\n",
              "      <td>south</td>\n",
              "      <td>cauc</td>\n",
              "      <td>bachelor</td>\n",
              "    </tr>\n",
              "    <tr>\n",
              "      <th>2</th>\n",
              "      <td>yes</td>\n",
              "      <td>31</td>\n",
              "      <td>no</td>\n",
              "      <td>female</td>\n",
              "      <td>yes</td>\n",
              "      <td>yes</td>\n",
              "      <td>no</td>\n",
              "      <td>4</td>\n",
              "      <td>south</td>\n",
              "      <td>cauc</td>\n",
              "      <td>highschool</td>\n",
              "    </tr>\n",
              "    <tr>\n",
              "      <th>3</th>\n",
              "      <td>yes</td>\n",
              "      <td>54</td>\n",
              "      <td>no</td>\n",
              "      <td>male</td>\n",
              "      <td>yes</td>\n",
              "      <td>yes</td>\n",
              "      <td>no</td>\n",
              "      <td>5</td>\n",
              "      <td>west</td>\n",
              "      <td>cauc</td>\n",
              "      <td>ged</td>\n",
              "    </tr>\n",
              "    <tr>\n",
              "      <th>4</th>\n",
              "      <td>yes</td>\n",
              "      <td>27</td>\n",
              "      <td>no</td>\n",
              "      <td>male</td>\n",
              "      <td>yes</td>\n",
              "      <td>no</td>\n",
              "      <td>no</td>\n",
              "      <td>5</td>\n",
              "      <td>west</td>\n",
              "      <td>cauc</td>\n",
              "      <td>highschool</td>\n",
              "    </tr>\n",
              "    <tr>\n",
              "      <th>5</th>\n",
              "      <td>yes</td>\n",
              "      <td>39</td>\n",
              "      <td>no</td>\n",
              "      <td>male</td>\n",
              "      <td>yes</td>\n",
              "      <td>yes</td>\n",
              "      <td>no</td>\n",
              "      <td>5</td>\n",
              "      <td>west</td>\n",
              "      <td>cauc</td>\n",
              "      <td>none</td>\n",
              "    </tr>\n",
              "  </tbody>\n",
              "</table>\n",
              "</div>"
            ],
            "text/plain": [
              "  health  age limit  gender  ... family region ethnicity   education\n",
              "1    yes   31    no    male  ...      4  south      cauc    bachelor\n",
              "2    yes   31    no  female  ...      4  south      cauc  highschool\n",
              "3    yes   54    no    male  ...      5   west      cauc         ged\n",
              "4    yes   27    no    male  ...      5   west      cauc  highschool\n",
              "5    yes   39    no    male  ...      5   west      cauc        none\n",
              "\n",
              "[5 rows x 11 columns]"
            ]
          },
          "metadata": {},
          "execution_count": 29
        }
      ]
    },
    {
      "cell_type": "markdown",
      "metadata": {
        "id": "PXJUlA8vEW9Q"
      },
      "source": [
        "## Dados para Classificação Multi Classe"
      ]
    },
    {
      "cell_type": "code",
      "metadata": {
        "colab": {
          "base_uri": "https://localhost:8080/",
          "height": 226
        },
        "id": "qGKssx5grpRN",
        "outputId": "7ed8ad07-095b-4d93-8e02-a9aaa626e271"
      },
      "source": [
        "df = pd.read_csv('http://meusite.mackenzie.br/rogerio/STEEL_faults.csv')\n",
        "df.head()"
      ],
      "execution_count": 30,
      "outputs": [
        {
          "output_type": "execute_result",
          "data": {
            "text/html": [
              "<div>\n",
              "<style scoped>\n",
              "    .dataframe tbody tr th:only-of-type {\n",
              "        vertical-align: middle;\n",
              "    }\n",
              "\n",
              "    .dataframe tbody tr th {\n",
              "        vertical-align: top;\n",
              "    }\n",
              "\n",
              "    .dataframe thead th {\n",
              "        text-align: right;\n",
              "    }\n",
              "</style>\n",
              "<table border=\"1\" class=\"dataframe\">\n",
              "  <thead>\n",
              "    <tr style=\"text-align: right;\">\n",
              "      <th></th>\n",
              "      <th>X_Minimum</th>\n",
              "      <th>X_Maximum</th>\n",
              "      <th>Y_Minimum</th>\n",
              "      <th>Y_Maximum</th>\n",
              "      <th>Pixels_Areas</th>\n",
              "      <th>X_Perimeter</th>\n",
              "      <th>Y_Perimeter</th>\n",
              "      <th>Sum_of_Luminosity</th>\n",
              "      <th>Minimum_of_Luminosity</th>\n",
              "      <th>Maximum_of_Luminosity</th>\n",
              "      <th>Length_of_Conveyer</th>\n",
              "      <th>TypeOfSteel_A300</th>\n",
              "      <th>TypeOfSteel_A400</th>\n",
              "      <th>Steel_Plate_Thickness</th>\n",
              "      <th>Edges_Index</th>\n",
              "      <th>Empty_Index</th>\n",
              "      <th>Square_Index</th>\n",
              "      <th>Outside_X_Index</th>\n",
              "      <th>Edges_X_Index</th>\n",
              "      <th>Edges_Y_Index</th>\n",
              "      <th>Outside_Global_Index</th>\n",
              "      <th>LogOfAreas</th>\n",
              "      <th>Log_X_Index</th>\n",
              "      <th>Log_Y_Index</th>\n",
              "      <th>Orientation_Index</th>\n",
              "      <th>Luminosity_Index</th>\n",
              "      <th>SigmoidOfAreas</th>\n",
              "      <th>Pastry</th>\n",
              "      <th>Z_Scratch</th>\n",
              "      <th>K_Scatch</th>\n",
              "      <th>Stains</th>\n",
              "      <th>Dirtiness</th>\n",
              "      <th>Bumps</th>\n",
              "      <th>Other_Faults</th>\n",
              "    </tr>\n",
              "  </thead>\n",
              "  <tbody>\n",
              "    <tr>\n",
              "      <th>0</th>\n",
              "      <td>42</td>\n",
              "      <td>50</td>\n",
              "      <td>270900</td>\n",
              "      <td>270944</td>\n",
              "      <td>267</td>\n",
              "      <td>17</td>\n",
              "      <td>44</td>\n",
              "      <td>24220</td>\n",
              "      <td>76</td>\n",
              "      <td>108</td>\n",
              "      <td>1687</td>\n",
              "      <td>1</td>\n",
              "      <td>0</td>\n",
              "      <td>80</td>\n",
              "      <td>0.0498</td>\n",
              "      <td>0.2415</td>\n",
              "      <td>0.1818</td>\n",
              "      <td>0.0047</td>\n",
              "      <td>0.4706</td>\n",
              "      <td>1.0000</td>\n",
              "      <td>1.0</td>\n",
              "      <td>2.4265</td>\n",
              "      <td>0.9031</td>\n",
              "      <td>1.6435</td>\n",
              "      <td>0.8182</td>\n",
              "      <td>-0.2913</td>\n",
              "      <td>0.5822</td>\n",
              "      <td>1</td>\n",
              "      <td>0</td>\n",
              "      <td>0</td>\n",
              "      <td>0</td>\n",
              "      <td>0</td>\n",
              "      <td>0</td>\n",
              "      <td>0</td>\n",
              "    </tr>\n",
              "    <tr>\n",
              "      <th>1</th>\n",
              "      <td>645</td>\n",
              "      <td>651</td>\n",
              "      <td>2538079</td>\n",
              "      <td>2538108</td>\n",
              "      <td>108</td>\n",
              "      <td>10</td>\n",
              "      <td>30</td>\n",
              "      <td>11397</td>\n",
              "      <td>84</td>\n",
              "      <td>123</td>\n",
              "      <td>1687</td>\n",
              "      <td>1</td>\n",
              "      <td>0</td>\n",
              "      <td>80</td>\n",
              "      <td>0.7647</td>\n",
              "      <td>0.3793</td>\n",
              "      <td>0.2069</td>\n",
              "      <td>0.0036</td>\n",
              "      <td>0.6000</td>\n",
              "      <td>0.9667</td>\n",
              "      <td>1.0</td>\n",
              "      <td>2.0334</td>\n",
              "      <td>0.7782</td>\n",
              "      <td>1.4624</td>\n",
              "      <td>0.7931</td>\n",
              "      <td>-0.1756</td>\n",
              "      <td>0.2984</td>\n",
              "      <td>1</td>\n",
              "      <td>0</td>\n",
              "      <td>0</td>\n",
              "      <td>0</td>\n",
              "      <td>0</td>\n",
              "      <td>0</td>\n",
              "      <td>0</td>\n",
              "    </tr>\n",
              "    <tr>\n",
              "      <th>2</th>\n",
              "      <td>829</td>\n",
              "      <td>835</td>\n",
              "      <td>1553913</td>\n",
              "      <td>1553931</td>\n",
              "      <td>71</td>\n",
              "      <td>8</td>\n",
              "      <td>19</td>\n",
              "      <td>7972</td>\n",
              "      <td>99</td>\n",
              "      <td>125</td>\n",
              "      <td>1623</td>\n",
              "      <td>1</td>\n",
              "      <td>0</td>\n",
              "      <td>100</td>\n",
              "      <td>0.9710</td>\n",
              "      <td>0.3426</td>\n",
              "      <td>0.3333</td>\n",
              "      <td>0.0037</td>\n",
              "      <td>0.7500</td>\n",
              "      <td>0.9474</td>\n",
              "      <td>1.0</td>\n",
              "      <td>1.8513</td>\n",
              "      <td>0.7782</td>\n",
              "      <td>1.2553</td>\n",
              "      <td>0.6667</td>\n",
              "      <td>-0.1228</td>\n",
              "      <td>0.2150</td>\n",
              "      <td>1</td>\n",
              "      <td>0</td>\n",
              "      <td>0</td>\n",
              "      <td>0</td>\n",
              "      <td>0</td>\n",
              "      <td>0</td>\n",
              "      <td>0</td>\n",
              "    </tr>\n",
              "    <tr>\n",
              "      <th>3</th>\n",
              "      <td>853</td>\n",
              "      <td>860</td>\n",
              "      <td>369370</td>\n",
              "      <td>369415</td>\n",
              "      <td>176</td>\n",
              "      <td>13</td>\n",
              "      <td>45</td>\n",
              "      <td>18996</td>\n",
              "      <td>99</td>\n",
              "      <td>126</td>\n",
              "      <td>1353</td>\n",
              "      <td>0</td>\n",
              "      <td>1</td>\n",
              "      <td>290</td>\n",
              "      <td>0.7287</td>\n",
              "      <td>0.4413</td>\n",
              "      <td>0.1556</td>\n",
              "      <td>0.0052</td>\n",
              "      <td>0.5385</td>\n",
              "      <td>1.0000</td>\n",
              "      <td>1.0</td>\n",
              "      <td>2.2455</td>\n",
              "      <td>0.8451</td>\n",
              "      <td>1.6532</td>\n",
              "      <td>0.8444</td>\n",
              "      <td>-0.1568</td>\n",
              "      <td>0.5212</td>\n",
              "      <td>1</td>\n",
              "      <td>0</td>\n",
              "      <td>0</td>\n",
              "      <td>0</td>\n",
              "      <td>0</td>\n",
              "      <td>0</td>\n",
              "      <td>0</td>\n",
              "    </tr>\n",
              "    <tr>\n",
              "      <th>4</th>\n",
              "      <td>1289</td>\n",
              "      <td>1306</td>\n",
              "      <td>498078</td>\n",
              "      <td>498335</td>\n",
              "      <td>2409</td>\n",
              "      <td>60</td>\n",
              "      <td>260</td>\n",
              "      <td>246930</td>\n",
              "      <td>37</td>\n",
              "      <td>126</td>\n",
              "      <td>1353</td>\n",
              "      <td>0</td>\n",
              "      <td>1</td>\n",
              "      <td>185</td>\n",
              "      <td>0.0695</td>\n",
              "      <td>0.4486</td>\n",
              "      <td>0.0662</td>\n",
              "      <td>0.0126</td>\n",
              "      <td>0.2833</td>\n",
              "      <td>0.9885</td>\n",
              "      <td>1.0</td>\n",
              "      <td>3.3818</td>\n",
              "      <td>1.2305</td>\n",
              "      <td>2.4099</td>\n",
              "      <td>0.9338</td>\n",
              "      <td>-0.1992</td>\n",
              "      <td>1.0000</td>\n",
              "      <td>1</td>\n",
              "      <td>0</td>\n",
              "      <td>0</td>\n",
              "      <td>0</td>\n",
              "      <td>0</td>\n",
              "      <td>0</td>\n",
              "      <td>0</td>\n",
              "    </tr>\n",
              "  </tbody>\n",
              "</table>\n",
              "</div>"
            ],
            "text/plain": [
              "   X_Minimum  X_Maximum  Y_Minimum  ...  Dirtiness  Bumps  Other_Faults\n",
              "0         42         50     270900  ...          0      0             0\n",
              "1        645        651    2538079  ...          0      0             0\n",
              "2        829        835    1553913  ...          0      0             0\n",
              "3        853        860     369370  ...          0      0             0\n",
              "4       1289       1306     498078  ...          0      0             0\n",
              "\n",
              "[5 rows x 34 columns]"
            ]
          },
          "metadata": {},
          "execution_count": 30
        }
      ]
    }
  ]
}