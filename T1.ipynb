{
  "nbformat": 4,
  "nbformat_minor": 0,
  "metadata": {
    "kernelspec": {
      "display_name": "Python 3",
      "language": "python",
      "name": "python3"
    },
    "language_info": {
      "codemirror_mode": {
        "name": "ipython",
        "version": 3
      },
      "file_extension": ".py",
      "mimetype": "text/x-python",
      "name": "python",
      "nbconvert_exporter": "python",
      "pygments_lexer": "ipython3",
      "version": "3.7.6"
    },
    "latex_metadata": {
      "author": "Andreas C. M\\\"ller",
      "title": "Machine Learning with Python"
    },
    "colab": {
      "name": "T1.ipynb",
      "provenance": [],
      "collapsed_sections": [],
      "include_colab_link": true
    }
  },
  "cells": [
    {
      "cell_type": "markdown",
      "metadata": {
        "id": "view-in-github",
        "colab_type": "text"
      },
      "source": [
        "<a href=\"https://colab.research.google.com/github/Rogerio-mack/Deep-Learning-I/blob/main/T1.ipynb\" target=\"_parent\"><img src=\"https://colab.research.google.com/assets/colab-badge.svg\" alt=\"Open In Colab\"/></a>"
      ]
    },
    {
      "cell_type": "markdown",
      "metadata": {
        "id": "pqEhMdFQO3A-"
      },
      "source": [
        "<head>\n",
        "  <meta name=\"author\" content=\"Rogério de Oliveira\">\n",
        "  <meta institution=\"author\" content=\"Universidade Presbiteriana Mackenzie\">\n",
        "</head>\n",
        "\n",
        "<img src=\"http://meusite.mackenzie.br/rogerio/mackenzie_logo/UPM.2_horizontal_vermelho.jpg\" width=300, align=\"right\"> \n",
        "\n",
        "<h1 align=left><font size = 8, style=\"color:rgb(200,0,0)\"><b>Inteligência Artificial</b></font></h1> \n",
        "<h1 align=left><font size = 6, style=\"color:rgb(0,0,0)\"><b>Deep Learning</b></font></h1> \n",
        "\n",
        "# 1 Introdução aos Modelos Neurais\n",
        "Professor(a): Rogério de Oliveira\n",
        "\n",
        "<br>\n",
        "<br>\n",
        "\n",
        "---\n"
      ]
    },
    {
      "cell_type": "markdown",
      "metadata": {
        "id": "Lc3bFUWy-iRu"
      },
      "source": [
        "# Apresentação da Componente Curricular\n",
        "\n",
        "São inúmeras as aplicações que vemos associadas aos modelos de Redes Neurais Profundas (ou Deep Learning). Veículos autônomos, deepfake, tradução de linguagem natural, geração automática de textos e legendas, reconhecimento de imagens, modelos de atenção, detecção de anomalias, programação automática... para citar alguns que vem facilmente à mente se acompanhamos um pouco a evolução das tecnologias junto a mídia. Esses modelos vem viabilizando a solução de problemas que antes julgávamos intratáveis e podemos certamente dizer que estão fazendo trazendo uma profunda transformação na ciência e nos negócios levando a IA a inúmeros campos de aplicação.\n",
        "\n",
        "Nesta componente você irá aprender sobre esses modelos de neurais de aprendizado de máquina. Vamos começar aqui pelos modelos mais básicos e entender os principais conceitos de Redes Neurais Artificiais e de Redes Neurais Profundas. Vamos  conhecer suas principais de arquiteturas, e em particular estudar as arquiteturas Feed-Forward, ou modelos Sequenciais, e as arquiteturas de Autoencoder. Outros modelos de redes, como modelos Convolucionais e Recorrentes são tratados mais adiante em outra componente.\n",
        "\n",
        "Aqui vamos nos concentrar em como é feito o aprendizado desses modelos, e aprender e praticar técnicas importantes como gradiente descendente, gradiente estocático, backpropagation, regularização e drop out, e desenvolver aplicações. \n",
        "\n",
        "Para que você possa desenvolver seus próprios modelos vamos estudar os principais frameworks de desenvolvimento de modelos neurais, começando pelo `sci-kit learn` para modelos neurais tradicionais e em seguida os frameworks `Keras/TensorFlow` e `PyTorch` para redes profundas. Para cada um vamos desenvolver juntos soluções de aprendizado supervisionado e não supervisionado, resolvendo problemas de classificação, regressão etc. e empregar soluções de nuvem com acesso a recursos de GPU.\n",
        "\n",
        "Vamos lá? ;-)\n",
        "\n",
        "## Programa \n",
        "\n",
        "Para que tenha uma ideia geral dos conteúdos desta componente, segue abaixo os pontos que serão vistos em cada trilha.\n",
        "\n",
        "1. Introdução aos Modelos Neurais\n",
        "2. MLP Modelo Multilayer Perceptron\n",
        "3. Tensores, GPU, AutoGrad e Grafos de Execução\n",
        "4. Modelos Sequenciais e Classificação com TensorFlow\n",
        "5. Regressão e Regularização de Modelos\n",
        "6. Modelos Sequencias com PyTorch\n",
        "7. Modelos Autoencoder\n",
        "8. Aplicações e outros modelos de Deep Learning"
      ]
    },
    {
      "cell_type": "markdown",
      "metadata": {
        "id": "VsA7AnJbk2ED"
      },
      "source": [
        "# Introdução\n",
        "\n",
        "Nesta trilha vamos apresentar os principais conceitos dos modelos neurais começando pela definição de um neurônio artificial, o modelo perceptron e seu aprendizado e vamos entender como esses elementos simples podem ser combinados para construírmos poderosas *redes neurais*.\n",
        "\n",
        "Antes de entrarmos na estrutura desse modelo, vale a pena você conhecer um pouco da evolução desses modelos. Os modelos neurais não são novos, mas sua evolução passa por altos e baixos e é importante que você compreenda como chegamos aqui e no entusiasmo que cerca as redes profundas hoje.\n",
        "\n",
        "Você vai conhecer o modelo de artificial de neurônio chamado **perceptron**. Criado nos anos 40 esse ainda é o modelo empregado pela maior parte das redes neurais, incluindo as redes *deep learning* em `TensorFlow`, `PyTorch` etc. \n",
        "E irá entender o que são as **funções de ativação** e como se dá o **aprendizado do perceptron**.\n",
        "\n",
        "Esses modelos simples de neurônios podem então ser combinados para formarem redes de perceptrons que podem, então, resolverem problemas dos mais complexos.\n",
        "\n",
        "Essas redes, redes neurais multicamada, **feed-forward** ou **MLP Multilayer Perceptron** exigem técnicas mais elaboradas de aprendizado que o neurônio simples e você vai poder conhecer e explorar aqui um pouco da técnica da **retropagação do erro**, ou **backpropagation**. E para compreender melhor como se dá o aprendizado das redes você vai ainda estudar em detalhe a técnica de **descida do gradiente** em casos simples de rede em uma única camada. \n",
        "\n",
        "Todos esses conceitos são fundamentais para o entendimento dos modelos neurais e vão nos acompanhar vao longo do estudo de toda nossa componente.\n",
        "\n"
      ]
    },
    {
      "cell_type": "markdown",
      "metadata": {
        "id": "Rbr2oSKYBXEM"
      },
      "source": [
        "# Evolução dos Modelos Neurais\n",
        "\n",
        "Redes neurais artificiais não são um conceito novo. Inspirados no modelo de um neurônio biológico, Walter Pitts e Warren McCulloch mostraram em 1943 que unidades lógicas com thresholds, thresholded logic unit (que produzem disparo, são ativados ou enviam um sinal), poderiam ser combinadas para para produzir uma máquina de Turing usando portas lógicas de AND, OR e NOT. \n",
        "\n",
        "Esse modelo, entretanto, ainda não mostrava a possibilidade de aprendizado. Foi só em 1949, que o psicólogo Donald Hebb descreveu alguns dos princípios aprendizado neural, mostrando como o aprendizado poderia ocorrer reforçando as conexões neurais. Esse princípio abriu então as portas para o aprendizado dos neurônios artificiais. \n"
      ]
    },
    {
      "cell_type": "markdown",
      "metadata": {
        "id": "8ImipqFjCFrt"
      },
      "source": [
        "## Modelo de Neurônio Artificial\n",
        "\n",
        "Sobre o trabalho de McCulloch-Pitts, o psicólogo Frank Rosenblatt concebeu em 1957 o Perceptron, um modelo matemático bastante simplificado de um neurônio biológico. Esse modelo é basicamente o mesmo empregado até hoje nos modelos neurais e mesmo redes neurais profundas.\n",
        "\n",
        "<figure>\n",
        "<br>\n",
        "<img src=\"http://meusite.mackenzie.br/rogerio/Deep_Learning/DL_01_perceptron.png\" width=500, align=\"center\">\n",
        "<br>\n",
        "<br>\n",
        "<figcaption><b>Modelo Perceptron de Neurônio Artificial.</b></figcaption>\n",
        "</figure>"
      ]
    },
    {
      "cell_type": "markdown",
      "metadata": {
        "id": "JeQgtC0-WuJR"
      },
      "source": [
        "No modelo de Rosenblatt as entradas, que podem vir de outros neurônio ou sensores, são ponderadas pelos pesos como uma combinação linear. Note que há um termo independente que faz o papel do termo independente na expressão linear. Essa somatória é, no modelo de Rosenblatt, submetida a uma função threshold, ou função limiar, que faz o papel de disparo do neurônico biológico.\n",
        "\n",
        "Esse modelo, em uma época em que se pensava que seria suficiente computar operadores lógicos que para se produzir inteligência artificial foi um marco.\n",
        "\n",
        "O modelo, entretanto, ainda não tinha um mecanismo de aprendizado, o que era crucial para um modelo de Inteligência Artificial. Rosenblatt encontrou, na teoria do aprendizado Hebbiano, o que princípio que faltava para criar um mecanismo de aprendizado para os neurônios artificiais.\n"
      ]
    },
    {
      "cell_type": "markdown",
      "metadata": {
        "id": "Kps6e_v3WzPY"
      },
      "source": [
        "## Aprendizado do Neurônio Artificial\n",
        "\n",
        "No Perceptron, os pesos nas entradas do neurônio permitiram um esquema de aprendizagem bastante simples e intuitivo: dado um conjunto de treinamento de exemplos de entrada-saída (uma função), o Perceptron deveria aprender a função a partir do ajuste dos pesos das entradas. Para cada elemento do conjunto de treinamento, o Perceptron aumentaria os pesos se a saída do Perceptron para a entrada fosse muito baixa em comparação à saída desse elemento, e diminuiria os pesos se a saída fosse muito alta. Mais formalmente o algoritmo seria:\n",
        "\n",
        "```\n",
        "1.\tComece com um Perceptron com pesos arbitrários e um conjunto de treinamento\n",
        "2.\tPara cada entrada do conjunto de treinamento, calcule a saída do Perceptron\n",
        "3.\tSe a saída do Perceptron é diferente da saída conhecida, então: \n",
        "4.\tSe a saída é maior, diminua os pesos\n",
        "5.\tSe a saída é menor, aumente os pesos \n",
        "6.\tVá para o próximo elemento e repita 2-4 até o Perceptron não cometer mais erros \n",
        "\n",
        "```\n",
        "\n",
        "Essa é uma ideia bastante simples. mas bastante influente de como se dá o aprendizado e, até hoje, o aprendizado se dá basicamente desse modo, mesmo nas redes profundas mais complexas. "
      ]
    },
    {
      "cell_type": "markdown",
      "metadata": {
        "id": "eFCALjGfXGkJ"
      },
      "source": [
        "## Os Anos Perdidos: XOR \n",
        "\n",
        "Marvin Minsky e Seymour Papert (MIT Labs) já eram conhecidos e influentes cientistas quando publicaram em 1969 um trabalho criticando duramente a abordagem dos Perceptrons. Eles mostraram que um Perceptron com o seu mecanismo de aprendizado só poderia resolver problemas linearmente separáveis e que, por exemplo, não seriam capaz de aprender uma simples função booleana XOR por ser não linearmente separável. Esse trabalho, vindo de pesquisadores influentes, teve tanto impacto na comunidade científica provocando um retrocesso na pesquisa de modelos neurais, inibindo pesquisas e investimentos na área ao longo de mais de dez anos.  \n",
        "\n",
        "<figure>\n",
        "<br>\n",
        "<img src=\"http://meusite.mackenzie.br/rogerio/Deep_Learning/DL_01_XOR2.png\" width=500, align=\"center\">\n",
        "<br>\n",
        "<br>\n",
        "<figcaption><b>Funções AND, OR e XOR. Um único neurônio não pode mapear a função XOR, não linearmente separável.</b></figcaption>\n",
        "</figure>"
      ]
    },
    {
      "cell_type": "markdown",
      "metadata": {
        "id": "MkmfJ2oQXn0i"
      },
      "source": [
        "## O Retorno: Backpropagation \n",
        "\n",
        "A ideia de se conectar perceptrons, em que um neurônio receberia como entrada a saída de outro neurônio artificial, não era estranha aos pesquisadores e parecia mesmo natural se pensarmos no modelo biológico. Entretanto, a regra do aprendizado do perceptron não podia ser aplicada.\n",
        "\n",
        "Foi somente no final da década de 80 que alguns pesquisadores Geoff Hinton, Rumelhart e Williams mostraram que os perceptrons organizados em camadas, formando redes neurais, poderiam ser treinados por um procedimento relativamente simples. Isso abria novamente as portas para os modelos neurais, já que a adição de camadas permitia agora o aprendizado de funções também não lineares. Mas tarde ainda, Kurt Hornik, demonstraria (Teorema da Aproximação Universal, 1991) que redes multicamada feed-forward são aproximadores universais. Daí para frente, se abria uma nova onda de pesquisas e investimentos em modelos neurais. \n",
        "\n",
        ">>> *Kurt Hornik, demonstraria (Teorema da Aproximação Universal, 1991) que redes multicamada feed-forward são aproximadores universais. Esse é um resultado poderoso pois, dada uma função qualquer (um conjunto de treinamento), o teorema dava a garantia de que existiria uma rede neural capaz de aproximar essa função.*\n",
        "\n",
        "O algoritmo funciona tomando a derivada da função de erro da rede e retornando esse valor para atualizar os pesos dos neurônios nas camadas anteriores, de onde o nome backpropagation ou algoritmo de retropropagação. Você aprenderá mais sobre isso adiante. \n",
        "\n"
      ]
    },
    {
      "cell_type": "markdown",
      "metadata": {
        "id": "EjY4mt9nYEjS"
      },
      "source": [
        "## SVM, novo eclipse\n",
        "\n",
        "O cálculo de derivadas é computacionalmente bastante custoso e, nos anos 90, os recursos computacionais ainda eram bastante limitados comparado ao que você conhece hoje. Havia a certeza de que haveria uma rede de neurônios capaz de resolver o problema, mas em geral, estávamos bastante limitados pois não era viável construir redes com muitos elementos ou muitas camadas. \n",
        "\n",
        "Não obstante essas limitações o aprendizado de máquina, tanto de modelos neurais como de outros modelos mais tradicionais, já era uma realidade e competiam entre si. Baseado no aprendizado estatístico Vapnik (AT&T Bell Laboratories) e outros pesquisadores criam nos anos 90s um modelo conhecido como SVM (Support Vector Machines). As máquinas de vetores de suporte passam a suplantar muitos modelos de aprendizado em muitas tarefas, e são muito eficientes no treinamento, e passam a concentrar os investimentos e a pesquisa em IA diante da frustração de se treinar grandes modelos neurais.   \n",
        "\n",
        "<figure>\n",
        "<br>\n",
        "<img src=\"http://meusite.mackenzie.br/rogerio/Deep_Learning/DL_01_history.png\" width=900, align=\"center\">\n",
        "<br>\n",
        "<br>\n",
        "<figcaption><b>Timeline das Redes Neurais.</b></figcaption>\n",
        "</figure>\n"
      ]
    },
    {
      "cell_type": "markdown",
      "metadata": {
        "id": "JggyMnw7Yltx"
      },
      "source": [
        "## Deep Learning, Novo Retorno\n",
        "\n",
        "Somente nos anos 2000, Geoff Hinton (Google, o mesmo que havia desenvolvido o backpropagation!), Yann Lecun (FaceBook), Yoshua Bengio e Jürgen Schmidhuber introduziram grandes avanços no aprendizado de redes neurais introduzindo o pré-aprendizado (Hinton), redes convolucionais (Lecun) e redes recorrentes possibilitando o que hoje conhecemos como Deep Learning, ou Redes Neurais Profundas.\n",
        "\n",
        "Essas técnicas também se beneficiam hoje de maior capacidade computacional proporcionada pelo uso de computação em nuvem, avanços da tecnologia, uso de GPUs e vêm se popularizando e se industrializando a partir de soluções de software livre como o Keras/TensorFlow (Google), o PyTorch (FaceBook), o MXNet (Apache) e o CNTK (Microsoft) para desenvolvimento, e soluções em nuvem como a de grandes provedores como a Amazon AWS, Google Cloud e Azure.   \n"
      ]
    },
    {
      "cell_type": "markdown",
      "metadata": {
        "_uuid": "9dd9e07c590ca22f0c525222f60f0ebff4e092c6",
        "id": "HpKAvplIAYQ3"
      },
      "source": [
        "## Neurônio Artificial: Perceptron\n",
        " \n",
        "Um neurônio artificial nada mais é do que um artefato de software que faz uma combinação linear das entradas e aplica uma **função de ativação** como a função $sign$, $tanh$ ou $relu$ para produzir uma saída.\n",
        "\n",
        "$$ f(X) = sign( w_0 + w_1 x_1 + ... + w_n x_n ) $$\n",
        "\n",
        "O treinamento do neurônio é feito ajustando-se os pesos $w_n$ de acordo com o erro de predição obtido para se estimar a saída $f(X) \\cong y$.\n",
        "\n",
        "$$ \\min_{W} \\sum || f(X)- y || $$\n",
        "\n",
        "Você pode, então, entender o aprendizado de um neurônio como um **problema de otimização**.\n"
      ]
    },
    {
      "cell_type": "markdown",
      "metadata": {
        "id": "F1FHrlVuZ1WR"
      },
      "source": [
        "# Funções de Ativação\n",
        "Quaisquer combinações de operadores lineares são também lineares. Desse modo, sem uma função de ativação, as redes neurais somente poderiam solucionar problemas linearmente separáveis e seriam, portanto, equivalentes a um modelo de regressão linear. As funções de ativação são uma escolha importante na arquitetura de uma rede neural, pois facilitam a modelagem de relações mais complexas e são, ao final, elas que permitem que uma rede neural seja um aproximador universal de funções.\n",
        "\n",
        "$$ f(x) = \\frac{1}{(1 + e^{-x})} \\quad \\textrm{, Logistic } $$ \n",
        "\n",
        "$$ f(x) = \\frac{e^{x} - e^{-x}}{e^{x} + e^{-x}}\\quad \\textrm{, Tanh} $$ \n",
        "\n",
        "$$ f(x) = max(0,x) \\quad \\textrm{, ReLu} $$ \n",
        "\n",
        "$$ f(x) = log(1 + e^{x}) \\quad \\textrm{, Softplus} $$ "
      ]
    },
    {
      "cell_type": "code",
      "metadata": {
        "colab": {
          "base_uri": "https://localhost:8080/",
          "height": 625
        },
        "id": "yJRQxZ_zaGkr",
        "outputId": "ba58afd6-415b-42fe-86d8-39e771d52e85"
      },
      "source": [
        "import numpy as np\n",
        "import matplotlib.pyplot as plt\n",
        "%matplotlib inline\n",
        "\n",
        "plt.figure(figsize=(12,8))\n",
        "plt.suptitle('Funções de Ativação', fontsize=14, weight='bold', y=1.05)\n",
        "\n",
        "x = np.arange(-5, 5, 0.01)\n",
        "y = 1 / (1 + np.exp(-x))\n",
        "plt.subplot(2,2,1)\n",
        "plt.plot(x,y)\n",
        "plt.title('Logistic', fontsize=14, weight='bold')\n",
        "# plt.xlabel('Input')\n",
        "plt.ylabel('Output')\n",
        "\n",
        "y = np.tanh(x)\n",
        "plt.subplot(2,2,2)\n",
        "plt.plot(x,y)\n",
        "plt.title('Tanh ', fontsize=14, weight='bold')\n",
        "# plt.xlabel('Input')\n",
        "plt.ylabel('Output')\n",
        "\n",
        "z = np.zeros(len(x))\n",
        "y = np.maximum(z,x)\n",
        "plt.subplot(2,2,3)\n",
        "plt.plot(x,y)\n",
        "plt.title('ReLU ', fontsize=14, weight='bold')\n",
        "plt.xlabel('Input')\n",
        "# plt.ylabel('Output');\n",
        "\n",
        "y = np.log(1+np.exp(x))\n",
        "plt.subplot(2,2,4)\n",
        "plt.plot(x,y)\n",
        "plt.title('Softplus ', fontsize=14, weight='bold')\n",
        "plt.xlabel('Input')\n",
        "# plt.ylabel('Output');\n",
        "\n",
        "plt.tight_layout()\n",
        "plt.show()\n",
        "\n"
      ],
      "execution_count": null,
      "outputs": [
        {
          "output_type": "display_data",
          "data": {
            "image/png": "[encoded data removed]",
            "text/plain": [
              "<Figure size 864x576 with 4 Axes>"
            ]
          },
          "metadata": {
            "tags": [],
            "needs_background": "light"
          }
        }
      ]
    },
    {
      "cell_type": "markdown",
      "metadata": {
        "id": "xm85q4d_mOxi"
      },
      "source": [
        "### Função Logística\n",
        "\n",
        "As funções de ativação **logística** ou **sigmóide** (ou ainda Soft Step) são frequentemente usadas para problemas de classificação, devido ao comportamento assintótico próximo às extremidades positivas e negativas da função, com uma transição gradual entre elas. De fato, a regressão logística empregada para classificação binária, pode ser entendida como um modelo simples de neurônio. Ela fornece uma saída [0,1] que fornece a chance (odds) de uma classe ou outra, algo muito próximo a probabilidade da classe, mas que a rigor não é uma probabilidade.   \n",
        "\n",
        "### Tangente Hiperbólica\n",
        "\n",
        "Muito semelhante a função logística, a tanh apresenta melhor resultado quando as classes são mais claramente separáveis e, assim como a função logística são bastante empregadas em modelos neurais. Para modelos Deep Learning elas são empregadas principalmente nas camadas de saída. \n",
        "\n",
        "## Função Retificadora `ReLu`\n",
        "\n",
        "Ou **Rectified Linear Unit**  era empregada desde os anos 60 para a extração de features de imagens, mas se tornou bastante popular a partir de 2011 bastante eficaz para o aprendizado de redes profundas e é, em geral, a função preferencial para as camadas ocultas de deep learning. Devido sua linearidade os gradientes não desaparecem com tanta freqüência devido a problemas numéricos como no caso de outras funções. Mas para as camadas de saída, entretanto, as funções logística e tanh ainda são preferíveis por serem  de fato classificadoras e você não deve empregar funções ReLU na saída das redes.\n",
        "\n",
        "## Função Softplus\n",
        "\n",
        "Ela é semelhante a ReLU mas, diferentemente da ReLU que não é diferenciável no ponto 0, a Softplus é diferenciável em qualquer ponto e pode ser aplicada em problemas onde a ReLU apresenta problemas para a aplicação de certos otimizadores baseados na primeira derivada.\n",
        "\n",
        "Existem muitas outras funções de ativação, mas essas são bastante empregadas e suficientes para nossos propósitos.\n",
        "\n"
      ]
    },
    {
      "cell_type": "markdown",
      "metadata": {
        "_uuid": "9dd9e07c590ca22f0c525222f60f0ebff4e092c6",
        "id": "9iqLZxRqnXbI"
      },
      "source": [
        "# Aprendizado do Perceptron **AND**, **OR**, **XOR**\n",
        " \n",
        "Aqui empregamos o [Perceptron Learning Rule](https://en.wikipedia.org/wiki/Perceptron) para o aprendizado das funções `AND` e `OR`. O aprendizado falha para a função `XOR`, pois ela não é linearmente separável.\n",
        "\n",
        "Perceptron Learning Rule:\n",
        "\n",
        "$$ w_i(t+1) = w_i(t) + \\eta (y_j - \\tilde{y}_j(t) ) x_{j,i} \\ $$\n",
        "\n",
        "onde $\\eta$ é a taxa de aprendizado, $i$ são índices das diferentes *features* (atributos) e *j* das diferentes instâncias de pares $(X,y)$. O procedimento é repedido por $n$ épocas (iterações) ao até o erro atingir um determinado threshold $\\epsilon$.\n",
        "\n",
        "$$\\frac{1}{s} \\sum_{j=1}^{s} |y_j - \\tilde{y}_j(t)| \\le \\epsilon $$ \n",
        "\n",
        "\n",
        "\n"
      ]
    },
    {
      "cell_type": "code",
      "metadata": {
        "id": "WwEVMZv41y9D",
        "colab": {
          "base_uri": "https://localhost:8080/",
          "height": 1000
        },
        "outputId": "c8903e59-fe18-4bec-ff7f-d3119b936a07"
      },
      "source": [
        "import numpy as np\n",
        "import matplotlib.pyplot as plt\n",
        "import seaborn as sns\n",
        "\n",
        "def train_perceptron(learn = 'AND', epochs = 500, learning_rate = 0.2, threshold = 1e-3):\n",
        "\n",
        "  X = np.matrix([ [0,0], [1,0], [0,1], [1,1] ])\n",
        "  learn_f = { 'AND':[-1, -1, -1, 1], 'OR':[-1, 1, 1, 1], 'XOR':[-1, 1, 1, -1] }\n",
        "  y = np.array( learn_f[learn] )\n",
        "\n",
        "  W = np.random.rand(3)\n",
        "\n",
        "  y_pred = np.zeros([4])\n",
        "\n",
        "  error_hist = []\n",
        "\n",
        "  for epoch in range(epochs):\n",
        "    for i in range(np.shape(X)[0]):\n",
        "      y_pred[i] = np.tanh(W[0]*X[i,0] + W[1]*X[i,1] + W[2])\n",
        "\n",
        "    error = 0\n",
        "    for i in range(np.shape(y)[0]):\n",
        "      error = error + np.abs(y[i] - y_pred[i])\n",
        "    error = error / np.shape(y)[0]  #  erro médio\n",
        "\n",
        "    error_hist.append(error)\n",
        "    if error <= threshold: break \n",
        "\n",
        "    for i in range(np.shape(X)[0]):\n",
        "      W[0] = W[0] + learning_rate * (y[i] - y_pred[i]) * X[i,0]\n",
        "      W[1] = W[1] + learning_rate * (y[i] - y_pred[i]) * X[i,0]\n",
        "      W[2] = W[2] + learning_rate * (y[i] - y_pred[i]) \n",
        "\n",
        "  return W, error_hist, y_pred\n",
        "\n",
        "\n",
        "for funcao in ['AND','OR','XOR']:\n",
        "  \n",
        "  W, error_hist, y_pred = train_perceptron(funcao)\n",
        "  # W, error_hist, y_pred = train_perceptron(funcao, 20000)\n",
        "\n",
        "  sns.lineplot(x=range(len(error_hist)),y=error_hist)\n",
        "  plt.title('Training Error for ' + funcao + ' function' )\n",
        "  plt.show()\n",
        "\n",
        "  print(f'Error: \\t\\t\\t {error_hist[len(error_hist)-1] :0.3f}')\n",
        "  print(f'Epochs: \\t\\t {len(error_hist)}')\n",
        "  print(f'Predict: \\t\\t {y_pred}')\n",
        "  print(f'Predict Round: \\t\\t {np.round(y_pred)}')\n",
        "  print(f'Pesos: \\t\\t\\t {W}')\n",
        "\n"
      ],
      "execution_count": null,
      "outputs": [
        {
          "output_type": "display_data",
          "data": {
            "image/png": "[encoded data removed]",
            "text/plain": [
              "<Figure size 432x288 with 1 Axes>"
            ]
          },
          "metadata": {
            "tags": [],
            "needs_background": "light"
          }
        },
        {
          "output_type": "stream",
          "text": [
            "Error: \t\t\t 0.019\n",
            "Epochs: \t\t 500\n",
            "Predict: \t\t [-0.99999593 -0.9797871  -0.97450337  0.96958219]\n",
            "Predict Round: \t\t [-1. -1. -1.  1.]\n",
            "Pesos: \t\t\t [ 4.26207824  4.37952708 -6.55530824]\n"
          ],
          "name": "stdout"
        },
        {
          "output_type": "display_data",
          "data": {
            "image/png": "[encoded data removed]",
            "text/plain": [
              "<Figure size 432x288 with 1 Axes>"
            ]
          },
          "metadata": {
            "tags": [],
            "needs_background": "light"
          }
        },
        {
          "output_type": "stream",
          "text": [
            "Error: \t\t\t 0.011\n",
            "Epochs: \t\t 500\n",
            "Predict: \t\t [-0.97469298  0.98980791  0.99000407  0.99999934]\n",
            "Predict Round: \t\t [-1.  1.  1.  1.]\n",
            "Pesos: \t\t\t [ 4.81767261  4.82743898 -2.17956693]\n"
          ],
          "name": "stdout"
        },
        {
          "output_type": "display_data",
          "data": {
            "image/png": "[encoded data removed]",
            "text/plain": [
              "<Figure size 432x288 with 1 Axes>"
            ]
          },
          "metadata": {
            "tags": [],
            "needs_background": "light"
          }
        },
        {
          "output_type": "stream",
          "text": [
            "Error: \t\t\t 1.000\n",
            "Epochs: \t\t 500\n",
            "Predict: \t\t [-0.24446297 -0.24446297  0.24446297  0.24446297]\n",
            "Predict Round: \t\t [-0. -0.  0.  0.]\n",
            "Pesos: \t\t\t [-1.11022302e-16  4.99030579e-01 -2.49515290e-01]\n"
          ],
          "name": "stdout"
        }
      ]
    },
    {
      "cell_type": "markdown",
      "metadata": {
        "id": "-qVk6mAcnnla"
      },
      "source": [
        "Os gráficos acima mostram a redução do erro da predição das saídas ao longo do treinamento. O erro decresce à medida que os pesos são ajustados e, como você pode ver, convergem para o aprendizado das funções AND e OR, mas não para a função XOR."
      ]
    },
    {
      "cell_type": "markdown",
      "metadata": {
        "id": "HsPn5sjStnpn"
      },
      "source": [
        "# `scikit-learn` Perceptron\n",
        "\n",
        "Acima desenvolvemos o aprendizado do Perceptron *by scratch* (do zero). Mas talvez interesse a você empregar a classe Perceptron do pacote `scikit-Learn`. O resultado será o mesmo do modelo acima.\n",
        "\n",
        "A classe `Perceptron` encontra-se no `scikit-learn` dentro dos Classificadores lineares (SVM, regressão logística, etc.) que são treinados por métodos de gradiente descendente que você verá a seguir.\n",
        "\n",
        "O uso da classe `Perceptron` segue de perto o esquema de muitos outros classificadores (como SVM, regressão logística e árvores de decisão). \n",
        "Podemos sumarizar esses passos em:\n",
        "\n",
        "1. Define Model `m`\n",
        "3. Train Model `m.fit(X,y)`\n",
        "4. Predict Model `m.predict(X_test)`\n",
        "5. Check results `m.score(X,y)`\n",
        "\n",
        "Onde `X` e `y` são as variáveis do conjunto de treinamento e `X_test` as entradas que desejamos fazer a predição. Confortável com esse modelo? Esse esquema será bastante empregado na construção dos nossos modelos.\n",
        "\n",
        "\n"
      ]
    },
    {
      "cell_type": "code",
      "metadata": {
        "colab": {
          "base_uri": "https://localhost:8080/"
        },
        "id": "3MTkcqV_r2zI",
        "outputId": "95ab0abd-aed7-4e86-a74b-05ae5b0f11dd"
      },
      "source": [
        "from sklearn.linear_model import Perceptron\n",
        "\n",
        "X = [[0., 0.], [0., 1.], [1., 0.], [1., 1.]]\n",
        "\n",
        "for f, y in { 'AND':[0, 0, 0, 1], 'OR':[0, 1, 1, 1], 'XOR':[0, 1, 1, 0] }.items():\n",
        "  \n",
        "  print('\\n Função: ', f); print(80*'-')\n",
        "\n",
        "  ppn = Perceptron(max_iter=40, eta0=0.1, random_state=1234)\n",
        "  print(ppn)\n",
        "  ppn.fit(X, y)    \n",
        " \n",
        "  y_pred = ppn.predict([[0, 0], [0, 1], [1, 0], [1, 1]])\n",
        "  print(y_pred)\n",
        " \n",
        "  print(ppn.score(X,y))\n",
        "\n"
      ],
      "execution_count": null,
      "outputs": [
        {
          "output_type": "stream",
          "text": [
            "\n",
            " Função:  AND\n",
            "--------------------------------------------------------------------------------\n",
            "Perceptron(alpha=0.0001, class_weight=None, early_stopping=False, eta0=0.1,\n",
            "           fit_intercept=True, max_iter=40, n_iter_no_change=5, n_jobs=None,\n",
            "           penalty=None, random_state=1234, shuffle=True, tol=0.001,\n",
            "           validation_fraction=0.1, verbose=0, warm_start=False)\n",
            "[0 0 0 1]\n",
            "1.0\n",
            "\n",
            " Função:  OR\n",
            "--------------------------------------------------------------------------------\n",
            "Perceptron(alpha=0.0001, class_weight=None, early_stopping=False, eta0=0.1,\n",
            "           fit_intercept=True, max_iter=40, n_iter_no_change=5, n_jobs=None,\n",
            "           penalty=None, random_state=1234, shuffle=True, tol=0.001,\n",
            "           validation_fraction=0.1, verbose=0, warm_start=False)\n",
            "[0 1 1 1]\n",
            "1.0\n",
            "\n",
            " Função:  XOR\n",
            "--------------------------------------------------------------------------------\n",
            "Perceptron(alpha=0.0001, class_weight=None, early_stopping=False, eta0=0.1,\n",
            "           fit_intercept=True, max_iter=40, n_iter_no_change=5, n_jobs=None,\n",
            "           penalty=None, random_state=1234, shuffle=True, tol=0.001,\n",
            "           validation_fraction=0.1, verbose=0, warm_start=False)\n",
            "[0 0 0 0]\n",
            "0.5\n"
          ],
          "name": "stdout"
        }
      ]
    },
    {
      "cell_type": "markdown",
      "metadata": {
        "id": "cOC6eLi7vmXZ"
      },
      "source": [
        "Veja que o `score()` do modelo para a função `XOR` é, diferente das demais, de apenas 0.5, pois, não sendo a função linearmente separável, apenas metade das instâncias de treinamento puderam ser aprendidas pelo modelo linear. "
      ]
    },
    {
      "cell_type": "markdown",
      "metadata": {
        "id": "0zypweTbwKKJ"
      },
      "source": [
        "# Experimentando Redes Neurais *sem programação*\n",
        "\n",
        "Acesse agora o site https://playground.tensorflow.org/.\n",
        "\n",
        "Você poderá fazer uma série de ‘experimentos’ e observar o aprendizado de uma rede neural para diferentes problemas. Aqui algumas sugestões de exploração para você:\n",
        "\n",
        "1.\tComece configurando uma rede de 1 único neurônio e solucionando um problema linearmente separável. Observe o ajuste dos pesos e a redução do erro (Test e Training Loss).\n",
        "2.\tTente com o mesmo neurônio, solucionar um problema não linearmente separável. Veja que o erro não decresce e os dados não conseguem ser separados corretamente.\n",
        "3.\tAdicione agora uma ou duas camadas. Veja que agora um problema simples, mesmo não linear, pode ser rapidamente aprendido.\n",
        "4.\tExperimente outros problemas mais difíceis (menos lineares). Você verá que para problemas mais complexos como o da figura abaixo pode ser necessário um grande número de elementos e camadas.\n"
      ]
    },
    {
      "cell_type": "code",
      "metadata": {
        "colab": {
          "base_uri": "https://localhost:8080/",
          "height": 621
        },
        "id": "_8B-QHiawu4p",
        "outputId": "6d2ca82c-79f2-4b17-cf6d-6e892b805d14"
      },
      "source": [
        "from IPython.display import IFrame\n",
        "IFrame('https://playground.tensorflow.org/', width='100%', height=600, style=\"-webkit-transform:scale(0.1);-moz-transform-scale(0.1);\")"
      ],
      "execution_count": null,
      "outputs": [
        {
          "output_type": "execute_result",
          "data": {
            "text/html": [
              "\n",
              "        <iframe\n",
              "            width=\"100%\"\n",
              "            height=\"600\"\n",
              "            src=\"https://playground.tensorflow.org/?style=-webkit-transform%3Ascale%280.1%29%3B-moz-transform-scale%280.1%29%3B\"\n",
              "            frameborder=\"0\"\n",
              "            allowfullscreen\n",
              "        ></iframe>\n",
              "        "
            ],
            "text/plain": [
              "<IPython.lib.display.IFrame at 0x7fd2e3b49c10>"
            ]
          },
          "metadata": {
            "tags": []
          },
          "execution_count": 47
        }
      ]
    },
    {
      "cell_type": "markdown",
      "metadata": {
        "id": "wI5Ux7BY2_5w"
      },
      "source": [
        "Aqui, alguns dos conjuntos de dados para classificação que você encontra no *playground*.\n",
        "\n",
        "<figure>\n",
        "<br>\n",
        "<img src=\"http://meusite.mackenzie.br/rogerio/Deep_Learning/playground.png\" width=700, align=\"center\">\n",
        "<br>\n",
        "<br>\n",
        "<figcaption><b>conjuntos de dados para classificação que você encontra no https://playground.tensorflow.org/ .</b></figcaption>\n",
        "</figure>"
      ]
    },
    {
      "cell_type": "markdown",
      "metadata": {
        "id": "gSFl3l-d4T1k"
      },
      "source": [
        "# Multilayer Perceptron, redes multicamada\n",
        "\n",
        "Como você viu os perceptrons podem ser conectados, a saída de um sendo a entrada de outros elementos, de modo a formar da rede neural em camadas.\n",
        "\n",
        "As camadas externas são as camadas de entrada e saída da rede. As camadas internas são as camadas de ocultas (hidden) da rede. As redes podem ter diferentes configurações com diferentes números de entradas, saídas e número de camadas. \n",
        "\n",
        ">>> *As redes podem ter diferentes configurações com diferentes números de entradas, saídas e número de camadas.* \n",
        "\n",
        "Essas redes são conhecidas também como feed-forward ou, mais modernamente, como modelos sequenciais. As entradas são processadas em sequência, uma camada após a outra. \n",
        "\n",
        "O problema é que o modelo de aprendizado do perceptron não pode mais ser aplicado diretamente a uma rede multicamada. \n",
        "\n",
        "\n",
        "<figure>\n",
        "<br>\n",
        "<img src=\"http://meusite.mackenzie.br/rogerio/Deep_Learning/DL_01_multilayer.png\" width=400, align=\"center\">\n",
        "<br>\n",
        "<br>\n",
        "<figcaption><b>Rede de Neurônicos Multicamada.</b></figcaption>\n",
        "</figure>\n",
        "\n",
        "\n"
      ]
    },
    {
      "cell_type": "markdown",
      "metadata": {
        "id": "LFvFWN8C4edo"
      },
      "source": [
        "## Backpropagation\n",
        "\n",
        "Embora a ideia seja a mesma, o ajuste dos pesos para treinamento de uma rede multicamada difere bastante do ajuste dos pesos de um único perceptron e você deve notar que o ajuste terá magnitudes diferentes em cada camada. \n",
        "\n",
        "Aqui será útil empregarmos uma simplificação. Vamos supor uma rede de duas camadas definida pelas funções: \n",
        "\n",
        "$$ x \\rightarrow  w_1 x = z \\rightarrow  w_2  z^2  = y $$\n",
        "\n",
        "Essas não são a função do perceptron, mas servem para ilustrar o procedimento. \n",
        "\n",
        "A primeira camada calcula  $w_1 x = z$ , e esse valor é a entrada para um novo cálculo e fornece a saída final  $w_2 z^2  = y$. É claro que ao final $y = w_2 ( w_1 x )^2$,  ou ainda $y = w_2 w_1^2 x^2$ , mas o processamento da rede é em camadas e a operação em cada uma delas, feita separadamente. Isso é importante para o ajuste dos pesos. Essas camadas e o ajustes *retropagados* encontram-se representados abaixo.\n",
        "\n",
        "\n",
        "<figure>\n",
        "<br>\n",
        "<img src=\"http://meusite.mackenzie.br/rogerio/Deep_Learning/DL_01_backpropagation.png\" width=500, align=\"center\">\n",
        "<br>\n",
        "<br>\n",
        "<figcaption><b>Esquema do aprendizado da rede: retropropagação do erro.</b></figcaption>\n",
        "</figure>\n"
      ]
    },
    {
      "cell_type": "markdown",
      "metadata": {
        "id": "bZZsdRZZ6tAa"
      },
      "source": [
        "Note que o ajuste do peso em cada camada depende da derivativa do erro da camada seguinte. Assim, em uma rede multicamadas, o cálculo da saída é feito calculando-se, a partir da camada de entrada para a de saída, cada uma das camadas (feed-foward). Já o ajuste dos pesos é feito na direção contrária, a partir da derivada do erro obtido na camada de saída retropropagando o erro (alusão ao fato do erro ter se propagado no cálculo feed-forward). Esse procedimento é conhecido como backpropagation, ou algoritmo de retropropagação.\n",
        "\n",
        "O esquema a seguir sumariza nossa abordagem das redes feedforward. \n",
        "\n",
        "<figure>\n",
        "<br>\n",
        "<img src=\"http://meusite.mackenzie.br/rogerio/Deep_Learning/DL_01_backpropagation_full2.png\" width=500, align=\"center\">\n",
        "<br>\n",
        "<br>\n",
        "<figcaption><b>Esquema geral do algoritmo de retropropagação \n",
        "que minimiza o erro quadrático.\n",
        "</b></figcaption>\n",
        "</figure>\n"
      ]
    },
    {
      "cell_type": "markdown",
      "metadata": {
        "id": "gCfhpzeB7vW0"
      },
      "source": [
        "A implementação do algoritmo de backpropagation não é exatamente complexa, mas exige um certo esforço e a matemática por traz do algoritmo requer um certo domínio de notação para lidar com diferentes camadas. Mas o seu princípio é bastante simples e poderoso e podemos entender melhor isso explorando, sem muita perda, modelos mais simples de descida do gradiente em uma única camada."
      ]
    },
    {
      "cell_type": "markdown",
      "metadata": {
        "id": "KPobMhHv11Hw"
      },
      "source": [
        "# Descida do Gradiente\n",
        "\n",
        "A ideia por trás da descida do gradiente (ou BGV, Batch Gradient Descent) é ajustar gradualmente os pesos para minimizarmos uma função de custo. Por custo entendemos uma função que fornece alguma métrica de quão longe nosso modelo previu o resultado. Podemos, por exemplo adotar o erro quadrático médio (MSE). \n",
        "\n",
        "$$ MSE = \\frac{1}{n} \\sum_{i = 1}^{n} (y_i - \\hat{y_i})^2 $$\n",
        "\n",
        "Agora vamos descobrir como ajustar os parâmetros para reduzir o MSE. Por simplicidade vamos adotar a função de linear para $\\hat{y_i} = w_1 x_i + w_0$ para aproximar (aprender) $y$.  \n",
        "\n",
        "# Derivadas Parciais\n",
        "\n",
        "Para isso podemos empregar as derivadas parciais para descobrir como cada parâmetro individual afeta o MSE e, assim, tomaremos a derivada em relação a $w_0$ e $w_1$ separadamente . \n",
        "\n",
        "$$ f(w_0,w_1) = \\frac{1}{n} \\sum_{i = 1}^{n} (y_i - (w_1 x_i + w_0)) ^ 2 $$\n",
        "\n",
        "Para calcular a derivada parcial com respeito a $w_i$ é útil empregarmos a regra da cadeia.\n",
        "\n",
        "$$ \\frac{d f(g (x))}{dx} = f'(g (x)) g (x) ' $$\n",
        "\n",
        "E podemos obter, a derivada parcial com respeito a $w_0$:\n",
        "\n",
        "$$ \\frac{\\partial f(w_0,w_1)}{\\partial w_0} = \\frac{1}{n} \\sum_{i = 1}^{n} -2 (y_i - (w_1 x_i + w_0)) $$\n",
        "\n",
        "e a derivada parcial com respeito a $w_0$:\n",
        "\n",
        "$$ \\frac{\\partial f(w_0,w_1)}{\\partial w_1} = \\frac{1}{n} \\sum_{i = 1}^{n} -2x_i (y_i - (w_1 x_i + w_0)) $$\n",
        "\n",
        "\n",
        "Note a diferença, havendo o produto por $x_i$ somente na primeira derivada. E ainda podemos escrever:\n",
        "\n",
        "$$ \\frac{\\partial f(w_0,w_1)}{\\partial w_0} = \\frac{1}{n} \\sum_{i = 1}^{n} -2 (y_i - \\hat{y_i}) $$\n",
        "\n",
        "$$ \\frac{\\partial f(w_0,w_1)}{\\partial w_1} = \\frac{1}{n} \\sum_{i = 1}^{n} -2x_i (y_i - \\hat{y_i}) $$\n",
        "\n",
        "\n",
        "\n",
        "Podemos então, fazer ao ajuste dos pesos com uma taxa de aprendizado $\\eta$ como:\n",
        "\n",
        "$$ w_0 = w_0 + \\eta \\frac{\\partial f(w_0,w_1)}{\\partial w_0} $$\n",
        "$$ w_1 = w_1 + \\eta \\frac{\\partial f(w_0,w_1)}{\\partial w_1} $$\n",
        "\n",
        "Note que se $i=1$,\n",
        "\n",
        "$$ w_0 = w_0 - \\eta . 2 \\hat{y_i} = w_0 - \\lambda (y_i - \\hat{y_i})$$\n",
        "$$ w_1 = w_1 - \\eta . 2 x_i \\hat{y_i} = = w_1 - \\lambda x_i (y_i - \\hat{y_i})$$\n",
        "\n",
        "Que nada mais é que o aprendizado do perceptron!\n",
        "\n",
        "A descida do gradiente é um processo iterativo que a cada iteração (epoch) minimizamos ligeiramente o MSE atualizanado os pesos com base nessas derivadas. Em resumo, podemos dizer que a **descida do gradiente é em geral um processo que emprega as derivadas de uma função custo (o erro) para repetidamente ajustar os pesos e minimizar o erro**.\n",
        "\n",
        ">>> *descida do gradiente é em geral um processo que emprega as derivadas de uma função custo (o erro) para repetidamente ajustar os pesos e minimizar o erro*\n",
        "\n",
        "O exemplo abaixo implementa a descida do gradiente para uma função linear.\n",
        "\n"
      ]
    },
    {
      "cell_type": "code",
      "metadata": {
        "id": "GsPyg4uZlzWe"
      },
      "source": [
        "def gradient_descent(X, y, lr=0.01, epoch=10, w0=0.2, w1=0.2):\n",
        "\n",
        "    log, mse, weigths = [], [], []\n",
        "    N = len(X) \n",
        "    \n",
        "    for _ in range(epoch):\n",
        "        weigths.append([w1,w0])\n",
        "                \n",
        "        f = y - (w1*X + w0)\n",
        "    \n",
        "        w1 =  w1 - lr * (-2 * X.dot(f).sum() / N)\n",
        "        w0 =  w0 - lr * (-2 * f.sum() / N)\n",
        "        \n",
        "        log.append([w0, w1])\n",
        "        mse.append(( (y - (w1*X + w0))**2 ).mean())        \n",
        "    \n",
        "    return w1, w0, log, mse, weigths"
      ],
      "execution_count": null,
      "outputs": []
    },
    {
      "cell_type": "code",
      "metadata": {
        "colab": {
          "base_uri": "https://localhost:8080/",
          "height": 433
        },
        "id": "RXHjqjWml2J0",
        "outputId": "cb4a451e-a2e2-49ed-b16d-005cc5a5fce6"
      },
      "source": [
        "import pandas as pd\n",
        "import numpy as np\n",
        "import matplotlib.pyplot as plt\n",
        "%matplotlib inline\n",
        "\n",
        "learning = pd.DataFrame({'x' : np.zeros(6),\n",
        "                         'y' : np.zeros(6),\n",
        "                         'y_pred' : np.zeros(6),\n",
        "                         'error' : np.zeros(6)})\n",
        "\n",
        "def y(x):\n",
        "  return 2*x + 1\n",
        "\n",
        "learning.x = np.arange(0,6,1)\n",
        "learning.y = y(learning.x)\n",
        "\n",
        "w1, w0, log, mse, weigths = gradient_descent(learning.x, learning.y, lr=0.05, epoch=100, w0=-1, w1=0.5)\n",
        "\n",
        "plt.figure(figsize=(12,4))\n",
        "\n",
        "plt.subplot(1,2,1)\n",
        "plt.plot(range(len(mse)), mse)\n",
        "plt.title('Gradient Descent Optimization', fontSize=14)\n",
        "plt.xlabel('Epochs')\n",
        "plt.ylabel('MSE')\n",
        "\n",
        "plt.subplot(1,2,2)\n",
        "plt.plot(range(len(np.array(weigths)[:,0])), np.array(weigths)[:,0], label='w0')\n",
        "plt.plot(range(len(np.array(weigths)[:,1])), np.array(weigths)[:,1], label='w1')\n",
        "plt.title('Weigths', fontSize=14)\n",
        "plt.xlabel('Epochs')\n",
        "plt.ylabel('w0, w1')\n",
        "plt.legend()\n",
        "\n",
        "plt.tight_layout()\n",
        "plt.show()\n",
        "\n",
        "learning.y_pred = w1*learning.x + w0\n",
        "learning.error = (learning.y - learning.y_pred)**2 \n",
        "\n",
        "print(learning.head())\n",
        "print(f'MSE = {learning.error.mean() :.2f}')\n",
        "print(f'w0 = {w0 :.2f} , w1 = {w1 :.2f}')\n"
      ],
      "execution_count": null,
      "outputs": [
        {
          "output_type": "display_data",
          "data": {
            "image/png": "[encoded data removed]",
            "text/plain": [
              "<Figure size 864x288 with 2 Axes>"
            ]
          },
          "metadata": {
            "tags": [],
            "needs_background": "light"
          }
        },
        {
          "output_type": "stream",
          "text": [
            "   x  y    y_pred     error\n",
            "0  0  1  0.927195  0.005301\n",
            "1  1  3  2.947712  0.002734\n",
            "2  2  5  4.968230  0.001009\n",
            "3  3  7  6.988747  0.000127\n",
            "4  4  9  9.009264  0.000086\n",
            "MSE = 0.00\n",
            "w0 = 0.93 , w1 = 2.02\n"
          ],
          "name": "stdout"
        }
      ]
    },
    {
      "cell_type": "markdown",
      "metadata": {
        "id": "ie-Oy4l4KLjg"
      },
      "source": [
        "Veja o resultado bastante próximo dos coeficientes originais da função."
      ]
    },
    {
      "cell_type": "markdown",
      "metadata": {
        "id": "7o5DNdJdKxBJ"
      },
      "source": [
        "# Gradiente Estocástico\n",
        "\n",
        "O Gradiente Estocástico (SGD, Stochastic Gradient Descent) funciona quase do mesmo modo que a descida do gradiente. Você deve ter notado que para o cálculo do gradiente empregamos todo o conjunto dados. Isso é altamente custoso e torna a descida do gradiente extremamente lenta para grandes quantidades de dados. O Gradiente Estocástico, então, no lugar de empregar todos os dados seleciona apenas uma amostra dos dados para fazer o ajuste dos pesos. Isso torna o torna o processamento muito mais rápido e podemos definir o tamanho da amostra a ser empregada (batch_size). "
      ]
    },
    {
      "cell_type": "code",
      "metadata": {
        "id": "k-RHDvdvKwNp"
      },
      "source": [
        "import random\n",
        "\n",
        "def SGD(X, y, lr=0.01, epoch=10, w0=0.2, w1=0.2, batch_size=1):\n",
        "\n",
        "    log, mse, weigths = [], [], []\n",
        "    N = len(X) \n",
        "    \n",
        "    for _ in range(epoch):\n",
        "        weigths.append([w1,w0])\n",
        "\n",
        "        idx = random.sample(range(len(X)), batch_size) \n",
        "        Xs = X[idx]\n",
        "        ys = y[idx]\n",
        "                \n",
        "        f = ys - (w1*Xs + w0)\n",
        "    \n",
        "        # Updating m and b\n",
        "        w1 =  w1 - lr * (-2 * Xs.dot(f).sum() / N)\n",
        "        w0 =  w0 - lr * (-2 * f.sum() / N)\n",
        "        \n",
        "        log.append([w0, w1])\n",
        "        mse.append(( (ys - (w1*Xs + w0))**2 ).mean())        \n",
        "    \n",
        "    return w1, w0, log, mse, weigths"
      ],
      "execution_count": null,
      "outputs": []
    },
    {
      "cell_type": "markdown",
      "metadata": {
        "id": "OwypeaRXTUKb"
      },
      "source": [
        "Como nosso conjunto anterior é muito pequeno para trabalhar com amostras, vamos criar um conjunto maior de 100 elementos adicionando ainda ruído à saída da função linear, e então aplicarmos o SGD."
      ]
    },
    {
      "cell_type": "code",
      "metadata": {
        "colab": {
          "base_uri": "https://localhost:8080/",
          "height": 433
        },
        "id": "PBS6DlpzM8Zf",
        "outputId": "6bce4012-1a14-4b89-fd5b-99b3cb4a415c"
      },
      "source": [
        "def y(x):\n",
        "  return 2*x + 1\n",
        "\n",
        "x = np.arange(0,100,1) + 2*np.random.random(1)\n",
        "y = y(x)\n",
        "\n",
        "learning = pd.DataFrame({'x' : x,\n",
        "                         'y' : y,\n",
        "                         'y_pred' : np.zeros(len(x)),\n",
        "                         'error' : np.zeros(len(x))})\n",
        "\n",
        "random.seed(1234) # Para reprodutibilidade dos resultados\n",
        "w1, w0, log, mse, weigths = SGD(learning.x, learning.y, lr=0.002, epoch=25, w0=1, w1=0.5, batch_size=5)\n",
        "\n",
        "plt.figure(figsize=(12,4))\n",
        "\n",
        "plt.subplot(1,2,1)\n",
        "plt.plot(range(len(mse)), mse)\n",
        "plt.title('SGD Optimization', fontSize=14)\n",
        "plt.xlabel('Epochs')\n",
        "plt.ylabel('MSE')\n",
        "\n",
        "plt.subplot(1,2,2)\n",
        "plt.plot(range(len(np.array(weigths)[:,0])), np.array(weigths)[:,0], label='w0')\n",
        "plt.plot(range(len(np.array(weigths)[:,1])), np.array(weigths)[:,1], label='w1')\n",
        "plt.title('Weigths', fontSize=14)\n",
        "plt.xlabel('Epochs')\n",
        "plt.ylabel('w0, w1')\n",
        "plt.legend()\n",
        "\n",
        "plt.tight_layout()\n",
        "plt.show()\n",
        "\n",
        "learning.y_pred = w1*learning.x + w0\n",
        "learning.error = (learning.y - learning.y_pred)**2 \n",
        "\n",
        "print(learning.head())\n",
        "print(f'MSE = {learning.error.mean() :.2f}')\n",
        "print(f'w0 = {w0 :.2f} , w1 = {w1 :.2f}')\n"
      ],
      "execution_count": null,
      "outputs": [
        {
          "output_type": "display_data",
          "data": {
            "image/png": "[encoded data removed]",
            "text/plain": [
              "<Figure size 864x288 with 2 Axes>"
            ]
          },
          "metadata": {
            "tags": [],
            "needs_background": "light"
          }
        },
        {
          "output_type": "stream",
          "text": [
            "          x          y     y_pred     error\n",
            "0  1.559952   4.119903   4.139313  0.000377\n",
            "1  2.559952   6.119903   6.139023  0.000366\n",
            "2  3.559952   8.119903   8.138732  0.000355\n",
            "3  4.559952  10.119903  10.138442  0.000344\n",
            "4  5.559952  12.119903  12.138151  0.000333\n",
            "MSE = 0.00\n",
            "w0 = 1.02 , w1 = 2.00\n"
          ],
          "name": "stdout"
        }
      ]
    },
    {
      "cell_type": "markdown",
      "metadata": {
        "id": "XHMH1tSmWZmi"
      },
      "source": [
        "## Outros métodos\n",
        "\n",
        "Existem muitas outras técnicas de optimização que podem ser empregadas, como:\n",
        "\n",
        "* Momentum\n",
        "* Adagrad\n",
        "* RMSProp\n",
        "* Adam\n",
        "\n",
        "Que são métodos baseados na derivada de primeira ordem, e outros baseados em derivadas de segunda ordem e métodos para funções não diferenciáveis. Mas os métodos Adam, e as variantes do gradiente (estocástico, batch e mini-batch) são hoje os métodos mais comumente empregados para o aprendizado de redes neurais. Você pode achar útil consultar uma visão geral dessas técnicas.\n",
        "\n",
        "## Outras funções\n",
        "\n",
        "Acima aplicamos o método do gradiente para uma função bastante simples, linear. Quando consideramos uma rede de várias camadas a função é bastante mais complexa, e precisamos obter a derivada com relação ao peso em cada camada. Mas o princípio é o mesmo embora, seja fundamental termos um método eficiente para o cálculo dessas derivadas em particular em se tratando de redes neurais profundas.\n",
        "\n",
        "## Convergência\n",
        "\n",
        "Nossa função era bastante e simples como também a nossa função custo. Entretanto, problemas mais complexos, podem não ter a convergência do ajuste dos pesos garantida. Isto é, o resultado pode não convergir para um erro mínimo, ou mesmo pode *parar* em um mínimo local. Esse é um dos grandes problemas do aprendizado de redes neurais.\n",
        "\n"
      ]
    },
    {
      "cell_type": "markdown",
      "metadata": {
        "id": "hlJDeAY3OGTb"
      },
      "source": [
        "# Síntese\n",
        "\n",
        "Nesta trilha você pôde conhecer os principais conceitos dos modelos neurais. Ainda entramos nos modelos de redes profundas mas, tendo acompanhado a aqui a **evolução dos modelos neurais**, você deve ter entendido que temos um  caminho a percorrer desde de o modelo simples de um único **perceptron** até chegarmos às redes profundas. E é interessante você notar como a história desses conceitos evoluem, com momentos de grande entusiasmo e outros de inibição, além de sucessivas superações das dificuldades que vão surgindo. Hoje mesmo, diante do entusiasmo generalizado de uso das redes profundas e diversos campos, muitos pesquisadores se perguntam se já não estamos próximos de um novo eclipse.\n",
        "\n",
        "Além de acompanhar essa evolução, aprendemos aqui a estrutura do neurônio artifical, o **perceptron**. Ele é uma unidade simples e está bem longe do que é um neurônio biológico que opera com valores contínuos, diferenças de potencial, representação de informações no tempo etc. Podemos até mesmo dizer que o neurônio biológico serve mais como *inspiração* para os modelos neurais do que exatamente como um *modelo*. Embora simples, esse mesmo perceptron ainda é o modelo de neurônio artificial empregado nos principais *frameworks* de *Deep Learning*  \n",
        "\n",
        "Você também entendeu como podemos treinar um perceptron responder a problemas simples (**linearmente separáveis**) e que podemos combinar diversos desses elementos em camadas formando uma rede neural multicamada, **feed-forward** ou **MLP Multilayer Perceptron**. Entretanto, o aprendizado aqui exige técnicas mais elaboradas e você conheceu a técnica da **retropagação do erro**, ou **backpropagation**. E para compreendermos melhor esse mecanismo de aprendizado estudamos algoritmos de **descida do gradiente**, de modo simplificado aqui e em uma única camada, mas que permite entendermos o princípio dos **otimizadores** que desempenham um papel fundamental no aprendizado de quaisquer modelos neurais.\n",
        "\n",
        "\n",
        "\n"
      ]
    },
    {
      "cell_type": "markdown",
      "metadata": {
        "id": "NmG9yqIREr0w"
      },
      "source": [
        "## Para saber mais\n",
        "\n",
        "Acesse **The Neural Network Zoo** em https://www.asimovinstitute.org/neural-network-zoo/ e explore as diferentes diferentes arquiteturas de rede apresentadas.\n",
        "\n",
        "Acesse **Deep Learning 101 - Part 1: History and Background** em \n",
        "https://www.programmersought.com/article/54453361399/ e conheça um pouco de como evoluíram os modelos neurais.\n",
        "\n",
        "Acesse **Understanding the Mathematics behind Gradient Descent** em https://towardsdatascience.com/understanding-the-mathematics-behind-gradient-descent-dde5dc9be06e  e entenda um pouco mais da matemática por trás da técnica de gradientes. \n",
        "\n",
        "Além é claro de acessar https://playground.tensorflow.org/ e experimentar os modelos neurais."
      ]
    },
    {
      "cell_type": "markdown",
      "metadata": {
        "id": "h_6fwcVkCsLf"
      },
      "source": [
        "## Referências\n",
        "\n",
        "1. Ian Goodfellow and Yoshua Bengio and Aaron Courville, **Deep Learning**. MIT Press (2016). Also available online: http://www.deeplearningbook.org. \n",
        "\n",
        "1. ___. **Deep Learning 101 - Part 1: History and Background** Disponível em:\n",
        "https://www.programmersought.com/article/54453361399/ Acesso em: 21 de abril de 2021.\n",
        "\n",
        "2. ___. **A Concise History of Neural Networks**. Disponível em:\n",
        "https://towardsdatascience.com/a-concise-history-of-neural-networks-2070655d3fec#.alhfvwwl2 Acesso em: 21 de abril de 2021.\n",
        "\n",
        "3. ___. **Deep Learning Book**. Disponível em:https://www.deeplearningbook.com.br/ Acesso em: 21 de abril de 2021.\n",
        "\n",
        "4. ___. **UFLDL Deep Learning Tutorial**. Disponível em: http://ufldl.stanford.edu/tutorial/ Acesso em: 21 de abril de 2021.\n",
        "\n",
        "5. Nielsen, M. **Neural Networks and Deep Learning**. Disponível em: http://neuralnetworksanddeeplearning.com/ Acesso em: 21 de abril de 2021.\n",
        "\n",
        "6. Fridman, L. **MIT Deep Learning Basics: Introduction and Overview with TensorFlow**. Disponível em: https://blog.tensorflow.org/2019/02/mit-deep-learning-basics-introduction-tensorflow.html Acesso em: 21 de abril de 2021.\n",
        "\n",
        "7. Kelleher, J. D. **Deep Learning** (2018) The MIT Press.\n",
        "\n",
        "7. Skansi, S. **Introduction Deep Learning** (2018) Springer."
      ]
    }
  ]
}