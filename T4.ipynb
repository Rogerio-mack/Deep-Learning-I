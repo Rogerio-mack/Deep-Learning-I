{
  "nbformat": 4,
  "nbformat_minor": 0,
  "metadata": {
    "colab": {
      "name": "T4.ipynb",
      "provenance": [],
      "collapsed_sections": [],
      "include_colab_link": true
    },
    "kernelspec": {
      "display_name": "Python 3",
      "name": "python3"
    },
    "accelerator": "GPU"
  },
  "cells": [
    {
      "cell_type": "markdown",
      "metadata": {
        "id": "view-in-github",
        "colab_type": "text"
      },
      "source": [
        "<a href=\"https://colab.research.google.com/github/Rogerio-mack/Deep-Learning-I/blob/main/T4.ipynb\" target=\"_parent\"><img src=\"https://colab.research.google.com/assets/colab-badge.svg\" alt=\"Open In Colab\"/></a>"
      ]
    },
    {
      "cell_type": "markdown",
      "metadata": {
        "id": "eSaNGzOu-p45"
      },
      "source": [
        "<head>\n",
        "  <meta name=\"author\" content=\"Rogério de Oliveira\">\n",
        "  <meta institution=\"author\" content=\"Universidade Presbiteriana Mackenzie\">\n",
        "</head>\n",
        "\n",
        "<img src=\"http://meusite.mackenzie.br/rogerio/mackenzie_logo/UPM.2_horizontal_vermelho.jpg\" width=300, align=\"right\"> \n",
        "\n",
        "<h1 align=left><font size = 8, style=\"color:rgb(200,0,0)\"><b>Inteligência Artificial</b></font></h1> \n",
        "<h1 align=left><font size = 6, style=\"color:rgb(0,0,0)\"><b>Deep Learning</b></font></h1> \n",
        "\n",
        "# 4. Modelos Sequenciais e Classificação com TensorFlow\n",
        "Professor(a): Rogério de Oliveira\n",
        "\n",
        "<br>\n",
        "<br>\n",
        "\n",
        "---\n"
      ]
    },
    {
      "cell_type": "markdown",
      "metadata": {
        "id": "uFB0mL84ZWNf"
      },
      "source": [
        "# Introdução\n",
        "\n",
        "Nesta trilha você vai estudar os modelos sequenciais de deep learning para classificação. Os modelos sequenciais são redes em camadas, semelhante ao que vimos antes (redes feedforwad e o Modelo Multilayer Perceptron), que agora vamos implementar empregando o `TensorFlow` e o `Keras`. \n",
        "\n",
        "# `Keras TensorFlow`\n",
        "\n",
        "Você viu na trilha anterior que o `TensorFlow` (v2) é uma plataforma para programação diferenciável que combina habilidades de execução eficiente de operações sobre tensores em diversos dispositivos, o cálculo do gradiente de expressões diferenciáveis quaisquer e grafos e execução. O `Keras` é a API de alto nível do `TensorFlow 2`: uma interface mais acessível e bastante produtiva para resolver problemas de aprendizado profundo fornece abstrações a vários blocos de construção de modelos deep learning (transformações, camadas, treinamento etc.). O `Keras` funciona, assim, como um *wrapper* para a estrutura do `TensorFlow`. \n",
        "\n",
        "O comparativo abaixo ajuda a entender algumas das diferenças entre o  `TensorFlow`, o `Keras` e o `PyTorch` que estudaremos mais adiante. "
      ]
    },
    {
      "cell_type": "markdown",
      "metadata": {
        "id": "OL-PhutRaVku"
      },
      "source": [
        "|   |\tKeras\t| Pytorch\t| TensorFlow |\n",
        "|---|-------|---------|------------|\n",
        "| API Level |\tHigh\t|Low\t|High and Low|\n",
        "| Architecture\t|Simple, concise, readable|\tComplex, less readable\t|Not easy to use |\n",
        "| Datasets\t|Smaller datasets\t|Large datasets, high performance|\tLarge datasets, high performance |\n",
        "| Debugging\t|Simple network, so debugging is not often needed|\tGood debugging capabilities\t|Difficult to conduct debugging|\n",
        "| Does It Have Trained Models?\t|Yes\t|Yes|\tYes|\n",
        "| Popularity\t|Most popular\t|Third most popular\t|Second most popular|\n",
        "| Speed\t|Slow, low performance|\tFast, high-performance\t|Fast, high-performance| \n",
        "| Written In\t|Python\t|Lua\t|C++, CUDA, Python|"
      ]
    },
    {
      "cell_type": "markdown",
      "metadata": {
        "id": "YKpD3Q6_CkNL"
      },
      "source": [
        "Existem, desse modo, três maneiras de criar modelos de redes profundas com o  `Keras TensorFlow`:\n",
        "\n",
        "* O **Modelo Sequencial**, que define de modo direto camadas de neurônios organizadas em sequência, e está limitado a uma entrada e saída única da rede.\n",
        "\n",
        "* A **API Funcional**, que é uma API fácil de usar e com todos os recursos e que oferece suporte a arquiteturas de modelo arbitrárias. \n",
        "\n",
        "* O modelo de **Subclasse**, onde você pode implementar tudo do zero, por conta própria,, criando quaisquer novos modelos de rede aproveitando a infraestrutura de programação diferenciável do TensorFlow. \n",
        "\n",
        "O Modelo Sequencial é o mais simpes de usar e aqui vamos no deter principalmente nesse modelo. Mas é importante que você conheça as outras formas de programação do `Keras TensorFlow`. Boa parte do sucesso e popularidade do `TensorFlow` se deve a essas interfaces mais amigáveis que implementa. Outros  frameworks não implementam essas interfaces e será útil você conhecer a interface de Subclasses que é a única que você encontrará, por exemplo, no `Pytorch`.  A interface de Subclasses é a de mais baixo nível, mas é também a que fornece mais flexibilidade permitindo que você crie conexões arbitrárias entre os neurônios, funções de custo próprias etc. A API Funcional, em um nível intermediário é, em princípio, uma interface com o objetivo de atender a indústria."
      ]
    },
    {
      "cell_type": "markdown",
      "metadata": {
        "id": "dCtwaiaTtsgu"
      },
      "source": [
        "# Exemplo: Classificação `biopsy`\n",
        "\n",
        "Vamos empregar aqui um conhecido conjunto de dados para problemas de classificação, `biopsy`, para desenvolver aqui modelos de classificação dos tumores com o `Keras TensorFlow` empregando as 3 formas desenvolvimento de modelos que vimos acima.\n",
        "\n",
        "> *Este banco de dados de câncer de mama foi obtido dos Hospitais da Universidade de Wisconsin, em Madison, do Dr. William H. Wolberg. Ele avaliou biópsias de tumores de mama em 699 pacientes até 15 de julho de 1992; cada um dos nove atributos foi pontuado em uma escala de 1 a 10, e o resultado também é conhecido. Existem 699 linhas e 11 colunas.*\n",
        "\n"
      ]
    },
    {
      "cell_type": "markdown",
      "metadata": {
        "id": "QPgtH3MUvIaZ"
      },
      "source": [
        "## Explorando os Dados"
      ]
    },
    {
      "cell_type": "code",
      "metadata": {
        "colab": {
          "base_uri": "https://localhost:8080/",
          "height": 204
        },
        "id": "RVlJOK3uDjdE",
        "outputId": "bba02736-92c7-48cd-9481-0a312d2607ac"
      },
      "source": [
        "import pandas as pd\n",
        "from IPython.display import display\n",
        "\n",
        "df = pd.read_csv('https://vincentarelbundock.github.io/Rdatasets/csv/MASS/biopsy.csv', index_col=0)\n",
        "display(df.head())"
      ],
      "execution_count": null,
      "outputs": [
        {
          "output_type": "display_data",
          "data": {
            "text/html": [
              "<div>\n",
              "<style scoped>\n",
              "    .dataframe tbody tr th:only-of-type {\n",
              "        vertical-align: middle;\n",
              "    }\n",
              "\n",
              "    .dataframe tbody tr th {\n",
              "        vertical-align: top;\n",
              "    }\n",
              "\n",
              "    .dataframe thead th {\n",
              "        text-align: right;\n",
              "    }\n",
              "</style>\n",
              "<table border=\"1\" class=\"dataframe\">\n",
              "  <thead>\n",
              "    <tr style=\"text-align: right;\">\n",
              "      <th></th>\n",
              "      <th>ID</th>\n",
              "      <th>V1</th>\n",
              "      <th>V2</th>\n",
              "      <th>V3</th>\n",
              "      <th>V4</th>\n",
              "      <th>V5</th>\n",
              "      <th>V6</th>\n",
              "      <th>V7</th>\n",
              "      <th>V8</th>\n",
              "      <th>V9</th>\n",
              "      <th>class</th>\n",
              "    </tr>\n",
              "  </thead>\n",
              "  <tbody>\n",
              "    <tr>\n",
              "      <th>1</th>\n",
              "      <td>1000025</td>\n",
              "      <td>5</td>\n",
              "      <td>1</td>\n",
              "      <td>1</td>\n",
              "      <td>1</td>\n",
              "      <td>2</td>\n",
              "      <td>1.0</td>\n",
              "      <td>3</td>\n",
              "      <td>1</td>\n",
              "      <td>1</td>\n",
              "      <td>benign</td>\n",
              "    </tr>\n",
              "    <tr>\n",
              "      <th>2</th>\n",
              "      <td>1002945</td>\n",
              "      <td>5</td>\n",
              "      <td>4</td>\n",
              "      <td>4</td>\n",
              "      <td>5</td>\n",
              "      <td>7</td>\n",
              "      <td>10.0</td>\n",
              "      <td>3</td>\n",
              "      <td>2</td>\n",
              "      <td>1</td>\n",
              "      <td>benign</td>\n",
              "    </tr>\n",
              "    <tr>\n",
              "      <th>3</th>\n",
              "      <td>1015425</td>\n",
              "      <td>3</td>\n",
              "      <td>1</td>\n",
              "      <td>1</td>\n",
              "      <td>1</td>\n",
              "      <td>2</td>\n",
              "      <td>2.0</td>\n",
              "      <td>3</td>\n",
              "      <td>1</td>\n",
              "      <td>1</td>\n",
              "      <td>benign</td>\n",
              "    </tr>\n",
              "    <tr>\n",
              "      <th>4</th>\n",
              "      <td>1016277</td>\n",
              "      <td>6</td>\n",
              "      <td>8</td>\n",
              "      <td>8</td>\n",
              "      <td>1</td>\n",
              "      <td>3</td>\n",
              "      <td>4.0</td>\n",
              "      <td>3</td>\n",
              "      <td>7</td>\n",
              "      <td>1</td>\n",
              "      <td>benign</td>\n",
              "    </tr>\n",
              "    <tr>\n",
              "      <th>5</th>\n",
              "      <td>1017023</td>\n",
              "      <td>4</td>\n",
              "      <td>1</td>\n",
              "      <td>1</td>\n",
              "      <td>3</td>\n",
              "      <td>2</td>\n",
              "      <td>1.0</td>\n",
              "      <td>3</td>\n",
              "      <td>1</td>\n",
              "      <td>1</td>\n",
              "      <td>benign</td>\n",
              "    </tr>\n",
              "  </tbody>\n",
              "</table>\n",
              "</div>"
            ],
            "text/plain": [
              "        ID  V1  V2  V3  V4  V5    V6  V7  V8  V9   class\n",
              "1  1000025   5   1   1   1   2   1.0   3   1   1  benign\n",
              "2  1002945   5   4   4   5   7  10.0   3   2   1  benign\n",
              "3  1015425   3   1   1   1   2   2.0   3   1   1  benign\n",
              "4  1016277   6   8   8   1   3   4.0   3   7   1  benign\n",
              "5  1017023   4   1   1   3   2   1.0   3   1   1  benign"
            ]
          },
          "metadata": {
            "tags": []
          }
        }
      ]
    },
    {
      "cell_type": "markdown",
      "metadata": {
        "id": "Qdv3HhAGvVOH"
      },
      "source": [
        "O conjunto de dados classifica cada uma das instâncias como `benign` ou `malignant` e será nosso conjunto de treinamento para implementar um modelo neural em camadas de classificação dos tumores à exemplo de modelos MLP."
      ]
    },
    {
      "cell_type": "code",
      "metadata": {
        "colab": {
          "base_uri": "https://localhost:8080/"
        },
        "id": "m_GjE4EcFVtg",
        "outputId": "9b87c5c9-230d-4dac-a53c-5d7deec73196"
      },
      "source": [
        "df['class'].value_counts()"
      ],
      "execution_count": null,
      "outputs": [
        {
          "output_type": "execute_result",
          "data": {
            "text/plain": [
              "benign       458\n",
              "malignant    241\n",
              "Name: class, dtype: int64"
            ]
          },
          "metadata": {
            "tags": []
          },
          "execution_count": 2
        }
      ]
    },
    {
      "cell_type": "markdown",
      "metadata": {
        "id": "G1172fn5v4-l"
      },
      "source": [
        "## Preparando os Dados \n",
        "\n",
        "A coluna `ID` não faz sentido para o nosso modelo e será excluída dos dados de entrada. Como outros modelos, modelos de redes neurais não dão suporte a valores ausentes e optamos aqui arbitrariamente por imputar novos valores aos valores nulos. "
      ]
    },
    {
      "cell_type": "code",
      "metadata": {
        "colab": {
          "base_uri": "https://localhost:8080/"
        },
        "id": "cLs95dHvF0eV",
        "outputId": "ca78ae79-9405-4e2d-8a67-4c38896acf06"
      },
      "source": [
        "df = df.drop(columns='ID')\n",
        "print( df.isna().sum(), '\\n', 'total NA =' , df.isna().sum().sum() )\n",
        "df.V6 = df.V6.fillna( df.V6.mean() )\n",
        "print( '\\n', 'total NA =' , df.isna().sum().sum() )"
      ],
      "execution_count": null,
      "outputs": [
        {
          "output_type": "stream",
          "text": [
            "V1        0\n",
            "V2        0\n",
            "V3        0\n",
            "V4        0\n",
            "V5        0\n",
            "V6       16\n",
            "V7        0\n",
            "V8        0\n",
            "V9        0\n",
            "class     0\n",
            "dtype: int64 \n",
            " total NA = 16\n",
            "\n",
            " total NA = 0\n"
          ],
          "name": "stdout"
        }
      ]
    },
    {
      "cell_type": "markdown",
      "metadata": {
        "id": "RnR3oNz0w2-W"
      },
      "source": [
        "O `TensorFlow` requer entradas de dados unicamente numéricas e, portanto, faremos o encode do atributo classe."
      ]
    },
    {
      "cell_type": "code",
      "metadata": {
        "id": "MGdfFPtgNA15"
      },
      "source": [
        "df['class'] = df['class'].map({'benign': 0, 'malignant': 1})\n",
        "\n",
        "X = df.drop('class', axis=1)\n",
        "y = df[['class']]"
      ],
      "execution_count": null,
      "outputs": []
    },
    {
      "cell_type": "markdown",
      "metadata": {
        "id": "soIrpD4AxDgO"
      },
      "source": [
        "Aqui, como faremos uma classificação binária, podemos empregar a codificação acima. Mas o mais comum, para problemas de classificação multiclasse, será o hot encode da classe.\n",
        "\n",
        "Definidos e tratados os dados de entrada `X` e saída `y` do nosso conjunto de exemplos, podemos então separar os conjuntos de treinamento e teste. "
      ]
    },
    {
      "cell_type": "code",
      "metadata": {
        "id": "SHVn7Y9bLT4J"
      },
      "source": [
        "from sklearn.model_selection import train_test_split\n",
        "\n",
        "X_train, X_test, y_train, y_test = train_test_split(X, y, test_size=0.3, random_state=123)"
      ],
      "execution_count": null,
      "outputs": []
    },
    {
      "cell_type": "code",
      "metadata": {
        "colab": {
          "base_uri": "https://localhost:8080/",
          "height": 391
        },
        "id": "pZlKOH7XDaC9",
        "outputId": "f91c78c2-3b22-4632-87db-0b3fd5e60748"
      },
      "source": [
        "display(X_train.head())\n",
        "display(y_train.head())"
      ],
      "execution_count": null,
      "outputs": [
        {
          "output_type": "display_data",
          "data": {
            "text/html": [
              "<div>\n",
              "<style scoped>\n",
              "    .dataframe tbody tr th:only-of-type {\n",
              "        vertical-align: middle;\n",
              "    }\n",
              "\n",
              "    .dataframe tbody tr th {\n",
              "        vertical-align: top;\n",
              "    }\n",
              "\n",
              "    .dataframe thead th {\n",
              "        text-align: right;\n",
              "    }\n",
              "</style>\n",
              "<table border=\"1\" class=\"dataframe\">\n",
              "  <thead>\n",
              "    <tr style=\"text-align: right;\">\n",
              "      <th></th>\n",
              "      <th>V1</th>\n",
              "      <th>V2</th>\n",
              "      <th>V3</th>\n",
              "      <th>V4</th>\n",
              "      <th>V5</th>\n",
              "      <th>V6</th>\n",
              "      <th>V7</th>\n",
              "      <th>V8</th>\n",
              "      <th>V9</th>\n",
              "    </tr>\n",
              "  </thead>\n",
              "  <tbody>\n",
              "    <tr>\n",
              "      <th>35</th>\n",
              "      <td>3</td>\n",
              "      <td>1</td>\n",
              "      <td>2</td>\n",
              "      <td>1</td>\n",
              "      <td>2</td>\n",
              "      <td>1.0</td>\n",
              "      <td>2</td>\n",
              "      <td>1</td>\n",
              "      <td>1</td>\n",
              "    </tr>\n",
              "    <tr>\n",
              "      <th>34</th>\n",
              "      <td>2</td>\n",
              "      <td>1</td>\n",
              "      <td>1</td>\n",
              "      <td>2</td>\n",
              "      <td>2</td>\n",
              "      <td>1.0</td>\n",
              "      <td>3</td>\n",
              "      <td>1</td>\n",
              "      <td>1</td>\n",
              "    </tr>\n",
              "    <tr>\n",
              "      <th>286</th>\n",
              "      <td>8</td>\n",
              "      <td>10</td>\n",
              "      <td>10</td>\n",
              "      <td>10</td>\n",
              "      <td>8</td>\n",
              "      <td>10.0</td>\n",
              "      <td>10</td>\n",
              "      <td>7</td>\n",
              "      <td>3</td>\n",
              "    </tr>\n",
              "    <tr>\n",
              "      <th>454</th>\n",
              "      <td>4</td>\n",
              "      <td>5</td>\n",
              "      <td>5</td>\n",
              "      <td>8</td>\n",
              "      <td>6</td>\n",
              "      <td>10.0</td>\n",
              "      <td>10</td>\n",
              "      <td>7</td>\n",
              "      <td>1</td>\n",
              "    </tr>\n",
              "    <tr>\n",
              "      <th>296</th>\n",
              "      <td>5</td>\n",
              "      <td>5</td>\n",
              "      <td>7</td>\n",
              "      <td>8</td>\n",
              "      <td>6</td>\n",
              "      <td>10.0</td>\n",
              "      <td>7</td>\n",
              "      <td>4</td>\n",
              "      <td>1</td>\n",
              "    </tr>\n",
              "  </tbody>\n",
              "</table>\n",
              "</div>"
            ],
            "text/plain": [
              "     V1  V2  V3  V4  V5    V6  V7  V8  V9\n",
              "35    3   1   2   1   2   1.0   2   1   1\n",
              "34    2   1   1   2   2   1.0   3   1   1\n",
              "286   8  10  10  10   8  10.0  10   7   3\n",
              "454   4   5   5   8   6  10.0  10   7   1\n",
              "296   5   5   7   8   6  10.0   7   4   1"
            ]
          },
          "metadata": {
            "tags": []
          }
        },
        {
          "output_type": "display_data",
          "data": {
            "text/html": [
              "<div>\n",
              "<style scoped>\n",
              "    .dataframe tbody tr th:only-of-type {\n",
              "        vertical-align: middle;\n",
              "    }\n",
              "\n",
              "    .dataframe tbody tr th {\n",
              "        vertical-align: top;\n",
              "    }\n",
              "\n",
              "    .dataframe thead th {\n",
              "        text-align: right;\n",
              "    }\n",
              "</style>\n",
              "<table border=\"1\" class=\"dataframe\">\n",
              "  <thead>\n",
              "    <tr style=\"text-align: right;\">\n",
              "      <th></th>\n",
              "      <th>class</th>\n",
              "    </tr>\n",
              "  </thead>\n",
              "  <tbody>\n",
              "    <tr>\n",
              "      <th>35</th>\n",
              "      <td>0</td>\n",
              "    </tr>\n",
              "    <tr>\n",
              "      <th>34</th>\n",
              "      <td>0</td>\n",
              "    </tr>\n",
              "    <tr>\n",
              "      <th>286</th>\n",
              "      <td>1</td>\n",
              "    </tr>\n",
              "    <tr>\n",
              "      <th>454</th>\n",
              "      <td>1</td>\n",
              "    </tr>\n",
              "    <tr>\n",
              "      <th>296</th>\n",
              "      <td>1</td>\n",
              "    </tr>\n",
              "  </tbody>\n",
              "</table>\n",
              "</div>"
            ],
            "text/plain": [
              "     class\n",
              "35       0\n",
              "34       0\n",
              "286      1\n",
              "454      1\n",
              "296      1"
            ]
          },
          "metadata": {
            "tags": []
          }
        }
      ]
    },
    {
      "cell_type": "markdown",
      "metadata": {
        "id": "V19yhFegYuoJ"
      },
      "source": [
        "## Modelo Sequencial\n",
        "\n",
        "Estamos com os dados prontos agora para criar modelos neurais. Vamos começar pela solução mais simples que é empregar o Modelo Sequencial do `Keras TensorFlow`. Não discutimos aqui todos os parâmetros de cada função e você pode consultar a documentação do `Keras` e do `TensorFlow` para saber mais sobre essas funções. Mas vamos apresentar e discutir os principais pontos para fazer o aprendizado de classificação do nosso conjunto de dados `biopsy` e aprender, assim, como criar modelos com sequenciais de modo geral."
      ]
    },
    {
      "cell_type": "markdown",
      "metadata": {
        "id": "Y0PvkdhaaJpe"
      },
      "source": [
        "### Imports\n",
        "\n",
        "O `import tensorflow as tf` pode muitas vezes não ser necessário quando empregamos a interface de alto nível do Modelo Sequencial. Mas empregaremos ele mais adiante e, por isso, incluímos aqui."
      ]
    },
    {
      "cell_type": "code",
      "metadata": {
        "id": "mJbdVW0uaHWx"
      },
      "source": [
        "from tensorflow import keras\n",
        "from tensorflow.keras import layers\n",
        "import tensorflow as tf"
      ],
      "execution_count": null,
      "outputs": []
    },
    {
      "cell_type": "markdown",
      "metadata": {
        "id": "LYb0Uh6TauGK"
      },
      "source": [
        "### Declarando as Camadas\n",
        "\n",
        "As camadas são definidas são adicionadas ao Modelo Sequencial incluindo-se `layers` que são adicionados na mesma sequencia em que aparecem."
      ]
    },
    {
      "cell_type": "code",
      "metadata": {
        "id": "upv0i2JbHwaW"
      },
      "source": [
        "model = keras.Sequential([\n",
        "    layers.Dense(8, activation='sigmoid', input_shape=[9]),\n",
        "    layers.Dense(1, activation='sigmoid'),\n",
        "])"
      ],
      "execution_count": null,
      "outputs": []
    },
    {
      "cell_type": "markdown",
      "metadata": {
        "id": "MPzp-DSabQRH"
      },
      "source": [
        "Além de neurônios do tipo Perceptron, existem camadas de vários tipos de *neurônios* como camadas de convolução (`layers.Conv1D`, `layers.Conv2D`) ou de transformação, como levar dados de uma matriz 2D para um vetor 1D (`layers.Flatten`) muito empregados em redes profundas. As camadas `Dense` correspondem às camadas que já conhecemos de neurônios de redes MLP. Nessa camada você pode configurar o número de neurônios (`units`), a função de ativação, entre outros parâmetros. A primeira camada deve incluir o tamanho da entrada dos dados, isto é o número de atributos de entrada. No nosso caso são 9 atributos, e poderíamos igualmente ter empregado `X_train.shape[1]`.\n",
        "\n",
        "Da segunda camada em diante você não precisa especificar o tamanho da entrada. O modelo assumirá que as entradas correspondem às saídas da camada anterior. É por isso que esse modelo não permite alterar a estrutura da rede incluindo outras entradas ou produzindo outras saídas da rede. \n",
        "\n",
        "Para classificicação binária e modelos de regressão podemos ter um único neurônio de saída. Para modelos multiclasse emprega-se um neurônio para cada classe de dados na saída. As demais camadas, entre a camada de entrada e saída, são arbitrárias.\n"
      ]
    },
    {
      "cell_type": "code",
      "metadata": {
        "colab": {
          "base_uri": "https://localhost:8080/"
        },
        "id": "p0mJZuMZNczr",
        "outputId": "dd0acd10-04f7-4653-b2bb-c97f97457584"
      },
      "source": [
        "model.summary()"
      ],
      "execution_count": null,
      "outputs": [
        {
          "output_type": "stream",
          "text": [
            "Model: \"sequential\"\n",
            "_________________________________________________________________\n",
            "Layer (type)                 Output Shape              Param #   \n",
            "=================================================================\n",
            "dense (Dense)                (None, 8)                 80        \n",
            "_________________________________________________________________\n",
            "dense_1 (Dense)              (None, 1)                 9         \n",
            "=================================================================\n",
            "Total params: 89\n",
            "Trainable params: 89\n",
            "Non-trainable params: 0\n",
            "_________________________________________________________________\n"
          ],
          "name": "stdout"
        }
      ]
    },
    {
      "cell_type": "markdown",
      "metadata": {
        "id": "b2nFIOzOeBc_"
      },
      "source": [
        "O método `summary` fornece então o modelo construído. Note que existem $80 = 8 \\times 10$ parâmetros, ou pesos, na primeira cada. Lembre-se, é uma combinação linear e há um peso para cada atributo e mais um parâmetro independente. \n",
        "\n",
        "O método `.add` pode ser empregado para adicionar camadas ao final do modelo e os comandos abaixo produzem o mesmo modelo construído anteriormente."
      ]
    },
    {
      "cell_type": "code",
      "metadata": {
        "colab": {
          "base_uri": "https://localhost:8080/"
        },
        "id": "Kdj05mzJd_5a",
        "outputId": "868c6524-7b4c-4007-acbd-a4ed26b2080f"
      },
      "source": [
        "model = keras.Sequential(layers.Dense(8, activation='sigmoid', input_shape=[9]))\n",
        "model.add(layers.Dense(1, activation='sigmoid'))\n",
        "\n",
        "model.summary()"
      ],
      "execution_count": null,
      "outputs": [
        {
          "output_type": "stream",
          "text": [
            "Model: \"sequential_1\"\n",
            "_________________________________________________________________\n",
            "Layer (type)                 Output Shape              Param #   \n",
            "=================================================================\n",
            "dense_2 (Dense)              (None, 8)                 80        \n",
            "_________________________________________________________________\n",
            "dense_3 (Dense)              (None, 1)                 9         \n",
            "=================================================================\n",
            "Total params: 89\n",
            "Trainable params: 89\n",
            "Non-trainable params: 0\n",
            "_________________________________________________________________\n"
          ],
          "name": "stdout"
        }
      ]
    },
    {
      "cell_type": "markdown",
      "metadata": {
        "id": "N7QpnjF4g_x5"
      },
      "source": [
        "### Compilando o Modelo\n",
        "\n",
        "O método `compile` permite definir vários parâmetros do modelo como o otimizador a ser empregado e a função custo que será otimizada. \n",
        "\n",
        "Abaixo empregamos o otimizador padrão (`rmsprop`). Como função custo empregamos a Entropia Cruzada ou *Cross Entropy*, uma métrica bastante empregada como função custo para problemas de classificação. Essa é uma medida bastante mais elaborada que a acuracidade que não detalharemos aqui e você pode consultar as referências ao final deste capítulo para saber mais sobre *Cross Entropy*. O parâmetro `metrics` permite ainda indicar métricas que desejamos produzir e salvar durante o treinamento do modelo e selecionamos aqui a acuracidade. "
      ]
    },
    {
      "cell_type": "code",
      "metadata": {
        "id": "w2HpmsH3H9e-"
      },
      "source": [
        "model.compile(\n",
        "    loss='binary_crossentropy',\n",
        "    metrics=['binary_accuracy'],\n",
        ")"
      ],
      "execution_count": null,
      "outputs": []
    },
    {
      "cell_type": "markdown",
      "metadata": {
        "id": "-3nlr2finPgS"
      },
      "source": [
        "### Treinando o Modelo\n",
        "\n",
        "Diversos parâmetros podem ter empregados para o treinamento do modelo. O método `.fit` recebe o conjunto de treinamento com suas entradas e saídas que podem estar no formato de `DataFrame` ou `Series` dados, como também em matrizes `Numpy` ou tensores. O `Keras` se encarrega de fazer a transformação desses dados para tensores e você, neste caso, não precisa se preocupar com isso. \n",
        "\n",
        "O pârametro `validation_split` é empregado para definir o percentual dos dados que será empregado como conjunto de validação ao longo do treinamento que será realizado em $n$ `epochs`. "
      ]
    },
    {
      "cell_type": "code",
      "metadata": {
        "colab": {
          "base_uri": "https://localhost:8080/"
        },
        "id": "8iIp7JWzIBWd",
        "outputId": "2b5265ec-7f4b-4e66-f486-8df0b63bc61e"
      },
      "source": [
        "history = model.fit(\n",
        "    X_train, y_train,\n",
        "    batch_size=32,\n",
        "    validation_split=0.3,\n",
        "    epochs=20,\n",
        "    verbose=1,  \n",
        ")"
      ],
      "execution_count": null,
      "outputs": [
        {
          "output_type": "stream",
          "text": [
            "Epoch 1/20\n",
            "11/11 [==============================] - 1s 23ms/step - loss: 0.8633 - binary_accuracy: 0.3129 - val_loss: 0.7833 - val_binary_accuracy: 0.3810\n",
            "Epoch 2/20\n",
            "11/11 [==============================] - 0s 5ms/step - loss: 0.8093 - binary_accuracy: 0.3216 - val_loss: 0.7473 - val_binary_accuracy: 0.4150\n",
            "Epoch 3/20\n",
            "11/11 [==============================] - 0s 4ms/step - loss: 0.7696 - binary_accuracy: 0.3216 - val_loss: 0.7172 - val_binary_accuracy: 0.4218\n",
            "Epoch 4/20\n",
            "11/11 [==============================] - 0s 5ms/step - loss: 0.7347 - binary_accuracy: 0.3304 - val_loss: 0.6901 - val_binary_accuracy: 0.4422\n",
            "Epoch 5/20\n",
            "11/11 [==============================] - 0s 4ms/step - loss: 0.7031 - binary_accuracy: 0.3684 - val_loss: 0.6659 - val_binary_accuracy: 0.5306\n",
            "Epoch 6/20\n",
            "11/11 [==============================] - 0s 4ms/step - loss: 0.6741 - binary_accuracy: 0.5292 - val_loss: 0.6436 - val_binary_accuracy: 0.7347\n",
            "Epoch 7/20\n",
            "11/11 [==============================] - 0s 4ms/step - loss: 0.6477 - binary_accuracy: 0.7778 - val_loss: 0.6241 - val_binary_accuracy: 0.7891\n",
            "Epoch 8/20\n",
            "11/11 [==============================] - 0s 5ms/step - loss: 0.6242 - binary_accuracy: 0.8480 - val_loss: 0.6066 - val_binary_accuracy: 0.8503\n",
            "Epoch 9/20\n",
            "11/11 [==============================] - 0s 5ms/step - loss: 0.6032 - binary_accuracy: 0.8567 - val_loss: 0.5913 - val_binary_accuracy: 0.8299\n",
            "Epoch 10/20\n",
            "11/11 [==============================] - 0s 4ms/step - loss: 0.5842 - binary_accuracy: 0.8509 - val_loss: 0.5780 - val_binary_accuracy: 0.7891\n",
            "Epoch 11/20\n",
            "11/11 [==============================] - 0s 4ms/step - loss: 0.5681 - binary_accuracy: 0.8216 - val_loss: 0.5675 - val_binary_accuracy: 0.7823\n",
            "Epoch 12/20\n",
            "11/11 [==============================] - 0s 4ms/step - loss: 0.5549 - binary_accuracy: 0.8216 - val_loss: 0.5591 - val_binary_accuracy: 0.7619\n",
            "Epoch 13/20\n",
            "11/11 [==============================] - 0s 4ms/step - loss: 0.5440 - binary_accuracy: 0.8099 - val_loss: 0.5518 - val_binary_accuracy: 0.7551\n",
            "Epoch 14/20\n",
            "11/11 [==============================] - 0s 6ms/step - loss: 0.5342 - binary_accuracy: 0.7895 - val_loss: 0.5450 - val_binary_accuracy: 0.7483\n",
            "Epoch 15/20\n",
            "11/11 [==============================] - 0s 4ms/step - loss: 0.5254 - binary_accuracy: 0.7982 - val_loss: 0.5391 - val_binary_accuracy: 0.7415\n",
            "Epoch 16/20\n",
            "11/11 [==============================] - 0s 5ms/step - loss: 0.5176 - binary_accuracy: 0.7778 - val_loss: 0.5329 - val_binary_accuracy: 0.7415\n",
            "Epoch 17/20\n",
            "11/11 [==============================] - 0s 4ms/step - loss: 0.5106 - binary_accuracy: 0.7749 - val_loss: 0.5275 - val_binary_accuracy: 0.7415\n",
            "Epoch 18/20\n",
            "11/11 [==============================] - 0s 5ms/step - loss: 0.5039 - binary_accuracy: 0.7807 - val_loss: 0.5225 - val_binary_accuracy: 0.7415\n",
            "Epoch 19/20\n",
            "11/11 [==============================] - 0s 4ms/step - loss: 0.4975 - binary_accuracy: 0.7778 - val_loss: 0.5165 - val_binary_accuracy: 0.7415\n",
            "Epoch 20/20\n",
            "11/11 [==============================] - 0s 4ms/step - loss: 0.4913 - binary_accuracy: 0.7778 - val_loss: 0.5109 - val_binary_accuracy: 0.7551\n"
          ],
          "name": "stdout"
        }
      ]
    },
    {
      "cell_type": "markdown",
      "metadata": {
        "id": "moKb2yd6sa3K"
      },
      "source": [
        "Aqui o parâmetro `batch_size` está com o valor padrão. Ele é o número de amostras que serão feitas por atualização de gradiente. Se não for especificado, o padrão será 32 e esse parâmetro pode ter um efeito muito grande sobre o desempenho e tempo do treinamento da rede. Indique 0 no `verbose` para inibir a saída para treinamentos longos.\n",
        "\n"
      ]
    },
    {
      "cell_type": "markdown",
      "metadata": {
        "id": "n6NLkFI_toCS"
      },
      "source": [
        "### Reprodutibilidade\n",
        "\n",
        "A reprodutibilidade no caso do `Keras TensorFlow`, sendo uma API e de alto nível é bastante difícil de ser alcançada e você pode ver o grande número de fóruns sobre isso na internet. Você pode testar e estratégias de *setar* do `Python`, do `Numpy` e mesmo do backend do `TensorFlow` não terão resultado aqui. Os modelos de redes profundas são naturalmente estocásticos e o fato de termos processos em paralelo (mesmo em CPUs) e ainda em GPUs dificulta ainda mais isso. Não vamos, portanto, nos preocupar com isso aqui. Os resultados do treinamento acima, portanto, devem diferir do que apresentamos aqui se você executá-los. "
      ]
    },
    {
      "cell_type": "markdown",
      "metadata": {
        "id": "RIomR9Y-vC5D"
      },
      "source": [
        "### Curva de Apredizado\n",
        "\n",
        "Você deve ter notado que fizemos uma atribuição do método `fit` para uma variável `history` acima. Isso é opcional. Se fizer, o histórico do treinamento com os valores da função de perda e das métricas selecionadas na compilação do modelo serão armazenadas a cada passo do treinamento. Podemos então construir um `DataFrame` a partir desses dados e exibir a curva de aprendizado. Essa curva fornece um instrumento muito útil para a análise do treinamento da rede e o ajuste de seus hiperparâmetros. "
      ]
    },
    {
      "cell_type": "code",
      "metadata": {
        "id": "GilxZL8fQ5kU"
      },
      "source": [
        "def display_hist(history):\n",
        "  history_df = pd.DataFrame(history.history)\n",
        "  display(history_df.head())\n",
        "  # Start the plot at epoch 0\n",
        "  history_df.loc[0:, ['loss', 'val_loss']].plot()\n",
        "  history_df.loc[0:, ['binary_accuracy', 'val_binary_accuracy']].plot()\n",
        "\n",
        "  print((\"Best Validation Loss: {:0.4f}\" +\\\n",
        "      \"\\nBest Validation Accuracy: {:0.4f}\")\\\n",
        "      .format(history_df['val_loss'].min(), \n",
        "              history_df['val_binary_accuracy'].max()))\n",
        "  return\n",
        "\n",
        "  "
      ],
      "execution_count": null,
      "outputs": []
    },
    {
      "cell_type": "code",
      "metadata": {
        "colab": {
          "base_uri": "https://localhost:8080/",
          "height": 734
        },
        "id": "DP03W_cuo1WX",
        "outputId": "7e0363f4-dea6-4219-96d6-89c689c43278"
      },
      "source": [
        "display_hist(history)  "
      ],
      "execution_count": null,
      "outputs": [
        {
          "output_type": "display_data",
          "data": {
            "text/html": [
              "<div>\n",
              "<style scoped>\n",
              "    .dataframe tbody tr th:only-of-type {\n",
              "        vertical-align: middle;\n",
              "    }\n",
              "\n",
              "    .dataframe tbody tr th {\n",
              "        vertical-align: top;\n",
              "    }\n",
              "\n",
              "    .dataframe thead th {\n",
              "        text-align: right;\n",
              "    }\n",
              "</style>\n",
              "<table border=\"1\" class=\"dataframe\">\n",
              "  <thead>\n",
              "    <tr style=\"text-align: right;\">\n",
              "      <th></th>\n",
              "      <th>loss</th>\n",
              "      <th>binary_accuracy</th>\n",
              "      <th>val_loss</th>\n",
              "      <th>val_binary_accuracy</th>\n",
              "    </tr>\n",
              "  </thead>\n",
              "  <tbody>\n",
              "    <tr>\n",
              "      <th>0</th>\n",
              "      <td>0.863288</td>\n",
              "      <td>0.312865</td>\n",
              "      <td>0.783349</td>\n",
              "      <td>0.380952</td>\n",
              "    </tr>\n",
              "    <tr>\n",
              "      <th>1</th>\n",
              "      <td>0.809289</td>\n",
              "      <td>0.321637</td>\n",
              "      <td>0.747279</td>\n",
              "      <td>0.414966</td>\n",
              "    </tr>\n",
              "    <tr>\n",
              "      <th>2</th>\n",
              "      <td>0.769562</td>\n",
              "      <td>0.321637</td>\n",
              "      <td>0.717152</td>\n",
              "      <td>0.421769</td>\n",
              "    </tr>\n",
              "    <tr>\n",
              "      <th>3</th>\n",
              "      <td>0.734709</td>\n",
              "      <td>0.330409</td>\n",
              "      <td>0.690147</td>\n",
              "      <td>0.442177</td>\n",
              "    </tr>\n",
              "    <tr>\n",
              "      <th>4</th>\n",
              "      <td>0.703115</td>\n",
              "      <td>0.368421</td>\n",
              "      <td>0.665934</td>\n",
              "      <td>0.530612</td>\n",
              "    </tr>\n",
              "  </tbody>\n",
              "</table>\n",
              "</div>"
            ],
            "text/plain": [
              "       loss  binary_accuracy  val_loss  val_binary_accuracy\n",
              "0  0.863288         0.312865  0.783349             0.380952\n",
              "1  0.809289         0.321637  0.747279             0.414966\n",
              "2  0.769562         0.321637  0.717152             0.421769\n",
              "3  0.734709         0.330409  0.690147             0.442177\n",
              "4  0.703115         0.368421  0.665934             0.530612"
            ]
          },
          "metadata": {
            "tags": []
          }
        },
        {
          "output_type": "stream",
          "text": [
            "Best Validation Loss: 0.5109\n",
            "Best Validation Accuracy: 0.8503\n"
          ],
          "name": "stdout"
        },
        {
          "output_type": "display_data",
          "data": {
            "image/png": "[encoded data removed]",
            "text/plain": [
              "<Figure size 432x288 with 1 Axes>"
            ]
          },
          "metadata": {
            "tags": [],
            "needs_background": "light"
          }
        },
        {
          "output_type": "display_data",
          "data": {
            "image/png": "[encoded data removed]",
            "text/plain": [
              "<Figure size 432x288 with 1 Axes>"
            ]
          },
          "metadata": {
            "tags": [],
            "needs_background": "light"
          }
        }
      ]
    },
    {
      "cell_type": "markdown",
      "metadata": {
        "id": "rc9yGkZzwD-Q"
      },
      "source": [
        "### Resultados\n",
        "\n",
        "Podemos então avaliar os resultados do nosso modelo fazendo a predição do conjunto de teste selecionado anteriormente. \n",
        "\n",
        "Aqui podemos empregar as métricas usuais do `Scikit-Learn`. A predição, tendo um único neurônio de saída com a função sigmóide (ou logística) devolve um único valor entre $[0, 1]$ e podemos entender esse valor como a chance de ser a classe `1`."
      ]
    },
    {
      "cell_type": "code",
      "metadata": {
        "id": "JsWWHhtHnqAe"
      },
      "source": [
        "from sklearn.metrics import confusion_matrix, classification_report, accuracy_score\n",
        "def print_results(y_test, y_pred):\n",
        "  print('Matriz de Confusão: \\n' , confusion_matrix(y_test, y_pred))\n",
        "  print(classification_report(y_test, y_pred))\n",
        "  print('Acuracidade: ' , accuracy_score(y_test, y_pred))\n",
        "  return"
      ],
      "execution_count": null,
      "outputs": []
    },
    {
      "cell_type": "code",
      "metadata": {
        "colab": {
          "base_uri": "https://localhost:8080/"
        },
        "id": "z_0jZ0MBJ-4t",
        "outputId": "576c6ddf-e783-4b06-b85c-e7253f20c49e"
      },
      "source": [
        "y_pred = model.predict(X_test) > 0.5\n",
        "\n",
        "print_results(y_test, y_pred)\n"
      ],
      "execution_count": null,
      "outputs": [
        {
          "output_type": "stream",
          "text": [
            "Matriz de Confusão: \n",
            " [[130   1]\n",
            " [ 53  26]]\n",
            "              precision    recall  f1-score   support\n",
            "\n",
            "           0       0.71      0.99      0.83       131\n",
            "           1       0.96      0.33      0.49        79\n",
            "\n",
            "    accuracy                           0.74       210\n",
            "   macro avg       0.84      0.66      0.66       210\n",
            "weighted avg       0.81      0.74      0.70       210\n",
            "\n",
            "Acuracidade:  0.7428571428571429\n"
          ],
          "name": "stdout"
        }
      ]
    },
    {
      "cell_type": "markdown",
      "metadata": {
        "id": "ZRXaWedTPdQg"
      },
      "source": [
        "## Functional API \n",
        "\n",
        "O outro modo que temos é desenvolve o modelo no modo da API Funcional do `Keras TensorFlow`. \n",
        "\n",
        "Aqui você pode definir explicitamente para cada camada as entradas e direcionar as saídas de cada uma delas. Isso permite você criar modelos não sequenciais (veja referências no final do capítulo para alguns exemplos). \n",
        "\n",
        "O modelo abaixo é o mesmo que construímos antes, mas empregado a API Funcional do `Keras`. \n"
      ]
    },
    {
      "cell_type": "code",
      "metadata": {
        "colab": {
          "base_uri": "https://localhost:8080/"
        },
        "id": "TUVhqFvoPdQq",
        "outputId": "3d7f2583-f55f-4cd2-d2cf-8a86496bc5a1"
      },
      "source": [
        "from tensorflow.keras.models import Model\n",
        "from tensorflow.keras.layers import Input, Dense\n",
        "\n",
        "inputs = Input(shape=(9,)) # Retorna um tensor\n",
        "\n",
        "out1 = Dense(8, activation='sigmoid')(inputs)\n",
        "out2 = Dense(1, activation='sigmoid')(out1)\n",
        "\n",
        "model = Model(inputs=inputs, outputs=out2)\n",
        "model.summary()"
      ],
      "execution_count": null,
      "outputs": [
        {
          "output_type": "stream",
          "text": [
            "Model: \"model\"\n",
            "_________________________________________________________________\n",
            "Layer (type)                 Output Shape              Param #   \n",
            "=================================================================\n",
            "input_1 (InputLayer)         [(None, 9)]               0         \n",
            "_________________________________________________________________\n",
            "dense_4 (Dense)              (None, 8)                 80        \n",
            "_________________________________________________________________\n",
            "dense_5 (Dense)              (None, 1)                 9         \n",
            "=================================================================\n",
            "Total params: 89\n",
            "Trainable params: 89\n",
            "Non-trainable params: 0\n",
            "_________________________________________________________________\n"
          ],
          "name": "stdout"
        }
      ]
    },
    {
      "cell_type": "markdown",
      "metadata": {
        "id": "lJZpJu_3z06E"
      },
      "source": [
        "A compilação e treinamento do modelo podem seguir, então, do mesmo modo que no modelo anterior."
      ]
    },
    {
      "cell_type": "code",
      "metadata": {
        "id": "X0VPgRhsPdQq"
      },
      "source": [
        "model.compile(\n",
        "    loss='binary_crossentropy',\n",
        "    metrics=['binary_accuracy'],\n",
        ")\n"
      ],
      "execution_count": null,
      "outputs": []
    },
    {
      "cell_type": "code",
      "metadata": {
        "colab": {
          "base_uri": "https://localhost:8080/"
        },
        "id": "KGbE9yM9PdQr",
        "outputId": "e6be65e2-e64a-49d9-9687-a0c5f592d7cc"
      },
      "source": [
        "history = model.fit(\n",
        "    X_train, y_train,\n",
        "    batch_size=1,\n",
        "    validation_split=0.3,\n",
        "    epochs=20,\n",
        "    verbose=1, \n",
        ")"
      ],
      "execution_count": null,
      "outputs": [
        {
          "output_type": "stream",
          "text": [
            "Epoch 1/20\n",
            "342/342 [==============================] - 1s 2ms/step - loss: 0.6427 - binary_accuracy: 0.6462 - val_loss: 0.5976 - val_binary_accuracy: 0.6327\n",
            "Epoch 2/20\n",
            "342/342 [==============================] - 0s 1ms/step - loss: 0.5481 - binary_accuracy: 0.6842 - val_loss: 0.5538 - val_binary_accuracy: 0.6259\n",
            "Epoch 3/20\n",
            "342/342 [==============================] - 0s 1ms/step - loss: 0.4945 - binary_accuracy: 0.6871 - val_loss: 0.5111 - val_binary_accuracy: 0.6259\n",
            "Epoch 4/20\n",
            "342/342 [==============================] - 1s 2ms/step - loss: 0.4466 - binary_accuracy: 0.7339 - val_loss: 0.4581 - val_binary_accuracy: 0.7551\n",
            "Epoch 5/20\n",
            "342/342 [==============================] - 0s 1ms/step - loss: 0.3949 - binary_accuracy: 0.8450 - val_loss: 0.4152 - val_binary_accuracy: 0.8095\n",
            "Epoch 6/20\n",
            "342/342 [==============================] - 0s 1ms/step - loss: 0.3475 - binary_accuracy: 0.8918 - val_loss: 0.3779 - val_binary_accuracy: 0.8503\n",
            "Epoch 7/20\n",
            "342/342 [==============================] - 1s 2ms/step - loss: 0.3065 - binary_accuracy: 0.9006 - val_loss: 0.3245 - val_binary_accuracy: 0.8912\n",
            "Epoch 8/20\n",
            "342/342 [==============================] - 1s 1ms/step - loss: 0.2669 - binary_accuracy: 0.9357 - val_loss: 0.2847 - val_binary_accuracy: 0.9116\n",
            "Epoch 9/20\n",
            "342/342 [==============================] - 1s 1ms/step - loss: 0.2324 - binary_accuracy: 0.9415 - val_loss: 0.2585 - val_binary_accuracy: 0.9320\n",
            "Epoch 10/20\n",
            "342/342 [==============================] - 0s 1ms/step - loss: 0.2034 - binary_accuracy: 0.9532 - val_loss: 0.2419 - val_binary_accuracy: 0.9320\n",
            "Epoch 11/20\n",
            "342/342 [==============================] - 1s 1ms/step - loss: 0.1847 - binary_accuracy: 0.9532 - val_loss: 0.2286 - val_binary_accuracy: 0.9320\n",
            "Epoch 12/20\n",
            "342/342 [==============================] - 0s 1ms/step - loss: 0.1662 - binary_accuracy: 0.9561 - val_loss: 0.2152 - val_binary_accuracy: 0.9388\n",
            "Epoch 13/20\n",
            "342/342 [==============================] - 0s 1ms/step - loss: 0.1548 - binary_accuracy: 0.9532 - val_loss: 0.2107 - val_binary_accuracy: 0.9388\n",
            "Epoch 14/20\n",
            "342/342 [==============================] - 0s 1ms/step - loss: 0.1443 - binary_accuracy: 0.9620 - val_loss: 0.2090 - val_binary_accuracy: 0.9320\n",
            "Epoch 15/20\n",
            "342/342 [==============================] - 0s 1ms/step - loss: 0.1357 - binary_accuracy: 0.9532 - val_loss: 0.2036 - val_binary_accuracy: 0.9388\n",
            "Epoch 16/20\n",
            "342/342 [==============================] - 0s 1ms/step - loss: 0.1296 - binary_accuracy: 0.9591 - val_loss: 0.2015 - val_binary_accuracy: 0.9388\n",
            "Epoch 17/20\n",
            "342/342 [==============================] - 1s 2ms/step - loss: 0.1234 - binary_accuracy: 0.9591 - val_loss: 0.2025 - val_binary_accuracy: 0.9388\n",
            "Epoch 18/20\n",
            "342/342 [==============================] - 1s 2ms/step - loss: 0.1199 - binary_accuracy: 0.9561 - val_loss: 0.2040 - val_binary_accuracy: 0.9320\n",
            "Epoch 19/20\n",
            "342/342 [==============================] - 0s 1ms/step - loss: 0.1194 - binary_accuracy: 0.9532 - val_loss: 0.2071 - val_binary_accuracy: 0.9320\n",
            "Epoch 20/20\n",
            "342/342 [==============================] - 0s 1ms/step - loss: 0.1145 - binary_accuracy: 0.9561 - val_loss: 0.2092 - val_binary_accuracy: 0.9320\n"
          ],
          "name": "stdout"
        }
      ]
    },
    {
      "cell_type": "code",
      "metadata": {
        "colab": {
          "base_uri": "https://localhost:8080/",
          "height": 734
        },
        "id": "2Wjc8WviQ-cB",
        "outputId": "66cb17f3-90ba-4768-ae58-f2b000369d92"
      },
      "source": [
        "display_hist(history)  "
      ],
      "execution_count": null,
      "outputs": [
        {
          "output_type": "display_data",
          "data": {
            "text/html": [
              "<div>\n",
              "<style scoped>\n",
              "    .dataframe tbody tr th:only-of-type {\n",
              "        vertical-align: middle;\n",
              "    }\n",
              "\n",
              "    .dataframe tbody tr th {\n",
              "        vertical-align: top;\n",
              "    }\n",
              "\n",
              "    .dataframe thead th {\n",
              "        text-align: right;\n",
              "    }\n",
              "</style>\n",
              "<table border=\"1\" class=\"dataframe\">\n",
              "  <thead>\n",
              "    <tr style=\"text-align: right;\">\n",
              "      <th></th>\n",
              "      <th>loss</th>\n",
              "      <th>binary_accuracy</th>\n",
              "      <th>val_loss</th>\n",
              "      <th>val_binary_accuracy</th>\n",
              "    </tr>\n",
              "  </thead>\n",
              "  <tbody>\n",
              "    <tr>\n",
              "      <th>0</th>\n",
              "      <td>0.642713</td>\n",
              "      <td>0.646199</td>\n",
              "      <td>0.597567</td>\n",
              "      <td>0.632653</td>\n",
              "    </tr>\n",
              "    <tr>\n",
              "      <th>1</th>\n",
              "      <td>0.548120</td>\n",
              "      <td>0.684211</td>\n",
              "      <td>0.553847</td>\n",
              "      <td>0.625850</td>\n",
              "    </tr>\n",
              "    <tr>\n",
              "      <th>2</th>\n",
              "      <td>0.494542</td>\n",
              "      <td>0.687135</td>\n",
              "      <td>0.511149</td>\n",
              "      <td>0.625850</td>\n",
              "    </tr>\n",
              "    <tr>\n",
              "      <th>3</th>\n",
              "      <td>0.446639</td>\n",
              "      <td>0.733918</td>\n",
              "      <td>0.458079</td>\n",
              "      <td>0.755102</td>\n",
              "    </tr>\n",
              "    <tr>\n",
              "      <th>4</th>\n",
              "      <td>0.394865</td>\n",
              "      <td>0.845029</td>\n",
              "      <td>0.415242</td>\n",
              "      <td>0.809524</td>\n",
              "    </tr>\n",
              "  </tbody>\n",
              "</table>\n",
              "</div>"
            ],
            "text/plain": [
              "       loss  binary_accuracy  val_loss  val_binary_accuracy\n",
              "0  0.642713         0.646199  0.597567             0.632653\n",
              "1  0.548120         0.684211  0.553847             0.625850\n",
              "2  0.494542         0.687135  0.511149             0.625850\n",
              "3  0.446639         0.733918  0.458079             0.755102\n",
              "4  0.394865         0.845029  0.415242             0.809524"
            ]
          },
          "metadata": {
            "tags": []
          }
        },
        {
          "output_type": "stream",
          "text": [
            "Best Validation Loss: 0.2015\n",
            "Best Validation Accuracy: 0.9388\n"
          ],
          "name": "stdout"
        },
        {
          "output_type": "display_data",
          "data": {
            "image/png": "[encoded data removed]",
            "text/plain": [
              "<Figure size 432x288 with 1 Axes>"
            ]
          },
          "metadata": {
            "tags": [],
            "needs_background": "light"
          }
        },
        {
          "output_type": "display_data",
          "data": {
            "image/png": "[encoded data removed]",
            "text/plain": [
              "<Figure size 432x288 with 1 Axes>"
            ]
          },
          "metadata": {
            "tags": [],
            "needs_background": "light"
          }
        }
      ]
    },
    {
      "cell_type": "code",
      "metadata": {
        "colab": {
          "base_uri": "https://localhost:8080/"
        },
        "id": "-yq5FHK_PdQr",
        "outputId": "69cb9fc7-f234-49dc-c899-250dd356b30f"
      },
      "source": [
        "y_pred = model.predict(X_test) > 0.5\n",
        "\n",
        "print_results(y_test, y_pred)\n",
        "\n"
      ],
      "execution_count": null,
      "outputs": [
        {
          "output_type": "stream",
          "text": [
            "Matriz de Confusão: \n",
            " [[127   4]\n",
            " [  9  70]]\n",
            "              precision    recall  f1-score   support\n",
            "\n",
            "           0       0.93      0.97      0.95       131\n",
            "           1       0.95      0.89      0.92        79\n",
            "\n",
            "    accuracy                           0.94       210\n",
            "   macro avg       0.94      0.93      0.93       210\n",
            "weighted avg       0.94      0.94      0.94       210\n",
            "\n",
            "Acuracidade:  0.9380952380952381\n"
          ],
          "name": "stdout"
        }
      ]
    },
    {
      "cell_type": "markdown",
      "metadata": {
        "id": "ZUSRq9uP0K2c"
      },
      "source": [
        "Melhor ou pior reflete apenas o fato dos modelos terem sido inicializados diferentemente."
      ]
    },
    {
      "cell_type": "markdown",
      "metadata": {
        "id": "Jb4wQSfwSf2l"
      },
      "source": [
        "## Modelo de Subclasse \n",
        "\n",
        "O Modelo de Subclasse é o de mais baixo nível de programação mas é também o que dá mais flexibilidade na construção de quaisquer modelos. \n",
        "\n",
        "Esse modelo de construção é útil quando queremos criar arquiteturas próprias de rede o que é muito comum em problemas de redes profundas. Entendendo um pouco sobre esse modelo você poderá compreender como, por exemplo, é empregada a programação diferenciável do `TensorFlow` no aprendizado das redes. Nessa forma de programação você estará desenvolvendo o mesmo que o `Keras` emprega para construir os modelos anteriores. Isso também vai ajudar você a entender outros frameworks que não disponibilizam uma interface de alto nível como o `Keras`. "
      ]
    },
    {
      "cell_type": "markdown",
      "metadata": {
        "id": "gntfR7nI2KbT"
      },
      "source": [
        "### Estendendo a Classe `Model`\n",
        "\n",
        "Podemos começar estendendo a classe `Model`. Aqui você pode definir as diferentes camadas que quer empregar (`__init__') e ordená-las da forma que julgar mais adequado, incluindo a definição de suas entradas e saídas (`call`).\n",
        "\n"
      ]
    },
    {
      "cell_type": "code",
      "metadata": {
        "id": "n4laYo-zSf2w"
      },
      "source": [
        "from tensorflow.keras.models import Model\n",
        "from tensorflow.keras.layers import Dense\n",
        "\n",
        "class MyModel(Model):\n",
        "    \n",
        "    def __init__(self, **kwargs):\n",
        "        super(MyModel, self).__init__(**kwargs)\n",
        "        self.dense1 = Dense(8, activation='sigmoid',input_shape=[9])\n",
        "        self.dense2 = Dense(1, activation='sigmoid')        \n",
        "        \n",
        "    def call(self, inputs):\n",
        "        out1 = self.dense1(inputs)\n",
        "        return self.dense2(out1)\n",
        "\n",
        "neural_net = MyModel(name='MyModel')"
      ],
      "execution_count": null,
      "outputs": []
    },
    {
      "cell_type": "markdown",
      "metadata": {
        "id": "yWp80ZKd228z"
      },
      "source": [
        "As classes acima implementam o mesmo modelo criado anterior nos modos Sequencial e API Funcional do `Keras`.\n",
        "\n",
        "Para que você entendá melhor veja esse exemplo:"
      ]
    },
    {
      "cell_type": "code",
      "metadata": {
        "colab": {
          "base_uri": "https://localhost:8080/"
        },
        "id": "3PSY3hiMSf2w",
        "outputId": "67c34639-c208-4edb-e16f-c7e6223d4a9e"
      },
      "source": [
        "X_test = tf.Variable(X_test)\n",
        "neural_net(X_test)[0:10]\n",
        "\n"
      ],
      "execution_count": null,
      "outputs": [
        {
          "output_type": "execute_result",
          "data": {
            "text/plain": [
              "<tf.Tensor: shape=(10, 1), dtype=float32, numpy=\n",
              "array([[0.47880572],\n",
              "       [0.4470732 ],\n",
              "       [0.43232813],\n",
              "       [0.53112495],\n",
              "       [0.46769917],\n",
              "       [0.4470732 ],\n",
              "       [0.5144075 ],\n",
              "       [0.4470732 ],\n",
              "       [0.47811368],\n",
              "       [0.3556474 ]], dtype=float32)>"
            ]
          },
          "metadata": {
            "tags": []
          },
          "execution_count": 23
        }
      ]
    },
    {
      "cell_type": "markdown",
      "metadata": {
        "id": "4o8q4Vgk3WbD"
      },
      "source": [
        "Apenas com a definição dessa classe a sua rede já está definida! A única coisa é que ela ainda não está treinada e os pesos são aleatórios. Mas podemos aplicar um conjunto de dados à rede e produzir o *forward* da rede, sua saída!\n",
        "\n",
        "Aqui, entretanto, não temos o `Keras` para prover uma interface de abstração maior e precisamos transformar os dados que desejamos aplicar a rede para tensores. Exibimos apenas as 10 primeiras ocorrências da saída da rede para o nosso conjunto de teste."
      ]
    },
    {
      "cell_type": "markdown",
      "metadata": {
        "id": "j16MjmNs4Ogb"
      },
      "source": [
        "### Treinamento não customizado\n",
        "\n",
        "Podemos então compilar e treinar nosso modelo do mesmo modo que fizemos antes."
      ]
    },
    {
      "cell_type": "code",
      "metadata": {
        "id": "DV_yA_zUkffA"
      },
      "source": [
        "neural_net.compile(\n",
        "    loss='binary_crossentropy',\n",
        "    metrics=['binary_accuracy'],\n",
        ")\n"
      ],
      "execution_count": null,
      "outputs": []
    },
    {
      "cell_type": "code",
      "metadata": {
        "colab": {
          "base_uri": "https://localhost:8080/"
        },
        "id": "L_GPM7JMkffK",
        "outputId": "923c4666-d754-4a33-d0f7-1efa6a2117e5"
      },
      "source": [
        "history = neural_net.fit(\n",
        "    X_train, y_train,\n",
        "    batch_size=1,\n",
        "    validation_split=0.3,\n",
        "    epochs=20,\n",
        "    verbose=1,  \n",
        ")"
      ],
      "execution_count": null,
      "outputs": [
        {
          "output_type": "stream",
          "text": [
            "Epoch 1/20\n",
            "342/342 [==============================] - 1s 2ms/step - loss: 0.5889 - binary_accuracy: 0.6959 - val_loss: 0.5828 - val_binary_accuracy: 0.6395\n",
            "Epoch 2/20\n",
            "342/342 [==============================] - 1s 2ms/step - loss: 0.4911 - binary_accuracy: 0.7047 - val_loss: 0.5223 - val_binary_accuracy: 0.7211\n",
            "Epoch 3/20\n",
            "342/342 [==============================] - 1s 2ms/step - loss: 0.4410 - binary_accuracy: 0.7632 - val_loss: 0.4755 - val_binary_accuracy: 0.7959\n",
            "Epoch 4/20\n",
            "342/342 [==============================] - 0s 1ms/step - loss: 0.3853 - binary_accuracy: 0.8538 - val_loss: 0.4581 - val_binary_accuracy: 0.7687\n",
            "Epoch 5/20\n",
            "342/342 [==============================] - 1s 2ms/step - loss: 0.3495 - binary_accuracy: 0.8596 - val_loss: 0.3892 - val_binary_accuracy: 0.8571\n",
            "Epoch 6/20\n",
            "342/342 [==============================] - 0s 1ms/step - loss: 0.2975 - binary_accuracy: 0.9035 - val_loss: 0.3430 - val_binary_accuracy: 0.8980\n",
            "Epoch 7/20\n",
            "342/342 [==============================] - 0s 1ms/step - loss: 0.2530 - binary_accuracy: 0.9386 - val_loss: 0.3287 - val_binary_accuracy: 0.8980\n",
            "Epoch 8/20\n",
            "342/342 [==============================] - 1s 2ms/step - loss: 0.2283 - binary_accuracy: 0.9503 - val_loss: 0.2854 - val_binary_accuracy: 0.9048\n",
            "Epoch 9/20\n",
            "342/342 [==============================] - 0s 1ms/step - loss: 0.2022 - binary_accuracy: 0.9444 - val_loss: 0.2646 - val_binary_accuracy: 0.9184\n",
            "Epoch 10/20\n",
            "342/342 [==============================] - 0s 1ms/step - loss: 0.1822 - binary_accuracy: 0.9503 - val_loss: 0.2526 - val_binary_accuracy: 0.9184\n",
            "Epoch 11/20\n",
            "342/342 [==============================] - 0s 1ms/step - loss: 0.1702 - binary_accuracy: 0.9532 - val_loss: 0.2397 - val_binary_accuracy: 0.9252\n",
            "Epoch 12/20\n",
            "342/342 [==============================] - 0s 1ms/step - loss: 0.1549 - binary_accuracy: 0.9532 - val_loss: 0.2362 - val_binary_accuracy: 0.9252\n",
            "Epoch 13/20\n",
            "342/342 [==============================] - 1s 2ms/step - loss: 0.1457 - binary_accuracy: 0.9532 - val_loss: 0.2322 - val_binary_accuracy: 0.9252\n",
            "Epoch 14/20\n",
            "342/342 [==============================] - 0s 1ms/step - loss: 0.1399 - binary_accuracy: 0.9561 - val_loss: 0.2308 - val_binary_accuracy: 0.9252\n",
            "Epoch 15/20\n",
            "342/342 [==============================] - 0s 1ms/step - loss: 0.1355 - binary_accuracy: 0.9561 - val_loss: 0.2294 - val_binary_accuracy: 0.9252\n",
            "Epoch 16/20\n",
            "342/342 [==============================] - 0s 1ms/step - loss: 0.1307 - binary_accuracy: 0.9649 - val_loss: 0.2325 - val_binary_accuracy: 0.9252\n",
            "Epoch 17/20\n",
            "342/342 [==============================] - 0s 1ms/step - loss: 0.1283 - binary_accuracy: 0.9620 - val_loss: 0.2277 - val_binary_accuracy: 0.9320\n",
            "Epoch 18/20\n",
            "342/342 [==============================] - 0s 1ms/step - loss: 0.1237 - binary_accuracy: 0.9649 - val_loss: 0.2316 - val_binary_accuracy: 0.9320\n",
            "Epoch 19/20\n",
            "342/342 [==============================] - 0s 1ms/step - loss: 0.1221 - binary_accuracy: 0.9591 - val_loss: 0.2312 - val_binary_accuracy: 0.9320\n",
            "Epoch 20/20\n",
            "342/342 [==============================] - 0s 1ms/step - loss: 0.1192 - binary_accuracy: 0.9620 - val_loss: 0.2330 - val_binary_accuracy: 0.9320\n"
          ],
          "name": "stdout"
        }
      ]
    },
    {
      "cell_type": "code",
      "metadata": {
        "colab": {
          "base_uri": "https://localhost:8080/",
          "height": 734
        },
        "id": "kjIFhFVQk2ci",
        "outputId": "73bb30aa-751e-4100-b33c-1fe0eec03267"
      },
      "source": [
        "display_hist(history)  "
      ],
      "execution_count": null,
      "outputs": [
        {
          "output_type": "display_data",
          "data": {
            "text/html": [
              "<div>\n",
              "<style scoped>\n",
              "    .dataframe tbody tr th:only-of-type {\n",
              "        vertical-align: middle;\n",
              "    }\n",
              "\n",
              "    .dataframe tbody tr th {\n",
              "        vertical-align: top;\n",
              "    }\n",
              "\n",
              "    .dataframe thead th {\n",
              "        text-align: right;\n",
              "    }\n",
              "</style>\n",
              "<table border=\"1\" class=\"dataframe\">\n",
              "  <thead>\n",
              "    <tr style=\"text-align: right;\">\n",
              "      <th></th>\n",
              "      <th>loss</th>\n",
              "      <th>binary_accuracy</th>\n",
              "      <th>val_loss</th>\n",
              "      <th>val_binary_accuracy</th>\n",
              "    </tr>\n",
              "  </thead>\n",
              "  <tbody>\n",
              "    <tr>\n",
              "      <th>0</th>\n",
              "      <td>0.588915</td>\n",
              "      <td>0.695906</td>\n",
              "      <td>0.582839</td>\n",
              "      <td>0.639456</td>\n",
              "    </tr>\n",
              "    <tr>\n",
              "      <th>1</th>\n",
              "      <td>0.491087</td>\n",
              "      <td>0.704678</td>\n",
              "      <td>0.522323</td>\n",
              "      <td>0.721088</td>\n",
              "    </tr>\n",
              "    <tr>\n",
              "      <th>2</th>\n",
              "      <td>0.440953</td>\n",
              "      <td>0.763158</td>\n",
              "      <td>0.475475</td>\n",
              "      <td>0.795918</td>\n",
              "    </tr>\n",
              "    <tr>\n",
              "      <th>3</th>\n",
              "      <td>0.385305</td>\n",
              "      <td>0.853801</td>\n",
              "      <td>0.458147</td>\n",
              "      <td>0.768707</td>\n",
              "    </tr>\n",
              "    <tr>\n",
              "      <th>4</th>\n",
              "      <td>0.349458</td>\n",
              "      <td>0.859649</td>\n",
              "      <td>0.389224</td>\n",
              "      <td>0.857143</td>\n",
              "    </tr>\n",
              "  </tbody>\n",
              "</table>\n",
              "</div>"
            ],
            "text/plain": [
              "       loss  binary_accuracy  val_loss  val_binary_accuracy\n",
              "0  0.588915         0.695906  0.582839             0.639456\n",
              "1  0.491087         0.704678  0.522323             0.721088\n",
              "2  0.440953         0.763158  0.475475             0.795918\n",
              "3  0.385305         0.853801  0.458147             0.768707\n",
              "4  0.349458         0.859649  0.389224             0.857143"
            ]
          },
          "metadata": {
            "tags": []
          }
        },
        {
          "output_type": "stream",
          "text": [
            "Best Validation Loss: 0.2277\n",
            "Best Validation Accuracy: 0.9320\n"
          ],
          "name": "stdout"
        },
        {
          "output_type": "display_data",
          "data": {
            "image/png": "[encoded data removed]",
            "text/plain": [
              "<Figure size 432x288 with 1 Axes>"
            ]
          },
          "metadata": {
            "tags": [],
            "needs_background": "light"
          }
        },
        {
          "output_type": "display_data",
          "data": {
            "image/png": "[encoded data removed]",
            "text/plain": [
              "<Figure size 432x288 with 1 Axes>"
            ]
          },
          "metadata": {
            "tags": [],
            "needs_background": "light"
          }
        }
      ]
    },
    {
      "cell_type": "markdown",
      "metadata": {
        "id": "ryp0buzR4ucW"
      },
      "source": [
        "### Predição \n",
        "\n",
        "Para predição, entretanto, podemos empregar agora a rede customizada e não a função `predict` que empregamos anteriormente."
      ]
    },
    {
      "cell_type": "code",
      "metadata": {
        "colab": {
          "base_uri": "https://localhost:8080/"
        },
        "id": "KoSgDIMjqzrG",
        "outputId": "6c56783c-4180-4a8c-d01d-c5ba13e3ad30"
      },
      "source": [
        "y_pred = neural_net(X_test) > 0.5\n",
        "\n",
        "print_results(y_test, y_pred)\n",
        "\n"
      ],
      "execution_count": null,
      "outputs": [
        {
          "output_type": "stream",
          "text": [
            "Matriz de Confusão: \n",
            " [[125   6]\n",
            " [  8  71]]\n",
            "              precision    recall  f1-score   support\n",
            "\n",
            "           0       0.94      0.95      0.95       131\n",
            "           1       0.92      0.90      0.91        79\n",
            "\n",
            "    accuracy                           0.93       210\n",
            "   macro avg       0.93      0.93      0.93       210\n",
            "weighted avg       0.93      0.93      0.93       210\n",
            "\n",
            "Acuracidade:  0.9333333333333333\n"
          ],
          "name": "stdout"
        }
      ]
    },
    {
      "cell_type": "markdown",
      "metadata": {
        "id": "osZbzCfRsS3N"
      },
      "source": [
        "### Treinamento Customizado\n",
        "\n",
        "Mas o modelo de Subclasses é ainda mais flexível! Você pode customizar quaisquer funções do seu modelo de rede profunda como a função de custo, o otimizador e todo o treinamento da rede.\n",
        "\n",
        "Não é necessário que você entenda em detalhe todo o código aqui e, se você estiver interessado nisso, pode encontrar mais exemplos na documentação do `Keras`. O mais importante é você entender o **fluxo geral do treinamento** e da **atualização dos pesos da rede** (`run_optimization`) que são os procedimentos gerais empregados para o treinamento de redes profundas tanto no `TensorFlow` como em outros frameworks que implementação uma infraestrutura de programação diferenciável."
      ]
    },
    {
      "cell_type": "code",
      "metadata": {
        "id": "cBqG05xQSf2x"
      },
      "source": [
        "def run_optimization(x, y):\n",
        "#-------------------------------------------------------------------------------\n",
        "#\n",
        "#  \n",
        "    # with: Envolve a computação dentro do contexto do GradientTape para o AutoGrad ou diferenciação automática \n",
        "    with tf.GradientTape() as tape:\n",
        "        pred = neural_net(x)           # Forward da rede\n",
        "        loss = loss_fn(y, pred)        # Cálculo da Função Custo\n",
        "        \n",
        "    # Define as variáveis que serão atualizadas, i.e. trainable variables ou pesos da rede W e b\n",
        "    trainable_variables = list(neural_net.trainable_weights)\n",
        "\n",
        "    # Obtêm os gradientes\n",
        "    gradients = tape.gradient(loss, trainable_variables)\n",
        "    \n",
        "    # Atualiza os pesos W and b de acordo com os gradientes obtidos\n",
        "    optimizer.apply_gradients(zip(gradients, trainable_variables))\n",
        "#\n",
        "#    \n",
        "#-------------------------------------------------------------------------------\n"
      ],
      "execution_count": null,
      "outputs": []
    },
    {
      "cell_type": "code",
      "metadata": {
        "colab": {
          "base_uri": "https://localhost:8080/"
        },
        "id": "eRu-tLFmSf2y",
        "outputId": "b0d5b334-3b51-49e1-85b8-05321f08117d"
      },
      "source": [
        "# Training parameters.\n",
        "learning_rate = 0.001\n",
        "training_steps = 100\n",
        "batch_size = 1 # permite somente o valor 1 aqui\n",
        "display_step = 10\n",
        "\n",
        "# Stochastic gradient descent optimizer.\n",
        "optimizer = tf.optimizers.SGD(learning_rate)\n",
        "\n",
        "# Função custo\n",
        "loss_fn = keras.losses.binary_crossentropy \n",
        "\n",
        "# Use tf.data API to shuffle and batch data.\n",
        "train_data = tf.data.Dataset.from_tensor_slices((X_train, y_train))\n",
        "train_data = train_data.repeat().batch(batch_size)\n",
        "#-------------------------------------------------------------------------------\n",
        "#\n",
        "#\n",
        "for step, (batch_x, batch_y) in enumerate(train_data.take(training_steps), 1):\n",
        "    # Executa o otimizador para atualizar os pesos da rede W, b\n",
        "    run_optimization(batch_x, batch_y)\n",
        "#\n",
        "#\n",
        "#-------------------------------------------------------------------------------\n",
        "    if step % display_step == 0:\n",
        "        pred = neural_net(batch_x)\n",
        "        loss = loss_fn(batch_y, pred)\n",
        "        print(\"step: %i, loss: %f\" % (step, loss))"
      ],
      "execution_count": null,
      "outputs": [
        {
          "output_type": "stream",
          "text": [
            "step: 10, loss: 0.040828\n",
            "step: 20, loss: 0.044010\n",
            "step: 30, loss: 0.045278\n",
            "step: 40, loss: 0.041414\n",
            "step: 50, loss: 0.084430\n",
            "step: 60, loss: 0.003645\n",
            "step: 70, loss: 4.386875\n",
            "step: 80, loss: 0.045398\n",
            "step: 90, loss: 0.004508\n",
            "step: 100, loss: 0.050222\n"
          ],
          "name": "stdout"
        }
      ]
    },
    {
      "cell_type": "code",
      "metadata": {
        "colab": {
          "base_uri": "https://localhost:8080/"
        },
        "id": "Wf4DOQyxSf2z",
        "outputId": "30ee4669-5abe-423e-e463-baaefb702277"
      },
      "source": [
        "y_pred =  neural_net(X_test) > 0.5\n",
        "\n",
        "print_results(y_test, y_pred)\n"
      ],
      "execution_count": null,
      "outputs": [
        {
          "output_type": "stream",
          "text": [
            "Matriz de Confusão: \n",
            " [[125   6]\n",
            " [  8  71]]\n",
            "              precision    recall  f1-score   support\n",
            "\n",
            "           0       0.94      0.95      0.95       131\n",
            "           1       0.92      0.90      0.91        79\n",
            "\n",
            "    accuracy                           0.93       210\n",
            "   macro avg       0.93      0.93      0.93       210\n",
            "weighted avg       0.93      0.93      0.93       210\n",
            "\n",
            "Acuracidade:  0.9333333333333333\n"
          ],
          "name": "stdout"
        }
      ]
    },
    {
      "cell_type": "markdown",
      "metadata": {
        "id": "bjyH9RBv89pt"
      },
      "source": [
        "Se você observar o treinamento nada mais é que um laço de programa que itera para cada lote de dados chamando o otimizador. As outras intruções definem configurações como parâmetros e funções, e preparam os dados, ou são para exibição dos resultados. O `TensorFlow` tem uma série de funções para tratamento e transformação dos dados em tensores, definição de lotes, reshape dos dados etc. Acima empregamos a classe `tf.data.Dataset` e você pode consultar a documentação do `TensorFlow` para mais exemplos de como empregá-la.\n",
        "\n",
        "Mas se o treinamento é apenas um laço que itera o otimizador, nele está a lógica centrla do treinamento do modelo. Você basicamente precisa fazer o *forward* da rede e o cálculo do erro dentro do contexto do gradiente automático para que possam ser calculados os gradientes para cada uma das operações realizadas. Feito isso o otimizador pode atualizar os pesos da rede aplicando os gradientes a todos pesos. Esse é o `backward` da rede e o gradiente automático permite que você faça isso para *qualquer arquitetura* da rede com o mínimo de programação. Será indiferente quantas camadas houverem ou mesmo o tipo de camadas empregadas (convolução, recorrente etc.). Esse é o lado incrível desses frameworks que possibilitam criar um grande número de modelos eficientes com um esforço mínimo.  \n",
        "\n",
        "#### Funções customizadas\n",
        "\n",
        "Nesse modo de programação você pode então customizar todo o seu treinamento. Nós, por exemplo, empregamos como função de custo `loss_fn = keras.losses.binary_crossentropy`, mas você poderia escrever sua própria função de custo \n",
        "tendo um outro critério para otimizar a rede (por exemplo, empregando alguma métrica de aglomerados (clusterização))\n",
        "\n",
        "\n",
        "\n"
      ]
    },
    {
      "cell_type": "markdown",
      "metadata": {
        "id": "aoTS40nRWpCf"
      },
      "source": [
        "# Voltando ao Modelo Sequencial\n",
        "\n",
        "Voltando ao modelo sequencial que é a forma mais simples, mas ao mesmo tempo suficiente para construção de modelos do tipo *feed-forward*, vamos rever e fazer mais algumas adições ao nosso modelo Sequencial inicial.\n",
        "\n",
        "Como você pôde ver a construção de um modelo segue basicamente os seguintes passos:\n",
        "\n",
        "1. Defina o modelo.\n",
        "2. Compile o modelo.\n",
        "3. Treine o modelo.\n",
        "4. Avalie o modelo.\n",
        "5. Faça Predições.\n",
        "\n",
        "Nada muito diferente do quê você aprendeu no uso do `Scikit-learn`. \n",
        "\n",
        "Vamos agora rever e adicionar mais algumas melhorias (*) no nosso modelo. \n",
        "\n",
        "<small> (*) Essas mudanças não necessariamente levam a um modelo melhor. Não estamos fazendo aqui uma série de execuções dos modelos para compará-los ou empregando qualquer outra técnica de avaliação. Apenas que são configurações úteis para uma série de modelos.</small>"
      ]
    },
    {
      "cell_type": "markdown",
      "metadata": {
        "id": "9lKDUSP1GhuW"
      },
      "source": [
        "## Adicionando Camadas\n",
        "\n",
        "Como vimos podemos adicionar várias camadas ao nosso modelo. As camadas de entrada e saída podem requerer um cuidado adicional uma vez que definem o tamanho da entrada dos dados (quantidade de *features* ou atributos) e da saída desejada.\n",
        "\n",
        "As funções de ativação também podem ser alteradas e uma função muito empregada em modelos de Deep Learning é a função *Relu*. Sendo em parte uma função linear ela é fácil de calcular, incluindo o seu gradiente, sendo muito eficiente para redes com grande número de parâmetros (pesos). Ela entretanto não pode ser empregada para a camada de saída pois pode retornar valores arbitrariamente grandes."
      ]
    },
    {
      "cell_type": "code",
      "metadata": {
        "colab": {
          "base_uri": "https://localhost:8080/"
        },
        "id": "9Wf10JlCC4I4",
        "outputId": "e5855834-cf8b-4d0e-abee-7c20bba5963d"
      },
      "source": [
        "model = keras.Sequential(layers.Dense(8, activation='relu', input_shape=[9]))\n",
        "\n",
        "model.add(layers.Dense(16, activation='relu'))\n",
        "model.add(layers.Dense(8, activation='relu'))\n",
        "model.add(layers.Dense(1, activation='sigmoid'))\n",
        "\n",
        "model.summary()"
      ],
      "execution_count": null,
      "outputs": [
        {
          "output_type": "stream",
          "text": [
            "Model: \"sequential_2\"\n",
            "_________________________________________________________________\n",
            "Layer (type)                 Output Shape              Param #   \n",
            "=================================================================\n",
            "dense_8 (Dense)              (None, 8)                 80        \n",
            "_________________________________________________________________\n",
            "dense_9 (Dense)              (None, 16)                144       \n",
            "_________________________________________________________________\n",
            "dense_10 (Dense)             (None, 8)                 136       \n",
            "_________________________________________________________________\n",
            "dense_11 (Dense)             (None, 1)                 9         \n",
            "=================================================================\n",
            "Total params: 369\n",
            "Trainable params: 369\n",
            "Non-trainable params: 0\n",
            "_________________________________________________________________\n"
          ],
          "name": "stdout"
        }
      ]
    },
    {
      "cell_type": "markdown",
      "metadata": {
        "id": "qaUBBUnAHz6g"
      },
      "source": [
        "## Controlando o Treinamento\n",
        "\n",
        "Aqui alteramos o otimizador para o *Adam*, um otimizador também bastante popular para modelos de redes neurais. Mas o mais importante aqui é você entender alguns parâmetros que permitem controlar melhor o treinamento do modelo e que encontram-se logo a seguir. Até agora empregamos somente a quantidade de épocas do treinamento.\n",
        "\n"
      ]
    },
    {
      "cell_type": "code",
      "metadata": {
        "id": "VY_EfSxdWmcn"
      },
      "source": [
        "model.compile(\n",
        "    optimizer='adam',\n",
        "    loss='binary_crossentropy',\n",
        "    metrics=['binary_accuracy'],\n",
        ")"
      ],
      "execution_count": null,
      "outputs": []
    },
    {
      "cell_type": "code",
      "metadata": {
        "id": "ajQC9ijFENgW"
      },
      "source": [
        "early_stopping = keras.callbacks.EarlyStopping(\n",
        "    patience=20,\n",
        "    min_delta=0.001,\n",
        "    restore_best_weights=True,\n",
        ")"
      ],
      "execution_count": null,
      "outputs": []
    },
    {
      "cell_type": "markdown",
      "metadata": {
        "id": "M1j1Q_h-JA83"
      },
      "source": [
        "Esses parâmetros estão descritos na documentação do `Keras`:\n",
        "\n",
        "* **min_delta**: Mudança mínima na quantidade monitorada (a função custo) para qualificar como uma melhoria, ou seja, uma mudança absoluta menor que min_delta, contará como nenhuma mudança ou melhoria.\n",
        "\n",
        "* **patience**: Número de épocas sem melhora após as quais o treinamento será interrompido. A melhora, emprega o critério do min_delta, acima.\n",
        "\n",
        "* **restore_best_weights**: se deve restaurar os pesos do modelo da iteração com o melhor valor do valor monitorado. "
      ]
    },
    {
      "cell_type": "code",
      "metadata": {
        "id": "C-EvVtsgWmcx"
      },
      "source": [
        "history = model.fit(\n",
        "    X_train, y_train,\n",
        "    batch_size=16,\n",
        "    validation_split=0.3,\n",
        "    epochs=100,\n",
        "    callbacks=[early_stopping],\n",
        "    verbose=0,  \n",
        ")"
      ],
      "execution_count": null,
      "outputs": []
    },
    {
      "cell_type": "code",
      "metadata": {
        "colab": {
          "base_uri": "https://localhost:8080/",
          "height": 734
        },
        "id": "Bj9CApairqB6",
        "outputId": "bf17f775-8daa-4f83-ebc3-297530e6daf6"
      },
      "source": [
        "display_hist(history)  "
      ],
      "execution_count": null,
      "outputs": [
        {
          "output_type": "display_data",
          "data": {
            "text/html": [
              "<div>\n",
              "<style scoped>\n",
              "    .dataframe tbody tr th:only-of-type {\n",
              "        vertical-align: middle;\n",
              "    }\n",
              "\n",
              "    .dataframe tbody tr th {\n",
              "        vertical-align: top;\n",
              "    }\n",
              "\n",
              "    .dataframe thead th {\n",
              "        text-align: right;\n",
              "    }\n",
              "</style>\n",
              "<table border=\"1\" class=\"dataframe\">\n",
              "  <thead>\n",
              "    <tr style=\"text-align: right;\">\n",
              "      <th></th>\n",
              "      <th>loss</th>\n",
              "      <th>binary_accuracy</th>\n",
              "      <th>val_loss</th>\n",
              "      <th>val_binary_accuracy</th>\n",
              "    </tr>\n",
              "  </thead>\n",
              "  <tbody>\n",
              "    <tr>\n",
              "      <th>0</th>\n",
              "      <td>1.138451</td>\n",
              "      <td>0.312865</td>\n",
              "      <td>0.827241</td>\n",
              "      <td>0.374150</td>\n",
              "    </tr>\n",
              "    <tr>\n",
              "      <th>1</th>\n",
              "      <td>0.731032</td>\n",
              "      <td>0.412281</td>\n",
              "      <td>0.630095</td>\n",
              "      <td>0.537415</td>\n",
              "    </tr>\n",
              "    <tr>\n",
              "      <th>2</th>\n",
              "      <td>0.600866</td>\n",
              "      <td>0.602339</td>\n",
              "      <td>0.595316</td>\n",
              "      <td>0.680272</td>\n",
              "    </tr>\n",
              "    <tr>\n",
              "      <th>3</th>\n",
              "      <td>0.568972</td>\n",
              "      <td>0.742690</td>\n",
              "      <td>0.562148</td>\n",
              "      <td>0.727891</td>\n",
              "    </tr>\n",
              "    <tr>\n",
              "      <th>4</th>\n",
              "      <td>0.534924</td>\n",
              "      <td>0.769006</td>\n",
              "      <td>0.523446</td>\n",
              "      <td>0.782313</td>\n",
              "    </tr>\n",
              "  </tbody>\n",
              "</table>\n",
              "</div>"
            ],
            "text/plain": [
              "       loss  binary_accuracy  val_loss  val_binary_accuracy\n",
              "0  1.138451         0.312865  0.827241             0.374150\n",
              "1  0.731032         0.412281  0.630095             0.537415\n",
              "2  0.600866         0.602339  0.595316             0.680272\n",
              "3  0.568972         0.742690  0.562148             0.727891\n",
              "4  0.534924         0.769006  0.523446             0.782313"
            ]
          },
          "metadata": {
            "tags": []
          }
        },
        {
          "output_type": "stream",
          "text": [
            "Best Validation Loss: 0.2127\n",
            "Best Validation Accuracy: 0.9388\n"
          ],
          "name": "stdout"
        },
        {
          "output_type": "display_data",
          "data": {
            "image/png": "[encoded data removed]",
            "text/plain": [
              "<Figure size 432x288 with 1 Axes>"
            ]
          },
          "metadata": {
            "tags": [],
            "needs_background": "light"
          }
        },
        {
          "output_type": "display_data",
          "data": {
            "image/png": "[encoded data removed]",
            "text/plain": [
              "<Figure size 432x288 with 1 Axes>"
            ]
          },
          "metadata": {
            "tags": [],
            "needs_background": "light"
          }
        }
      ]
    },
    {
      "cell_type": "code",
      "metadata": {
        "colab": {
          "base_uri": "https://localhost:8080/"
        },
        "id": "-b2khfWBrqCD",
        "outputId": "57d7e39f-28a5-4d76-e371-d038996bfa0f"
      },
      "source": [
        "y_pred = model.predict(tf.constant(X_test)) > 0.5\n",
        "\n",
        "print_results(y_test, y_pred)\n",
        "\n"
      ],
      "execution_count": null,
      "outputs": [
        {
          "output_type": "stream",
          "text": [
            "Matriz de Confusão: \n",
            " [[127   4]\n",
            " [  5  74]]\n",
            "              precision    recall  f1-score   support\n",
            "\n",
            "           0       0.96      0.97      0.97       131\n",
            "           1       0.95      0.94      0.94        79\n",
            "\n",
            "    accuracy                           0.96       210\n",
            "   macro avg       0.96      0.95      0.95       210\n",
            "weighted avg       0.96      0.96      0.96       210\n",
            "\n",
            "Acuracidade:  0.9571428571428572\n"
          ],
          "name": "stdout"
        }
      ]
    },
    {
      "cell_type": "markdown",
      "metadata": {
        "id": "yjsISOzrZzPg"
      },
      "source": [
        "# Exemplo: Classificação `fraud`\n",
        "\n",
        "Vamos empregar agora um conjunto de dados de transações de cartão de crédito e fraudes e rever toda a construção de um modelo sequencial para classificação com o `Keras TensorFlow`. \n",
        "\n",
        "> Esse banco de dados é o mesmo conjunto de dados empregado em MANAPAT, Michael. **Introduction to Machine Learning with Python**. Em An Introduction to Machine Learning. EMag Edição 50 - Abr 2017. (ver as referências para acesso ao artigo)"
      ]
    },
    {
      "cell_type": "markdown",
      "metadata": {
        "id": "r6F1k2PQNERA"
      },
      "source": [
        "## Explorando os dados\n",
        "\n",
        "Nesse conjunto de dados temos dados de transações de cartão de crédito classificadas como Fraude ou não Fraude. Não empregaremos aqui o atributo `charge_time` no modelo e ao final comentamos mais sobre isso."
      ]
    },
    {
      "cell_type": "code",
      "metadata": {
        "id": "SIeEbP1HZxop",
        "colab": {
          "base_uri": "https://localhost:8080/",
          "height": 272
        },
        "outputId": "5eab3891-6e86-425a-b628-8aed276f22db"
      },
      "source": [
        "fraud = pd.read_csv(\"http://meusite.mackenzie.br/rogerio/ML/qconlondon2016_sample_data.csv\")\n",
        "fraud.drop(columns=['charge_time'],inplace=True) \n",
        "                     \n",
        "display(fraud.head())\n",
        "print(fraud.shape) \n",
        "print(fraud.fraudulent.value_counts())\n"
      ],
      "execution_count": null,
      "outputs": [
        {
          "output_type": "display_data",
          "data": {
            "text/html": [
              "<div>\n",
              "<style scoped>\n",
              "    .dataframe tbody tr th:only-of-type {\n",
              "        vertical-align: middle;\n",
              "    }\n",
              "\n",
              "    .dataframe tbody tr th {\n",
              "        vertical-align: top;\n",
              "    }\n",
              "\n",
              "    .dataframe thead th {\n",
              "        text-align: right;\n",
              "    }\n",
              "</style>\n",
              "<table border=\"1\" class=\"dataframe\">\n",
              "  <thead>\n",
              "    <tr style=\"text-align: right;\">\n",
              "      <th></th>\n",
              "      <th>fraudulent</th>\n",
              "      <th>amount</th>\n",
              "      <th>card_country</th>\n",
              "      <th>card_use_24h</th>\n",
              "    </tr>\n",
              "  </thead>\n",
              "  <tbody>\n",
              "    <tr>\n",
              "      <th>0</th>\n",
              "      <td>False</td>\n",
              "      <td>20484</td>\n",
              "      <td>US</td>\n",
              "      <td>0</td>\n",
              "    </tr>\n",
              "    <tr>\n",
              "      <th>1</th>\n",
              "      <td>False</td>\n",
              "      <td>1211</td>\n",
              "      <td>US</td>\n",
              "      <td>0</td>\n",
              "    </tr>\n",
              "    <tr>\n",
              "      <th>2</th>\n",
              "      <td>False</td>\n",
              "      <td>8396</td>\n",
              "      <td>US</td>\n",
              "      <td>1</td>\n",
              "    </tr>\n",
              "    <tr>\n",
              "      <th>3</th>\n",
              "      <td>False</td>\n",
              "      <td>2359</td>\n",
              "      <td>US</td>\n",
              "      <td>0</td>\n",
              "    </tr>\n",
              "    <tr>\n",
              "      <th>4</th>\n",
              "      <td>False</td>\n",
              "      <td>1480</td>\n",
              "      <td>US</td>\n",
              "      <td>3</td>\n",
              "    </tr>\n",
              "  </tbody>\n",
              "</table>\n",
              "</div>"
            ],
            "text/plain": [
              "   fraudulent  amount card_country  card_use_24h\n",
              "0       False   20484           US             0\n",
              "1       False    1211           US             0\n",
              "2       False    8396           US             1\n",
              "3       False    2359           US             0\n",
              "4       False    1480           US             3"
            ]
          },
          "metadata": {
            "tags": []
          }
        },
        {
          "output_type": "stream",
          "text": [
            "(89393, 4)\n",
            "False    45174\n",
            "True     44219\n",
            "Name: fraudulent, dtype: int64\n"
          ],
          "name": "stdout"
        }
      ]
    },
    {
      "cell_type": "markdown",
      "metadata": {
        "id": "H9wbWZJ0Nncn"
      },
      "source": [
        "Com base nesse conjunto queremos criar um modelo para classificar como fraude ou não as operações baseados unicamente no valor da transação, o país e o uso do cartão nas últimas 24h (uma das variáveis mais importantes na predição de fraudes com cartões de crédito). "
      ]
    },
    {
      "cell_type": "markdown",
      "metadata": {
        "id": "DBrqdg4aOYUh"
      },
      "source": [
        "## Preparando os Dados\n",
        "\n",
        "### Hot Encode `X`\n",
        "\n",
        "Não existem valores nulos na base, mas o atributo `card_country` é um atributo categórico e precisamos transformá-lo.\n"
      ]
    },
    {
      "cell_type": "code",
      "metadata": {
        "colab": {
          "base_uri": "https://localhost:8080/",
          "height": 204
        },
        "id": "c7HPRRjlOvhP",
        "outputId": "5950f805-356b-4a34-8976-22c11b166943"
      },
      "source": [
        "dummies = pd.get_dummies(fraud.card_country)\n",
        "fraud = pd.concat([fraud, dummies], axis=1)\n",
        "fraud.drop(columns=['card_country'],inplace=True) \n",
        "\n",
        "display(fraud.head())"
      ],
      "execution_count": null,
      "outputs": [
        {
          "output_type": "display_data",
          "data": {
            "text/html": [
              "<div>\n",
              "<style scoped>\n",
              "    .dataframe tbody tr th:only-of-type {\n",
              "        vertical-align: middle;\n",
              "    }\n",
              "\n",
              "    .dataframe tbody tr th {\n",
              "        vertical-align: top;\n",
              "    }\n",
              "\n",
              "    .dataframe thead th {\n",
              "        text-align: right;\n",
              "    }\n",
              "</style>\n",
              "<table border=\"1\" class=\"dataframe\">\n",
              "  <thead>\n",
              "    <tr style=\"text-align: right;\">\n",
              "      <th></th>\n",
              "      <th>fraudulent</th>\n",
              "      <th>amount</th>\n",
              "      <th>card_use_24h</th>\n",
              "      <th>AU</th>\n",
              "      <th>GB</th>\n",
              "      <th>US</th>\n",
              "    </tr>\n",
              "  </thead>\n",
              "  <tbody>\n",
              "    <tr>\n",
              "      <th>0</th>\n",
              "      <td>False</td>\n",
              "      <td>20484</td>\n",
              "      <td>0</td>\n",
              "      <td>0</td>\n",
              "      <td>0</td>\n",
              "      <td>1</td>\n",
              "    </tr>\n",
              "    <tr>\n",
              "      <th>1</th>\n",
              "      <td>False</td>\n",
              "      <td>1211</td>\n",
              "      <td>0</td>\n",
              "      <td>0</td>\n",
              "      <td>0</td>\n",
              "      <td>1</td>\n",
              "    </tr>\n",
              "    <tr>\n",
              "      <th>2</th>\n",
              "      <td>False</td>\n",
              "      <td>8396</td>\n",
              "      <td>1</td>\n",
              "      <td>0</td>\n",
              "      <td>0</td>\n",
              "      <td>1</td>\n",
              "    </tr>\n",
              "    <tr>\n",
              "      <th>3</th>\n",
              "      <td>False</td>\n",
              "      <td>2359</td>\n",
              "      <td>0</td>\n",
              "      <td>0</td>\n",
              "      <td>0</td>\n",
              "      <td>1</td>\n",
              "    </tr>\n",
              "    <tr>\n",
              "      <th>4</th>\n",
              "      <td>False</td>\n",
              "      <td>1480</td>\n",
              "      <td>3</td>\n",
              "      <td>0</td>\n",
              "      <td>0</td>\n",
              "      <td>1</td>\n",
              "    </tr>\n",
              "  </tbody>\n",
              "</table>\n",
              "</div>"
            ],
            "text/plain": [
              "   fraudulent  amount  card_use_24h  AU  GB  US\n",
              "0       False   20484             0   0   0   1\n",
              "1       False    1211             0   0   0   1\n",
              "2       False    8396             1   0   0   1\n",
              "3       False    2359             0   0   0   1\n",
              "4       False    1480             3   0   0   1"
            ]
          },
          "metadata": {
            "tags": []
          }
        }
      ]
    },
    {
      "cell_type": "markdown",
      "metadata": {
        "id": "HjFJU2eiP9f3"
      },
      "source": [
        "### Normalização\n",
        "\n",
        "Não fizemos isso no modelo de `biopsy`, mas a normalização aqui é necessária já que os valores apresentam escalas muito diferentes e podemos então completar a nossa entrada de dados `X`."
      ]
    },
    {
      "cell_type": "code",
      "metadata": {
        "colab": {
          "base_uri": "https://localhost:8080/"
        },
        "id": "LLXwIW5xQQd4",
        "outputId": "2e0aef34-879e-40cf-f143-ec2fe17d813d"
      },
      "source": [
        "from sklearn.preprocessing import scale\n",
        "\n",
        "X = scale(fraud.drop(columns=['fraudulent']))\n",
        "X\n"
      ],
      "execution_count": null,
      "outputs": [
        {
          "output_type": "execute_result",
          "data": {
            "text/plain": [
              "array([[ 0.26867979, -0.17296712, -0.15679634, -0.17828929,  0.2407913 ],\n",
              "       [-0.19763503, -0.17296712, -0.15679634, -0.17828929,  0.2407913 ],\n",
              "       [-0.02379224, -0.1280861 , -0.15679634, -0.17828929,  0.2407913 ],\n",
              "       ...,\n",
              "       [ 6.07943233,  1.03882041, -0.15679634, -0.17828929,  0.2407913 ],\n",
              "       [21.1991333 ,  0.99393939, -0.15679634, -0.17828929,  0.2407913 ],\n",
              "       [-0.12325887,  0.18608104, -0.15679634, -0.17828929,  0.2407913 ]])"
            ]
          },
          "metadata": {
            "tags": []
          },
          "execution_count": 39
        }
      ]
    },
    {
      "cell_type": "markdown",
      "metadata": {
        "id": "WRNqH89TRN8g"
      },
      "source": [
        "Empregamos a função `scale` do `Scikit-learn`, ela leva todos os valores para média zero e desvio padrão 1 e os valores agora estão em formato de uma matriz `Numpy` e podem ser empregadas diretamente no `Keras`. "
      ]
    },
    {
      "cell_type": "markdown",
      "metadata": {
        "id": "neBSDOkOSMR6"
      },
      "source": [
        "### Hot Encode `y`\n",
        "\n",
        "Apesar do nosso problema ser um problema de classificação binária (Fraude, True ou False) vamos construir aqui um modelo de classificação multiclasse para que você possa compreender esse modelo mais geral. \n",
        "\n",
        "Neste caso a classe de saída deve estar representada com o Hot Encode de cada uma das classes. Nosso caso é simples, pois haverão somente duas classes, mas o mesmo pode ser feito para um número arbitrário de classes.\n",
        "\n",
        "Podemos fazer isso de vários modos, atribuindo diretamente valores aos novos campos, fazendo novamente uso da função `pd.get_dummies` etc. mas vamos empregar aqui uma classe do `Keras` e conhecer mais esse recurso."
      ]
    },
    {
      "cell_type": "code",
      "metadata": {
        "colab": {
          "base_uri": "https://localhost:8080/"
        },
        "id": "ChPGe_edRNGn",
        "outputId": "8e78738f-1a7d-4ee6-b77b-aba802ffd339"
      },
      "source": [
        "from tensorflow.keras.utils import to_categorical\n",
        "\n",
        "y = to_categorical(fraud.fraudulent)\n",
        "y[0:10]"
      ],
      "execution_count": null,
      "outputs": [
        {
          "output_type": "execute_result",
          "data": {
            "text/plain": [
              "array([[1., 0.],\n",
              "       [1., 0.],\n",
              "       [1., 0.],\n",
              "       [1., 0.],\n",
              "       [1., 0.],\n",
              "       [1., 0.],\n",
              "       [1., 0.],\n",
              "       [1., 0.],\n",
              "       [1., 0.],\n",
              "       [1., 0.]], dtype=float32)"
            ]
          },
          "metadata": {
            "tags": []
          },
          "execution_count": 40
        }
      ]
    },
    {
      "cell_type": "markdown",
      "metadata": {
        "id": "ucEn_iuMVvZh"
      },
      "source": [
        "### Treinamento e Teste\n",
        "\n",
        "Preparados os dados vamos criar os conjuntos de treinamento e teste."
      ]
    },
    {
      "cell_type": "code",
      "metadata": {
        "id": "oOfBDkYQM2h4"
      },
      "source": [
        "from sklearn.model_selection import train_test_split\n",
        "\n",
        "X_train, X_test, y_train, y_test = train_test_split(X, y, test_size=0.3, random_state=123)"
      ],
      "execution_count": null,
      "outputs": []
    },
    {
      "cell_type": "code",
      "metadata": {
        "colab": {
          "base_uri": "https://localhost:8080/"
        },
        "id": "sYDN1E3vV5pR",
        "outputId": "7af62b48-cb14-4a1c-c807-a6f3dbe052cd"
      },
      "source": [
        "X_train"
      ],
      "execution_count": null,
      "outputs": [
        {
          "output_type": "execute_result",
          "data": {
            "text/plain": [
              "array([[-0.23046796, -0.03832406, -0.15679634, -0.17828929,  0.2407913 ],\n",
              "       [-0.20259505, -0.17296712, -0.15679634, -0.17828929,  0.2407913 ],\n",
              "       [-0.20419194,  0.23096206, -0.15679634, -0.17828929,  0.2407913 ],\n",
              "       ...,\n",
              "       [-0.22357232, -0.1280861 , -0.15679634, -0.17828929,  0.2407913 ],\n",
              "       [-0.21217636, -0.08320508, -0.15679634, -0.17828929,  0.2407913 ],\n",
              "       [-0.18730366, -0.1280861 , -0.15679634, -0.17828929,  0.2407913 ]])"
            ]
          },
          "metadata": {
            "tags": []
          },
          "execution_count": 42
        }
      ]
    },
    {
      "cell_type": "code",
      "metadata": {
        "colab": {
          "base_uri": "https://localhost:8080/"
        },
        "id": "aF3oriz_V8ki",
        "outputId": "aaa51725-6159-422a-f36e-35b66296a54b"
      },
      "source": [
        "y_train"
      ],
      "execution_count": null,
      "outputs": [
        {
          "output_type": "execute_result",
          "data": {
            "text/plain": [
              "array([[1., 0.],\n",
              "       [0., 1.],\n",
              "       [0., 1.],\n",
              "       ...,\n",
              "       [1., 0.],\n",
              "       [1., 0.],\n",
              "       [1., 0.]], dtype=float32)"
            ]
          },
          "metadata": {
            "tags": []
          },
          "execution_count": 43
        }
      ]
    },
    {
      "cell_type": "markdown",
      "metadata": {
        "id": "zoKFbY_gyf2Z"
      },
      "source": [
        "## Define o Modelo\n",
        "\n",
        "Nossa rede será uma rede neural sequencial do tipo MLP. Há 5 neurônios de entrada, correspondendo a cada atributo de entrada dos dados e vamos criar duas camadas ocultas de 8 neurônios, e uma camada de saída com 2 neurônios correspondendo às duas classes de saída.\n",
        "\n",
        "\n",
        "\n"
      ]
    },
    {
      "cell_type": "code",
      "metadata": {
        "id": "yUWjOv-6WzMY"
      },
      "source": [
        "from tensorflow import keras\n",
        "from tensorflow.keras import layers\n",
        "import tensorflow as tf"
      ],
      "execution_count": null,
      "outputs": []
    },
    {
      "cell_type": "code",
      "metadata": {
        "id": "YVUC8oWhylEQ",
        "colab": {
          "base_uri": "https://localhost:8080/"
        },
        "outputId": "25671558-0f54-414a-efa2-a145a8dd3555"
      },
      "source": [
        "# Definição ou Configuração\n",
        "model = keras.Sequential(layers.Dense(X.shape[1], activation='relu', input_shape=[X.shape[1]]))\n",
        "\n",
        "model.add(layers.Dense(8, activation='relu'))\n",
        "model.add(layers.Dense(8, activation='relu'))\n",
        "model.add(layers.Dense(2, activation='sigmoid'))\n",
        "\n",
        "print(model.summary())\n"
      ],
      "execution_count": null,
      "outputs": [
        {
          "output_type": "stream",
          "text": [
            "Model: \"sequential_3\"\n",
            "_________________________________________________________________\n",
            "Layer (type)                 Output Shape              Param #   \n",
            "=================================================================\n",
            "dense_12 (Dense)             (None, 5)                 30        \n",
            "_________________________________________________________________\n",
            "dense_13 (Dense)             (None, 8)                 48        \n",
            "_________________________________________________________________\n",
            "dense_14 (Dense)             (None, 8)                 72        \n",
            "_________________________________________________________________\n",
            "dense_15 (Dense)             (None, 2)                 18        \n",
            "=================================================================\n",
            "Total params: 168\n",
            "Trainable params: 168\n",
            "Non-trainable params: 0\n",
            "_________________________________________________________________\n",
            "None\n"
          ],
          "name": "stdout"
        }
      ]
    },
    {
      "cell_type": "markdown",
      "metadata": {
        "id": "I7heWjRVXsvw"
      },
      "source": [
        "## Compila o Modelo\n",
        "\n",
        "Como vamos empregar um modelo de classificação genérico multiclasse vamos empregar a função de custo como `'categorical_crossentropy'` que é o valor mais empregado nesses caso. Aqui adotaremos o otimizador `Adam` e vamos incluir a métrica de acuracidade para acompanhar sua evolução no treinamento do modelo."
      ]
    },
    {
      "cell_type": "code",
      "metadata": {
        "id": "d_lIhgWNWpZJ"
      },
      "source": [
        "model.compile(loss='categorical_crossentropy', optimizer='adam', metrics=['accuracy'])"
      ],
      "execution_count": null,
      "outputs": []
    },
    {
      "cell_type": "markdown",
      "metadata": {
        "id": "A_yUDfjJeC5u"
      },
      "source": [
        "## Treinamento do Modelo\n",
        "\n",
        "Vamos empregar praticamente os mesmos parâmetros do treinamento anterior, mas aumentando o número de épocas do treinamento."
      ]
    },
    {
      "cell_type": "code",
      "metadata": {
        "id": "vqO9g2tCeOZN"
      },
      "source": [
        "# Treinamento\n",
        "early_stopping = keras.callbacks.EarlyStopping(\n",
        "    patience=10,\n",
        "    min_delta=0.001,\n",
        "    restore_best_weights=True,\n",
        ")\n",
        "\n",
        "history = model.fit(\n",
        "    X_train, y_train,\n",
        "    batch_size=32,\n",
        "    validation_split=0.3,\n",
        "    epochs=50,\n",
        "    callbacks=[early_stopping],\n",
        "    verbose=0,  \n",
        ")"
      ],
      "execution_count": null,
      "outputs": []
    },
    {
      "cell_type": "code",
      "metadata": {
        "colab": {
          "base_uri": "https://localhost:8080/",
          "height": 734
        },
        "id": "43Z1oUq3Yh_4",
        "outputId": "60205149-f303-4758-a031-f9a57e2a55ae"
      },
      "source": [
        "def display_acc_hist(history):\n",
        "  history_df = pd.DataFrame(history.history)\n",
        "  display(history_df.head())\n",
        "  # Start the plot at epoch 0\n",
        "  history_df.loc[0:, ['loss', 'val_loss']].plot()\n",
        "  history_df.loc[0:, ['accuracy', 'val_accuracy']].plot()\n",
        "\n",
        "  print((\"Best Validation Loss: {:0.4f}\" +\\\n",
        "      \"\\nBest Validation Accuracy: {:0.4f}\")\\\n",
        "      .format(history_df['val_loss'].min(), \n",
        "              history_df['val_accuracy'].max()))\n",
        "  return\n",
        "\n",
        "display_acc_hist(history) "
      ],
      "execution_count": null,
      "outputs": [
        {
          "output_type": "display_data",
          "data": {
            "text/html": [
              "<div>\n",
              "<style scoped>\n",
              "    .dataframe tbody tr th:only-of-type {\n",
              "        vertical-align: middle;\n",
              "    }\n",
              "\n",
              "    .dataframe tbody tr th {\n",
              "        vertical-align: top;\n",
              "    }\n",
              "\n",
              "    .dataframe thead th {\n",
              "        text-align: right;\n",
              "    }\n",
              "</style>\n",
              "<table border=\"1\" class=\"dataframe\">\n",
              "  <thead>\n",
              "    <tr style=\"text-align: right;\">\n",
              "      <th></th>\n",
              "      <th>loss</th>\n",
              "      <th>accuracy</th>\n",
              "      <th>val_loss</th>\n",
              "      <th>val_accuracy</th>\n",
              "    </tr>\n",
              "  </thead>\n",
              "  <tbody>\n",
              "    <tr>\n",
              "      <th>0</th>\n",
              "      <td>0.636002</td>\n",
              "      <td>0.666294</td>\n",
              "      <td>0.615233</td>\n",
              "      <td>0.666755</td>\n",
              "    </tr>\n",
              "    <tr>\n",
              "      <th>1</th>\n",
              "      <td>0.609219</td>\n",
              "      <td>0.673188</td>\n",
              "      <td>0.610459</td>\n",
              "      <td>0.671763</td>\n",
              "    </tr>\n",
              "    <tr>\n",
              "      <th>2</th>\n",
              "      <td>0.607099</td>\n",
              "      <td>0.672709</td>\n",
              "      <td>0.610504</td>\n",
              "      <td>0.670484</td>\n",
              "    </tr>\n",
              "    <tr>\n",
              "      <th>3</th>\n",
              "      <td>0.606570</td>\n",
              "      <td>0.674216</td>\n",
              "      <td>0.609352</td>\n",
              "      <td>0.670005</td>\n",
              "    </tr>\n",
              "    <tr>\n",
              "      <th>4</th>\n",
              "      <td>0.605941</td>\n",
              "      <td>0.673440</td>\n",
              "      <td>0.608999</td>\n",
              "      <td>0.673094</td>\n",
              "    </tr>\n",
              "  </tbody>\n",
              "</table>\n",
              "</div>"
            ],
            "text/plain": [
              "       loss  accuracy  val_loss  val_accuracy\n",
              "0  0.636002  0.666294  0.615233      0.666755\n",
              "1  0.609219  0.673188  0.610459      0.671763\n",
              "2  0.607099  0.672709  0.610504      0.670484\n",
              "3  0.606570  0.674216  0.609352      0.670005\n",
              "4  0.605941  0.673440  0.608999      0.673094"
            ]
          },
          "metadata": {
            "tags": []
          }
        },
        {
          "output_type": "stream",
          "text": [
            "Best Validation Loss: 0.6076\n",
            "Best Validation Accuracy: 0.6766\n"
          ],
          "name": "stdout"
        },
        {
          "output_type": "display_data",
          "data": {
            "image/png": "[encoded data removed]",
            "text/plain": [
              "<Figure size 432x288 with 1 Axes>"
            ]
          },
          "metadata": {
            "tags": [],
            "needs_background": "light"
          }
        },
        {
          "output_type": "display_data",
          "data": {
            "image/png": "[encoded data removed]",
            "text/plain": [
              "<Figure size 432x288 with 1 Axes>"
            ]
          },
          "metadata": {
            "tags": [],
            "needs_background": "light"
          }
        }
      ]
    },
    {
      "cell_type": "markdown",
      "metadata": {
        "id": "l7jMRro1abaC"
      },
      "source": [
        "O resultado desse treinamento, em geral, tem uma acuracidade \\< 0.7 para o conjunto de validação e você pode tentar várias modificações nesse modelo e buscar melhorar a sua acuracidade: incluir camadas ou mais elementos, alterar as funções de ativação, empregar outro otimizador etc. \n",
        "\n",
        "Você verá que não é tão fácil obter hiperparâmetros que melhorem o resultado do modelo. De fato os modelos profundos são grandes consumidores de dados, eles requerem muitos dados para treinar e, embora tenhamos muitas instâncias de dados aqui, temos muito poucos atributos. Faça a modificação desse modelo empregando o mês da operação do cartão de crédito obtendo o mês do atributo `charge_time` que não empregamos aqui. Você poderá ver um resultado muito melhor e entender que o mês pode ser decisivo na predição das fraudes."
      ]
    },
    {
      "cell_type": "markdown",
      "metadata": {
        "id": "_hslPCKTfzCn"
      },
      "source": [
        "## Avalia o Modelo\n",
        "\n",
        "Podemos então aplicar e avaliar o modelo no conjunto de teste. Agora cada neurônio de saída da rede retorna a chance de uma classe ou outra. Para obtermos então a predição de classe podemos empregar a função `np.argmax()` para obter a classe mais provável e comparar com os dados de teste."
      ]
    },
    {
      "cell_type": "code",
      "metadata": {
        "colab": {
          "base_uri": "https://localhost:8080/"
        },
        "id": "ZpjKtsaPcrby",
        "outputId": "27ca5c8b-2c81-4ec3-acb2-bac19040cd3f"
      },
      "source": [
        "model.predict(X_test)"
      ],
      "execution_count": null,
      "outputs": [
        {
          "output_type": "execute_result",
          "data": {
            "text/plain": [
              "array([[0.40609106, 0.5822438 ],\n",
              "       [0.5346915 , 0.35688597],\n",
              "       [0.41762766, 0.59123695],\n",
              "       ...,\n",
              "       [0.4790008 , 0.46010312],\n",
              "       [0.5032303 , 0.4229359 ],\n",
              "       [0.46556717, 0.4695242 ]], dtype=float32)"
            ]
          },
          "metadata": {
            "tags": []
          },
          "execution_count": 49
        }
      ]
    },
    {
      "cell_type": "code",
      "metadata": {
        "id": "O0df3TPl1B2b",
        "colab": {
          "base_uri": "https://localhost:8080/"
        },
        "outputId": "c18677fb-0242-4b10-e962-c0b4211a65b7"
      },
      "source": [
        "# Predict\n",
        "import numpy as np\n",
        "\n",
        "y_pred = np.argmax(model.predict(X_test), axis=1)\n",
        "y_test = np.argmax(y_test, axis=1)\n",
        "\n",
        "print_results(y_test, y_pred)\n",
        "\n"
      ],
      "execution_count": null,
      "outputs": [
        {
          "output_type": "stream",
          "text": [
            "Matriz de Confusão: \n",
            " [[9804 3819]\n",
            " [4846 8349]]\n",
            "              precision    recall  f1-score   support\n",
            "\n",
            "           0       0.67      0.72      0.69     13623\n",
            "           1       0.69      0.63      0.66     13195\n",
            "\n",
            "    accuracy                           0.68     26818\n",
            "   macro avg       0.68      0.68      0.68     26818\n",
            "weighted avg       0.68      0.68      0.68     26818\n",
            "\n",
            "Acuracidade:  0.6768961145499292\n"
          ],
          "name": "stdout"
        }
      ]
    },
    {
      "cell_type": "markdown",
      "metadata": {
        "id": "gSib62DfhBgO"
      },
      "source": [
        "# Código completo\n",
        "\n",
        "Aqui o código completo em uma única célula com exceção das funções."
      ]
    },
    {
      "cell_type": "code",
      "metadata": {
        "id": "EAr1cAK1evrj",
        "colab": {
          "base_uri": "https://localhost:8080/",
          "height": 1000
        },
        "outputId": "fa5c5b89-a0dd-4132-9638-efbd929a91e8"
      },
      "source": [
        "import numpy as np \n",
        "import pandas as pd \n",
        "import matplotlib.pyplot as plt \n",
        "import seaborn as sns \n",
        "%matplotlib inline\n",
        "\n",
        "from sklearn.model_selection import train_test_split\n",
        "\n",
        "from tensorflow import keras\n",
        "from tensorflow.keras import layers\n",
        "import tensorflow as tf\n",
        "\n",
        "# Explorando os dados\n",
        "fraud = pd.read_csv(\"http://meusite.mackenzie.br/rogerio/ML/qconlondon2016_sample_data.csv\")\n",
        "fraud.drop(columns=['charge_time'],inplace=True) \n",
        "                     \n",
        "display(fraud.head())\n",
        "print(fraud.shape) \n",
        "print(fraud.fraudulent.value_counts())\n",
        "\n",
        "# Preparando os Dados\n",
        "# Hot encode\n",
        "dummies = pd.get_dummies(fraud.card_country)\n",
        "fraud = pd.concat([fraud, dummies], axis=1)\n",
        "fraud.drop(columns=['card_country'],inplace=True) \n",
        "# Normalização\n",
        "from sklearn.preprocessing import scale\n",
        "X = scale(fraud.drop(columns=['fraudulent']))\n",
        "# Hot encode\n",
        "from tensorflow.keras.utils import to_categorical\n",
        "y = to_categorical(fraud.fraudulent)\n",
        "# Treinamento e Teste\n",
        "X_train, X_test, y_train, y_test = train_test_split(X, y, test_size=0.3, random_state=123)\n",
        "\n",
        "# Define o Modelo\n",
        "model = keras.Sequential(layers.Dense(X.shape[1], activation='relu', input_shape=[X.shape[1]]))\n",
        "\n",
        "model.add(layers.Dense(8, activation='relu'))\n",
        "model.add(layers.Dense(8, activation='relu'))\n",
        "model.add(layers.Dense(2, activation='sigmoid'))\n",
        "\n",
        "print(model.summary())\n",
        "\n",
        "# Compila o Modelo\n",
        "model.compile(loss='categorical_crossentropy', optimizer='adam', metrics=['accuracy'])\n",
        "\n",
        "# Treina o Modelo\n",
        "early_stopping = keras.callbacks.EarlyStopping(\n",
        "    patience=10,\n",
        "    min_delta=0.001,\n",
        "    restore_best_weights=True,\n",
        ")\n",
        "\n",
        "history = model.fit(\n",
        "    X_train, y_train,\n",
        "    batch_size=32,\n",
        "    validation_split=0.3,\n",
        "    epochs=50,\n",
        "    callbacks=[early_stopping],\n",
        "    verbose=0,  \n",
        ")\n",
        "\n",
        "display_acc_hist(history) \n",
        "\n",
        "# Avalia o Modelo\n",
        "y_pred = np.argmax(model.predict(X_test), axis=1)\n",
        "y_test = np.argmax(y_test, axis=1)\n",
        "\n",
        "print_results(y_test, y_pred)"
      ],
      "execution_count": null,
      "outputs": [
        {
          "output_type": "display_data",
          "data": {
            "text/html": [
              "<div>\n",
              "<style scoped>\n",
              "    .dataframe tbody tr th:only-of-type {\n",
              "        vertical-align: middle;\n",
              "    }\n",
              "\n",
              "    .dataframe tbody tr th {\n",
              "        vertical-align: top;\n",
              "    }\n",
              "\n",
              "    .dataframe thead th {\n",
              "        text-align: right;\n",
              "    }\n",
              "</style>\n",
              "<table border=\"1\" class=\"dataframe\">\n",
              "  <thead>\n",
              "    <tr style=\"text-align: right;\">\n",
              "      <th></th>\n",
              "      <th>fraudulent</th>\n",
              "      <th>amount</th>\n",
              "      <th>card_country</th>\n",
              "      <th>card_use_24h</th>\n",
              "    </tr>\n",
              "  </thead>\n",
              "  <tbody>\n",
              "    <tr>\n",
              "      <th>0</th>\n",
              "      <td>False</td>\n",
              "      <td>20484</td>\n",
              "      <td>US</td>\n",
              "      <td>0</td>\n",
              "    </tr>\n",
              "    <tr>\n",
              "      <th>1</th>\n",
              "      <td>False</td>\n",
              "      <td>1211</td>\n",
              "      <td>US</td>\n",
              "      <td>0</td>\n",
              "    </tr>\n",
              "    <tr>\n",
              "      <th>2</th>\n",
              "      <td>False</td>\n",
              "      <td>8396</td>\n",
              "      <td>US</td>\n",
              "      <td>1</td>\n",
              "    </tr>\n",
              "    <tr>\n",
              "      <th>3</th>\n",
              "      <td>False</td>\n",
              "      <td>2359</td>\n",
              "      <td>US</td>\n",
              "      <td>0</td>\n",
              "    </tr>\n",
              "    <tr>\n",
              "      <th>4</th>\n",
              "      <td>False</td>\n",
              "      <td>1480</td>\n",
              "      <td>US</td>\n",
              "      <td>3</td>\n",
              "    </tr>\n",
              "  </tbody>\n",
              "</table>\n",
              "</div>"
            ],
            "text/plain": [
              "   fraudulent  amount card_country  card_use_24h\n",
              "0       False   20484           US             0\n",
              "1       False    1211           US             0\n",
              "2       False    8396           US             1\n",
              "3       False    2359           US             0\n",
              "4       False    1480           US             3"
            ]
          },
          "metadata": {
            "tags": []
          }
        },
        {
          "output_type": "stream",
          "text": [
            "(89393, 4)\n",
            "False    45174\n",
            "True     44219\n",
            "Name: fraudulent, dtype: int64\n",
            "Model: \"sequential_4\"\n",
            "_________________________________________________________________\n",
            "Layer (type)                 Output Shape              Param #   \n",
            "=================================================================\n",
            "dense_16 (Dense)             (None, 5)                 30        \n",
            "_________________________________________________________________\n",
            "dense_17 (Dense)             (None, 8)                 48        \n",
            "_________________________________________________________________\n",
            "dense_18 (Dense)             (None, 8)                 72        \n",
            "_________________________________________________________________\n",
            "dense_19 (Dense)             (None, 2)                 18        \n",
            "=================================================================\n",
            "Total params: 168\n",
            "Trainable params: 168\n",
            "Non-trainable params: 0\n",
            "_________________________________________________________________\n",
            "None\n"
          ],
          "name": "stdout"
        },
        {
          "output_type": "display_data",
          "data": {
            "text/html": [
              "<div>\n",
              "<style scoped>\n",
              "    .dataframe tbody tr th:only-of-type {\n",
              "        vertical-align: middle;\n",
              "    }\n",
              "\n",
              "    .dataframe tbody tr th {\n",
              "        vertical-align: top;\n",
              "    }\n",
              "\n",
              "    .dataframe thead th {\n",
              "        text-align: right;\n",
              "    }\n",
              "</style>\n",
              "<table border=\"1\" class=\"dataframe\">\n",
              "  <thead>\n",
              "    <tr style=\"text-align: right;\">\n",
              "      <th></th>\n",
              "      <th>loss</th>\n",
              "      <th>accuracy</th>\n",
              "      <th>val_loss</th>\n",
              "      <th>val_accuracy</th>\n",
              "    </tr>\n",
              "  </thead>\n",
              "  <tbody>\n",
              "    <tr>\n",
              "      <th>0</th>\n",
              "      <td>0.630037</td>\n",
              "      <td>0.663554</td>\n",
              "      <td>0.613736</td>\n",
              "      <td>0.672402</td>\n",
              "    </tr>\n",
              "    <tr>\n",
              "      <th>1</th>\n",
              "      <td>0.608773</td>\n",
              "      <td>0.673531</td>\n",
              "      <td>0.613037</td>\n",
              "      <td>0.666755</td>\n",
              "    </tr>\n",
              "    <tr>\n",
              "      <th>2</th>\n",
              "      <td>0.607445</td>\n",
              "      <td>0.675312</td>\n",
              "      <td>0.611407</td>\n",
              "      <td>0.670697</td>\n",
              "    </tr>\n",
              "    <tr>\n",
              "      <th>3</th>\n",
              "      <td>0.607013</td>\n",
              "      <td>0.674010</td>\n",
              "      <td>0.611395</td>\n",
              "      <td>0.675971</td>\n",
              "    </tr>\n",
              "    <tr>\n",
              "      <th>4</th>\n",
              "      <td>0.606691</td>\n",
              "      <td>0.674033</td>\n",
              "      <td>0.611549</td>\n",
              "      <td>0.669951</td>\n",
              "    </tr>\n",
              "  </tbody>\n",
              "</table>\n",
              "</div>"
            ],
            "text/plain": [
              "       loss  accuracy  val_loss  val_accuracy\n",
              "0  0.630037  0.663554  0.613736      0.672402\n",
              "1  0.608773  0.673531  0.613037      0.666755\n",
              "2  0.607445  0.675312  0.611407      0.670697\n",
              "3  0.607013  0.674010  0.611395      0.675971\n",
              "4  0.606691  0.674033  0.611549      0.669951"
            ]
          },
          "metadata": {
            "tags": []
          }
        },
        {
          "output_type": "stream",
          "text": [
            "Best Validation Loss: 0.6079\n",
            "Best Validation Accuracy: 0.6775\n",
            "Matriz de Confusão: \n",
            " [[9955 3668]\n",
            " [4976 8219]]\n",
            "              precision    recall  f1-score   support\n",
            "\n",
            "           0       0.67      0.73      0.70     13623\n",
            "           1       0.69      0.62      0.66     13195\n",
            "\n",
            "    accuracy                           0.68     26818\n",
            "   macro avg       0.68      0.68      0.68     26818\n",
            "weighted avg       0.68      0.68      0.68     26818\n",
            "\n",
            "Acuracidade:  0.6776791707062421\n"
          ],
          "name": "stdout"
        },
        {
          "output_type": "display_data",
          "data": {
            "image/png": "[encoded data removed]",
            "text/plain": [
              "<Figure size 432x288 with 1 Axes>"
            ]
          },
          "metadata": {
            "tags": [],
            "needs_background": "light"
          }
        },
        {
          "output_type": "display_data",
          "data": {
            "image/png": "[encoded data removed]",
            "text/plain": [
              "<Figure size 432x288 with 1 Axes>"
            ]
          },
          "metadata": {
            "tags": [],
            "needs_background": "light"
          }
        }
      ]
    },
    {
      "cell_type": "markdown",
      "metadata": {
        "id": "m-_QM8ceztWe"
      },
      "source": [
        "# Síntese\n",
        "\n",
        "Nesta trilha você aprendeu o que são os modelos sequenciais e como criar esses modelos para problemas de classificação binária e multiclasse empregando o `Keras TensorFlow`. \n",
        "\n",
        "Você conheceu também os diferentes modos de programação do `Keras TensorFlow`: da interface de mais alto nível do modelo Sequencial, o modo da API Funcional, e o modo de Subclasses que permite criar modelos arbitrários de redes e, ainda assim, fazer uso das facilidades de infraestrutura de programação diferenciável do `TensorFlow`. \n",
        "\n",
        "É importante que você revise esses códigos. O modelo de SubClasses permitirá a você compreender como é empregada a programação diferenciável do `TensorFlow` no aprendizado dos modelos e é a mesma forma que você encontrará em outros frameworks como o `PyTorch`. E você ainda pode empregar o modelo Sequencial para solução de vários problemas práticos de classificação. \n"
      ]
    },
    {
      "cell_type": "markdown",
      "metadata": {
        "id": "NmG9yqIREr0w"
      },
      "source": [
        "## Para saber mais\n",
        "\n",
        "Entenda melhor o que é *Cross Entropy* acessando **Cross-Entropy Demystified**, em https://naokishibuya.medium.com/demystifying-cross-entropy-e80e3ad54a8. \n",
        "\n",
        "Quer conhecer mais sobre o otimizador padrão do `TensorFlow` criado por Geoff Hinton, um dos pais do Deep Learning? Então acesse **Understanding RMSprop — faster neural network learning**, em https://towardsdatascience.com/understanding-rmsprop-faster-neural-network-learning-62e116fcf29a.\n",
        "\n",
        "Acesse o site https://keras.io/api/models/, **Models API**, e explore exemplos dos diferentes modos de construção de redes profundas com o `Keras TensorFlow`. \n",
        "\n",
        "Entenda mais sobre que outras arquiteturas de rede podem ser construídas com o modo de programação da API Funcional do `Keras TensorFlow` lendo **3 ways to create a Machine Learning model with Keras and TensorFlow 2.0 (Sequential, Functional, and Model Subclassing)**, em https://towardsdatascience.com/3-ways-to-create-a-machine-learning-model-with-keras-and-tensorflow-2-0-de09323af4d3. \n"
      ]
    },
    {
      "cell_type": "markdown",
      "metadata": {
        "id": "h_6fwcVkCsLf"
      },
      "source": [
        "## Referências\n",
        "\n",
        "1. Aston Zhang and Zachary C. Lipton and Mu Li and Alexander J. Smola. **Dive into Deep Learning** (2020). Disponível em: https://d2l.ai/index.html Acesso em: 21 de abril de 2021. \n",
        "\n",
        "1. ___. **Tensors**. Disponível em: https://pytorch.org/tutorials/beginner/basics/tensorqs_tutorial.html  Acesso em: 28 de maio de 2021.\n",
        "\n",
        "1. Géron, A. **Hands-on machine learning with Scikit-Learn, Keras and TensorFlow: concepts, tools, and techniques to build intelligent systems**, 2nd ed. (2019) O'Reilly \n",
        "\n",
        "1. Ramsundar, B., Zadeh, R. B. **TensorFlow for Deep Learning** (2016), O'Reilly Media, Inc. \n",
        "\n",
        "1. Manapat, Michael. **Introduction to Machine Learning with Python**. Em An Introduction to Machine Learning. EMag Edição 50 - Abr 2017.  Disponível em: http://meusite.mackenzie.br/rogerio/ML/The-InfoQ-eMag-Introduction-to-Machine-Learning.pdf Acesso em: 29 de maio de 2021.\n",
        "\n",
        "1. ___.**Keras Models API**. Disponível em: https://keras.io/api/models/, Acesso em: 29 de maio de 2021. \n",
        "\n",
        "1. ___.**Keras Layers API**. Disponível em: https://keras.io/api/layers/, Acesso em: 29 de maio de 2021. \n",
        "\n",
        "1. ___.**Keras Callbacks API**. Disponível em: https://keras.io/api/callbacks/, Acesso em: 29 de maio de 2021. \n",
        "\n"
      ]
    }
  ]
}