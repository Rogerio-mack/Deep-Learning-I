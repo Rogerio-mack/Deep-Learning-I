{
  "nbformat": 4,
  "nbformat_minor": 0,
  "metadata": {
    "colab": {
      "name": "T4.ipynb",
      "provenance": [],
      "collapsed_sections": []
    },
    "kernelspec": {
      "display_name": "Python 3",
      "name": "python3"
    },
    "accelerator": "GPU"
  },
  "cells": [
    {
      "cell_type": "markdown",
      "metadata": {
        "id": "eSaNGzOu-p45"
      },
      "source": [
        "<head>\n",
        "  <meta name=\"author\" content=\"Rogério de Oliveira\">\n",
        "  <meta institution=\"author\" content=\"Universidade Presbiteriana Mackenzie\">\n",
        "</head>\n",
        "\n",
        "<img src=\"http://meusite.mackenzie.br/rogerio/mackenzie_logo/UPM.2_horizontal_vermelho.jpg\" width=300, align=\"right\"> \n",
        "\n",
        "<h1 align=left><font size = 8, style=\"color:rgb(200,0,0)\"><b>Inteligência Artificial</b></font></h1> \n",
        "<h1 align=left><font size = 6, style=\"color:rgb(0,0,0)\"><b>Deep Learning</b></font></h1> \n",
        "\n",
        "# Modelos Sequenciais e Classificação com TensorFlow\n",
        "Professor(a): Rogério de Oliveira\n",
        "\n",
        "<br>\n",
        "<br>\n",
        "\n",
        "---\n"
      ]
    },
    {
      "cell_type": "markdown",
      "metadata": {
        "id": "uFB0mL84ZWNf"
      },
      "source": [
        "# Introdução\n",
        "\n",
        "Nesta trilha vamos estudar os modelos sequenciais de deep learning para classificação. Os modelos sequenciais são redes em camadas, semelhante ao que vimos antes (redes feedforwad e o Modelo Multilayer Perceptron), que agora vamos implementar empregando o TensorFlow. \n",
        "\n",
        "O leitor deve ter em mente que comparar TensorFlow e Keras não é a melhor maneira de abordar a questão, já que Keras funciona como um wrapper para a estrutura do TensorFlow. Portanto, você pode definir um modelo com a interface de Keras, que é mais fácil de usar, e ir para o TensorFlow quando precisar usar um recurso que Keras não tem ou quando estiver procurando uma funcionalidade específica do TensorFlow. Assim, você pode colocar seu código TensorFlow diretamente no pipeline ou modelo de treinamento Keras.\n",
        "\n",
        "O TensorFlow é uma plataforma de código-fonte aberto de ponta a ponta, uma biblioteca para várias tarefas de aprendizado de máquina, enquanto o Keras é uma biblioteca de rede neural de alto nível executada no TensorFlow. Ambos fornecem APIs de alto nível usadas para construir e treinar modelos facilmente, mas Keras é mais amigável porque é Python integrado."
      ]
    },
    {
      "cell_type": "markdown",
      "metadata": {
        "id": "YKpD3Q6_CkNL"
      },
      "source": [
        "Existem três maneiras de criar modelos Keras:\n",
        "\n",
        "O modelo sequencial , que é muito direto (uma lista simples de camadas), mas é limitado a pilhas de camadas de entrada única e saída única (como o nome indica).\n",
        "\n",
        "A API Funcional , que é uma API fácil de usar e com todos os recursos que oferece suporte a arquiteturas de modelo arbitrárias. Para a maioria das pessoas e dos casos de uso, é isso que você deve usar. Este é o modelo da \"força da indústria\" de Keras.\n",
        "\n",
        "Subclasse de modelo , onde você implementa tudo do zero por conta própria. Use-o se você tiver casos de uso de pesquisa complexos e prontos para uso."
      ]
    },
    {
      "cell_type": "markdown",
      "metadata": {
        "id": "OL-PhutRaVku"
      },
      "source": [
        "|   |\tKeras\t| Pytorch\t| TensorFlow |\n",
        "|---|-------|---------|------------|\n",
        "| API Level |\tHigh\t|Low\t|High and Low|\n",
        "| Architecture\t|Simple, concise, readable|\tComplex, less readable\t|Not easy to use |\n",
        "| Datasets\t|Smaller datasets\t|Large datasets, high performance|\tLarge datasets, high performance |\n",
        "| Debugging\t|Simple network, so debugging is not often needed|\tGood debugging capabilities\t|Difficult to conduct debugging|\n",
        "| Does It Have Trained Models?\t|Yes\t|Yes|\tYes|\n",
        "| Popularity\t|Most popular\t|Third most popular\t|Second most popular|\n",
        "| Speed\t|Slow, low performance|\tFast, high-performance\t|Fast, high-performance| \n",
        "| Written In\t|Python\t|Lua\t|C++, CUDA, Python|"
      ]
    },
    {
      "cell_type": "code",
      "metadata": {
        "colab": {
          "base_uri": "https://localhost:8080/",
          "height": 204
        },
        "id": "RVlJOK3uDjdE",
        "outputId": "dbeec9ea-38a4-4b58-bab5-dd29a14059dd"
      },
      "source": [
        "import pandas as pd\n",
        "from IPython.display import display\n",
        "\n",
        "df = pd.read_csv('https://vincentarelbundock.github.io/Rdatasets/csv/MASS/biopsy.csv', index_col=0)\n",
        "display(df.head())"
      ],
      "execution_count": 37,
      "outputs": [
        {
          "output_type": "display_data",
          "data": {
            "text/html": [
              "<div>\n",
              "<style scoped>\n",
              "    .dataframe tbody tr th:only-of-type {\n",
              "        vertical-align: middle;\n",
              "    }\n",
              "\n",
              "    .dataframe tbody tr th {\n",
              "        vertical-align: top;\n",
              "    }\n",
              "\n",
              "    .dataframe thead th {\n",
              "        text-align: right;\n",
              "    }\n",
              "</style>\n",
              "<table border=\"1\" class=\"dataframe\">\n",
              "  <thead>\n",
              "    <tr style=\"text-align: right;\">\n",
              "      <th></th>\n",
              "      <th>ID</th>\n",
              "      <th>V1</th>\n",
              "      <th>V2</th>\n",
              "      <th>V3</th>\n",
              "      <th>V4</th>\n",
              "      <th>V5</th>\n",
              "      <th>V6</th>\n",
              "      <th>V7</th>\n",
              "      <th>V8</th>\n",
              "      <th>V9</th>\n",
              "      <th>class</th>\n",
              "    </tr>\n",
              "  </thead>\n",
              "  <tbody>\n",
              "    <tr>\n",
              "      <th>1</th>\n",
              "      <td>1000025</td>\n",
              "      <td>5</td>\n",
              "      <td>1</td>\n",
              "      <td>1</td>\n",
              "      <td>1</td>\n",
              "      <td>2</td>\n",
              "      <td>1.0</td>\n",
              "      <td>3</td>\n",
              "      <td>1</td>\n",
              "      <td>1</td>\n",
              "      <td>benign</td>\n",
              "    </tr>\n",
              "    <tr>\n",
              "      <th>2</th>\n",
              "      <td>1002945</td>\n",
              "      <td>5</td>\n",
              "      <td>4</td>\n",
              "      <td>4</td>\n",
              "      <td>5</td>\n",
              "      <td>7</td>\n",
              "      <td>10.0</td>\n",
              "      <td>3</td>\n",
              "      <td>2</td>\n",
              "      <td>1</td>\n",
              "      <td>benign</td>\n",
              "    </tr>\n",
              "    <tr>\n",
              "      <th>3</th>\n",
              "      <td>1015425</td>\n",
              "      <td>3</td>\n",
              "      <td>1</td>\n",
              "      <td>1</td>\n",
              "      <td>1</td>\n",
              "      <td>2</td>\n",
              "      <td>2.0</td>\n",
              "      <td>3</td>\n",
              "      <td>1</td>\n",
              "      <td>1</td>\n",
              "      <td>benign</td>\n",
              "    </tr>\n",
              "    <tr>\n",
              "      <th>4</th>\n",
              "      <td>1016277</td>\n",
              "      <td>6</td>\n",
              "      <td>8</td>\n",
              "      <td>8</td>\n",
              "      <td>1</td>\n",
              "      <td>3</td>\n",
              "      <td>4.0</td>\n",
              "      <td>3</td>\n",
              "      <td>7</td>\n",
              "      <td>1</td>\n",
              "      <td>benign</td>\n",
              "    </tr>\n",
              "    <tr>\n",
              "      <th>5</th>\n",
              "      <td>1017023</td>\n",
              "      <td>4</td>\n",
              "      <td>1</td>\n",
              "      <td>1</td>\n",
              "      <td>3</td>\n",
              "      <td>2</td>\n",
              "      <td>1.0</td>\n",
              "      <td>3</td>\n",
              "      <td>1</td>\n",
              "      <td>1</td>\n",
              "      <td>benign</td>\n",
              "    </tr>\n",
              "  </tbody>\n",
              "</table>\n",
              "</div>"
            ],
            "text/plain": [
              "        ID  V1  V2  V3  V4  V5    V6  V7  V8  V9   class\n",
              "1  1000025   5   1   1   1   2   1.0   3   1   1  benign\n",
              "2  1002945   5   4   4   5   7  10.0   3   2   1  benign\n",
              "3  1015425   3   1   1   1   2   2.0   3   1   1  benign\n",
              "4  1016277   6   8   8   1   3   4.0   3   7   1  benign\n",
              "5  1017023   4   1   1   3   2   1.0   3   1   1  benign"
            ]
          },
          "metadata": {
            "tags": []
          }
        }
      ]
    },
    {
      "cell_type": "code",
      "metadata": {
        "colab": {
          "base_uri": "https://localhost:8080/"
        },
        "id": "m_GjE4EcFVtg",
        "outputId": "c2ce0b7b-9d20-4167-e6b1-3dc3c8d52f54"
      },
      "source": [
        "df['class'].value_counts()"
      ],
      "execution_count": 38,
      "outputs": [
        {
          "output_type": "execute_result",
          "data": {
            "text/plain": [
              "benign       458\n",
              "malignant    241\n",
              "Name: class, dtype: int64"
            ]
          },
          "metadata": {
            "tags": []
          },
          "execution_count": 38
        }
      ]
    },
    {
      "cell_type": "code",
      "metadata": {
        "colab": {
          "base_uri": "https://localhost:8080/"
        },
        "id": "cLs95dHvF0eV",
        "outputId": "61e9e97a-76ed-40e8-a034-e1e012b6c715"
      },
      "source": [
        "df = df.drop(columns='ID')\n",
        "print( df.isna().sum(), '\\n', 'total NA =' , df.isna().sum().sum() )\n",
        "df.V6 = df.V6.fillna( df.V6.mean() )\n",
        "print( '\\n', 'total NA =' , df.isna().sum().sum() )"
      ],
      "execution_count": 39,
      "outputs": [
        {
          "output_type": "stream",
          "text": [
            "V1        0\n",
            "V2        0\n",
            "V3        0\n",
            "V4        0\n",
            "V5        0\n",
            "V6       16\n",
            "V7        0\n",
            "V8        0\n",
            "V9        0\n",
            "class     0\n",
            "dtype: int64 \n",
            " total NA = 16\n",
            "\n",
            " total NA = 0\n"
          ],
          "name": "stdout"
        }
      ]
    },
    {
      "cell_type": "code",
      "metadata": {
        "id": "MGdfFPtgNA15"
      },
      "source": [
        "df['class'] = df['class'].map({'benign': 0, 'malignant': 1})\n",
        "\n",
        "X = df.drop('class', axis=1)\n",
        "y = df[['class']]"
      ],
      "execution_count": 40,
      "outputs": []
    },
    {
      "cell_type": "code",
      "metadata": {
        "id": "SHVn7Y9bLT4J"
      },
      "source": [
        "from sklearn.model_selection import train_test_split\n",
        "\n",
        "X_train, X_test, y_train, y_test = train_test_split(X, y, test_size=0.3, random_state=123)"
      ],
      "execution_count": 41,
      "outputs": []
    },
    {
      "cell_type": "code",
      "metadata": {
        "colab": {
          "base_uri": "https://localhost:8080/",
          "height": 391
        },
        "id": "pZlKOH7XDaC9",
        "outputId": "d02dd6c1-d1d0-4e26-ec56-125e8ff054b3"
      },
      "source": [
        "display(X_train.head())\n",
        "display(y_train.head())"
      ],
      "execution_count": 6,
      "outputs": [
        {
          "output_type": "display_data",
          "data": {
            "text/html": [
              "<div>\n",
              "<style scoped>\n",
              "    .dataframe tbody tr th:only-of-type {\n",
              "        vertical-align: middle;\n",
              "    }\n",
              "\n",
              "    .dataframe tbody tr th {\n",
              "        vertical-align: top;\n",
              "    }\n",
              "\n",
              "    .dataframe thead th {\n",
              "        text-align: right;\n",
              "    }\n",
              "</style>\n",
              "<table border=\"1\" class=\"dataframe\">\n",
              "  <thead>\n",
              "    <tr style=\"text-align: right;\">\n",
              "      <th></th>\n",
              "      <th>V1</th>\n",
              "      <th>V2</th>\n",
              "      <th>V3</th>\n",
              "      <th>V4</th>\n",
              "      <th>V5</th>\n",
              "      <th>V6</th>\n",
              "      <th>V7</th>\n",
              "      <th>V8</th>\n",
              "      <th>V9</th>\n",
              "    </tr>\n",
              "  </thead>\n",
              "  <tbody>\n",
              "    <tr>\n",
              "      <th>35</th>\n",
              "      <td>3</td>\n",
              "      <td>1</td>\n",
              "      <td>2</td>\n",
              "      <td>1</td>\n",
              "      <td>2</td>\n",
              "      <td>1.0</td>\n",
              "      <td>2</td>\n",
              "      <td>1</td>\n",
              "      <td>1</td>\n",
              "    </tr>\n",
              "    <tr>\n",
              "      <th>34</th>\n",
              "      <td>2</td>\n",
              "      <td>1</td>\n",
              "      <td>1</td>\n",
              "      <td>2</td>\n",
              "      <td>2</td>\n",
              "      <td>1.0</td>\n",
              "      <td>3</td>\n",
              "      <td>1</td>\n",
              "      <td>1</td>\n",
              "    </tr>\n",
              "    <tr>\n",
              "      <th>286</th>\n",
              "      <td>8</td>\n",
              "      <td>10</td>\n",
              "      <td>10</td>\n",
              "      <td>10</td>\n",
              "      <td>8</td>\n",
              "      <td>10.0</td>\n",
              "      <td>10</td>\n",
              "      <td>7</td>\n",
              "      <td>3</td>\n",
              "    </tr>\n",
              "    <tr>\n",
              "      <th>454</th>\n",
              "      <td>4</td>\n",
              "      <td>5</td>\n",
              "      <td>5</td>\n",
              "      <td>8</td>\n",
              "      <td>6</td>\n",
              "      <td>10.0</td>\n",
              "      <td>10</td>\n",
              "      <td>7</td>\n",
              "      <td>1</td>\n",
              "    </tr>\n",
              "    <tr>\n",
              "      <th>296</th>\n",
              "      <td>5</td>\n",
              "      <td>5</td>\n",
              "      <td>7</td>\n",
              "      <td>8</td>\n",
              "      <td>6</td>\n",
              "      <td>10.0</td>\n",
              "      <td>7</td>\n",
              "      <td>4</td>\n",
              "      <td>1</td>\n",
              "    </tr>\n",
              "  </tbody>\n",
              "</table>\n",
              "</div>"
            ],
            "text/plain": [
              "     V1  V2  V3  V4  V5    V6  V7  V8  V9\n",
              "35    3   1   2   1   2   1.0   2   1   1\n",
              "34    2   1   1   2   2   1.0   3   1   1\n",
              "286   8  10  10  10   8  10.0  10   7   3\n",
              "454   4   5   5   8   6  10.0  10   7   1\n",
              "296   5   5   7   8   6  10.0   7   4   1"
            ]
          },
          "metadata": {
            "tags": []
          }
        },
        {
          "output_type": "display_data",
          "data": {
            "text/html": [
              "<div>\n",
              "<style scoped>\n",
              "    .dataframe tbody tr th:only-of-type {\n",
              "        vertical-align: middle;\n",
              "    }\n",
              "\n",
              "    .dataframe tbody tr th {\n",
              "        vertical-align: top;\n",
              "    }\n",
              "\n",
              "    .dataframe thead th {\n",
              "        text-align: right;\n",
              "    }\n",
              "</style>\n",
              "<table border=\"1\" class=\"dataframe\">\n",
              "  <thead>\n",
              "    <tr style=\"text-align: right;\">\n",
              "      <th></th>\n",
              "      <th>class</th>\n",
              "    </tr>\n",
              "  </thead>\n",
              "  <tbody>\n",
              "    <tr>\n",
              "      <th>35</th>\n",
              "      <td>0</td>\n",
              "    </tr>\n",
              "    <tr>\n",
              "      <th>34</th>\n",
              "      <td>0</td>\n",
              "    </tr>\n",
              "    <tr>\n",
              "      <th>286</th>\n",
              "      <td>1</td>\n",
              "    </tr>\n",
              "    <tr>\n",
              "      <th>454</th>\n",
              "      <td>1</td>\n",
              "    </tr>\n",
              "    <tr>\n",
              "      <th>296</th>\n",
              "      <td>1</td>\n",
              "    </tr>\n",
              "  </tbody>\n",
              "</table>\n",
              "</div>"
            ],
            "text/plain": [
              "     class\n",
              "35       0\n",
              "34       0\n",
              "286      1\n",
              "454      1\n",
              "296      1"
            ]
          },
          "metadata": {
            "tags": []
          }
        }
      ]
    },
    {
      "cell_type": "code",
      "metadata": {
        "id": "upv0i2JbHwaW"
      },
      "source": [
        "from tensorflow import keras\n",
        "from tensorflow.keras import layers\n",
        "import tensorflow as tf\n",
        "\n",
        "model = keras.Sequential([\n",
        "    layers.Dense(8, activation='sigmoid', input_shape=[9]),\n",
        "    layers.Dense(1, activation='sigmoid'),\n",
        "])"
      ],
      "execution_count": 42,
      "outputs": []
    },
    {
      "cell_type": "code",
      "metadata": {
        "colab": {
          "base_uri": "https://localhost:8080/"
        },
        "id": "p0mJZuMZNczr",
        "outputId": "2958188f-35a9-4b5f-dbaa-883f415d33f9"
      },
      "source": [
        "model.summary()"
      ],
      "execution_count": 43,
      "outputs": [
        {
          "output_type": "stream",
          "text": [
            "Model: \"sequential_1\"\n",
            "_________________________________________________________________\n",
            "Layer (type)                 Output Shape              Param #   \n",
            "=================================================================\n",
            "dense_6 (Dense)              (None, 8)                 80        \n",
            "_________________________________________________________________\n",
            "dense_7 (Dense)              (None, 1)                 9         \n",
            "=================================================================\n",
            "Total params: 89\n",
            "Trainable params: 89\n",
            "Non-trainable params: 0\n",
            "_________________________________________________________________\n"
          ],
          "name": "stdout"
        }
      ]
    },
    {
      "cell_type": "code",
      "metadata": {
        "id": "w2HpmsH3H9e-"
      },
      "source": [
        "model.compile(\n",
        "    loss='binary_crossentropy',\n",
        "    metrics=['binary_accuracy'],\n",
        ")"
      ],
      "execution_count": 44,
      "outputs": []
    },
    {
      "cell_type": "code",
      "metadata": {
        "colab": {
          "base_uri": "https://localhost:8080/"
        },
        "id": "8iIp7JWzIBWd",
        "outputId": "35e8a7de-91d3-4a70-f96a-c03f6bd65496"
      },
      "source": [
        "from numpy.random import seed\n",
        "seed(123)\n",
        "tf.random.set_seed(123)\n",
        "\n",
        "history = model.fit(\n",
        "    X_train, y_train,\n",
        "    batch_size=1,\n",
        "    validation_split=0.3,\n",
        "    epochs=20,\n",
        "    verbose=1, # hide the output because we have so many epochs\n",
        ")"
      ],
      "execution_count": 45,
      "outputs": [
        {
          "output_type": "stream",
          "text": [
            "Epoch 1/20\n",
            "342/342 [==============================] - 1s 2ms/step - loss: 0.6517 - binary_accuracy: 0.6637 - val_loss: 0.6296 - val_binary_accuracy: 0.6327\n",
            "Epoch 2/20\n",
            "342/342 [==============================] - 1s 1ms/step - loss: 0.5774 - binary_accuracy: 0.6813 - val_loss: 0.5947 - val_binary_accuracy: 0.6259\n",
            "Epoch 3/20\n",
            "342/342 [==============================] - 0s 1ms/step - loss: 0.5395 - binary_accuracy: 0.6871 - val_loss: 0.5573 - val_binary_accuracy: 0.6259\n",
            "Epoch 4/20\n",
            "342/342 [==============================] - 0s 1ms/step - loss: 0.5100 - binary_accuracy: 0.6901 - val_loss: 0.5242 - val_binary_accuracy: 0.6259\n",
            "Epoch 5/20\n",
            "342/342 [==============================] - 0s 1ms/step - loss: 0.4753 - binary_accuracy: 0.7573 - val_loss: 0.4717 - val_binary_accuracy: 0.8163\n",
            "Epoch 6/20\n",
            "342/342 [==============================] - 1s 1ms/step - loss: 0.4291 - binary_accuracy: 0.8480 - val_loss: 0.4243 - val_binary_accuracy: 0.8639\n",
            "Epoch 7/20\n",
            "342/342 [==============================] - 0s 1ms/step - loss: 0.3948 - binary_accuracy: 0.8947 - val_loss: 0.3815 - val_binary_accuracy: 0.9184\n",
            "Epoch 8/20\n",
            "342/342 [==============================] - 0s 1ms/step - loss: 0.3566 - binary_accuracy: 0.9094 - val_loss: 0.3542 - val_binary_accuracy: 0.8912\n",
            "Epoch 9/20\n",
            "342/342 [==============================] - 0s 1ms/step - loss: 0.3290 - binary_accuracy: 0.9094 - val_loss: 0.3129 - val_binary_accuracy: 0.9320\n",
            "Epoch 10/20\n",
            "342/342 [==============================] - 0s 1ms/step - loss: 0.2943 - binary_accuracy: 0.9181 - val_loss: 0.2778 - val_binary_accuracy: 0.9320\n",
            "Epoch 11/20\n",
            "342/342 [==============================] - 0s 1ms/step - loss: 0.2646 - binary_accuracy: 0.9269 - val_loss: 0.2565 - val_binary_accuracy: 0.9320\n",
            "Epoch 12/20\n",
            "342/342 [==============================] - 0s 1ms/step - loss: 0.2497 - binary_accuracy: 0.9298 - val_loss: 0.2387 - val_binary_accuracy: 0.9388\n",
            "Epoch 13/20\n",
            "342/342 [==============================] - 0s 1ms/step - loss: 0.2292 - binary_accuracy: 0.9327 - val_loss: 0.2280 - val_binary_accuracy: 0.9388\n",
            "Epoch 14/20\n",
            "342/342 [==============================] - 1s 1ms/step - loss: 0.2107 - binary_accuracy: 0.9386 - val_loss: 0.2191 - val_binary_accuracy: 0.9388\n",
            "Epoch 15/20\n",
            "342/342 [==============================] - 0s 1ms/step - loss: 0.2103 - binary_accuracy: 0.9386 - val_loss: 0.2124 - val_binary_accuracy: 0.9320\n",
            "Epoch 16/20\n",
            "342/342 [==============================] - 0s 1ms/step - loss: 0.1921 - binary_accuracy: 0.9415 - val_loss: 0.2085 - val_binary_accuracy: 0.9388\n",
            "Epoch 17/20\n",
            "342/342 [==============================] - 1s 1ms/step - loss: 0.1824 - binary_accuracy: 0.9474 - val_loss: 0.2100 - val_binary_accuracy: 0.9388\n",
            "Epoch 18/20\n",
            "342/342 [==============================] - 0s 1ms/step - loss: 0.1740 - binary_accuracy: 0.9532 - val_loss: 0.2087 - val_binary_accuracy: 0.9388\n",
            "Epoch 19/20\n",
            "342/342 [==============================] - 0s 1ms/step - loss: 0.1613 - binary_accuracy: 0.9386 - val_loss: 0.2021 - val_binary_accuracy: 0.9388\n",
            "Epoch 20/20\n",
            "342/342 [==============================] - 0s 1ms/step - loss: 0.1651 - binary_accuracy: 0.9532 - val_loss: 0.2044 - val_binary_accuracy: 0.9320\n"
          ],
          "name": "stdout"
        }
      ]
    },
    {
      "cell_type": "code",
      "metadata": {
        "id": "GilxZL8fQ5kU"
      },
      "source": [
        "def display_hist(history):\n",
        "  history_df = pd.DataFrame(history.history)\n",
        "  display(history_df.head())\n",
        "  # Start the plot at epoch 0\n",
        "  history_df.loc[0:, ['loss', 'val_loss']].plot()\n",
        "  history_df.loc[0:, ['binary_accuracy', 'val_binary_accuracy']].plot()\n",
        "\n",
        "  print((\"Best Validation Loss: {:0.4f}\" +\\\n",
        "      \"\\nBest Validation Accuracy: {:0.4f}\")\\\n",
        "      .format(history_df['val_loss'].min(), \n",
        "              history_df['val_binary_accuracy'].max()))\n",
        "  return\n",
        "\n",
        "  "
      ],
      "execution_count": 46,
      "outputs": []
    },
    {
      "cell_type": "code",
      "metadata": {
        "colab": {
          "base_uri": "https://localhost:8080/",
          "height": 734
        },
        "id": "DP03W_cuo1WX",
        "outputId": "318ec9ba-4c77-47dc-e039-8f47606d7203"
      },
      "source": [
        "display_hist(history)  "
      ],
      "execution_count": 47,
      "outputs": [
        {
          "output_type": "display_data",
          "data": {
            "text/html": [
              "<div>\n",
              "<style scoped>\n",
              "    .dataframe tbody tr th:only-of-type {\n",
              "        vertical-align: middle;\n",
              "    }\n",
              "\n",
              "    .dataframe tbody tr th {\n",
              "        vertical-align: top;\n",
              "    }\n",
              "\n",
              "    .dataframe thead th {\n",
              "        text-align: right;\n",
              "    }\n",
              "</style>\n",
              "<table border=\"1\" class=\"dataframe\">\n",
              "  <thead>\n",
              "    <tr style=\"text-align: right;\">\n",
              "      <th></th>\n",
              "      <th>loss</th>\n",
              "      <th>binary_accuracy</th>\n",
              "      <th>val_loss</th>\n",
              "      <th>val_binary_accuracy</th>\n",
              "    </tr>\n",
              "  </thead>\n",
              "  <tbody>\n",
              "    <tr>\n",
              "      <th>0</th>\n",
              "      <td>0.651726</td>\n",
              "      <td>0.663743</td>\n",
              "      <td>0.629628</td>\n",
              "      <td>0.632653</td>\n",
              "    </tr>\n",
              "    <tr>\n",
              "      <th>1</th>\n",
              "      <td>0.577407</td>\n",
              "      <td>0.681287</td>\n",
              "      <td>0.594671</td>\n",
              "      <td>0.625850</td>\n",
              "    </tr>\n",
              "    <tr>\n",
              "      <th>2</th>\n",
              "      <td>0.539457</td>\n",
              "      <td>0.687135</td>\n",
              "      <td>0.557316</td>\n",
              "      <td>0.625850</td>\n",
              "    </tr>\n",
              "    <tr>\n",
              "      <th>3</th>\n",
              "      <td>0.509954</td>\n",
              "      <td>0.690058</td>\n",
              "      <td>0.524173</td>\n",
              "      <td>0.625850</td>\n",
              "    </tr>\n",
              "    <tr>\n",
              "      <th>4</th>\n",
              "      <td>0.475315</td>\n",
              "      <td>0.757310</td>\n",
              "      <td>0.471664</td>\n",
              "      <td>0.816327</td>\n",
              "    </tr>\n",
              "  </tbody>\n",
              "</table>\n",
              "</div>"
            ],
            "text/plain": [
              "       loss  binary_accuracy  val_loss  val_binary_accuracy\n",
              "0  0.651726         0.663743  0.629628             0.632653\n",
              "1  0.577407         0.681287  0.594671             0.625850\n",
              "2  0.539457         0.687135  0.557316             0.625850\n",
              "3  0.509954         0.690058  0.524173             0.625850\n",
              "4  0.475315         0.757310  0.471664             0.816327"
            ]
          },
          "metadata": {
            "tags": []
          }
        },
        {
          "output_type": "stream",
          "text": [
            "Best Validation Loss: 0.2021\n",
            "Best Validation Accuracy: 0.9388\n"
          ],
          "name": "stdout"
        },
        {
          "output_type": "display_data",
          "data": {
            "image/png": "[encoded data removed]",
            "text/plain": [
              "<Figure size 432x288 with 1 Axes>"
            ]
          },
          "metadata": {
            "tags": [],
            "needs_background": "light"
          }
        },
        {
          "output_type": "display_data",
          "data": {
            "image/png": "[encoded data removed]",
            "text/plain": [
              "<Figure size 432x288 with 1 Axes>"
            ]
          },
          "metadata": {
            "tags": [],
            "needs_background": "light"
          }
        }
      ]
    },
    {
      "cell_type": "code",
      "metadata": {
        "id": "JsWWHhtHnqAe"
      },
      "source": [
        "from sklearn.metrics import confusion_matrix, classification_report, accuracy_score\n",
        "def print_results(y_test, y_pred):\n",
        "  print('Matriz de Confusão: \\n' , confusion_matrix(y_test, y_pred))\n",
        "  print(classification_report(y_test, y_pred))\n",
        "  print('Acuracidade: ' , accuracy_score(y_test, y_pred))\n",
        "  return"
      ],
      "execution_count": 52,
      "outputs": []
    },
    {
      "cell_type": "code",
      "metadata": {
        "colab": {
          "base_uri": "https://localhost:8080/"
        },
        "id": "z_0jZ0MBJ-4t",
        "outputId": "865f4d7e-ba3d-4dc3-ee52-d4d4ec9d676f"
      },
      "source": [
        "y_pred = model.predict(X_test) > 0.5\n",
        "\n",
        "print_results(y_test, y_pred)\n"
      ],
      "execution_count": 53,
      "outputs": [
        {
          "output_type": "stream",
          "text": [
            "Matriz de Confusão: \n",
            " [[127   4]\n",
            " [  6  73]]\n",
            "              precision    recall  f1-score   support\n",
            "\n",
            "           0       0.95      0.97      0.96       131\n",
            "           1       0.95      0.92      0.94        79\n",
            "\n",
            "    accuracy                           0.95       210\n",
            "   macro avg       0.95      0.95      0.95       210\n",
            "weighted avg       0.95      0.95      0.95       210\n",
            "\n",
            "Acuracidade:  0.9523809523809523\n"
          ],
          "name": "stdout"
        }
      ]
    },
    {
      "cell_type": "markdown",
      "metadata": {
        "id": "ZRXaWedTPdQg"
      },
      "source": [
        "# Functional API 1\n"
      ]
    },
    {
      "cell_type": "code",
      "metadata": {
        "colab": {
          "base_uri": "https://localhost:8080/"
        },
        "id": "TUVhqFvoPdQq",
        "outputId": "e24b1589-8a69-49f1-d922-fa011941ece9"
      },
      "source": [
        "from tensorflow.keras.models import Model\n",
        "from tensorflow.keras.layers import Input, Dense\n",
        "# This returns a tensor\n",
        "inputs = Input(shape=(9,))\n",
        "# A layer instance is callable on a tensor, and returns a tensor\n",
        "x = Dense(8, activation='sigmoid')(inputs)\n",
        "outputs = Dense(1, activation='sigmoid')(x)\n",
        "# This creates a model that includes\n",
        "# the Input layer and three Dense layers\n",
        "model = Model(inputs=inputs, outputs=outputs)\n",
        "model.summary()"
      ],
      "execution_count": 61,
      "outputs": [
        {
          "output_type": "stream",
          "text": [
            "Model: \"model_2\"\n",
            "_________________________________________________________________\n",
            "Layer (type)                 Output Shape              Param #   \n",
            "=================================================================\n",
            "input_3 (InputLayer)         [(None, 9)]               0         \n",
            "_________________________________________________________________\n",
            "dense_10 (Dense)             (None, 8)                 80        \n",
            "_________________________________________________________________\n",
            "dense_11 (Dense)             (None, 1)                 9         \n",
            "=================================================================\n",
            "Total params: 89\n",
            "Trainable params: 89\n",
            "Non-trainable params: 0\n",
            "_________________________________________________________________\n"
          ],
          "name": "stdout"
        }
      ]
    },
    {
      "cell_type": "code",
      "metadata": {
        "id": "X0VPgRhsPdQq"
      },
      "source": [
        "model.compile(\n",
        "    loss='binary_crossentropy',\n",
        "    metrics=['binary_accuracy'],\n",
        ")\n"
      ],
      "execution_count": 62,
      "outputs": []
    },
    {
      "cell_type": "code",
      "metadata": {
        "colab": {
          "base_uri": "https://localhost:8080/"
        },
        "id": "KGbE9yM9PdQr",
        "outputId": "cfa03fdb-19e1-4dc7-aeab-d580b0340ce5"
      },
      "source": [
        "history = model.fit(\n",
        "    X_train, y_train,\n",
        "    batch_size=1,\n",
        "    validation_split=0.3,\n",
        "    epochs=20,\n",
        "    verbose=1, # hide the output because we have so many epochs\n",
        ")"
      ],
      "execution_count": 63,
      "outputs": [
        {
          "output_type": "stream",
          "text": [
            "Epoch 1/20\n",
            "342/342 [==============================] - 1s 2ms/step - loss: 0.6517 - binary_accuracy: 0.6637 - val_loss: 0.6296 - val_binary_accuracy: 0.6327\n",
            "Epoch 2/20\n",
            "342/342 [==============================] - 1s 1ms/step - loss: 0.5774 - binary_accuracy: 0.6813 - val_loss: 0.5947 - val_binary_accuracy: 0.6259\n",
            "Epoch 3/20\n",
            "342/342 [==============================] - 0s 1ms/step - loss: 0.5395 - binary_accuracy: 0.6871 - val_loss: 0.5573 - val_binary_accuracy: 0.6259\n",
            "Epoch 4/20\n",
            "342/342 [==============================] - 0s 1ms/step - loss: 0.5100 - binary_accuracy: 0.6901 - val_loss: 0.5242 - val_binary_accuracy: 0.6259\n",
            "Epoch 5/20\n",
            "342/342 [==============================] - 0s 1ms/step - loss: 0.4753 - binary_accuracy: 0.7573 - val_loss: 0.4717 - val_binary_accuracy: 0.8163\n",
            "Epoch 6/20\n",
            "342/342 [==============================] - 0s 1ms/step - loss: 0.4291 - binary_accuracy: 0.8480 - val_loss: 0.4243 - val_binary_accuracy: 0.8639\n",
            "Epoch 7/20\n",
            "342/342 [==============================] - 0s 1ms/step - loss: 0.3948 - binary_accuracy: 0.8947 - val_loss: 0.3815 - val_binary_accuracy: 0.9184\n",
            "Epoch 8/20\n",
            "342/342 [==============================] - 0s 1ms/step - loss: 0.3566 - binary_accuracy: 0.9094 - val_loss: 0.3542 - val_binary_accuracy: 0.8912\n",
            "Epoch 9/20\n",
            "342/342 [==============================] - 0s 1ms/step - loss: 0.3290 - binary_accuracy: 0.9094 - val_loss: 0.3129 - val_binary_accuracy: 0.9320\n",
            "Epoch 10/20\n",
            "342/342 [==============================] - 0s 1ms/step - loss: 0.2943 - binary_accuracy: 0.9181 - val_loss: 0.2778 - val_binary_accuracy: 0.9320\n",
            "Epoch 11/20\n",
            "342/342 [==============================] - 0s 1ms/step - loss: 0.2646 - binary_accuracy: 0.9269 - val_loss: 0.2565 - val_binary_accuracy: 0.9320\n",
            "Epoch 12/20\n",
            "342/342 [==============================] - 0s 1ms/step - loss: 0.2497 - binary_accuracy: 0.9298 - val_loss: 0.2387 - val_binary_accuracy: 0.9388\n",
            "Epoch 13/20\n",
            "342/342 [==============================] - 0s 1ms/step - loss: 0.2292 - binary_accuracy: 0.9327 - val_loss: 0.2280 - val_binary_accuracy: 0.9388\n",
            "Epoch 14/20\n",
            "342/342 [==============================] - 0s 1ms/step - loss: 0.2107 - binary_accuracy: 0.9386 - val_loss: 0.2191 - val_binary_accuracy: 0.9388\n",
            "Epoch 15/20\n",
            "342/342 [==============================] - 0s 1ms/step - loss: 0.2103 - binary_accuracy: 0.9386 - val_loss: 0.2124 - val_binary_accuracy: 0.9320\n",
            "Epoch 16/20\n",
            "342/342 [==============================] - 0s 1ms/step - loss: 0.1921 - binary_accuracy: 0.9415 - val_loss: 0.2085 - val_binary_accuracy: 0.9388\n",
            "Epoch 17/20\n",
            "342/342 [==============================] - 0s 1ms/step - loss: 0.1824 - binary_accuracy: 0.9474 - val_loss: 0.2100 - val_binary_accuracy: 0.9388\n",
            "Epoch 18/20\n",
            "342/342 [==============================] - 0s 1ms/step - loss: 0.1740 - binary_accuracy: 0.9532 - val_loss: 0.2087 - val_binary_accuracy: 0.9388\n",
            "Epoch 19/20\n",
            "342/342 [==============================] - 0s 1ms/step - loss: 0.1613 - binary_accuracy: 0.9386 - val_loss: 0.2021 - val_binary_accuracy: 0.9388\n",
            "Epoch 20/20\n",
            "342/342 [==============================] - 0s 1ms/step - loss: 0.1651 - binary_accuracy: 0.9532 - val_loss: 0.2044 - val_binary_accuracy: 0.9320\n"
          ],
          "name": "stdout"
        }
      ]
    },
    {
      "cell_type": "code",
      "metadata": {
        "colab": {
          "base_uri": "https://localhost:8080/",
          "height": 734
        },
        "id": "2Wjc8WviQ-cB",
        "outputId": "8095ef16-c0c5-48b2-daf5-23644b530fbd"
      },
      "source": [
        "display_hist(history)  "
      ],
      "execution_count": 64,
      "outputs": [
        {
          "output_type": "display_data",
          "data": {
            "text/html": [
              "<div>\n",
              "<style scoped>\n",
              "    .dataframe tbody tr th:only-of-type {\n",
              "        vertical-align: middle;\n",
              "    }\n",
              "\n",
              "    .dataframe tbody tr th {\n",
              "        vertical-align: top;\n",
              "    }\n",
              "\n",
              "    .dataframe thead th {\n",
              "        text-align: right;\n",
              "    }\n",
              "</style>\n",
              "<table border=\"1\" class=\"dataframe\">\n",
              "  <thead>\n",
              "    <tr style=\"text-align: right;\">\n",
              "      <th></th>\n",
              "      <th>loss</th>\n",
              "      <th>binary_accuracy</th>\n",
              "      <th>val_loss</th>\n",
              "      <th>val_binary_accuracy</th>\n",
              "    </tr>\n",
              "  </thead>\n",
              "  <tbody>\n",
              "    <tr>\n",
              "      <th>0</th>\n",
              "      <td>0.651726</td>\n",
              "      <td>0.663743</td>\n",
              "      <td>0.629628</td>\n",
              "      <td>0.632653</td>\n",
              "    </tr>\n",
              "    <tr>\n",
              "      <th>1</th>\n",
              "      <td>0.577407</td>\n",
              "      <td>0.681287</td>\n",
              "      <td>0.594671</td>\n",
              "      <td>0.625850</td>\n",
              "    </tr>\n",
              "    <tr>\n",
              "      <th>2</th>\n",
              "      <td>0.539457</td>\n",
              "      <td>0.687135</td>\n",
              "      <td>0.557316</td>\n",
              "      <td>0.625850</td>\n",
              "    </tr>\n",
              "    <tr>\n",
              "      <th>3</th>\n",
              "      <td>0.509954</td>\n",
              "      <td>0.690058</td>\n",
              "      <td>0.524173</td>\n",
              "      <td>0.625850</td>\n",
              "    </tr>\n",
              "    <tr>\n",
              "      <th>4</th>\n",
              "      <td>0.475315</td>\n",
              "      <td>0.757310</td>\n",
              "      <td>0.471664</td>\n",
              "      <td>0.816327</td>\n",
              "    </tr>\n",
              "  </tbody>\n",
              "</table>\n",
              "</div>"
            ],
            "text/plain": [
              "       loss  binary_accuracy  val_loss  val_binary_accuracy\n",
              "0  0.651726         0.663743  0.629628             0.632653\n",
              "1  0.577407         0.681287  0.594671             0.625850\n",
              "2  0.539457         0.687135  0.557316             0.625850\n",
              "3  0.509954         0.690058  0.524173             0.625850\n",
              "4  0.475315         0.757310  0.471664             0.816327"
            ]
          },
          "metadata": {
            "tags": []
          }
        },
        {
          "output_type": "stream",
          "text": [
            "Best Validation Loss: 0.2021\n",
            "Best Validation Accuracy: 0.9388\n"
          ],
          "name": "stdout"
        },
        {
          "output_type": "display_data",
          "data": {
            "image/png": "[encoded data removed]",
            "text/plain": [
              "<Figure size 432x288 with 1 Axes>"
            ]
          },
          "metadata": {
            "tags": [],
            "needs_background": "light"
          }
        },
        {
          "output_type": "display_data",
          "data": {
            "image/png": "[encoded data removed]",
            "text/plain": [
              "<Figure size 432x288 with 1 Axes>"
            ]
          },
          "metadata": {
            "tags": [],
            "needs_background": "light"
          }
        }
      ]
    },
    {
      "cell_type": "code",
      "metadata": {
        "colab": {
          "base_uri": "https://localhost:8080/"
        },
        "id": "-yq5FHK_PdQr",
        "outputId": "4399f604-455c-4b73-cc7e-1f629e859aa7"
      },
      "source": [
        "y_pred = model.predict(X_test) > 0.5\n",
        "\n",
        "print_results(y_test, y_pred)\n",
        "\n"
      ],
      "execution_count": 65,
      "outputs": [
        {
          "output_type": "stream",
          "text": [
            "Matriz de Confusão: \n",
            " [[127   4]\n",
            " [  6  73]]\n",
            "              precision    recall  f1-score   support\n",
            "\n",
            "           0       0.95      0.97      0.96       131\n",
            "           1       0.95      0.92      0.94        79\n",
            "\n",
            "    accuracy                           0.95       210\n",
            "   macro avg       0.95      0.95      0.95       210\n",
            "weighted avg       0.95      0.95      0.95       210\n",
            "\n",
            "Acuracidade:  0.9523809523809523\n"
          ],
          "name": "stdout"
        }
      ]
    },
    {
      "cell_type": "markdown",
      "metadata": {
        "id": "Jb4wQSfwSf2l"
      },
      "source": [
        "# Basic 1"
      ]
    },
    {
      "cell_type": "code",
      "metadata": {
        "id": "n4laYo-zSf2w"
      },
      "source": [
        "from tensorflow.keras.models import Model\n",
        "from tensorflow.keras.layers import Dense\n",
        "class MyModel(Model):\n",
        "    \n",
        "    def __init__(self, **kwargs):\n",
        "        super(MyModel, self).__init__(**kwargs)\n",
        "        self.dense1 = Dense(8, activation='sigmoid',input_shape=[9])\n",
        "        self.dense2 = Dense(1, activation='sigmoid')        \n",
        "        \n",
        "    def call(self, inputs):\n",
        "        x = self.dense1(inputs)\n",
        "        return self.dense2(x)\n",
        "\n",
        "neural_net = MyModel(name='MyModel')"
      ],
      "execution_count": 66,
      "outputs": []
    },
    {
      "cell_type": "code",
      "metadata": {
        "colab": {
          "base_uri": "https://localhost:8080/"
        },
        "id": "3PSY3hiMSf2w",
        "outputId": "52b1da42-2adf-440e-9580-23b281f33c47"
      },
      "source": [
        "X_test = tf.Variable(X_test)\n",
        "neural_net(X_test)[0:10]\n",
        "\n"
      ],
      "execution_count": 71,
      "outputs": [
        {
          "output_type": "execute_result",
          "data": {
            "text/plain": [
              "<tf.Tensor: shape=(10, 1), dtype=float32, numpy=\n",
              "array([[0.9767399 ],\n",
              "       [0.00379056],\n",
              "       [0.8561349 ],\n",
              "       [0.00236672],\n",
              "       [0.00390708],\n",
              "       [0.00379056],\n",
              "       [0.06180656],\n",
              "       [0.00379056],\n",
              "       [0.97126186],\n",
              "       [0.5900558 ]], dtype=float32)>"
            ]
          },
          "metadata": {
            "tags": []
          },
          "execution_count": 71
        }
      ]
    },
    {
      "cell_type": "code",
      "metadata": {
        "id": "DV_yA_zUkffA"
      },
      "source": [
        "neural_net.compile(\n",
        "    loss='binary_crossentropy',\n",
        "    metrics=['binary_accuracy'],\n",
        ")\n"
      ],
      "execution_count": 67,
      "outputs": []
    },
    {
      "cell_type": "code",
      "metadata": {
        "colab": {
          "base_uri": "https://localhost:8080/"
        },
        "id": "L_GPM7JMkffK",
        "outputId": "bd788a62-320e-4a98-984d-7e9349823303"
      },
      "source": [
        "history = neural_net.fit(\n",
        "    X_train, y_train,\n",
        "    batch_size=1,\n",
        "    validation_split=0.3,\n",
        "    epochs=20,\n",
        "    verbose=1, # hide the output because we have so many epochs\n",
        ")"
      ],
      "execution_count": 68,
      "outputs": [
        {
          "output_type": "stream",
          "text": [
            "Epoch 1/20\n",
            "342/342 [==============================] - 1s 2ms/step - loss: 0.5590 - binary_accuracy: 0.7135 - val_loss: 0.5430 - val_binary_accuracy: 0.6871\n",
            "Epoch 2/20\n",
            "342/342 [==============================] - 0s 1ms/step - loss: 0.4663 - binary_accuracy: 0.8012 - val_loss: 0.4856 - val_binary_accuracy: 0.7755\n",
            "Epoch 3/20\n",
            "342/342 [==============================] - 0s 1ms/step - loss: 0.4065 - binary_accuracy: 0.8480 - val_loss: 0.4273 - val_binary_accuracy: 0.8435\n",
            "Epoch 4/20\n",
            "342/342 [==============================] - 0s 1ms/step - loss: 0.3483 - binary_accuracy: 0.8947 - val_loss: 0.3771 - val_binary_accuracy: 0.8707\n",
            "Epoch 5/20\n",
            "342/342 [==============================] - 0s 1ms/step - loss: 0.3010 - binary_accuracy: 0.9240 - val_loss: 0.3297 - val_binary_accuracy: 0.8980\n",
            "Epoch 6/20\n",
            "342/342 [==============================] - 0s 1ms/step - loss: 0.2580 - binary_accuracy: 0.9415 - val_loss: 0.3013 - val_binary_accuracy: 0.9048\n",
            "Epoch 7/20\n",
            "342/342 [==============================] - 0s 1ms/step - loss: 0.2293 - binary_accuracy: 0.9474 - val_loss: 0.2709 - val_binary_accuracy: 0.9252\n",
            "Epoch 8/20\n",
            "342/342 [==============================] - 0s 1ms/step - loss: 0.1996 - binary_accuracy: 0.9503 - val_loss: 0.2648 - val_binary_accuracy: 0.9252\n",
            "Epoch 9/20\n",
            "342/342 [==============================] - 0s 1ms/step - loss: 0.1846 - binary_accuracy: 0.9503 - val_loss: 0.2472 - val_binary_accuracy: 0.9320\n",
            "Epoch 10/20\n",
            "342/342 [==============================] - 0s 1ms/step - loss: 0.1701 - binary_accuracy: 0.9561 - val_loss: 0.2412 - val_binary_accuracy: 0.9320\n",
            "Epoch 11/20\n",
            "342/342 [==============================] - 0s 1ms/step - loss: 0.1585 - binary_accuracy: 0.9620 - val_loss: 0.2421 - val_binary_accuracy: 0.9320\n",
            "Epoch 12/20\n",
            "342/342 [==============================] - 0s 1ms/step - loss: 0.1530 - binary_accuracy: 0.9532 - val_loss: 0.2340 - val_binary_accuracy: 0.9320\n",
            "Epoch 13/20\n",
            "342/342 [==============================] - 0s 1ms/step - loss: 0.1440 - binary_accuracy: 0.9620 - val_loss: 0.2323 - val_binary_accuracy: 0.9320\n",
            "Epoch 14/20\n",
            "342/342 [==============================] - 0s 1ms/step - loss: 0.1360 - binary_accuracy: 0.9620 - val_loss: 0.2447 - val_binary_accuracy: 0.9320\n",
            "Epoch 15/20\n",
            "342/342 [==============================] - 0s 1ms/step - loss: 0.1393 - binary_accuracy: 0.9561 - val_loss: 0.2366 - val_binary_accuracy: 0.9320\n",
            "Epoch 16/20\n",
            "342/342 [==============================] - 0s 1ms/step - loss: 0.1320 - binary_accuracy: 0.9591 - val_loss: 0.2355 - val_binary_accuracy: 0.9320\n",
            "Epoch 17/20\n",
            "342/342 [==============================] - 0s 1ms/step - loss: 0.1283 - binary_accuracy: 0.9649 - val_loss: 0.2357 - val_binary_accuracy: 0.9320\n",
            "Epoch 18/20\n",
            "342/342 [==============================] - 0s 1ms/step - loss: 0.1282 - binary_accuracy: 0.9649 - val_loss: 0.2386 - val_binary_accuracy: 0.9320\n",
            "Epoch 19/20\n",
            "342/342 [==============================] - 0s 1ms/step - loss: 0.1221 - binary_accuracy: 0.9649 - val_loss: 0.2531 - val_binary_accuracy: 0.9320\n",
            "Epoch 20/20\n",
            "342/342 [==============================] - 0s 1ms/step - loss: 0.1286 - binary_accuracy: 0.9649 - val_loss: 0.2449 - val_binary_accuracy: 0.9320\n"
          ],
          "name": "stdout"
        }
      ]
    },
    {
      "cell_type": "code",
      "metadata": {
        "colab": {
          "base_uri": "https://localhost:8080/",
          "height": 734
        },
        "id": "kjIFhFVQk2ci",
        "outputId": "0336973a-0096-4301-954c-8827cf0e463c"
      },
      "source": [
        "display_hist(history)  "
      ],
      "execution_count": 69,
      "outputs": [
        {
          "output_type": "display_data",
          "data": {
            "text/html": [
              "<div>\n",
              "<style scoped>\n",
              "    .dataframe tbody tr th:only-of-type {\n",
              "        vertical-align: middle;\n",
              "    }\n",
              "\n",
              "    .dataframe tbody tr th {\n",
              "        vertical-align: top;\n",
              "    }\n",
              "\n",
              "    .dataframe thead th {\n",
              "        text-align: right;\n",
              "    }\n",
              "</style>\n",
              "<table border=\"1\" class=\"dataframe\">\n",
              "  <thead>\n",
              "    <tr style=\"text-align: right;\">\n",
              "      <th></th>\n",
              "      <th>loss</th>\n",
              "      <th>binary_accuracy</th>\n",
              "      <th>val_loss</th>\n",
              "      <th>val_binary_accuracy</th>\n",
              "    </tr>\n",
              "  </thead>\n",
              "  <tbody>\n",
              "    <tr>\n",
              "      <th>0</th>\n",
              "      <td>0.558964</td>\n",
              "      <td>0.713450</td>\n",
              "      <td>0.543041</td>\n",
              "      <td>0.687075</td>\n",
              "    </tr>\n",
              "    <tr>\n",
              "      <th>1</th>\n",
              "      <td>0.466293</td>\n",
              "      <td>0.801170</td>\n",
              "      <td>0.485624</td>\n",
              "      <td>0.775510</td>\n",
              "    </tr>\n",
              "    <tr>\n",
              "      <th>2</th>\n",
              "      <td>0.406545</td>\n",
              "      <td>0.847953</td>\n",
              "      <td>0.427273</td>\n",
              "      <td>0.843537</td>\n",
              "    </tr>\n",
              "    <tr>\n",
              "      <th>3</th>\n",
              "      <td>0.348263</td>\n",
              "      <td>0.894737</td>\n",
              "      <td>0.377120</td>\n",
              "      <td>0.870748</td>\n",
              "    </tr>\n",
              "    <tr>\n",
              "      <th>4</th>\n",
              "      <td>0.301009</td>\n",
              "      <td>0.923977</td>\n",
              "      <td>0.329724</td>\n",
              "      <td>0.897959</td>\n",
              "    </tr>\n",
              "  </tbody>\n",
              "</table>\n",
              "</div>"
            ],
            "text/plain": [
              "       loss  binary_accuracy  val_loss  val_binary_accuracy\n",
              "0  0.558964         0.713450  0.543041             0.687075\n",
              "1  0.466293         0.801170  0.485624             0.775510\n",
              "2  0.406545         0.847953  0.427273             0.843537\n",
              "3  0.348263         0.894737  0.377120             0.870748\n",
              "4  0.301009         0.923977  0.329724             0.897959"
            ]
          },
          "metadata": {
            "tags": []
          }
        },
        {
          "output_type": "stream",
          "text": [
            "Best Validation Loss: 0.2323\n",
            "Best Validation Accuracy: 0.9320\n"
          ],
          "name": "stdout"
        },
        {
          "output_type": "display_data",
          "data": {
            "image/png": "[encoded data removed]",
            "text/plain": [
              "<Figure size 432x288 with 1 Axes>"
            ]
          },
          "metadata": {
            "tags": [],
            "needs_background": "light"
          }
        },
        {
          "output_type": "display_data",
          "data": {
            "image/png": "[encoded data removed]",
            "text/plain": [
              "<Figure size 432x288 with 1 Axes>"
            ]
          },
          "metadata": {
            "tags": [],
            "needs_background": "light"
          }
        }
      ]
    },
    {
      "cell_type": "code",
      "metadata": {
        "colab": {
          "base_uri": "https://localhost:8080/"
        },
        "id": "KoSgDIMjqzrG",
        "outputId": "c33302d0-6813-4f5f-866a-a909cefd4bb1"
      },
      "source": [
        "y_pred = model.predict(X_test) > 0.5\n",
        "\n",
        "print_results(y_test, y_pred)\n",
        "\n"
      ],
      "execution_count": 70,
      "outputs": [
        {
          "output_type": "stream",
          "text": [
            "Matriz de Confusão: \n",
            " [[127   4]\n",
            " [  6  73]]\n",
            "              precision    recall  f1-score   support\n",
            "\n",
            "           0       0.95      0.97      0.96       131\n",
            "           1       0.95      0.92      0.94        79\n",
            "\n",
            "    accuracy                           0.95       210\n",
            "   macro avg       0.95      0.95      0.95       210\n",
            "weighted avg       0.95      0.95      0.95       210\n",
            "\n",
            "Acuracidade:  0.9523809523809523\n"
          ],
          "name": "stdout"
        }
      ]
    },
    {
      "cell_type": "markdown",
      "metadata": {
        "id": "osZbzCfRsS3N"
      },
      "source": [
        "# Outras funções"
      ]
    },
    {
      "cell_type": "code",
      "metadata": {
        "id": "B65aWVyKSf2x"
      },
      "source": [
        "# Training parameters.\n",
        "learning_rate = 0.001\n",
        "# Stochastic gradient descent optimizer.\n",
        "optimizer = tf.optimizers.SGD(learning_rate)"
      ],
      "execution_count": 72,
      "outputs": []
    },
    {
      "cell_type": "code",
      "metadata": {
        "id": "cBqG05xQSf2x"
      },
      "source": [
        "loss_fn = keras.losses.binary_crossentropy \n",
        "\n",
        "def run_optimization(x, y):\n",
        "    # Wrap computation inside a GradientTape for automatic differentiation.\n",
        "    with tf.GradientTape() as g:\n",
        "        pred = neural_net(x)\n",
        "        loss = loss_fn(y, pred) \n",
        "        \n",
        "    # Variables to update, i.e. trainable variables.\n",
        "    trainable_variables = list(neural_net.trainable_weights)\n",
        "\n",
        "    # Compute gradients.\n",
        "    gradients = g.gradient(loss, trainable_variables)\n",
        "    \n",
        "    # Update W and b following gradients.\n",
        "    optimizer.apply_gradients(zip(gradients, trainable_variables))"
      ],
      "execution_count": 73,
      "outputs": []
    },
    {
      "cell_type": "code",
      "metadata": {
        "colab": {
          "base_uri": "https://localhost:8080/"
        },
        "id": "eRu-tLFmSf2y",
        "outputId": "f95b60f6-5880-4294-951b-c68157e00516"
      },
      "source": [
        "training_steps = 100\n",
        "batch_size = 1\n",
        "display_step = 10\n",
        "\n",
        "# Use tf.data API to shuffle and batch data.\n",
        "train_data = tf.data.Dataset.from_tensor_slices((X_train, y_train))\n",
        "train_data = train_data.repeat().batch(batch_size)\n",
        "\n",
        "for step, (batch_x, batch_y) in enumerate(train_data.take(training_steps), 1):\n",
        "    # Run the optimization to update W and b values.\n",
        "    run_optimization(batch_x, batch_y)\n",
        "    \n",
        "    if step % display_step == 0:\n",
        "        pred = neural_net(batch_x)\n",
        "        loss = loss_fn(batch_y, pred)\n",
        "        print(\"step: %i, loss: %f\" % (step, loss))"
      ],
      "execution_count": 74,
      "outputs": [
        {
          "output_type": "stream",
          "text": [
            "step: 10, loss: 0.034969\n",
            "step: 20, loss: 0.029915\n",
            "step: 30, loss: 0.028553\n",
            "step: 40, loss: 0.023263\n",
            "step: 50, loss: 0.060015\n",
            "step: 60, loss: 0.003770\n",
            "step: 70, loss: 5.555499\n",
            "step: 80, loss: 0.032103\n",
            "step: 90, loss: 0.003891\n",
            "step: 100, loss: 0.032326\n"
          ],
          "name": "stdout"
        }
      ]
    },
    {
      "cell_type": "code",
      "metadata": {
        "colab": {
          "base_uri": "https://localhost:8080/"
        },
        "id": "Wf4DOQyxSf2z",
        "outputId": "2ebb0c76-8276-47a7-c4d7-38b846790670"
      },
      "source": [
        "y_pred =  neural_net(X_test) > 0.5\n",
        "\n",
        "print_results(y_test, y_pred)\n"
      ],
      "execution_count": 75,
      "outputs": [
        {
          "output_type": "stream",
          "text": [
            "Matriz de Confusão: \n",
            " [[126   5]\n",
            " [  8  71]]\n",
            "              precision    recall  f1-score   support\n",
            "\n",
            "           0       0.94      0.96      0.95       131\n",
            "           1       0.93      0.90      0.92        79\n",
            "\n",
            "    accuracy                           0.94       210\n",
            "   macro avg       0.94      0.93      0.93       210\n",
            "weighted avg       0.94      0.94      0.94       210\n",
            "\n",
            "Acuracidade:  0.9380952380952381\n"
          ],
          "name": "stdout"
        }
      ]
    },
    {
      "cell_type": "markdown",
      "metadata": {
        "id": "aoTS40nRWpCf"
      },
      "source": [
        "# Better model"
      ]
    },
    {
      "cell_type": "code",
      "metadata": {
        "id": "VY_EfSxdWmcn"
      },
      "source": [
        "model.compile(\n",
        "    optimizer='adam',\n",
        "    loss='binary_crossentropy',\n",
        "    metrics=['binary_accuracy'],\n",
        ")"
      ],
      "execution_count": 76,
      "outputs": []
    },
    {
      "cell_type": "code",
      "metadata": {
        "colab": {
          "base_uri": "https://localhost:8080/"
        },
        "id": "C-EvVtsgWmcx",
        "outputId": "f9453532-a9b3-47ca-d241-8eeb453783c8"
      },
      "source": [
        "early_stopping = keras.callbacks.EarlyStopping(\n",
        "    patience=10,\n",
        "    min_delta=0.001,\n",
        "    restore_best_weights=True,\n",
        ")\n",
        "\n",
        "history = model.fit(\n",
        "    X_train, y_train,\n",
        "    batch_size=16,\n",
        "    validation_split=0.5,\n",
        "    epochs=100,\n",
        "    callbacks=[early_stopping],\n",
        "    verbose=1, # hide the output because we have so many epochs\n",
        ")"
      ],
      "execution_count": 77,
      "outputs": [
        {
          "output_type": "stream",
          "text": [
            "Epoch 1/100\n",
            "16/16 [==============================] - 1s 12ms/step - loss: 0.1711 - binary_accuracy: 0.9426 - val_loss: 0.1678 - val_binary_accuracy: 0.9510\n",
            "Epoch 2/100\n",
            "16/16 [==============================] - 0s 3ms/step - loss: 0.1651 - binary_accuracy: 0.9467 - val_loss: 0.1691 - val_binary_accuracy: 0.9551\n",
            "Epoch 3/100\n",
            "16/16 [==============================] - 0s 4ms/step - loss: 0.1628 - binary_accuracy: 0.9467 - val_loss: 0.1692 - val_binary_accuracy: 0.9469\n",
            "Epoch 4/100\n",
            "16/16 [==============================] - 0s 3ms/step - loss: 0.1615 - binary_accuracy: 0.9508 - val_loss: 0.1695 - val_binary_accuracy: 0.9469\n",
            "Epoch 5/100\n",
            "16/16 [==============================] - 0s 4ms/step - loss: 0.1592 - binary_accuracy: 0.9549 - val_loss: 0.1682 - val_binary_accuracy: 0.9469\n",
            "Epoch 6/100\n",
            "16/16 [==============================] - 0s 3ms/step - loss: 0.1585 - binary_accuracy: 0.9549 - val_loss: 0.1680 - val_binary_accuracy: 0.9469\n",
            "Epoch 7/100\n",
            "16/16 [==============================] - 0s 3ms/step - loss: 0.1557 - binary_accuracy: 0.9549 - val_loss: 0.1661 - val_binary_accuracy: 0.9469\n",
            "Epoch 8/100\n",
            "16/16 [==============================] - 0s 3ms/step - loss: 0.1542 - binary_accuracy: 0.9549 - val_loss: 0.1650 - val_binary_accuracy: 0.9469\n",
            "Epoch 9/100\n",
            "16/16 [==============================] - 0s 3ms/step - loss: 0.1529 - binary_accuracy: 0.9549 - val_loss: 0.1650 - val_binary_accuracy: 0.9469\n",
            "Epoch 10/100\n",
            "16/16 [==============================] - 0s 4ms/step - loss: 0.1523 - binary_accuracy: 0.9549 - val_loss: 0.1646 - val_binary_accuracy: 0.9469\n",
            "Epoch 11/100\n",
            "16/16 [==============================] - 0s 3ms/step - loss: 0.1493 - binary_accuracy: 0.9549 - val_loss: 0.1616 - val_binary_accuracy: 0.9469\n",
            "Epoch 12/100\n",
            "16/16 [==============================] - 0s 3ms/step - loss: 0.1489 - binary_accuracy: 0.9549 - val_loss: 0.1598 - val_binary_accuracy: 0.9469\n",
            "Epoch 13/100\n",
            "16/16 [==============================] - 0s 3ms/step - loss: 0.1474 - binary_accuracy: 0.9549 - val_loss: 0.1594 - val_binary_accuracy: 0.9469\n",
            "Epoch 14/100\n",
            "16/16 [==============================] - 0s 3ms/step - loss: 0.1465 - binary_accuracy: 0.9549 - val_loss: 0.1578 - val_binary_accuracy: 0.9469\n",
            "Epoch 15/100\n",
            "16/16 [==============================] - 0s 4ms/step - loss: 0.1452 - binary_accuracy: 0.9549 - val_loss: 0.1569 - val_binary_accuracy: 0.9469\n",
            "Epoch 16/100\n",
            "16/16 [==============================] - 0s 4ms/step - loss: 0.1438 - binary_accuracy: 0.9549 - val_loss: 0.1569 - val_binary_accuracy: 0.9469\n",
            "Epoch 17/100\n",
            "16/16 [==============================] - 0s 4ms/step - loss: 0.1423 - binary_accuracy: 0.9549 - val_loss: 0.1564 - val_binary_accuracy: 0.9469\n",
            "Epoch 18/100\n",
            "16/16 [==============================] - 0s 4ms/step - loss: 0.1412 - binary_accuracy: 0.9549 - val_loss: 0.1556 - val_binary_accuracy: 0.9469\n",
            "Epoch 19/100\n",
            "16/16 [==============================] - 0s 3ms/step - loss: 0.1401 - binary_accuracy: 0.9549 - val_loss: 0.1544 - val_binary_accuracy: 0.9469\n",
            "Epoch 20/100\n",
            "16/16 [==============================] - 0s 3ms/step - loss: 0.1389 - binary_accuracy: 0.9549 - val_loss: 0.1539 - val_binary_accuracy: 0.9469\n",
            "Epoch 21/100\n",
            "16/16 [==============================] - 0s 3ms/step - loss: 0.1381 - binary_accuracy: 0.9549 - val_loss: 0.1531 - val_binary_accuracy: 0.9510\n",
            "Epoch 22/100\n",
            "16/16 [==============================] - 0s 3ms/step - loss: 0.1367 - binary_accuracy: 0.9549 - val_loss: 0.1526 - val_binary_accuracy: 0.9510\n",
            "Epoch 23/100\n",
            "16/16 [==============================] - 0s 4ms/step - loss: 0.1357 - binary_accuracy: 0.9549 - val_loss: 0.1517 - val_binary_accuracy: 0.9510\n",
            "Epoch 24/100\n",
            "16/16 [==============================] - 0s 3ms/step - loss: 0.1348 - binary_accuracy: 0.9549 - val_loss: 0.1510 - val_binary_accuracy: 0.9510\n",
            "Epoch 25/100\n",
            "16/16 [==============================] - 0s 3ms/step - loss: 0.1337 - binary_accuracy: 0.9549 - val_loss: 0.1506 - val_binary_accuracy: 0.9510\n",
            "Epoch 26/100\n",
            "16/16 [==============================] - 0s 4ms/step - loss: 0.1327 - binary_accuracy: 0.9549 - val_loss: 0.1491 - val_binary_accuracy: 0.9510\n",
            "Epoch 27/100\n",
            "16/16 [==============================] - 0s 4ms/step - loss: 0.1313 - binary_accuracy: 0.9549 - val_loss: 0.1478 - val_binary_accuracy: 0.9510\n",
            "Epoch 28/100\n",
            "16/16 [==============================] - 0s 3ms/step - loss: 0.1307 - binary_accuracy: 0.9549 - val_loss: 0.1473 - val_binary_accuracy: 0.9510\n",
            "Epoch 29/100\n",
            "16/16 [==============================] - 0s 3ms/step - loss: 0.1301 - binary_accuracy: 0.9549 - val_loss: 0.1466 - val_binary_accuracy: 0.9510\n",
            "Epoch 30/100\n",
            "16/16 [==============================] - 0s 3ms/step - loss: 0.1288 - binary_accuracy: 0.9549 - val_loss: 0.1467 - val_binary_accuracy: 0.9510\n",
            "Epoch 31/100\n",
            "16/16 [==============================] - 0s 3ms/step - loss: 0.1285 - binary_accuracy: 0.9590 - val_loss: 0.1469 - val_binary_accuracy: 0.9551\n",
            "Epoch 32/100\n",
            "16/16 [==============================] - 0s 3ms/step - loss: 0.1270 - binary_accuracy: 0.9590 - val_loss: 0.1456 - val_binary_accuracy: 0.9510\n",
            "Epoch 33/100\n",
            "16/16 [==============================] - 0s 3ms/step - loss: 0.1266 - binary_accuracy: 0.9590 - val_loss: 0.1458 - val_binary_accuracy: 0.9551\n",
            "Epoch 34/100\n",
            "16/16 [==============================] - 0s 3ms/step - loss: 0.1250 - binary_accuracy: 0.9590 - val_loss: 0.1447 - val_binary_accuracy: 0.9551\n",
            "Epoch 35/100\n",
            "16/16 [==============================] - 0s 3ms/step - loss: 0.1244 - binary_accuracy: 0.9590 - val_loss: 0.1436 - val_binary_accuracy: 0.9510\n",
            "Epoch 36/100\n",
            "16/16 [==============================] - 0s 4ms/step - loss: 0.1236 - binary_accuracy: 0.9590 - val_loss: 0.1432 - val_binary_accuracy: 0.9551\n",
            "Epoch 37/100\n",
            "16/16 [==============================] - 0s 3ms/step - loss: 0.1229 - binary_accuracy: 0.9590 - val_loss: 0.1437 - val_binary_accuracy: 0.9551\n",
            "Epoch 38/100\n",
            "16/16 [==============================] - 0s 3ms/step - loss: 0.1215 - binary_accuracy: 0.9590 - val_loss: 0.1432 - val_binary_accuracy: 0.9551\n",
            "Epoch 39/100\n",
            "16/16 [==============================] - 0s 3ms/step - loss: 0.1208 - binary_accuracy: 0.9590 - val_loss: 0.1420 - val_binary_accuracy: 0.9551\n",
            "Epoch 40/100\n",
            "16/16 [==============================] - 0s 3ms/step - loss: 0.1207 - binary_accuracy: 0.9590 - val_loss: 0.1411 - val_binary_accuracy: 0.9551\n",
            "Epoch 41/100\n",
            "16/16 [==============================] - 0s 3ms/step - loss: 0.1192 - binary_accuracy: 0.9590 - val_loss: 0.1412 - val_binary_accuracy: 0.9551\n",
            "Epoch 42/100\n",
            "16/16 [==============================] - 0s 3ms/step - loss: 0.1183 - binary_accuracy: 0.9590 - val_loss: 0.1411 - val_binary_accuracy: 0.9551\n",
            "Epoch 43/100\n",
            "16/16 [==============================] - 0s 4ms/step - loss: 0.1181 - binary_accuracy: 0.9590 - val_loss: 0.1409 - val_binary_accuracy: 0.9551\n",
            "Epoch 44/100\n",
            "16/16 [==============================] - 0s 4ms/step - loss: 0.1170 - binary_accuracy: 0.9590 - val_loss: 0.1401 - val_binary_accuracy: 0.9551\n",
            "Epoch 45/100\n",
            "16/16 [==============================] - 0s 3ms/step - loss: 0.1162 - binary_accuracy: 0.9590 - val_loss: 0.1396 - val_binary_accuracy: 0.9551\n",
            "Epoch 46/100\n",
            "16/16 [==============================] - 0s 4ms/step - loss: 0.1153 - binary_accuracy: 0.9590 - val_loss: 0.1390 - val_binary_accuracy: 0.9551\n",
            "Epoch 47/100\n",
            "16/16 [==============================] - 0s 4ms/step - loss: 0.1145 - binary_accuracy: 0.9590 - val_loss: 0.1380 - val_binary_accuracy: 0.9592\n",
            "Epoch 48/100\n",
            "16/16 [==============================] - 0s 3ms/step - loss: 0.1140 - binary_accuracy: 0.9590 - val_loss: 0.1379 - val_binary_accuracy: 0.9551\n",
            "Epoch 49/100\n",
            "16/16 [==============================] - 0s 4ms/step - loss: 0.1136 - binary_accuracy: 0.9590 - val_loss: 0.1373 - val_binary_accuracy: 0.9592\n",
            "Epoch 50/100\n",
            "16/16 [==============================] - 0s 3ms/step - loss: 0.1133 - binary_accuracy: 0.9590 - val_loss: 0.1377 - val_binary_accuracy: 0.9551\n",
            "Epoch 51/100\n",
            "16/16 [==============================] - 0s 4ms/step - loss: 0.1120 - binary_accuracy: 0.9590 - val_loss: 0.1370 - val_binary_accuracy: 0.9551\n",
            "Epoch 52/100\n",
            "16/16 [==============================] - 0s 3ms/step - loss: 0.1113 - binary_accuracy: 0.9590 - val_loss: 0.1372 - val_binary_accuracy: 0.9551\n",
            "Epoch 53/100\n",
            "16/16 [==============================] - 0s 4ms/step - loss: 0.1103 - binary_accuracy: 0.9631 - val_loss: 0.1370 - val_binary_accuracy: 0.9551\n",
            "Epoch 54/100\n",
            "16/16 [==============================] - 0s 3ms/step - loss: 0.1097 - binary_accuracy: 0.9631 - val_loss: 0.1367 - val_binary_accuracy: 0.9551\n",
            "Epoch 55/100\n",
            "16/16 [==============================] - 0s 3ms/step - loss: 0.1091 - binary_accuracy: 0.9631 - val_loss: 0.1362 - val_binary_accuracy: 0.9551\n",
            "Epoch 56/100\n",
            "16/16 [==============================] - 0s 3ms/step - loss: 0.1085 - binary_accuracy: 0.9590 - val_loss: 0.1358 - val_binary_accuracy: 0.9551\n",
            "Epoch 57/100\n",
            "16/16 [==============================] - 0s 4ms/step - loss: 0.1077 - binary_accuracy: 0.9631 - val_loss: 0.1356 - val_binary_accuracy: 0.9551\n",
            "Epoch 58/100\n",
            "16/16 [==============================] - 0s 3ms/step - loss: 0.1072 - binary_accuracy: 0.9631 - val_loss: 0.1353 - val_binary_accuracy: 0.9551\n",
            "Epoch 59/100\n",
            "16/16 [==============================] - 0s 4ms/step - loss: 0.1066 - binary_accuracy: 0.9631 - val_loss: 0.1348 - val_binary_accuracy: 0.9551\n",
            "Epoch 60/100\n",
            "16/16 [==============================] - 0s 3ms/step - loss: 0.1060 - binary_accuracy: 0.9590 - val_loss: 0.1344 - val_binary_accuracy: 0.9551\n",
            "Epoch 61/100\n",
            "16/16 [==============================] - 0s 4ms/step - loss: 0.1051 - binary_accuracy: 0.9631 - val_loss: 0.1345 - val_binary_accuracy: 0.9551\n",
            "Epoch 62/100\n",
            "16/16 [==============================] - 0s 3ms/step - loss: 0.1047 - binary_accuracy: 0.9631 - val_loss: 0.1347 - val_binary_accuracy: 0.9592\n",
            "Epoch 63/100\n",
            "16/16 [==============================] - 0s 3ms/step - loss: 0.1047 - binary_accuracy: 0.9631 - val_loss: 0.1349 - val_binary_accuracy: 0.9551\n",
            "Epoch 64/100\n",
            "16/16 [==============================] - 0s 3ms/step - loss: 0.1038 - binary_accuracy: 0.9631 - val_loss: 0.1341 - val_binary_accuracy: 0.9551\n",
            "Epoch 65/100\n",
            "16/16 [==============================] - 0s 4ms/step - loss: 0.1032 - binary_accuracy: 0.9631 - val_loss: 0.1334 - val_binary_accuracy: 0.9551\n",
            "Epoch 66/100\n",
            "16/16 [==============================] - 0s 3ms/step - loss: 0.1024 - binary_accuracy: 0.9631 - val_loss: 0.1330 - val_binary_accuracy: 0.9551\n",
            "Epoch 67/100\n",
            "16/16 [==============================] - 0s 4ms/step - loss: 0.1023 - binary_accuracy: 0.9631 - val_loss: 0.1326 - val_binary_accuracy: 0.9551\n",
            "Epoch 68/100\n",
            "16/16 [==============================] - 0s 3ms/step - loss: 0.1014 - binary_accuracy: 0.9672 - val_loss: 0.1327 - val_binary_accuracy: 0.9551\n",
            "Epoch 69/100\n",
            "16/16 [==============================] - 0s 4ms/step - loss: 0.1008 - binary_accuracy: 0.9672 - val_loss: 0.1323 - val_binary_accuracy: 0.9551\n",
            "Epoch 70/100\n",
            "16/16 [==============================] - 0s 3ms/step - loss: 0.1004 - binary_accuracy: 0.9631 - val_loss: 0.1327 - val_binary_accuracy: 0.9551\n",
            "Epoch 71/100\n",
            "16/16 [==============================] - 0s 3ms/step - loss: 0.0999 - binary_accuracy: 0.9672 - val_loss: 0.1322 - val_binary_accuracy: 0.9551\n",
            "Epoch 72/100\n",
            "16/16 [==============================] - 0s 4ms/step - loss: 0.0998 - binary_accuracy: 0.9672 - val_loss: 0.1318 - val_binary_accuracy: 0.9551\n",
            "Epoch 73/100\n",
            "16/16 [==============================] - 0s 4ms/step - loss: 0.0988 - binary_accuracy: 0.9672 - val_loss: 0.1311 - val_binary_accuracy: 0.9551\n",
            "Epoch 74/100\n",
            "16/16 [==============================] - 0s 3ms/step - loss: 0.0990 - binary_accuracy: 0.9631 - val_loss: 0.1300 - val_binary_accuracy: 0.9551\n",
            "Epoch 75/100\n",
            "16/16 [==============================] - 0s 4ms/step - loss: 0.0980 - binary_accuracy: 0.9631 - val_loss: 0.1297 - val_binary_accuracy: 0.9551\n",
            "Epoch 76/100\n",
            "16/16 [==============================] - 0s 3ms/step - loss: 0.0979 - binary_accuracy: 0.9631 - val_loss: 0.1301 - val_binary_accuracy: 0.9551\n",
            "Epoch 77/100\n",
            "16/16 [==============================] - 0s 3ms/step - loss: 0.0970 - binary_accuracy: 0.9672 - val_loss: 0.1302 - val_binary_accuracy: 0.9551\n",
            "Epoch 78/100\n",
            "16/16 [==============================] - 0s 4ms/step - loss: 0.0966 - binary_accuracy: 0.9713 - val_loss: 0.1294 - val_binary_accuracy: 0.9551\n",
            "Epoch 79/100\n",
            "16/16 [==============================] - 0s 4ms/step - loss: 0.0963 - binary_accuracy: 0.9713 - val_loss: 0.1299 - val_binary_accuracy: 0.9551\n",
            "Epoch 80/100\n",
            "16/16 [==============================] - 0s 3ms/step - loss: 0.0955 - binary_accuracy: 0.9713 - val_loss: 0.1293 - val_binary_accuracy: 0.9551\n",
            "Epoch 81/100\n",
            "16/16 [==============================] - 0s 4ms/step - loss: 0.0950 - binary_accuracy: 0.9713 - val_loss: 0.1291 - val_binary_accuracy: 0.9551\n",
            "Epoch 82/100\n",
            "16/16 [==============================] - 0s 3ms/step - loss: 0.0946 - binary_accuracy: 0.9713 - val_loss: 0.1294 - val_binary_accuracy: 0.9551\n",
            "Epoch 83/100\n",
            "16/16 [==============================] - 0s 3ms/step - loss: 0.0939 - binary_accuracy: 0.9713 - val_loss: 0.1291 - val_binary_accuracy: 0.9551\n",
            "Epoch 84/100\n",
            "16/16 [==============================] - 0s 3ms/step - loss: 0.0938 - binary_accuracy: 0.9713 - val_loss: 0.1286 - val_binary_accuracy: 0.9551\n",
            "Epoch 85/100\n",
            "16/16 [==============================] - 0s 3ms/step - loss: 0.0932 - binary_accuracy: 0.9713 - val_loss: 0.1289 - val_binary_accuracy: 0.9551\n",
            "Epoch 86/100\n",
            "16/16 [==============================] - 0s 3ms/step - loss: 0.0929 - binary_accuracy: 0.9713 - val_loss: 0.1282 - val_binary_accuracy: 0.9551\n",
            "Epoch 87/100\n",
            "16/16 [==============================] - 0s 3ms/step - loss: 0.0922 - binary_accuracy: 0.9713 - val_loss: 0.1283 - val_binary_accuracy: 0.9551\n",
            "Epoch 88/100\n",
            "16/16 [==============================] - 0s 3ms/step - loss: 0.0918 - binary_accuracy: 0.9713 - val_loss: 0.1285 - val_binary_accuracy: 0.9551\n",
            "Epoch 89/100\n",
            "16/16 [==============================] - 0s 4ms/step - loss: 0.0911 - binary_accuracy: 0.9713 - val_loss: 0.1281 - val_binary_accuracy: 0.9551\n",
            "Epoch 90/100\n",
            "16/16 [==============================] - 0s 4ms/step - loss: 0.0908 - binary_accuracy: 0.9713 - val_loss: 0.1274 - val_binary_accuracy: 0.9551\n",
            "Epoch 91/100\n",
            "16/16 [==============================] - 0s 4ms/step - loss: 0.0923 - binary_accuracy: 0.9672 - val_loss: 0.1268 - val_binary_accuracy: 0.9551\n",
            "Epoch 92/100\n",
            "16/16 [==============================] - 0s 3ms/step - loss: 0.0899 - binary_accuracy: 0.9713 - val_loss: 0.1277 - val_binary_accuracy: 0.9551\n",
            "Epoch 93/100\n",
            "16/16 [==============================] - 0s 3ms/step - loss: 0.0893 - binary_accuracy: 0.9713 - val_loss: 0.1274 - val_binary_accuracy: 0.9551\n",
            "Epoch 94/100\n",
            "16/16 [==============================] - 0s 4ms/step - loss: 0.0891 - binary_accuracy: 0.9713 - val_loss: 0.1271 - val_binary_accuracy: 0.9551\n",
            "Epoch 95/100\n",
            "16/16 [==============================] - 0s 4ms/step - loss: 0.0888 - binary_accuracy: 0.9713 - val_loss: 0.1275 - val_binary_accuracy: 0.9551\n",
            "Epoch 96/100\n",
            "16/16 [==============================] - 0s 3ms/step - loss: 0.0882 - binary_accuracy: 0.9713 - val_loss: 0.1270 - val_binary_accuracy: 0.9551\n",
            "Epoch 97/100\n",
            "16/16 [==============================] - 0s 4ms/step - loss: 0.0880 - binary_accuracy: 0.9713 - val_loss: 0.1272 - val_binary_accuracy: 0.9551\n",
            "Epoch 98/100\n",
            "16/16 [==============================] - 0s 3ms/step - loss: 0.0873 - binary_accuracy: 0.9713 - val_loss: 0.1270 - val_binary_accuracy: 0.9551\n",
            "Epoch 99/100\n",
            "16/16 [==============================] - 0s 4ms/step - loss: 0.0873 - binary_accuracy: 0.9713 - val_loss: 0.1265 - val_binary_accuracy: 0.9551\n",
            "Epoch 100/100\n",
            "16/16 [==============================] - 0s 3ms/step - loss: 0.0869 - binary_accuracy: 0.9713 - val_loss: 0.1266 - val_binary_accuracy: 0.9551\n"
          ],
          "name": "stdout"
        }
      ]
    },
    {
      "cell_type": "code",
      "metadata": {
        "colab": {
          "base_uri": "https://localhost:8080/",
          "height": 734
        },
        "id": "Bj9CApairqB6",
        "outputId": "fed7ff1f-1125-4184-8959-74248c2d8879"
      },
      "source": [
        "display_hist(history)  "
      ],
      "execution_count": 78,
      "outputs": [
        {
          "output_type": "display_data",
          "data": {
            "text/html": [
              "<div>\n",
              "<style scoped>\n",
              "    .dataframe tbody tr th:only-of-type {\n",
              "        vertical-align: middle;\n",
              "    }\n",
              "\n",
              "    .dataframe tbody tr th {\n",
              "        vertical-align: top;\n",
              "    }\n",
              "\n",
              "    .dataframe thead th {\n",
              "        text-align: right;\n",
              "    }\n",
              "</style>\n",
              "<table border=\"1\" class=\"dataframe\">\n",
              "  <thead>\n",
              "    <tr style=\"text-align: right;\">\n",
              "      <th></th>\n",
              "      <th>loss</th>\n",
              "      <th>binary_accuracy</th>\n",
              "      <th>val_loss</th>\n",
              "      <th>val_binary_accuracy</th>\n",
              "    </tr>\n",
              "  </thead>\n",
              "  <tbody>\n",
              "    <tr>\n",
              "      <th>0</th>\n",
              "      <td>0.171117</td>\n",
              "      <td>0.942623</td>\n",
              "      <td>0.167821</td>\n",
              "      <td>0.951020</td>\n",
              "    </tr>\n",
              "    <tr>\n",
              "      <th>1</th>\n",
              "      <td>0.165104</td>\n",
              "      <td>0.946721</td>\n",
              "      <td>0.169110</td>\n",
              "      <td>0.955102</td>\n",
              "    </tr>\n",
              "    <tr>\n",
              "      <th>2</th>\n",
              "      <td>0.162833</td>\n",
              "      <td>0.946721</td>\n",
              "      <td>0.169159</td>\n",
              "      <td>0.946939</td>\n",
              "    </tr>\n",
              "    <tr>\n",
              "      <th>3</th>\n",
              "      <td>0.161525</td>\n",
              "      <td>0.950820</td>\n",
              "      <td>0.169467</td>\n",
              "      <td>0.946939</td>\n",
              "    </tr>\n",
              "    <tr>\n",
              "      <th>4</th>\n",
              "      <td>0.159178</td>\n",
              "      <td>0.954918</td>\n",
              "      <td>0.168242</td>\n",
              "      <td>0.946939</td>\n",
              "    </tr>\n",
              "  </tbody>\n",
              "</table>\n",
              "</div>"
            ],
            "text/plain": [
              "       loss  binary_accuracy  val_loss  val_binary_accuracy\n",
              "0  0.171117         0.942623  0.167821             0.951020\n",
              "1  0.165104         0.946721  0.169110             0.955102\n",
              "2  0.162833         0.946721  0.169159             0.946939\n",
              "3  0.161525         0.950820  0.169467             0.946939\n",
              "4  0.159178         0.954918  0.168242             0.946939"
            ]
          },
          "metadata": {
            "tags": []
          }
        },
        {
          "output_type": "stream",
          "text": [
            "Best Validation Loss: 0.1265\n",
            "Best Validation Accuracy: 0.9592\n"
          ],
          "name": "stdout"
        },
        {
          "output_type": "display_data",
          "data": {
            "image/png": "[encoded data removed]",
            "text/plain": [
              "<Figure size 432x288 with 1 Axes>"
            ]
          },
          "metadata": {
            "tags": [],
            "needs_background": "light"
          }
        },
        {
          "output_type": "display_data",
          "data": {
            "image/png": "[encoded data removed]",
            "text/plain": [
              "<Figure size 432x288 with 1 Axes>"
            ]
          },
          "metadata": {
            "tags": [],
            "needs_background": "light"
          }
        }
      ]
    },
    {
      "cell_type": "code",
      "metadata": {
        "colab": {
          "base_uri": "https://localhost:8080/"
        },
        "id": "-b2khfWBrqCD",
        "outputId": "d900af35-b54c-417b-9d93-e6a0c622df1d"
      },
      "source": [
        "y_pred = model.predict(tf.constant(X_test)) > 0.5\n",
        "\n",
        "print_results(y_test, y_pred)\n",
        "\n"
      ],
      "execution_count": 82,
      "outputs": [
        {
          "output_type": "stream",
          "text": [
            "Matriz de Confusão: \n",
            " [[128   3]\n",
            " [  4  75]]\n",
            "              precision    recall  f1-score   support\n",
            "\n",
            "           0       0.97      0.98      0.97       131\n",
            "           1       0.96      0.95      0.96        79\n",
            "\n",
            "    accuracy                           0.97       210\n",
            "   macro avg       0.97      0.96      0.96       210\n",
            "weighted avg       0.97      0.97      0.97       210\n",
            "\n",
            "Acuracidade:  0.9666666666666667\n"
          ],
          "name": "stdout"
        }
      ]
    },
    {
      "cell_type": "markdown",
      "metadata": {
        "id": "yjsISOzrZzPg"
      },
      "source": [
        "# Explorando os dados\n"
      ]
    },
    {
      "cell_type": "code",
      "metadata": {
        "id": "WUYc-QJxugaZ"
      },
      "source": [
        "# imports\n",
        "import numpy as np \n",
        "import pandas as pd \n",
        "import matplotlib.pyplot as plt \n",
        "import seaborn as sns \n",
        "import warnings\n",
        "import os\n",
        "warnings.filterwarnings(\"ignore\")\n",
        "\n",
        "from sklearn.model_selection import train_test_split\n",
        "from sklearn.metrics import confusion_matrix\n",
        "from sklearn.metrics import classification_report\n",
        "\n",
        "from tensorflow import keras\n",
        "from tensorflow.keras import layers\n",
        "from keras import Sequential, layers\n",
        "import tensorflow as tf"
      ],
      "execution_count": null,
      "outputs": []
    },
    {
      "cell_type": "code",
      "metadata": {
        "id": "SIeEbP1HZxop"
      },
      "source": [
        "fraud = pd.read_csv(\"http://meusite.mackenzie.br/rogerio/ML/qconlondon2016_sample_data.csv\")\n",
        "fraud.drop(columns=['charge_time'],inplace=True) # por simplicidade excluímos esse dado do treinamento\n",
        "                     \n",
        "print(fraud.head())\n",
        "print(fraud.shape) \n",
        "\n"
      ],
      "execution_count": null,
      "outputs": []
    },
    {
      "cell_type": "markdown",
      "metadata": {
        "id": "oeRSk9LpaisT"
      },
      "source": [
        "# Preparando os dados `X` e `y`\n",
        "\n",
        "A preparação dos dados pode ser bastante complexa. Aqui ela envolve o **hot encode** dos atributos não numéricos, o rescaling dos dados e ainda a formatação dos dados para os padrões do **TensorFlow/Keras** (formato de matrizes e não dataframes)."
      ]
    },
    {
      "cell_type": "markdown",
      "metadata": {
        "id": "qiu60pVtxFN-"
      },
      "source": [
        "## Hot Encode"
      ]
    },
    {
      "cell_type": "code",
      "metadata": {
        "id": "s_VfIWKuTKGm"
      },
      "source": [
        "X = fraud.drop(columns=['fraudulent'])\n",
        "    \n",
        "X_number = X.select_dtypes(include='number')\n",
        "X_categorical = X.select_dtypes(exclude='number')\n",
        "    \n",
        "dummies = [pd.get_dummies(X[c],prefix=c, prefix_sep='_') for c in X_categorical.columns]\n",
        "X_dummies = pd.concat(dummies, axis=1)\n",
        "\n",
        "X = pd.concat([X_number,X_dummies], axis=1)\n",
        "X.head()"
      ],
      "execution_count": null,
      "outputs": []
    },
    {
      "cell_type": "markdown",
      "metadata": {
        "id": "jAmRkm9ET8Z0"
      },
      "source": [
        "## Normalize"
      ]
    },
    {
      "cell_type": "markdown",
      "metadata": {
        "id": "CG3n_7Z1XGEu"
      },
      "source": [
        "### Scale"
      ]
    },
    {
      "cell_type": "code",
      "metadata": {
        "id": "nLeT7H-_UPr0"
      },
      "source": [
        "from sklearn.preprocessing import scale\n",
        "X_norm = scale(X)\n",
        "X_norm\n"
      ],
      "execution_count": null,
      "outputs": []
    },
    {
      "cell_type": "markdown",
      "metadata": {
        "id": "-pL3XZ63XIt9"
      },
      "source": [
        "### API StandardScaler\n",
        "\n",
        "Prefira esse modo se você vai realmente implementar um `pipeline` de dados, *salvando* assim o `scaler` empregado."
      ]
    },
    {
      "cell_type": "code",
      "metadata": {
        "id": "-ze4R4GGUhJW"
      },
      "source": [
        "from sklearn.preprocessing import StandardScaler\n",
        "\n",
        "scaler = StandardScaler()\n",
        "scaler.fit(X)\n",
        "X_norm = scaler.transform(X)\n",
        "X_norm\n",
        "\n"
      ],
      "execution_count": null,
      "outputs": []
    },
    {
      "cell_type": "markdown",
      "metadata": {
        "id": "enCMBD5YxXiU"
      },
      "source": [
        "# Preparando a saída `y` \n",
        "\n",
        "Valores numéricos para a saída de rede."
      ]
    },
    {
      "cell_type": "code",
      "metadata": {
        "id": "qf1XLBOHxbzd"
      },
      "source": [
        "fraud.fraudulent = fraud.fraudulent.replace(True,1)\n",
        "fraud.fraudulent = fraud.fraudulent.replace(False,0)\n",
        "\n",
        "y_num = fraud.fraudulent\n",
        "y_num"
      ],
      "execution_count": null,
      "outputs": []
    },
    {
      "cell_type": "markdown",
      "metadata": {
        "id": "L40cJF1ccN5C"
      },
      "source": [
        "## Separando os dados de Treinamento e Teste"
      ]
    },
    {
      "cell_type": "code",
      "metadata": {
        "id": "RdElnvhvcSAe"
      },
      "source": [
        "seed = 1234\n",
        "X_train, X_test, y_train, y_test = train_test_split(X_norm, y_num, test_size=0.3, stratify=y_num, random_state=seed)\n",
        "\n",
        "print(X_train.shape, X_test.shape, y_train.shape, y_test.shape)\n"
      ],
      "execution_count": null,
      "outputs": []
    },
    {
      "cell_type": "code",
      "metadata": {
        "id": "HnJsUwZ_ckw_"
      },
      "source": [
        "y_train"
      ],
      "execution_count": null,
      "outputs": []
    },
    {
      "cell_type": "markdown",
      "metadata": {
        "id": "rfOUECSdyENj"
      },
      "source": [
        "# Adequando os dados para o `Keras`\n",
        "\n",
        "Os dados para o `Keras` (TensorFlow) devem ser matrizes, com a saída em formato de um matriz binária (*hot encoded*)."
      ]
    },
    {
      "cell_type": "code",
      "metadata": {
        "id": "GNQYR8xQyWeD"
      },
      "source": [
        "from keras.utils import to_categorical\n",
        "y_train = to_categorical(y_train)\n",
        "y_train\n"
      ],
      "execution_count": null,
      "outputs": []
    },
    {
      "cell_type": "markdown",
      "metadata": {
        "id": "zoKFbY_gyf2Z"
      },
      "source": [
        "# Configuração da Rede DeepLearning\n",
        "\n",
        "Nossa rede será uma rede neural sequencial MLP. Há 5 neurônios de entrada, correspondendo a cada atributo de entrada, vamos criar duas camadas ocultas de 8 neurônios, e uma camada de saída com 2 neurônios correspondendo às duas classes de saída.\n",
        "\n",
        "\n",
        "\n"
      ]
    },
    {
      "cell_type": "code",
      "metadata": {
        "id": "YVUC8oWhylEQ"
      },
      "source": [
        "# Definição ou Configuração\n",
        "model = Sequential([layers.Dense(X.shape[1], activation='sigmoid', input_shape=[X.shape[1],])]) \n",
        "\n",
        "model.add(layers.Dense(8, activation='sigmoid'))\n",
        "model.add(layers.Dense(8, activation='sigmoid'))\n",
        "model.add(layers.Dense(2, activation='sigmoid'))\n",
        "model.compile(loss='categorical_crossentropy', optimizer='adam', metrics=['accuracy'])\n",
        "\n"
      ],
      "execution_count": null,
      "outputs": []
    },
    {
      "cell_type": "markdown",
      "metadata": {
        "id": "A_yUDfjJeC5u"
      },
      "source": [
        "# Treinamento da Rede DeepLearning\n",
        "\n",
        "Os modelos neurais em geral trazem embutido no treinamento os conjuntos de validação. Assim, em geral, teremos um conjunto de *validação* e um conjunto de *teste*. O `history` permite salvar os dados do treinamento para análise do aprendizado, por exemplo *overfitting*. "
      ]
    },
    {
      "cell_type": "code",
      "metadata": {
        "id": "vqO9g2tCeOZN"
      },
      "source": [
        "# Treinamento\n",
        "history = model.fit(X_train, y_train, validation_split=0.2, epochs=100)"
      ],
      "execution_count": null,
      "outputs": []
    },
    {
      "cell_type": "markdown",
      "metadata": {
        "id": "RjDowgmPe7ge"
      },
      "source": [
        "# Avaliação do Modelo\n",
        "\n",
        "Em geral,  diferentemente do que é mais comum em outros modelos de classificação não neurais, avalia-se o erro em substituição à acurácia."
      ]
    },
    {
      "cell_type": "markdown",
      "metadata": {
        "id": "pmfPcs6J0ZFC"
      },
      "source": [
        "O Treinamento busca a cada etapa minimizar o erro (aumentar a acuracidade). Isso entretanto não ocorre de maneira regular. O Treinamento pode ser concluído quando alcança um erro médio desejado ou após um certo número de iterações, uma vez que o modelo pode não convergir."
      ]
    },
    {
      "cell_type": "code",
      "metadata": {
        "id": "zrkQMDRzzmJq"
      },
      "source": [
        "loss, val_loss, acc, val_acc = plot_loss_acc(history,'Two Hidden Layer Neural Network 5,8,8,2 (sigmoid)')\n"
      ],
      "execution_count": null,
      "outputs": []
    },
    {
      "cell_type": "markdown",
      "metadata": {
        "id": "_hslPCKTfzCn"
      },
      "source": [
        "# Predição, aplicando e avaliando o modelo\n",
        "\n",
        "Podemos então aplicar e avaliar o modelo no conjunto de teste."
      ]
    },
    {
      "cell_type": "markdown",
      "metadata": {
        "id": "5Oc0b8_O05yj"
      },
      "source": [
        "Em cada neurônio de saída a rede retorna a probabilidade da classe. A seleção do neurônio de maior valor a classe mais provável (`np.argmax()`)."
      ]
    },
    {
      "cell_type": "code",
      "metadata": {
        "id": "O0df3TPl1B2b"
      },
      "source": [
        "# Predict\n",
        "print(model.predict(X_test))\n",
        "\n",
        "y_pred = np.argmax(model.predict(X_test), axis=-1)\n",
        "    \n",
        "print(y_pred)\n",
        "print(confusion_matrix(y_pred,y_test))\n"
      ],
      "execution_count": null,
      "outputs": []
    },
    {
      "cell_type": "code",
      "metadata": {
        "id": "Aayq7XSFgYiG"
      },
      "source": [
        "print(classification_report(y_pred,y_test))"
      ],
      "execution_count": null,
      "outputs": []
    },
    {
      "cell_type": "markdown",
      "metadata": {
        "id": "gSib62DfhBgO"
      },
      "source": [
        "# Código completo\n",
        "\n",
        "Aqui o código completo em uma única célula."
      ]
    },
    {
      "cell_type": "code",
      "metadata": {
        "id": "Gw24oGzig_If"
      },
      "source": [
        "## imports\n",
        "\n",
        "import numpy as np \n",
        "import pandas as pd \n",
        "import matplotlib.pyplot as plt \n",
        "import seaborn as sns \n",
        "import warnings\n",
        "import os\n",
        "warnings.filterwarnings(\"ignore\")\n",
        "\n",
        "from sklearn.model_selection import train_test_split\n",
        "from sklearn.metrics import confusion_matrix\n",
        "from sklearn.metrics import classification_report\n",
        "\n",
        "from tensorflow import keras\n",
        "from tensorflow.keras import layers\n",
        "from keras import Sequential, layers\n",
        "import tensorflow as tf\n",
        "\n",
        "fraud = pd.read_csv(\"http://meusite.mackenzie.br/rogerio/ML/qconlondon2016_sample_data.csv\")\n",
        "fraud.drop(columns=['charge_time'],inplace=True) # por simplicidade excluímos esse dado do treinamento\n",
        "                     \n",
        "## Hot Encode\n",
        "\n",
        "X = fraud.drop(columns=['fraudulent'])\n",
        "    \n",
        "X_number = X.select_dtypes(include='number')\n",
        "X_categorical = X.select_dtypes(exclude='number')\n",
        "    \n",
        "dummies = [pd.get_dummies(X[c],prefix=c, prefix_sep='_') for c in X_categorical.columns]\n",
        "X_dummies = pd.concat(dummies, axis=1)\n",
        "\n",
        "X = pd.concat([X_number,X_dummies], axis=1)\n",
        "X.head()\n",
        "\n",
        "## Normalize\n",
        "\n",
        "from sklearn.preprocessing import scale\n",
        "X_norm = scale(X)\n",
        "X_norm\n",
        "\n",
        "## Preparando a saída `y` \n",
        "\n",
        "fraud.fraudulent = fraud.fraudulent.replace(True,1)\n",
        "fraud.fraudulent = fraud.fraudulent.replace(False,0)\n",
        "\n",
        "y_num = fraud.fraudulent\n",
        "y_num\n",
        "\n",
        "## Separando os dados de Treinamento e Teste \n",
        "\n",
        "seed = 1234\n",
        "X_train, X_test, y_train, y_test = train_test_split(X_norm, y_num, test_size=0.3, stratify=y_num, random_state=seed)\n",
        "\n",
        "## Adequando categorical(y_train) para o `Keras`\n",
        "\n",
        "from keras.utils import to_categorical\n",
        "y_train = to_categorical(y_train)\n",
        "y_train\n",
        "\n",
        "## Configuração da Rede DeepLearning\n",
        "\n",
        "model = Sequential([layers.Dense(X.shape[1], activation='sigmoid', input_shape=[X.shape[1],])]) \n",
        "\n",
        "model.add(layers.Dense(8, activation='sigmoid'))\n",
        "model.add(layers.Dense(8, activation='sigmoid'))\n",
        "model.add(layers.Dense(2, activation='sigmoid'))\n",
        "model.compile(loss='categorical_crossentropy', optimizer='adam', metrics=['accuracy'])\n",
        "\n",
        "## Treinamento da Rede DeepLearning\n",
        "\n",
        "history = model.fit(X_train, y_train, validation_split=0.2, epochs=20)\n",
        "\n",
        "## Avaliação do Treinamento\n",
        "\n",
        "loss, val_loss, acc, val_acc = plot_loss_acc(history,'Two Hidden Layer Neural Network 5,8,8,2 (sigmoid)')\n",
        "\n",
        "## Predição, aplicando e avaliando o modelo\n",
        "\n",
        "y_pred = np.argmax(model.predict(X_test), axis=-1)\n",
        "    \n",
        "print(y_pred)\n",
        "print(confusion_matrix(y_pred,y_test))\n",
        "\n",
        "print(classification_report(y_pred,y_test))"
      ],
      "execution_count": null,
      "outputs": []
    },
    {
      "cell_type": "markdown",
      "metadata": {
        "id": "wq4DxyVQilZY"
      },
      "source": [
        "# Exercício. \n",
        "Execute o modelo acima sem normalização dos dados. O modelo é sensível a normalização? "
      ]
    },
    {
      "cell_type": "markdown",
      "metadata": {
        "id": "KaNJvguujo-5"
      },
      "source": [
        "# Exercício. \n",
        "Execute o modelo agora empregando *label encode* do atributo `card_country`."
      ]
    },
    {
      "cell_type": "markdown",
      "metadata": {
        "id": "sm1REAEFlzmj"
      },
      "source": [
        "# Exercício. \n",
        "Agora varie parâmetros da rede neural, como número de camadas, número de neurônios e função de ativação. Veja se consegue obter um resultado significativamente melhor que os anteriores."
      ]
    },
    {
      "cell_type": "markdown",
      "metadata": {
        "id": "N5KpUVE9nUIp"
      },
      "source": [
        "# Exercício. \n",
        "Empregue os modelos acima e refaça o treinamento dos dados de fraude incluindo agora o dia e o mês das operações."
      ]
    },
    {
      "cell_type": "markdown",
      "metadata": {
        "id": "6_NuX5FQuhOi"
      },
      "source": [
        "## **LAB SET UP**\n",
        "Execute antes de iniciar o Lab."
      ]
    },
    {
      "cell_type": "code",
      "metadata": {
        "id": "Fqxk5xmJqYpa"
      },
      "source": [
        "import numpy as np # linear algebra\n",
        "import pandas as pd # data processing, CSV file I/O (e.g. pd.read_csv)\n",
        "import matplotlib.pyplot as plt \n",
        "import seaborn as sns \n",
        "import warnings\n",
        "import os\n",
        "warnings.filterwarnings(\"ignore\")\n",
        "\n",
        "from tensorflow import keras\n",
        "from tensorflow.keras import layers\n",
        "from keras import Sequential, layers\n",
        "import tensorflow as tf\n",
        "\n",
        "from sklearn.model_selection import train_test_split\n",
        "from sklearn.metrics import confusion_matrix\n",
        "from sklearn.metrics import classification_report\n",
        "\n",
        "\n",
        "def plot_loss_acc(history,more_title=''):\n",
        "    \n",
        "    loss = history.history['loss']\n",
        "    val_loss = history.history['val_loss']\n",
        "    epochs = range(1, len(loss) + 1)\n",
        "    plt.figure(figsize=(8,5))\n",
        "    plt.plot(epochs, loss, 'y', label='Training loss')\n",
        "    plt.plot(epochs, val_loss, 'r', label='Validation loss')\n",
        "    plt.title('Training and validation loss' + ' ' + more_title)\n",
        "    plt.xlabel('Epochs')\n",
        "    plt.ylabel('Loss')\n",
        "    plt.legend()\n",
        "    plt.show()\n",
        "    \n",
        "    acc = history.history['accuracy']\n",
        "    val_acc = history.history['val_accuracy']\n",
        "    plt.figure(figsize=(8,5))\n",
        "    plt.plot(epochs, acc, 'y', label='Training acc')\n",
        "    plt.plot(epochs, val_acc, 'r', label='Validation acc')\n",
        "    plt.title('Training and validation accuracy' + ' ' + more_title)\n",
        "    plt.xlabel('Epochs')\n",
        "    plt.ylabel('Accuracy')\n",
        "    plt.legend()\n",
        "    plt.show()\n",
        "\n",
        "    print(more_title + 'Accuracy Train: {:.2f} %, Accuracy Test: {:.2f} %'.format(acc[len(acc)-1] *100, val_acc[len(val_acc)-1]*100))\n",
        "\n",
        "    return loss, val_loss, acc, val_acc\n",
        "\n",
        "print('Set Up completed!')    "
      ],
      "execution_count": null,
      "outputs": []
    },
    {
      "cell_type": "markdown",
      "metadata": {
        "id": "m-_QM8ceztWe"
      },
      "source": [
        "# Síntese\n",
        "\n",
        "Você viu bastante coisa nesta trilha! Mas muitos dos recursos que você viu aqui você acabará utilizando muitas vezes de forma transparente. Na maior parte do tempo você poderá fazer operações como `x = x * y + 1`, sem se preocupar que são tensores, se estão executando na GPU ou não, que operação está salvando os gradientes desse cálculo ou mesmo que há um grafo de execução associado a ela.\n",
        "\n",
        "Os recursos vistos aqui como Tensores, uso de GPU para o processamento, cálculo automático de gradiente e o uso de grafos de execução, são essencias e em grande parte são eles que viabilizam a criação, treinamento e execução de modelos de deep learning com milhares de elementos e dados. \n",
        "\n",
        "Esses recursos são bastante dependentes da implementação. Aqui analisamos esses recurso com algum detalhe para o `TensorFlow` e a implementação, os comandos e uso em outros frameworks como o `Pytorch` podem diferir bastante. Mas os conceitos são os mesmos que na parte mais essencial e prática, de tratamento de tensores, a diferença é mínima sendo todos muito próximos de como o `Python` e o `Numpy` lidam com coleções.  "
      ]
    },
    {
      "cell_type": "markdown",
      "metadata": {
        "id": "NmG9yqIREr0w"
      },
      "source": [
        "## Para saber mais\n",
        "\n",
        "Acesse o site do `https://www.tensorflow.org/guide` e explore as **Noções Básicas do TensorFlow**, incluindo tensores, a diferenciação automática. E você pode aproveitar e entender também o que é um tensor esparso.  \n",
        "\n",
        "Acesse o site do `https://www.tensorflow.org/guide` e explore os **Aceleradores**. O que seria uma TPU? \n",
        "\n",
        "Assista ao vídeo **TensorFlow Eager Mode**, https://youtu.be/qTYQEXsBb_E para entender melhor o que é um grafo de execução. \n",
        "\n",
        "Acesse o tutorial do `PyTorch`, **Tensors** em https://pytorch.org/tutorials/beginner/basics/tensorqs_tutorial.html e veja as diferenças de empregar tensores com o `TensorFlow`. \n",
        "\n"
      ]
    },
    {
      "cell_type": "markdown",
      "metadata": {
        "id": "h_6fwcVkCsLf"
      },
      "source": [
        "## Referências\n",
        "\n",
        "1. Aston Zhang and Zachary C. Lipton and Mu Li and Alexander J. Smola. **Dive into Deep Learning** (2020). Disponível em: https://d2l.ai/index.html Acesso em: 21 de abril de 2021. \n",
        "\n",
        "1. ___. **Noções Básicas do TensorFlow**. Disponível em: https://www.tensorflow.org/guide Acesso em: 28 de maio de 2021.\n",
        "\n",
        "1. ___. **Aceleradores**. Disponível em: https://www.tensorflow.org/guide Acesso em: 28 de maio de 2021.\n",
        "\n",
        "1. ___. **Tensors**. Disponível em: https://pytorch.org/tutorials/beginner/basics/tensorqs_tutorial.html  Acesso em: 28 de maio de 2021.\n",
        "\n",
        "1. Géron, A. **Hands-on machine learning with Scikit-Learn, Keras and TensorFlow: concepts, tools, and techniques to build intelligent systems**, 2nd ed. (2019) O'Reilly \n",
        "\n",
        "1. Nikhil Buduma. **Fundamentals of Deep Learning**, O'Reilly Media, Inc., (2017) ISBN: 9781491925614\n",
        "\n",
        "1. Ramsundar, B., Zadeh, R. B. **TensorFlow for Deep Learning** (2016)\n",
        ", O'Reilly Media, Inc. \n",
        "\n",
        "1. Chollet, F. **Deep Learning with Python**. (2018) Manning Publications Co. "
      ]
    }
  ]
}