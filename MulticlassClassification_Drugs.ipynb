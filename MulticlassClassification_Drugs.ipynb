{
  "nbformat": 4,
  "nbformat_minor": 0,
  "metadata": {
    "colab": {
      "name": "MulticlassClassification_Drugs.ipynb",
      "provenance": [],
      "include_colab_link": true
    },
    "kernelspec": {
      "name": "python3",
      "display_name": "Python 3"
    },
    "language_info": {
      "name": "python"
    }
  },
  "cells": [
    {
      "cell_type": "markdown",
      "metadata": {
        "id": "view-in-github",
        "colab_type": "text"
      },
      "source": [
        "<a href=\"https://colab.research.google.com/github/Rogerio-mack/Deep-Learning-I/blob/main/MulticlassClassification_Drugs.ipynb\" target=\"_parent\"><img src=\"https://colab.research.google.com/assets/colab-badge.svg\" alt=\"Open In Colab\"/></a>"
      ]
    },
    {
      "cell_type": "markdown",
      "metadata": {
        "id": "4hc-jYChpYrD"
      },
      "source": [
        "`Autor: Gabriel Ferreira Franco`"
      ]
    },
    {
      "cell_type": "code",
      "metadata": {
        "id": "u2gpEEH-ruLW"
      },
      "source": [
        "import pandas as pd\n",
        "import numpy as np\n",
        "from sklearn.preprocessing import scale\n",
        "from sklearn.model_selection import train_test_split\n",
        "from tensorflow import keras\n",
        "from tensorflow.keras import layers\n",
        "import tensorflow as tf\n",
        "from sklearn.metrics import confusion_matrix, classification_report, accuracy_score"
      ],
      "execution_count": 1,
      "outputs": []
    },
    {
      "cell_type": "code",
      "metadata": {
        "colab": {
          "base_uri": "https://localhost:8080/",
          "height": 204
        },
        "id": "edafktPs6w5y",
        "outputId": "e68ec6ab-44ac-49c6-d8c5-5e3fc4d442f7"
      },
      "source": [
        "df = pd.read_csv(\"https://raw.githubusercontent.com/Rogerio-mack/work/main/drug200.csv\")\n",
        "df.head()"
      ],
      "execution_count": 2,
      "outputs": [
        {
          "output_type": "execute_result",
          "data": {
            "text/html": [
              "<div>\n",
              "<style scoped>\n",
              "    .dataframe tbody tr th:only-of-type {\n",
              "        vertical-align: middle;\n",
              "    }\n",
              "\n",
              "    .dataframe tbody tr th {\n",
              "        vertical-align: top;\n",
              "    }\n",
              "\n",
              "    .dataframe thead th {\n",
              "        text-align: right;\n",
              "    }\n",
              "</style>\n",
              "<table border=\"1\" class=\"dataframe\">\n",
              "  <thead>\n",
              "    <tr style=\"text-align: right;\">\n",
              "      <th></th>\n",
              "      <th>Age</th>\n",
              "      <th>Sex</th>\n",
              "      <th>BP</th>\n",
              "      <th>Cholesterol</th>\n",
              "      <th>Na_to_K</th>\n",
              "      <th>Drug</th>\n",
              "    </tr>\n",
              "  </thead>\n",
              "  <tbody>\n",
              "    <tr>\n",
              "      <th>0</th>\n",
              "      <td>23</td>\n",
              "      <td>F</td>\n",
              "      <td>HIGH</td>\n",
              "      <td>HIGH</td>\n",
              "      <td>25.355</td>\n",
              "      <td>DrugY</td>\n",
              "    </tr>\n",
              "    <tr>\n",
              "      <th>1</th>\n",
              "      <td>47</td>\n",
              "      <td>M</td>\n",
              "      <td>LOW</td>\n",
              "      <td>HIGH</td>\n",
              "      <td>13.093</td>\n",
              "      <td>drugC</td>\n",
              "    </tr>\n",
              "    <tr>\n",
              "      <th>2</th>\n",
              "      <td>47</td>\n",
              "      <td>M</td>\n",
              "      <td>LOW</td>\n",
              "      <td>HIGH</td>\n",
              "      <td>10.114</td>\n",
              "      <td>drugC</td>\n",
              "    </tr>\n",
              "    <tr>\n",
              "      <th>3</th>\n",
              "      <td>28</td>\n",
              "      <td>F</td>\n",
              "      <td>NORMAL</td>\n",
              "      <td>HIGH</td>\n",
              "      <td>7.798</td>\n",
              "      <td>drugX</td>\n",
              "    </tr>\n",
              "    <tr>\n",
              "      <th>4</th>\n",
              "      <td>61</td>\n",
              "      <td>F</td>\n",
              "      <td>LOW</td>\n",
              "      <td>HIGH</td>\n",
              "      <td>18.043</td>\n",
              "      <td>DrugY</td>\n",
              "    </tr>\n",
              "  </tbody>\n",
              "</table>\n",
              "</div>"
            ],
            "text/plain": [
              "   Age Sex      BP Cholesterol  Na_to_K   Drug\n",
              "0   23   F    HIGH        HIGH   25.355  DrugY\n",
              "1   47   M     LOW        HIGH   13.093  drugC\n",
              "2   47   M     LOW        HIGH   10.114  drugC\n",
              "3   28   F  NORMAL        HIGH    7.798  drugX\n",
              "4   61   F     LOW        HIGH   18.043  DrugY"
            ]
          },
          "metadata": {},
          "execution_count": 2
        }
      ]
    },
    {
      "cell_type": "code",
      "metadata": {
        "colab": {
          "base_uri": "https://localhost:8080/"
        },
        "id": "d75ymNe265SJ",
        "outputId": "631dc86e-1a57-490a-ccf3-33684dcddd1f"
      },
      "source": [
        "#Verificando se há valores nulos\n",
        "print(df.isnull().sum())"
      ],
      "execution_count": 3,
      "outputs": [
        {
          "output_type": "stream",
          "name": "stdout",
          "text": [
            "Age            0\n",
            "Sex            0\n",
            "BP             0\n",
            "Cholesterol    0\n",
            "Na_to_K        0\n",
            "Drug           0\n",
            "dtype: int64\n"
          ]
        }
      ]
    },
    {
      "cell_type": "code",
      "metadata": {
        "id": "VQnLPGOuaz-m",
        "colab": {
          "base_uri": "https://localhost:8080/"
        },
        "outputId": "efeb03fb-b599-4cfa-e2cf-519b741b1925"
      },
      "source": [
        "df.Drug.value_counts()"
      ],
      "execution_count": 4,
      "outputs": [
        {
          "output_type": "execute_result",
          "data": {
            "text/plain": [
              "DrugY    91\n",
              "drugX    54\n",
              "drugA    23\n",
              "drugC    16\n",
              "drugB    16\n",
              "Name: Drug, dtype: int64"
            ]
          },
          "metadata": {},
          "execution_count": 4
        }
      ]
    },
    {
      "cell_type": "code",
      "metadata": {
        "colab": {
          "base_uri": "https://localhost:8080/",
          "height": 204
        },
        "id": "o248h9KBbMiA",
        "outputId": "89439f2a-b11a-4ed3-8641-41bda27bcb47"
      },
      "source": [
        "#Fazendo a discretização das colunas \"Sex\", \"BP\", \"Cholesterol\"\n",
        "coluna = [\"Sex\", \"BP\", \"Cholesterol\"]\n",
        "for col in coluna:\n",
        "  dummies = pd.get_dummies(df[col], prefix=col)\n",
        "  df = pd.concat([df, dummies], axis = 1)\n",
        "  df.drop(columns=[col], inplace=True)\n",
        "df.head()"
      ],
      "execution_count": 5,
      "outputs": [
        {
          "output_type": "execute_result",
          "data": {
            "text/html": [
              "<div>\n",
              "<style scoped>\n",
              "    .dataframe tbody tr th:only-of-type {\n",
              "        vertical-align: middle;\n",
              "    }\n",
              "\n",
              "    .dataframe tbody tr th {\n",
              "        vertical-align: top;\n",
              "    }\n",
              "\n",
              "    .dataframe thead th {\n",
              "        text-align: right;\n",
              "    }\n",
              "</style>\n",
              "<table border=\"1\" class=\"dataframe\">\n",
              "  <thead>\n",
              "    <tr style=\"text-align: right;\">\n",
              "      <th></th>\n",
              "      <th>Age</th>\n",
              "      <th>Na_to_K</th>\n",
              "      <th>Drug</th>\n",
              "      <th>Sex_F</th>\n",
              "      <th>Sex_M</th>\n",
              "      <th>BP_HIGH</th>\n",
              "      <th>BP_LOW</th>\n",
              "      <th>BP_NORMAL</th>\n",
              "      <th>Cholesterol_HIGH</th>\n",
              "      <th>Cholesterol_NORMAL</th>\n",
              "    </tr>\n",
              "  </thead>\n",
              "  <tbody>\n",
              "    <tr>\n",
              "      <th>0</th>\n",
              "      <td>23</td>\n",
              "      <td>25.355</td>\n",
              "      <td>DrugY</td>\n",
              "      <td>1</td>\n",
              "      <td>0</td>\n",
              "      <td>1</td>\n",
              "      <td>0</td>\n",
              "      <td>0</td>\n",
              "      <td>1</td>\n",
              "      <td>0</td>\n",
              "    </tr>\n",
              "    <tr>\n",
              "      <th>1</th>\n",
              "      <td>47</td>\n",
              "      <td>13.093</td>\n",
              "      <td>drugC</td>\n",
              "      <td>0</td>\n",
              "      <td>1</td>\n",
              "      <td>0</td>\n",
              "      <td>1</td>\n",
              "      <td>0</td>\n",
              "      <td>1</td>\n",
              "      <td>0</td>\n",
              "    </tr>\n",
              "    <tr>\n",
              "      <th>2</th>\n",
              "      <td>47</td>\n",
              "      <td>10.114</td>\n",
              "      <td>drugC</td>\n",
              "      <td>0</td>\n",
              "      <td>1</td>\n",
              "      <td>0</td>\n",
              "      <td>1</td>\n",
              "      <td>0</td>\n",
              "      <td>1</td>\n",
              "      <td>0</td>\n",
              "    </tr>\n",
              "    <tr>\n",
              "      <th>3</th>\n",
              "      <td>28</td>\n",
              "      <td>7.798</td>\n",
              "      <td>drugX</td>\n",
              "      <td>1</td>\n",
              "      <td>0</td>\n",
              "      <td>0</td>\n",
              "      <td>0</td>\n",
              "      <td>1</td>\n",
              "      <td>1</td>\n",
              "      <td>0</td>\n",
              "    </tr>\n",
              "    <tr>\n",
              "      <th>4</th>\n",
              "      <td>61</td>\n",
              "      <td>18.043</td>\n",
              "      <td>DrugY</td>\n",
              "      <td>1</td>\n",
              "      <td>0</td>\n",
              "      <td>0</td>\n",
              "      <td>1</td>\n",
              "      <td>0</td>\n",
              "      <td>1</td>\n",
              "      <td>0</td>\n",
              "    </tr>\n",
              "  </tbody>\n",
              "</table>\n",
              "</div>"
            ],
            "text/plain": [
              "   Age  Na_to_K   Drug  ...  BP_NORMAL  Cholesterol_HIGH  Cholesterol_NORMAL\n",
              "0   23   25.355  DrugY  ...          0                 1                   0\n",
              "1   47   13.093  drugC  ...          0                 1                   0\n",
              "2   47   10.114  drugC  ...          0                 1                   0\n",
              "3   28    7.798  drugX  ...          1                 1                   0\n",
              "4   61   18.043  DrugY  ...          0                 1                   0\n",
              "\n",
              "[5 rows x 10 columns]"
            ]
          },
          "metadata": {},
          "execution_count": 5
        }
      ]
    },
    {
      "cell_type": "code",
      "metadata": {
        "id": "3Td5Av5rbeQ7",
        "colab": {
          "base_uri": "https://localhost:8080/"
        },
        "outputId": "9bdcd0e0-696e-4065-d416-8ad0fa1e4365"
      },
      "source": [
        "X = scale(df.drop(columns=[\"Drug\"]))\n",
        "print(X)"
      ],
      "execution_count": 6,
      "outputs": [
        {
          "output_type": "stream",
          "name": "stdout",
          "text": [
            "[[-1.29159102  1.28652212  1.040833   ... -0.64686916  0.97043679\n",
            "  -0.97043679]\n",
            " [ 0.16269866 -0.4151454  -0.96076892 ... -0.64686916  0.97043679\n",
            "  -0.97043679]\n",
            " [ 0.16269866 -0.82855818 -0.96076892 ... -0.64686916  0.97043679\n",
            "  -0.97043679]\n",
            " ...\n",
            " [ 0.46567567 -0.85908883 -0.96076892 ...  1.54590766  0.97043679\n",
            "  -0.97043679]\n",
            " [-1.29159102 -0.28650033 -0.96076892 ...  1.54590766 -1.03046381\n",
            "   1.03046381]\n",
            " [-0.26146916 -0.6571702   1.040833   ... -0.64686916 -1.03046381\n",
            "   1.03046381]]\n"
          ]
        }
      ]
    },
    {
      "cell_type": "code",
      "metadata": {
        "colab": {
          "base_uri": "https://localhost:8080/",
          "height": 328
        },
        "id": "U36Ve2neLn7I",
        "outputId": "e52c56b4-f618-4e23-a4f9-d4e8d2f60eb8"
      },
      "source": [
        "y = pd.get_dummies(df[\"Drug\"])\n",
        "y.head(9)"
      ],
      "execution_count": 7,
      "outputs": [
        {
          "output_type": "execute_result",
          "data": {
            "text/html": [
              "<div>\n",
              "<style scoped>\n",
              "    .dataframe tbody tr th:only-of-type {\n",
              "        vertical-align: middle;\n",
              "    }\n",
              "\n",
              "    .dataframe tbody tr th {\n",
              "        vertical-align: top;\n",
              "    }\n",
              "\n",
              "    .dataframe thead th {\n",
              "        text-align: right;\n",
              "    }\n",
              "</style>\n",
              "<table border=\"1\" class=\"dataframe\">\n",
              "  <thead>\n",
              "    <tr style=\"text-align: right;\">\n",
              "      <th></th>\n",
              "      <th>DrugY</th>\n",
              "      <th>drugA</th>\n",
              "      <th>drugB</th>\n",
              "      <th>drugC</th>\n",
              "      <th>drugX</th>\n",
              "    </tr>\n",
              "  </thead>\n",
              "  <tbody>\n",
              "    <tr>\n",
              "      <th>0</th>\n",
              "      <td>1</td>\n",
              "      <td>0</td>\n",
              "      <td>0</td>\n",
              "      <td>0</td>\n",
              "      <td>0</td>\n",
              "    </tr>\n",
              "    <tr>\n",
              "      <th>1</th>\n",
              "      <td>0</td>\n",
              "      <td>0</td>\n",
              "      <td>0</td>\n",
              "      <td>1</td>\n",
              "      <td>0</td>\n",
              "    </tr>\n",
              "    <tr>\n",
              "      <th>2</th>\n",
              "      <td>0</td>\n",
              "      <td>0</td>\n",
              "      <td>0</td>\n",
              "      <td>1</td>\n",
              "      <td>0</td>\n",
              "    </tr>\n",
              "    <tr>\n",
              "      <th>3</th>\n",
              "      <td>0</td>\n",
              "      <td>0</td>\n",
              "      <td>0</td>\n",
              "      <td>0</td>\n",
              "      <td>1</td>\n",
              "    </tr>\n",
              "    <tr>\n",
              "      <th>4</th>\n",
              "      <td>1</td>\n",
              "      <td>0</td>\n",
              "      <td>0</td>\n",
              "      <td>0</td>\n",
              "      <td>0</td>\n",
              "    </tr>\n",
              "    <tr>\n",
              "      <th>5</th>\n",
              "      <td>0</td>\n",
              "      <td>0</td>\n",
              "      <td>0</td>\n",
              "      <td>0</td>\n",
              "      <td>1</td>\n",
              "    </tr>\n",
              "    <tr>\n",
              "      <th>6</th>\n",
              "      <td>1</td>\n",
              "      <td>0</td>\n",
              "      <td>0</td>\n",
              "      <td>0</td>\n",
              "      <td>0</td>\n",
              "    </tr>\n",
              "    <tr>\n",
              "      <th>7</th>\n",
              "      <td>0</td>\n",
              "      <td>0</td>\n",
              "      <td>0</td>\n",
              "      <td>1</td>\n",
              "      <td>0</td>\n",
              "    </tr>\n",
              "    <tr>\n",
              "      <th>8</th>\n",
              "      <td>1</td>\n",
              "      <td>0</td>\n",
              "      <td>0</td>\n",
              "      <td>0</td>\n",
              "      <td>0</td>\n",
              "    </tr>\n",
              "  </tbody>\n",
              "</table>\n",
              "</div>"
            ],
            "text/plain": [
              "   DrugY  drugA  drugB  drugC  drugX\n",
              "0      1      0      0      0      0\n",
              "1      0      0      0      1      0\n",
              "2      0      0      0      1      0\n",
              "3      0      0      0      0      1\n",
              "4      1      0      0      0      0\n",
              "5      0      0      0      0      1\n",
              "6      1      0      0      0      0\n",
              "7      0      0      0      1      0\n",
              "8      1      0      0      0      0"
            ]
          },
          "metadata": {},
          "execution_count": 7
        }
      ]
    },
    {
      "cell_type": "code",
      "metadata": {
        "id": "8wNCEIxARxrZ"
      },
      "source": [
        "X_train, X_test, y_train, y_test = train_test_split(X, y, test_size=0.3, random_state=123)"
      ],
      "execution_count": 8,
      "outputs": []
    },
    {
      "cell_type": "code",
      "metadata": {
        "id": "6sy9CoCjbuLB",
        "colab": {
          "base_uri": "https://localhost:8080/"
        },
        "outputId": "b9b1838b-a2e5-40bb-8887-1d6bdd698a1f"
      },
      "source": [
        "y.shape"
      ],
      "execution_count": 9,
      "outputs": [
        {
          "output_type": "execute_result",
          "data": {
            "text/plain": [
              "(200, 5)"
            ]
          },
          "metadata": {},
          "execution_count": 9
        }
      ]
    },
    {
      "cell_type": "code",
      "metadata": {
        "id": "rMX8VwFjb1XJ",
        "colab": {
          "base_uri": "https://localhost:8080/"
        },
        "outputId": "14e39dca-eb98-46b3-a675-74e8cbd58a87"
      },
      "source": [
        "X.shape"
      ],
      "execution_count": 10,
      "outputs": [
        {
          "output_type": "execute_result",
          "data": {
            "text/plain": [
              "(200, 9)"
            ]
          },
          "metadata": {},
          "execution_count": 10
        }
      ]
    },
    {
      "cell_type": "code",
      "metadata": {
        "id": "CIZaOTcbU7Oq"
      },
      "source": [
        "model = keras.Sequential([\n",
        "    layers.Dense(20, activation='relu', input_shape=[X.shape[1]]),\n",
        "    layers.Dense(15, activation='relu'),\n",
        "    layers.Dense(10, activation='relu'),\n",
        "    layers.Dense(y.shape[1], activation='sigmoid'),\n",
        "])"
      ],
      "execution_count": 11,
      "outputs": []
    },
    {
      "cell_type": "code",
      "metadata": {
        "id": "0QMcGQwJdbpA",
        "colab": {
          "base_uri": "https://localhost:8080/"
        },
        "outputId": "8837b45e-63a4-45af-f025-b423a54e3ac7"
      },
      "source": [
        "model.summary()"
      ],
      "execution_count": 12,
      "outputs": [
        {
          "output_type": "stream",
          "name": "stdout",
          "text": [
            "Model: \"sequential\"\n",
            "_________________________________________________________________\n",
            " Layer (type)                Output Shape              Param #   \n",
            "=================================================================\n",
            " dense (Dense)               (None, 20)                200       \n",
            "                                                                 \n",
            " dense_1 (Dense)             (None, 15)                315       \n",
            "                                                                 \n",
            " dense_2 (Dense)             (None, 10)                160       \n",
            "                                                                 \n",
            " dense_3 (Dense)             (None, 5)                 55        \n",
            "                                                                 \n",
            "=================================================================\n",
            "Total params: 730\n",
            "Trainable params: 730\n",
            "Non-trainable params: 0\n",
            "_________________________________________________________________\n"
          ]
        }
      ]
    },
    {
      "cell_type": "code",
      "metadata": {
        "id": "WWhf9N0Ven_1"
      },
      "source": [
        "model.compile(loss='categorical_crossentropy', optimizer='adam', metrics=['accuracy'])"
      ],
      "execution_count": 13,
      "outputs": []
    },
    {
      "cell_type": "code",
      "metadata": {
        "id": "IvFy5IDHfjv2",
        "colab": {
          "base_uri": "https://localhost:8080/"
        },
        "outputId": "fcfa7b02-2fc6-4222-986c-1b1fabde7d22"
      },
      "source": [
        "history = model.fit(\n",
        "    X_train, y_train,\n",
        "    batch_size=32,\n",
        "    validation_split=0.4,\n",
        "    epochs=200,\n",
        "    verbose=1,  \n",
        ")"
      ],
      "execution_count": 14,
      "outputs": [
        {
          "output_type": "stream",
          "name": "stdout",
          "text": [
            "Epoch 1/200\n",
            "3/3 [==============================] - 1s 130ms/step - loss: 1.5074 - accuracy: 0.4643 - val_loss: 1.5133 - val_accuracy: 0.3750\n",
            "Epoch 2/200\n",
            "3/3 [==============================] - 0s 16ms/step - loss: 1.4860 - accuracy: 0.4762 - val_loss: 1.4966 - val_accuracy: 0.4107\n",
            "Epoch 3/200\n",
            "3/3 [==============================] - 0s 15ms/step - loss: 1.4654 - accuracy: 0.5238 - val_loss: 1.4795 - val_accuracy: 0.4107\n",
            "Epoch 4/200\n",
            "3/3 [==============================] - 0s 18ms/step - loss: 1.4442 - accuracy: 0.5238 - val_loss: 1.4629 - val_accuracy: 0.4464\n",
            "Epoch 5/200\n",
            "3/3 [==============================] - 0s 14ms/step - loss: 1.4246 - accuracy: 0.5357 - val_loss: 1.4458 - val_accuracy: 0.4464\n",
            "Epoch 6/200\n",
            "3/3 [==============================] - 0s 14ms/step - loss: 1.4043 - accuracy: 0.5238 - val_loss: 1.4285 - val_accuracy: 0.4286\n",
            "Epoch 7/200\n",
            "3/3 [==============================] - 0s 15ms/step - loss: 1.3832 - accuracy: 0.5357 - val_loss: 1.4112 - val_accuracy: 0.4286\n",
            "Epoch 8/200\n",
            "3/3 [==============================] - 0s 15ms/step - loss: 1.3637 - accuracy: 0.5238 - val_loss: 1.3942 - val_accuracy: 0.4286\n",
            "Epoch 9/200\n",
            "3/3 [==============================] - 0s 15ms/step - loss: 1.3430 - accuracy: 0.5238 - val_loss: 1.3776 - val_accuracy: 0.4286\n",
            "Epoch 10/200\n",
            "3/3 [==============================] - 0s 19ms/step - loss: 1.3240 - accuracy: 0.5238 - val_loss: 1.3612 - val_accuracy: 0.4464\n",
            "Epoch 11/200\n",
            "3/3 [==============================] - 0s 19ms/step - loss: 1.3063 - accuracy: 0.5238 - val_loss: 1.3452 - val_accuracy: 0.4464\n",
            "Epoch 12/200\n",
            "3/3 [==============================] - 0s 15ms/step - loss: 1.2866 - accuracy: 0.5238 - val_loss: 1.3295 - val_accuracy: 0.4464\n",
            "Epoch 13/200\n",
            "3/3 [==============================] - 0s 17ms/step - loss: 1.2682 - accuracy: 0.5238 - val_loss: 1.3141 - val_accuracy: 0.4464\n",
            "Epoch 14/200\n",
            "3/3 [==============================] - 0s 15ms/step - loss: 1.2485 - accuracy: 0.5238 - val_loss: 1.2995 - val_accuracy: 0.4643\n",
            "Epoch 15/200\n",
            "3/3 [==============================] - 0s 15ms/step - loss: 1.2310 - accuracy: 0.5119 - val_loss: 1.2853 - val_accuracy: 0.4643\n",
            "Epoch 16/200\n",
            "3/3 [==============================] - 0s 17ms/step - loss: 1.2122 - accuracy: 0.5238 - val_loss: 1.2709 - val_accuracy: 0.4643\n",
            "Epoch 17/200\n",
            "3/3 [==============================] - 0s 17ms/step - loss: 1.1939 - accuracy: 0.5238 - val_loss: 1.2568 - val_accuracy: 0.4643\n",
            "Epoch 18/200\n",
            "3/3 [==============================] - 0s 16ms/step - loss: 1.1780 - accuracy: 0.5238 - val_loss: 1.2430 - val_accuracy: 0.4643\n",
            "Epoch 19/200\n",
            "3/3 [==============================] - 0s 15ms/step - loss: 1.1605 - accuracy: 0.5357 - val_loss: 1.2296 - val_accuracy: 0.4464\n",
            "Epoch 20/200\n",
            "3/3 [==============================] - 0s 15ms/step - loss: 1.1439 - accuracy: 0.5357 - val_loss: 1.2171 - val_accuracy: 0.4464\n",
            "Epoch 21/200\n",
            "3/3 [==============================] - 0s 16ms/step - loss: 1.1276 - accuracy: 0.5357 - val_loss: 1.2047 - val_accuracy: 0.4643\n",
            "Epoch 22/200\n",
            "3/3 [==============================] - 0s 16ms/step - loss: 1.1115 - accuracy: 0.5357 - val_loss: 1.1933 - val_accuracy: 0.4643\n",
            "Epoch 23/200\n",
            "3/3 [==============================] - 0s 17ms/step - loss: 1.0965 - accuracy: 0.5357 - val_loss: 1.1824 - val_accuracy: 0.4643\n",
            "Epoch 24/200\n",
            "3/3 [==============================] - 0s 16ms/step - loss: 1.0820 - accuracy: 0.5357 - val_loss: 1.1718 - val_accuracy: 0.4821\n",
            "Epoch 25/200\n",
            "3/3 [==============================] - 0s 16ms/step - loss: 1.0672 - accuracy: 0.5357 - val_loss: 1.1615 - val_accuracy: 0.4821\n",
            "Epoch 26/200\n",
            "3/3 [==============================] - 0s 16ms/step - loss: 1.0533 - accuracy: 0.5357 - val_loss: 1.1513 - val_accuracy: 0.4821\n",
            "Epoch 27/200\n",
            "3/3 [==============================] - 0s 17ms/step - loss: 1.0390 - accuracy: 0.5357 - val_loss: 1.1413 - val_accuracy: 0.4821\n",
            "Epoch 28/200\n",
            "3/3 [==============================] - 0s 19ms/step - loss: 1.0255 - accuracy: 0.5357 - val_loss: 1.1319 - val_accuracy: 0.4821\n",
            "Epoch 29/200\n",
            "3/3 [==============================] - 0s 15ms/step - loss: 1.0116 - accuracy: 0.5357 - val_loss: 1.1219 - val_accuracy: 0.4821\n",
            "Epoch 30/200\n",
            "3/3 [==============================] - 0s 20ms/step - loss: 0.9981 - accuracy: 0.5357 - val_loss: 1.1111 - val_accuracy: 0.4821\n",
            "Epoch 31/200\n",
            "3/3 [==============================] - 0s 16ms/step - loss: 0.9836 - accuracy: 0.5476 - val_loss: 1.1008 - val_accuracy: 0.4821\n",
            "Epoch 32/200\n",
            "3/3 [==============================] - 0s 20ms/step - loss: 0.9705 - accuracy: 0.5476 - val_loss: 1.0905 - val_accuracy: 0.4821\n",
            "Epoch 33/200\n",
            "3/3 [==============================] - 0s 16ms/step - loss: 0.9563 - accuracy: 0.5595 - val_loss: 1.0800 - val_accuracy: 0.4821\n",
            "Epoch 34/200\n",
            "3/3 [==============================] - 0s 16ms/step - loss: 0.9426 - accuracy: 0.5595 - val_loss: 1.0689 - val_accuracy: 0.5179\n",
            "Epoch 35/200\n",
            "3/3 [==============================] - 0s 15ms/step - loss: 0.9286 - accuracy: 0.5833 - val_loss: 1.0579 - val_accuracy: 0.5179\n",
            "Epoch 36/200\n",
            "3/3 [==============================] - 0s 15ms/step - loss: 0.9140 - accuracy: 0.5714 - val_loss: 1.0463 - val_accuracy: 0.5179\n",
            "Epoch 37/200\n",
            "3/3 [==============================] - 0s 15ms/step - loss: 0.8999 - accuracy: 0.5952 - val_loss: 1.0343 - val_accuracy: 0.5714\n",
            "Epoch 38/200\n",
            "3/3 [==============================] - 0s 14ms/step - loss: 0.8858 - accuracy: 0.6310 - val_loss: 1.0229 - val_accuracy: 0.5714\n",
            "Epoch 39/200\n",
            "3/3 [==============================] - 0s 14ms/step - loss: 0.8701 - accuracy: 0.6548 - val_loss: 1.0119 - val_accuracy: 0.5714\n",
            "Epoch 40/200\n",
            "3/3 [==============================] - 0s 15ms/step - loss: 0.8547 - accuracy: 0.6786 - val_loss: 1.0018 - val_accuracy: 0.5714\n",
            "Epoch 41/200\n",
            "3/3 [==============================] - 0s 16ms/step - loss: 0.8388 - accuracy: 0.6905 - val_loss: 0.9915 - val_accuracy: 0.5714\n",
            "Epoch 42/200\n",
            "3/3 [==============================] - 0s 21ms/step - loss: 0.8235 - accuracy: 0.7024 - val_loss: 0.9817 - val_accuracy: 0.5714\n",
            "Epoch 43/200\n",
            "3/3 [==============================] - 0s 16ms/step - loss: 0.8077 - accuracy: 0.7024 - val_loss: 0.9701 - val_accuracy: 0.5714\n",
            "Epoch 44/200\n",
            "3/3 [==============================] - 0s 17ms/step - loss: 0.7913 - accuracy: 0.7024 - val_loss: 0.9585 - val_accuracy: 0.5714\n",
            "Epoch 45/200\n",
            "3/3 [==============================] - 0s 18ms/step - loss: 0.7755 - accuracy: 0.7024 - val_loss: 0.9459 - val_accuracy: 0.5893\n",
            "Epoch 46/200\n",
            "3/3 [==============================] - 0s 17ms/step - loss: 0.7589 - accuracy: 0.7024 - val_loss: 0.9328 - val_accuracy: 0.5893\n",
            "Epoch 47/200\n",
            "3/3 [==============================] - 0s 16ms/step - loss: 0.7434 - accuracy: 0.7024 - val_loss: 0.9197 - val_accuracy: 0.6071\n",
            "Epoch 48/200\n",
            "3/3 [==============================] - 0s 18ms/step - loss: 0.7266 - accuracy: 0.7024 - val_loss: 0.9077 - val_accuracy: 0.6071\n",
            "Epoch 49/200\n",
            "3/3 [==============================] - 0s 17ms/step - loss: 0.7111 - accuracy: 0.7143 - val_loss: 0.8961 - val_accuracy: 0.6071\n",
            "Epoch 50/200\n",
            "3/3 [==============================] - 0s 17ms/step - loss: 0.6954 - accuracy: 0.7143 - val_loss: 0.8844 - val_accuracy: 0.6250\n",
            "Epoch 51/200\n",
            "3/3 [==============================] - 0s 20ms/step - loss: 0.6809 - accuracy: 0.7143 - val_loss: 0.8720 - val_accuracy: 0.6429\n",
            "Epoch 52/200\n",
            "3/3 [==============================] - 0s 15ms/step - loss: 0.6659 - accuracy: 0.7143 - val_loss: 0.8603 - val_accuracy: 0.6429\n",
            "Epoch 53/200\n",
            "3/3 [==============================] - 0s 16ms/step - loss: 0.6514 - accuracy: 0.7143 - val_loss: 0.8478 - val_accuracy: 0.6429\n",
            "Epoch 54/200\n",
            "3/3 [==============================] - 0s 15ms/step - loss: 0.6373 - accuracy: 0.7262 - val_loss: 0.8352 - val_accuracy: 0.6429\n",
            "Epoch 55/200\n",
            "3/3 [==============================] - 0s 14ms/step - loss: 0.6236 - accuracy: 0.7262 - val_loss: 0.8236 - val_accuracy: 0.6429\n",
            "Epoch 56/200\n",
            "3/3 [==============================] - 0s 15ms/step - loss: 0.6104 - accuracy: 0.7262 - val_loss: 0.8115 - val_accuracy: 0.6429\n",
            "Epoch 57/200\n",
            "3/3 [==============================] - 0s 15ms/step - loss: 0.5974 - accuracy: 0.7381 - val_loss: 0.8003 - val_accuracy: 0.6429\n",
            "Epoch 58/200\n",
            "3/3 [==============================] - 0s 16ms/step - loss: 0.5842 - accuracy: 0.7381 - val_loss: 0.7900 - val_accuracy: 0.6429\n",
            "Epoch 59/200\n",
            "3/3 [==============================] - 0s 16ms/step - loss: 0.5717 - accuracy: 0.7381 - val_loss: 0.7794 - val_accuracy: 0.6429\n",
            "Epoch 60/200\n",
            "3/3 [==============================] - 0s 16ms/step - loss: 0.5595 - accuracy: 0.7381 - val_loss: 0.7683 - val_accuracy: 0.6429\n",
            "Epoch 61/200\n",
            "3/3 [==============================] - 0s 15ms/step - loss: 0.5476 - accuracy: 0.7381 - val_loss: 0.7574 - val_accuracy: 0.6429\n",
            "Epoch 62/200\n",
            "3/3 [==============================] - 0s 17ms/step - loss: 0.5367 - accuracy: 0.7381 - val_loss: 0.7468 - val_accuracy: 0.6429\n",
            "Epoch 63/200\n",
            "3/3 [==============================] - 0s 15ms/step - loss: 0.5246 - accuracy: 0.7381 - val_loss: 0.7372 - val_accuracy: 0.6429\n",
            "Epoch 64/200\n",
            "3/3 [==============================] - 0s 16ms/step - loss: 0.5137 - accuracy: 0.7381 - val_loss: 0.7282 - val_accuracy: 0.6429\n",
            "Epoch 65/200\n",
            "3/3 [==============================] - 0s 16ms/step - loss: 0.5031 - accuracy: 0.7381 - val_loss: 0.7195 - val_accuracy: 0.6429\n",
            "Epoch 66/200\n",
            "3/3 [==============================] - 0s 16ms/step - loss: 0.4928 - accuracy: 0.7381 - val_loss: 0.7104 - val_accuracy: 0.6429\n",
            "Epoch 67/200\n",
            "3/3 [==============================] - 0s 16ms/step - loss: 0.4831 - accuracy: 0.7381 - val_loss: 0.7007 - val_accuracy: 0.6607\n",
            "Epoch 68/200\n",
            "3/3 [==============================] - 0s 15ms/step - loss: 0.4725 - accuracy: 0.7619 - val_loss: 0.6916 - val_accuracy: 0.6607\n",
            "Epoch 69/200\n",
            "3/3 [==============================] - 0s 16ms/step - loss: 0.4630 - accuracy: 0.7738 - val_loss: 0.6822 - val_accuracy: 0.6607\n",
            "Epoch 70/200\n",
            "3/3 [==============================] - 0s 18ms/step - loss: 0.4535 - accuracy: 0.7857 - val_loss: 0.6731 - val_accuracy: 0.6786\n",
            "Epoch 71/200\n",
            "3/3 [==============================] - 0s 18ms/step - loss: 0.4436 - accuracy: 0.8095 - val_loss: 0.6647 - val_accuracy: 0.6786\n",
            "Epoch 72/200\n",
            "3/3 [==============================] - 0s 16ms/step - loss: 0.4351 - accuracy: 0.8095 - val_loss: 0.6558 - val_accuracy: 0.6786\n",
            "Epoch 73/200\n",
            "3/3 [==============================] - 0s 17ms/step - loss: 0.4262 - accuracy: 0.8333 - val_loss: 0.6468 - val_accuracy: 0.6786\n",
            "Epoch 74/200\n",
            "3/3 [==============================] - 0s 21ms/step - loss: 0.4170 - accuracy: 0.8571 - val_loss: 0.6394 - val_accuracy: 0.6964\n",
            "Epoch 75/200\n",
            "3/3 [==============================] - 0s 18ms/step - loss: 0.4083 - accuracy: 0.8571 - val_loss: 0.6313 - val_accuracy: 0.6964\n",
            "Epoch 76/200\n",
            "3/3 [==============================] - 0s 16ms/step - loss: 0.3993 - accuracy: 0.8571 - val_loss: 0.6241 - val_accuracy: 0.6964\n",
            "Epoch 77/200\n",
            "3/3 [==============================] - 0s 16ms/step - loss: 0.3901 - accuracy: 0.8690 - val_loss: 0.6168 - val_accuracy: 0.6964\n",
            "Epoch 78/200\n",
            "3/3 [==============================] - 0s 14ms/step - loss: 0.3826 - accuracy: 0.8810 - val_loss: 0.6092 - val_accuracy: 0.7143\n",
            "Epoch 79/200\n",
            "3/3 [==============================] - 0s 19ms/step - loss: 0.3742 - accuracy: 0.8929 - val_loss: 0.6005 - val_accuracy: 0.7143\n",
            "Epoch 80/200\n",
            "3/3 [==============================] - 0s 15ms/step - loss: 0.3660 - accuracy: 0.9167 - val_loss: 0.5920 - val_accuracy: 0.7500\n",
            "Epoch 81/200\n",
            "3/3 [==============================] - 0s 16ms/step - loss: 0.3583 - accuracy: 0.9286 - val_loss: 0.5849 - val_accuracy: 0.7679\n",
            "Epoch 82/200\n",
            "3/3 [==============================] - 0s 18ms/step - loss: 0.3505 - accuracy: 0.9286 - val_loss: 0.5767 - val_accuracy: 0.7679\n",
            "Epoch 83/200\n",
            "3/3 [==============================] - 0s 20ms/step - loss: 0.3432 - accuracy: 0.9405 - val_loss: 0.5689 - val_accuracy: 0.7857\n",
            "Epoch 84/200\n",
            "3/3 [==============================] - 0s 15ms/step - loss: 0.3355 - accuracy: 0.9405 - val_loss: 0.5611 - val_accuracy: 0.7857\n",
            "Epoch 85/200\n",
            "3/3 [==============================] - 0s 19ms/step - loss: 0.3283 - accuracy: 0.9405 - val_loss: 0.5538 - val_accuracy: 0.7857\n",
            "Epoch 86/200\n",
            "3/3 [==============================] - 0s 17ms/step - loss: 0.3211 - accuracy: 0.9405 - val_loss: 0.5474 - val_accuracy: 0.8036\n",
            "Epoch 87/200\n",
            "3/3 [==============================] - 0s 16ms/step - loss: 0.3142 - accuracy: 0.9405 - val_loss: 0.5406 - val_accuracy: 0.8214\n",
            "Epoch 88/200\n",
            "3/3 [==============================] - 0s 15ms/step - loss: 0.3071 - accuracy: 0.9405 - val_loss: 0.5340 - val_accuracy: 0.8214\n",
            "Epoch 89/200\n",
            "3/3 [==============================] - 0s 16ms/step - loss: 0.3006 - accuracy: 0.9405 - val_loss: 0.5277 - val_accuracy: 0.8214\n",
            "Epoch 90/200\n",
            "3/3 [==============================] - 0s 16ms/step - loss: 0.2943 - accuracy: 0.9405 - val_loss: 0.5220 - val_accuracy: 0.8214\n",
            "Epoch 91/200\n",
            "3/3 [==============================] - 0s 17ms/step - loss: 0.2888 - accuracy: 0.9405 - val_loss: 0.5167 - val_accuracy: 0.8214\n",
            "Epoch 92/200\n",
            "3/3 [==============================] - 0s 18ms/step - loss: 0.2823 - accuracy: 0.9405 - val_loss: 0.5125 - val_accuracy: 0.8214\n",
            "Epoch 93/200\n",
            "3/3 [==============================] - 0s 18ms/step - loss: 0.2774 - accuracy: 0.9524 - val_loss: 0.5085 - val_accuracy: 0.8214\n",
            "Epoch 94/200\n",
            "3/3 [==============================] - 0s 17ms/step - loss: 0.2712 - accuracy: 0.9524 - val_loss: 0.5040 - val_accuracy: 0.8214\n",
            "Epoch 95/200\n",
            "3/3 [==============================] - 0s 15ms/step - loss: 0.2660 - accuracy: 0.9524 - val_loss: 0.4998 - val_accuracy: 0.8214\n",
            "Epoch 96/200\n",
            "3/3 [==============================] - 0s 16ms/step - loss: 0.2610 - accuracy: 0.9524 - val_loss: 0.4948 - val_accuracy: 0.8214\n",
            "Epoch 97/200\n",
            "3/3 [==============================] - 0s 16ms/step - loss: 0.2554 - accuracy: 0.9524 - val_loss: 0.4901 - val_accuracy: 0.8214\n",
            "Epoch 98/200\n",
            "3/3 [==============================] - 0s 15ms/step - loss: 0.2519 - accuracy: 0.9524 - val_loss: 0.4854 - val_accuracy: 0.8036\n",
            "Epoch 99/200\n",
            "3/3 [==============================] - 0s 17ms/step - loss: 0.2459 - accuracy: 0.9524 - val_loss: 0.4819 - val_accuracy: 0.8036\n",
            "Epoch 100/200\n",
            "3/3 [==============================] - 0s 19ms/step - loss: 0.2414 - accuracy: 0.9524 - val_loss: 0.4781 - val_accuracy: 0.8036\n",
            "Epoch 101/200\n",
            "3/3 [==============================] - 0s 15ms/step - loss: 0.2366 - accuracy: 0.9524 - val_loss: 0.4756 - val_accuracy: 0.8214\n",
            "Epoch 102/200\n",
            "3/3 [==============================] - 0s 16ms/step - loss: 0.2320 - accuracy: 0.9524 - val_loss: 0.4736 - val_accuracy: 0.8214\n",
            "Epoch 103/200\n",
            "3/3 [==============================] - 0s 15ms/step - loss: 0.2279 - accuracy: 0.9524 - val_loss: 0.4713 - val_accuracy: 0.8214\n",
            "Epoch 104/200\n",
            "3/3 [==============================] - 0s 15ms/step - loss: 0.2240 - accuracy: 0.9524 - val_loss: 0.4674 - val_accuracy: 0.8214\n",
            "Epoch 105/200\n",
            "3/3 [==============================] - 0s 16ms/step - loss: 0.2197 - accuracy: 0.9524 - val_loss: 0.4628 - val_accuracy: 0.8214\n",
            "Epoch 106/200\n",
            "3/3 [==============================] - 0s 16ms/step - loss: 0.2150 - accuracy: 0.9524 - val_loss: 0.4593 - val_accuracy: 0.8214\n",
            "Epoch 107/200\n",
            "3/3 [==============================] - 0s 15ms/step - loss: 0.2110 - accuracy: 0.9524 - val_loss: 0.4560 - val_accuracy: 0.8214\n",
            "Epoch 108/200\n",
            "3/3 [==============================] - 0s 20ms/step - loss: 0.2072 - accuracy: 0.9524 - val_loss: 0.4531 - val_accuracy: 0.8214\n",
            "Epoch 109/200\n",
            "3/3 [==============================] - 0s 19ms/step - loss: 0.2033 - accuracy: 0.9524 - val_loss: 0.4505 - val_accuracy: 0.8214\n",
            "Epoch 110/200\n",
            "3/3 [==============================] - 0s 16ms/step - loss: 0.1995 - accuracy: 0.9524 - val_loss: 0.4480 - val_accuracy: 0.8214\n",
            "Epoch 111/200\n",
            "3/3 [==============================] - 0s 15ms/step - loss: 0.1956 - accuracy: 0.9524 - val_loss: 0.4460 - val_accuracy: 0.8214\n",
            "Epoch 112/200\n",
            "3/3 [==============================] - 0s 15ms/step - loss: 0.1921 - accuracy: 0.9524 - val_loss: 0.4439 - val_accuracy: 0.8214\n",
            "Epoch 113/200\n",
            "3/3 [==============================] - 0s 14ms/step - loss: 0.1885 - accuracy: 0.9524 - val_loss: 0.4416 - val_accuracy: 0.8214\n",
            "Epoch 114/200\n",
            "3/3 [==============================] - 0s 15ms/step - loss: 0.1857 - accuracy: 0.9524 - val_loss: 0.4400 - val_accuracy: 0.8214\n",
            "Epoch 115/200\n",
            "3/3 [==============================] - 0s 16ms/step - loss: 0.1822 - accuracy: 0.9524 - val_loss: 0.4380 - val_accuracy: 0.8214\n",
            "Epoch 116/200\n",
            "3/3 [==============================] - 0s 16ms/step - loss: 0.1785 - accuracy: 0.9643 - val_loss: 0.4362 - val_accuracy: 0.8214\n",
            "Epoch 117/200\n",
            "3/3 [==============================] - 0s 15ms/step - loss: 0.1752 - accuracy: 0.9643 - val_loss: 0.4334 - val_accuracy: 0.8214\n",
            "Epoch 118/200\n",
            "3/3 [==============================] - 0s 18ms/step - loss: 0.1723 - accuracy: 0.9643 - val_loss: 0.4307 - val_accuracy: 0.8214\n",
            "Epoch 119/200\n",
            "3/3 [==============================] - 0s 20ms/step - loss: 0.1688 - accuracy: 0.9643 - val_loss: 0.4297 - val_accuracy: 0.8393\n",
            "Epoch 120/200\n",
            "3/3 [==============================] - 0s 17ms/step - loss: 0.1660 - accuracy: 0.9643 - val_loss: 0.4285 - val_accuracy: 0.8393\n",
            "Epoch 121/200\n",
            "3/3 [==============================] - 0s 17ms/step - loss: 0.1629 - accuracy: 0.9643 - val_loss: 0.4272 - val_accuracy: 0.8393\n",
            "Epoch 122/200\n",
            "3/3 [==============================] - 0s 19ms/step - loss: 0.1603 - accuracy: 0.9643 - val_loss: 0.4259 - val_accuracy: 0.8393\n",
            "Epoch 123/200\n",
            "3/3 [==============================] - 0s 15ms/step - loss: 0.1574 - accuracy: 0.9643 - val_loss: 0.4242 - val_accuracy: 0.8393\n",
            "Epoch 124/200\n",
            "3/3 [==============================] - 0s 17ms/step - loss: 0.1548 - accuracy: 0.9643 - val_loss: 0.4234 - val_accuracy: 0.8393\n",
            "Epoch 125/200\n",
            "3/3 [==============================] - 0s 17ms/step - loss: 0.1521 - accuracy: 0.9643 - val_loss: 0.4222 - val_accuracy: 0.8393\n",
            "Epoch 126/200\n",
            "3/3 [==============================] - 0s 17ms/step - loss: 0.1495 - accuracy: 0.9643 - val_loss: 0.4206 - val_accuracy: 0.8393\n",
            "Epoch 127/200\n",
            "3/3 [==============================] - 0s 16ms/step - loss: 0.1472 - accuracy: 0.9643 - val_loss: 0.4189 - val_accuracy: 0.8393\n",
            "Epoch 128/200\n",
            "3/3 [==============================] - 0s 18ms/step - loss: 0.1446 - accuracy: 0.9643 - val_loss: 0.4169 - val_accuracy: 0.8571\n",
            "Epoch 129/200\n",
            "3/3 [==============================] - 0s 17ms/step - loss: 0.1425 - accuracy: 0.9643 - val_loss: 0.4156 - val_accuracy: 0.8571\n",
            "Epoch 130/200\n",
            "3/3 [==============================] - 0s 16ms/step - loss: 0.1400 - accuracy: 0.9643 - val_loss: 0.4148 - val_accuracy: 0.8571\n",
            "Epoch 131/200\n",
            "3/3 [==============================] - 0s 18ms/step - loss: 0.1381 - accuracy: 0.9643 - val_loss: 0.4142 - val_accuracy: 0.8393\n",
            "Epoch 132/200\n",
            "3/3 [==============================] - 0s 16ms/step - loss: 0.1359 - accuracy: 0.9643 - val_loss: 0.4131 - val_accuracy: 0.8571\n",
            "Epoch 133/200\n",
            "3/3 [==============================] - 0s 17ms/step - loss: 0.1338 - accuracy: 0.9643 - val_loss: 0.4117 - val_accuracy: 0.8571\n",
            "Epoch 134/200\n",
            "3/3 [==============================] - 0s 16ms/step - loss: 0.1318 - accuracy: 0.9643 - val_loss: 0.4108 - val_accuracy: 0.8571\n",
            "Epoch 135/200\n",
            "3/3 [==============================] - 0s 16ms/step - loss: 0.1300 - accuracy: 0.9643 - val_loss: 0.4106 - val_accuracy: 0.8571\n",
            "Epoch 136/200\n",
            "3/3 [==============================] - 0s 16ms/step - loss: 0.1282 - accuracy: 0.9643 - val_loss: 0.4097 - val_accuracy: 0.8571\n",
            "Epoch 137/200\n",
            "3/3 [==============================] - 0s 16ms/step - loss: 0.1269 - accuracy: 0.9643 - val_loss: 0.4091 - val_accuracy: 0.8571\n",
            "Epoch 138/200\n",
            "3/3 [==============================] - 0s 18ms/step - loss: 0.1246 - accuracy: 0.9643 - val_loss: 0.4084 - val_accuracy: 0.8571\n",
            "Epoch 139/200\n",
            "3/3 [==============================] - 0s 16ms/step - loss: 0.1228 - accuracy: 0.9643 - val_loss: 0.4078 - val_accuracy: 0.8571\n",
            "Epoch 140/200\n",
            "3/3 [==============================] - 0s 17ms/step - loss: 0.1213 - accuracy: 0.9643 - val_loss: 0.4074 - val_accuracy: 0.8571\n",
            "Epoch 141/200\n",
            "3/3 [==============================] - 0s 17ms/step - loss: 0.1197 - accuracy: 0.9643 - val_loss: 0.4063 - val_accuracy: 0.8571\n",
            "Epoch 142/200\n",
            "3/3 [==============================] - 0s 18ms/step - loss: 0.1181 - accuracy: 0.9643 - val_loss: 0.4054 - val_accuracy: 0.8571\n",
            "Epoch 143/200\n",
            "3/3 [==============================] - 0s 16ms/step - loss: 0.1166 - accuracy: 0.9643 - val_loss: 0.4044 - val_accuracy: 0.8571\n",
            "Epoch 144/200\n",
            "3/3 [==============================] - 0s 21ms/step - loss: 0.1150 - accuracy: 0.9643 - val_loss: 0.4039 - val_accuracy: 0.8571\n",
            "Epoch 145/200\n",
            "3/3 [==============================] - 0s 22ms/step - loss: 0.1135 - accuracy: 0.9643 - val_loss: 0.4044 - val_accuracy: 0.8571\n",
            "Epoch 146/200\n",
            "3/3 [==============================] - 0s 16ms/step - loss: 0.1121 - accuracy: 0.9643 - val_loss: 0.4038 - val_accuracy: 0.8571\n",
            "Epoch 147/200\n",
            "3/3 [==============================] - 0s 16ms/step - loss: 0.1108 - accuracy: 0.9643 - val_loss: 0.4025 - val_accuracy: 0.8571\n",
            "Epoch 148/200\n",
            "3/3 [==============================] - 0s 17ms/step - loss: 0.1091 - accuracy: 0.9643 - val_loss: 0.4010 - val_accuracy: 0.8571\n",
            "Epoch 149/200\n",
            "3/3 [==============================] - 0s 16ms/step - loss: 0.1079 - accuracy: 0.9643 - val_loss: 0.3995 - val_accuracy: 0.8571\n",
            "Epoch 150/200\n",
            "3/3 [==============================] - 0s 17ms/step - loss: 0.1066 - accuracy: 0.9643 - val_loss: 0.3990 - val_accuracy: 0.8571\n",
            "Epoch 151/200\n",
            "3/3 [==============================] - 0s 18ms/step - loss: 0.1053 - accuracy: 0.9643 - val_loss: 0.3986 - val_accuracy: 0.8571\n",
            "Epoch 152/200\n",
            "3/3 [==============================] - 0s 16ms/step - loss: 0.1041 - accuracy: 0.9643 - val_loss: 0.3980 - val_accuracy: 0.8571\n",
            "Epoch 153/200\n",
            "3/3 [==============================] - 0s 17ms/step - loss: 0.1030 - accuracy: 0.9643 - val_loss: 0.3973 - val_accuracy: 0.8571\n",
            "Epoch 154/200\n",
            "3/3 [==============================] - 0s 17ms/step - loss: 0.1016 - accuracy: 0.9643 - val_loss: 0.3969 - val_accuracy: 0.8571\n",
            "Epoch 155/200\n",
            "3/3 [==============================] - 0s 16ms/step - loss: 0.1005 - accuracy: 0.9643 - val_loss: 0.3969 - val_accuracy: 0.8571\n",
            "Epoch 156/200\n",
            "3/3 [==============================] - 0s 18ms/step - loss: 0.0996 - accuracy: 0.9643 - val_loss: 0.3966 - val_accuracy: 0.8571\n",
            "Epoch 157/200\n",
            "3/3 [==============================] - 0s 16ms/step - loss: 0.0983 - accuracy: 0.9643 - val_loss: 0.3959 - val_accuracy: 0.8571\n",
            "Epoch 158/200\n",
            "3/3 [==============================] - 0s 17ms/step - loss: 0.0972 - accuracy: 0.9643 - val_loss: 0.3951 - val_accuracy: 0.8571\n",
            "Epoch 159/200\n",
            "3/3 [==============================] - 0s 20ms/step - loss: 0.0960 - accuracy: 0.9643 - val_loss: 0.3942 - val_accuracy: 0.8571\n",
            "Epoch 160/200\n",
            "3/3 [==============================] - 0s 16ms/step - loss: 0.0950 - accuracy: 0.9643 - val_loss: 0.3935 - val_accuracy: 0.8571\n",
            "Epoch 161/200\n",
            "3/3 [==============================] - 0s 16ms/step - loss: 0.0942 - accuracy: 0.9643 - val_loss: 0.3930 - val_accuracy: 0.8571\n",
            "Epoch 162/200\n",
            "3/3 [==============================] - 0s 16ms/step - loss: 0.0932 - accuracy: 0.9643 - val_loss: 0.3930 - val_accuracy: 0.8571\n",
            "Epoch 163/200\n",
            "3/3 [==============================] - 0s 19ms/step - loss: 0.0920 - accuracy: 0.9643 - val_loss: 0.3934 - val_accuracy: 0.8571\n",
            "Epoch 164/200\n",
            "3/3 [==============================] - 0s 16ms/step - loss: 0.0908 - accuracy: 0.9643 - val_loss: 0.3940 - val_accuracy: 0.8571\n",
            "Epoch 165/200\n",
            "3/3 [==============================] - 0s 17ms/step - loss: 0.0900 - accuracy: 0.9643 - val_loss: 0.3949 - val_accuracy: 0.8571\n",
            "Epoch 166/200\n",
            "3/3 [==============================] - 0s 18ms/step - loss: 0.0890 - accuracy: 0.9643 - val_loss: 0.3949 - val_accuracy: 0.8571\n",
            "Epoch 167/200\n",
            "3/3 [==============================] - 0s 17ms/step - loss: 0.0880 - accuracy: 0.9643 - val_loss: 0.3938 - val_accuracy: 0.8571\n",
            "Epoch 168/200\n",
            "3/3 [==============================] - 0s 20ms/step - loss: 0.0869 - accuracy: 0.9643 - val_loss: 0.3931 - val_accuracy: 0.8571\n",
            "Epoch 169/200\n",
            "3/3 [==============================] - 0s 19ms/step - loss: 0.0862 - accuracy: 0.9643 - val_loss: 0.3927 - val_accuracy: 0.8571\n",
            "Epoch 170/200\n",
            "3/3 [==============================] - 0s 19ms/step - loss: 0.0850 - accuracy: 0.9762 - val_loss: 0.3922 - val_accuracy: 0.8571\n",
            "Epoch 171/200\n",
            "3/3 [==============================] - 0s 17ms/step - loss: 0.0842 - accuracy: 0.9762 - val_loss: 0.3921 - val_accuracy: 0.8571\n",
            "Epoch 172/200\n",
            "3/3 [==============================] - 0s 21ms/step - loss: 0.0833 - accuracy: 0.9762 - val_loss: 0.3919 - val_accuracy: 0.8571\n",
            "Epoch 173/200\n",
            "3/3 [==============================] - 0s 17ms/step - loss: 0.0825 - accuracy: 0.9762 - val_loss: 0.3918 - val_accuracy: 0.8571\n",
            "Epoch 174/200\n",
            "3/3 [==============================] - 0s 18ms/step - loss: 0.0816 - accuracy: 0.9762 - val_loss: 0.3915 - val_accuracy: 0.8571\n",
            "Epoch 175/200\n",
            "3/3 [==============================] - 0s 19ms/step - loss: 0.0807 - accuracy: 0.9762 - val_loss: 0.3921 - val_accuracy: 0.8571\n",
            "Epoch 176/200\n",
            "3/3 [==============================] - 0s 17ms/step - loss: 0.0799 - accuracy: 0.9762 - val_loss: 0.3926 - val_accuracy: 0.8571\n",
            "Epoch 177/200\n",
            "3/3 [==============================] - 0s 16ms/step - loss: 0.0790 - accuracy: 0.9762 - val_loss: 0.3931 - val_accuracy: 0.8571\n",
            "Epoch 178/200\n",
            "3/3 [==============================] - 0s 19ms/step - loss: 0.0782 - accuracy: 0.9762 - val_loss: 0.3939 - val_accuracy: 0.8571\n",
            "Epoch 179/200\n",
            "3/3 [==============================] - 0s 18ms/step - loss: 0.0773 - accuracy: 0.9762 - val_loss: 0.3943 - val_accuracy: 0.8571\n",
            "Epoch 180/200\n",
            "3/3 [==============================] - 0s 18ms/step - loss: 0.0766 - accuracy: 0.9762 - val_loss: 0.3948 - val_accuracy: 0.8571\n",
            "Epoch 181/200\n",
            "3/3 [==============================] - 0s 18ms/step - loss: 0.0757 - accuracy: 0.9762 - val_loss: 0.3950 - val_accuracy: 0.8571\n",
            "Epoch 182/200\n",
            "3/3 [==============================] - 0s 18ms/step - loss: 0.0751 - accuracy: 0.9762 - val_loss: 0.3950 - val_accuracy: 0.8571\n",
            "Epoch 183/200\n",
            "3/3 [==============================] - 0s 16ms/step - loss: 0.0742 - accuracy: 0.9762 - val_loss: 0.3941 - val_accuracy: 0.8571\n",
            "Epoch 184/200\n",
            "3/3 [==============================] - 0s 18ms/step - loss: 0.0734 - accuracy: 0.9881 - val_loss: 0.3933 - val_accuracy: 0.8571\n",
            "Epoch 185/200\n",
            "3/3 [==============================] - 0s 20ms/step - loss: 0.0726 - accuracy: 0.9881 - val_loss: 0.3922 - val_accuracy: 0.8571\n",
            "Epoch 186/200\n",
            "3/3 [==============================] - 0s 18ms/step - loss: 0.0719 - accuracy: 0.9881 - val_loss: 0.3915 - val_accuracy: 0.8571\n",
            "Epoch 187/200\n",
            "3/3 [==============================] - 0s 18ms/step - loss: 0.0710 - accuracy: 0.9881 - val_loss: 0.3909 - val_accuracy: 0.8571\n",
            "Epoch 188/200\n",
            "3/3 [==============================] - 0s 18ms/step - loss: 0.0702 - accuracy: 0.9881 - val_loss: 0.3903 - val_accuracy: 0.8571\n",
            "Epoch 189/200\n",
            "3/3 [==============================] - 0s 19ms/step - loss: 0.0695 - accuracy: 0.9881 - val_loss: 0.3906 - val_accuracy: 0.8571\n",
            "Epoch 190/200\n",
            "3/3 [==============================] - 0s 17ms/step - loss: 0.0687 - accuracy: 0.9881 - val_loss: 0.3905 - val_accuracy: 0.8571\n",
            "Epoch 191/200\n",
            "3/3 [==============================] - 0s 19ms/step - loss: 0.0680 - accuracy: 1.0000 - val_loss: 0.3909 - val_accuracy: 0.8571\n",
            "Epoch 192/200\n",
            "3/3 [==============================] - 0s 17ms/step - loss: 0.0672 - accuracy: 1.0000 - val_loss: 0.3915 - val_accuracy: 0.8571\n",
            "Epoch 193/200\n",
            "3/3 [==============================] - 0s 19ms/step - loss: 0.0664 - accuracy: 1.0000 - val_loss: 0.3916 - val_accuracy: 0.8571\n",
            "Epoch 194/200\n",
            "3/3 [==============================] - 0s 15ms/step - loss: 0.0655 - accuracy: 1.0000 - val_loss: 0.3925 - val_accuracy: 0.8571\n",
            "Epoch 195/200\n",
            "3/3 [==============================] - 0s 19ms/step - loss: 0.0648 - accuracy: 1.0000 - val_loss: 0.3926 - val_accuracy: 0.8571\n",
            "Epoch 196/200\n",
            "3/3 [==============================] - 0s 20ms/step - loss: 0.0639 - accuracy: 1.0000 - val_loss: 0.3932 - val_accuracy: 0.8571\n",
            "Epoch 197/200\n",
            "3/3 [==============================] - 0s 20ms/step - loss: 0.0630 - accuracy: 1.0000 - val_loss: 0.3929 - val_accuracy: 0.8571\n",
            "Epoch 198/200\n",
            "3/3 [==============================] - 0s 17ms/step - loss: 0.0622 - accuracy: 1.0000 - val_loss: 0.3936 - val_accuracy: 0.8571\n",
            "Epoch 199/200\n",
            "3/3 [==============================] - 0s 19ms/step - loss: 0.0613 - accuracy: 1.0000 - val_loss: 0.3939 - val_accuracy: 0.8571\n",
            "Epoch 200/200\n",
            "3/3 [==============================] - 0s 16ms/step - loss: 0.0605 - accuracy: 1.0000 - val_loss: 0.3941 - val_accuracy: 0.8571\n"
          ]
        }
      ]
    },
    {
      "cell_type": "code",
      "metadata": {
        "id": "nkSkxOjyflk_"
      },
      "source": [
        "def display_acc_hist(history):\n",
        "  history_df = pd.DataFrame(history.history)\n",
        "  display(history_df.head())\n",
        "  # Start the plot at epoch 0\n",
        "  history_df.loc[0:, ['loss', 'val_loss']].plot()\n",
        "  history_df.loc[0:, ['accuracy', 'val_accuracy']].plot()\n",
        "\n",
        "  print((\"Best Validation Loss: {:0.4f}\" +\\\n",
        "      \"\\nBest Validation Accuracy: {:0.4f}\")\\\n",
        "      .format(history_df['val_loss'].min(), \n",
        "              history_df['val_accuracy'].max()))\n",
        "  return"
      ],
      "execution_count": 15,
      "outputs": []
    },
    {
      "cell_type": "code",
      "metadata": {
        "colab": {
          "base_uri": "https://localhost:8080/",
          "height": 734
        },
        "id": "mMcHcaFbfy-R",
        "outputId": "88732a9b-554b-4c6c-b912-a126f170b3d1"
      },
      "source": [
        "display_acc_hist(history)"
      ],
      "execution_count": 16,
      "outputs": [
        {
          "output_type": "display_data",
          "data": {
            "text/html": [
              "<div>\n",
              "<style scoped>\n",
              "    .dataframe tbody tr th:only-of-type {\n",
              "        vertical-align: middle;\n",
              "    }\n",
              "\n",
              "    .dataframe tbody tr th {\n",
              "        vertical-align: top;\n",
              "    }\n",
              "\n",
              "    .dataframe thead th {\n",
              "        text-align: right;\n",
              "    }\n",
              "</style>\n",
              "<table border=\"1\" class=\"dataframe\">\n",
              "  <thead>\n",
              "    <tr style=\"text-align: right;\">\n",
              "      <th></th>\n",
              "      <th>loss</th>\n",
              "      <th>accuracy</th>\n",
              "      <th>val_loss</th>\n",
              "      <th>val_accuracy</th>\n",
              "    </tr>\n",
              "  </thead>\n",
              "  <tbody>\n",
              "    <tr>\n",
              "      <th>0</th>\n",
              "      <td>1.507374</td>\n",
              "      <td>0.464286</td>\n",
              "      <td>1.513328</td>\n",
              "      <td>0.375000</td>\n",
              "    </tr>\n",
              "    <tr>\n",
              "      <th>1</th>\n",
              "      <td>1.486010</td>\n",
              "      <td>0.476190</td>\n",
              "      <td>1.496604</td>\n",
              "      <td>0.410714</td>\n",
              "    </tr>\n",
              "    <tr>\n",
              "      <th>2</th>\n",
              "      <td>1.465389</td>\n",
              "      <td>0.523810</td>\n",
              "      <td>1.479518</td>\n",
              "      <td>0.410714</td>\n",
              "    </tr>\n",
              "    <tr>\n",
              "      <th>3</th>\n",
              "      <td>1.444157</td>\n",
              "      <td>0.523810</td>\n",
              "      <td>1.462889</td>\n",
              "      <td>0.446429</td>\n",
              "    </tr>\n",
              "    <tr>\n",
              "      <th>4</th>\n",
              "      <td>1.424593</td>\n",
              "      <td>0.535714</td>\n",
              "      <td>1.445818</td>\n",
              "      <td>0.446429</td>\n",
              "    </tr>\n",
              "  </tbody>\n",
              "</table>\n",
              "</div>"
            ],
            "text/plain": [
              "       loss  accuracy  val_loss  val_accuracy\n",
              "0  1.507374  0.464286  1.513328      0.375000\n",
              "1  1.486010  0.476190  1.496604      0.410714\n",
              "2  1.465389  0.523810  1.479518      0.410714\n",
              "3  1.444157  0.523810  1.462889      0.446429\n",
              "4  1.424593  0.535714  1.445818      0.446429"
            ]
          },
          "metadata": {}
        },
        {
          "output_type": "stream",
          "name": "stdout",
          "text": [
            "Best Validation Loss: 0.3903\n",
            "Best Validation Accuracy: 0.8571\n"
          ]
        },
        {
          "output_type": "display_data",
          "data": {
            "image/png": "[encoded data removed]",
            "text/plain": [
              "<Figure size 432x288 with 1 Axes>"
            ]
          },
          "metadata": {
            "needs_background": "light"
          }
        },
        {
          "output_type": "display_data",
          "data": {
            "image/png": "[encoded data removed]",
            "text/plain": [
              "<Figure size 432x288 with 1 Axes>"
            ]
          },
          "metadata": {
            "needs_background": "light"
          }
        }
      ]
    },
    {
      "cell_type": "code",
      "metadata": {
        "colab": {
          "base_uri": "https://localhost:8080/"
        },
        "id": "Us9qAFD5f1CG",
        "outputId": "4a3ea2ae-159e-45a2-9843-20b86ada041b"
      },
      "source": [
        "model.predict(X_test)[0:5]"
      ],
      "execution_count": 17,
      "outputs": [
        {
          "output_type": "execute_result",
          "data": {
            "text/plain": [
              "array([[9.9834806e-01, 8.8532424e-01, 6.4616758e-01, 7.5027943e-02,\n",
              "        3.7593246e-03],\n",
              "       [4.8963585e-01, 4.0673018e-03, 8.4390557e-01, 1.0508271e-04,\n",
              "        9.9776089e-01],\n",
              "       [8.9067417e-01, 2.6865661e-02, 7.5797403e-01, 2.1764636e-04,\n",
              "        9.7826493e-01],\n",
              "       [5.2507949e-01, 9.2304945e-03, 5.4270470e-01, 9.9038970e-01,\n",
              "        3.6670893e-02],\n",
              "       [1.0000000e+00, 8.7799311e-01, 1.2672842e-02, 1.3950089e-01,\n",
              "        1.5611816e-06]], dtype=float32)"
            ]
          },
          "metadata": {},
          "execution_count": 17
        }
      ]
    },
    {
      "cell_type": "code",
      "metadata": {
        "id": "knqLHvejehEC",
        "colab": {
          "base_uri": "https://localhost:8080/",
          "height": 204
        },
        "outputId": "6bf12cf0-b5b0-4fa8-9ff9-6bb6cf6a9516"
      },
      "source": [
        "y_test.head(5)"
      ],
      "execution_count": 18,
      "outputs": [
        {
          "output_type": "execute_result",
          "data": {
            "text/html": [
              "<div>\n",
              "<style scoped>\n",
              "    .dataframe tbody tr th:only-of-type {\n",
              "        vertical-align: middle;\n",
              "    }\n",
              "\n",
              "    .dataframe tbody tr th {\n",
              "        vertical-align: top;\n",
              "    }\n",
              "\n",
              "    .dataframe thead th {\n",
              "        text-align: right;\n",
              "    }\n",
              "</style>\n",
              "<table border=\"1\" class=\"dataframe\">\n",
              "  <thead>\n",
              "    <tr style=\"text-align: right;\">\n",
              "      <th></th>\n",
              "      <th>DrugY</th>\n",
              "      <th>drugA</th>\n",
              "      <th>drugB</th>\n",
              "      <th>drugC</th>\n",
              "      <th>drugX</th>\n",
              "    </tr>\n",
              "  </thead>\n",
              "  <tbody>\n",
              "    <tr>\n",
              "      <th>50</th>\n",
              "      <td>1</td>\n",
              "      <td>0</td>\n",
              "      <td>0</td>\n",
              "      <td>0</td>\n",
              "      <td>0</td>\n",
              "    </tr>\n",
              "    <tr>\n",
              "      <th>127</th>\n",
              "      <td>0</td>\n",
              "      <td>0</td>\n",
              "      <td>0</td>\n",
              "      <td>0</td>\n",
              "      <td>1</td>\n",
              "    </tr>\n",
              "    <tr>\n",
              "      <th>37</th>\n",
              "      <td>0</td>\n",
              "      <td>0</td>\n",
              "      <td>0</td>\n",
              "      <td>0</td>\n",
              "      <td>1</td>\n",
              "    </tr>\n",
              "    <tr>\n",
              "      <th>149</th>\n",
              "      <td>0</td>\n",
              "      <td>0</td>\n",
              "      <td>0</td>\n",
              "      <td>1</td>\n",
              "      <td>0</td>\n",
              "    </tr>\n",
              "    <tr>\n",
              "      <th>19</th>\n",
              "      <td>1</td>\n",
              "      <td>0</td>\n",
              "      <td>0</td>\n",
              "      <td>0</td>\n",
              "      <td>0</td>\n",
              "    </tr>\n",
              "  </tbody>\n",
              "</table>\n",
              "</div>"
            ],
            "text/plain": [
              "     DrugY  drugA  drugB  drugC  drugX\n",
              "50       1      0      0      0      0\n",
              "127      0      0      0      0      1\n",
              "37       0      0      0      0      1\n",
              "149      0      0      0      1      0\n",
              "19       1      0      0      0      0"
            ]
          },
          "metadata": {},
          "execution_count": 18
        }
      ]
    },
    {
      "cell_type": "code",
      "metadata": {
        "colab": {
          "base_uri": "https://localhost:8080/"
        },
        "id": "FpK8BrdUpEL4",
        "outputId": "c801375f-6dbb-43fb-f22d-04a3e39f2b66"
      },
      "source": [
        "y_pred = np.argmax(model.predict(X_test), axis=1)\n",
        "y_test = np.argmax(y_test.values, axis=1)\n",
        "\n",
        "\n",
        "def print_results(y_test, y_pred):\n",
        "  print('Matriz de Confusão: \\n' , confusion_matrix(y_test, y_pred))\n",
        "  print(classification_report(y_test, y_pred))\n",
        "  print('Acuracidade: ' , accuracy_score(y_test, y_pred))\n",
        "  return\n",
        "  \n",
        "print_results(y_test, y_pred)"
      ],
      "execution_count": 19,
      "outputs": [
        {
          "output_type": "stream",
          "name": "stdout",
          "text": [
            "Matriz de Confusão: \n",
            " [[30  0  0  1  1]\n",
            " [ 0  3  3  0  0]\n",
            " [ 1  1  3  0  1]\n",
            " [ 0  0  0  4  0]\n",
            " [ 0  0  0  0 12]]\n",
            "              precision    recall  f1-score   support\n",
            "\n",
            "           0       0.97      0.94      0.95        32\n",
            "           1       0.75      0.50      0.60         6\n",
            "           2       0.50      0.50      0.50         6\n",
            "           3       0.80      1.00      0.89         4\n",
            "           4       0.86      1.00      0.92        12\n",
            "\n",
            "    accuracy                           0.87        60\n",
            "   macro avg       0.77      0.79      0.77        60\n",
            "weighted avg       0.87      0.87      0.86        60\n",
            "\n",
            "Acuracidade:  0.8666666666666667\n"
          ]
        }
      ]
    }
  ]
}