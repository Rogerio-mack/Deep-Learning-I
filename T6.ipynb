{
  "nbformat": 4,
  "nbformat_minor": 0,
  "metadata": {
    "colab": {
      "name": "T6.ipynb",
      "provenance": [],
      "collapsed_sections": [],
      "include_colab_link": true
    },
    "kernelspec": {
      "display_name": "Python 3",
      "name": "python3"
    },
    "accelerator": "GPU"
  },
  "cells": [
    {
      "cell_type": "markdown",
      "metadata": {
        "id": "view-in-github",
        "colab_type": "text"
      },
      "source": [
        "<a href=\"https://colab.research.google.com/github/Rogerio-mack/Deep-Learning-I/blob/main/T6.ipynb\" target=\"_parent\"><img src=\"https://colab.research.google.com/assets/colab-badge.svg\" alt=\"Open In Colab\"/></a>"
      ]
    },
    {
      "cell_type": "markdown",
      "metadata": {
        "id": "eSaNGzOu-p45"
      },
      "source": [
        "<head>\n",
        "  <meta name=\"author\" content=\"Rogério de Oliveira\">\n",
        "  <meta institution=\"author\" content=\"Universidade Presbiteriana Mackenzie\">\n",
        "</head>\n",
        "\n",
        "<img src=\"http://meusite.mackenzie.br/rogerio/mackenzie_logo/UPM.2_horizontal_vermelho.jpg\" width=300, align=\"right\"> \n",
        "\n",
        "<h1 align=left><font size = 8, style=\"color:rgb(200,0,0)\"><b>Inteligência Artificial</b></font></h1> \n",
        "<h1 align=left><font size = 6, style=\"color:rgb(0,0,0)\"><b>Deep Learning</b></font></h1> \n",
        "\n",
        "# Modelos Sequencias com PyTorch\n",
        "Professor(a): Rogério de Oliveira\n",
        "\n",
        "<br>\n",
        "<br>\n",
        "\n",
        "---\n"
      ]
    },
    {
      "cell_type": "markdown",
      "metadata": {
        "id": "uFB0mL84ZWNf"
      },
      "source": [
        "# Introdução\n",
        "\n",
        "Nesta trilha vamos explorar o desenvolvimento de redes profundas com `PyTorch` e conhecer este outro potente framework de deep learning. Você vai aprender a criar modelos sequenciais para classificação e regressão, à exemplo do que vimos com o `TensorFlow`. \n",
        "\n",
        "Adicionalmente vamos ver outros recursos do `PyTorch`, como as classes utilitárias `Dataset` e `DataLoader`, que também encontram classes análogas no `TensorFlow` mas que não precisamos empregar até aqui.\n",
        "\n",
        "\n"
      ]
    },
    {
      "cell_type": "markdown",
      "metadata": {
        "id": "UGcaKUgx_4U7"
      },
      "source": [
        "# `PyTorch`\n",
        "\n",
        "O `PyTorch` é uma biblioteca de aprendizado de máquina de código aberto baseada na biblioteca Torch e desenvolvida principalmente pelo laboratório AI Research do FaceBook. Embora tenha uma implementação diferente você pode encontrar quase todos os mesmos recursos que estudamos no `TensorFlow`. O `PyTorch` também implementa uma intraestrutura de programação diferenciável (autograd) sobre tensores, grafos de execução e suporte a execução em diferentes dispositivos (GPU).\n",
        "\n",
        "A API do `PyTorch` é simples e flexível, sendo a plataforma preferencial até o momento para acadêmicos e pesquisadores no desenvolvimento de novos modelos e aplicativos de aprendizado profundo. Em parte isso também se deve às dificuldades de uso do `TensorFlow` antes da versão 2.0 e sua integração com o `Keras` o que pode vir a mudar este cenário. Mas também na área comercial o `PyTorch` é empregado e recentemente o FaceBook anunciou (Jun 2021) a migração de toda a sua plataforma de IA para `PyTorch`. Ele possui muitas extensões para aplicações específicas (como texto, visão computacional e dados de áudio) e modelos pré-treinados que podem ser usados ​​diretamente. \n",
        "\n",
        "A flexibilidade do `PyTorch` implica em uma linguagem em códigos um pouco mais estensos e em geral a curva de aprendizado do `PyTorch` é um pouco mais longa  quando comparado com interfaces mais simples como o `Keras`. A forma mais comum programação com o `PyTorch` é o uso de estensão de classes, em um modo semelhante a programação de subclasses que vimos com `Keras TensorFlow` e é o modo que adotaremos aqui. De qualquer modo, mesmo com o `PyTorch`, a construção de modelos segue a sequência:\n",
        "\n",
        "1. Defina o modelo.\n",
        "2. Compile o modelo.\n",
        "3. Treine o modelo.\n",
        "4. Avalie o modelo.\n",
        "5. Faça Predições.\n",
        "\n"
      ]
    },
    {
      "cell_type": "code",
      "metadata": {
        "id": "jaEvMjj5_wi6"
      },
      "source": [
        "import numpy as np\n",
        "import pandas as pd\n",
        "import matplotlib.pyplot as plt\n",
        "import seaborn as sns\n",
        "%matplotlib inline\n"
      ],
      "execution_count": 1,
      "outputs": []
    },
    {
      "cell_type": "markdown",
      "metadata": {
        "id": "-a2O9K1jBDLM"
      },
      "source": [
        "# Tensores com `PyTorch`\n",
        "\n",
        "Os tensores são arrays multidimensionais e também são otimizados para diferenciação automática e execução sobre GPUs e outros dispositivos. Usamos tensores para codificar as entradas e saídas de um modelo, bem como os parâmetros do modelo. Diferentemente da interface mais simples do `Keras`, no caso do `PyTorch`, em muitos casos precisamos fazer a transformação explicitamente dos dados para tensores (e vice-versa) e até mesmo mover os dados e os modelos para os dispositivos que desejamos executar. De resto, o uso de tensores é bastante análogo ao que vimos com o `TensorFlow`. "
      ]
    },
    {
      "cell_type": "code",
      "metadata": {
        "id": "2yT2u8IBBDLN"
      },
      "source": [
        "import torch\n",
        "import numpy as np"
      ],
      "execution_count": 2,
      "outputs": []
    },
    {
      "cell_type": "markdown",
      "metadata": {
        "id": "J26IVQlNBDLN"
      },
      "source": [
        "## Inicializando tensores\n",
        "\n",
        "Diretamente de dados, \n"
      ]
    },
    {
      "cell_type": "code",
      "metadata": {
        "id": "hIT1jP5CBDLO"
      },
      "source": [
        "data = [[1, 2],[3, 4]]\n",
        "x_data = torch.tensor(data)"
      ],
      "execution_count": 3,
      "outputs": []
    },
    {
      "cell_type": "markdown",
      "metadata": {
        "id": "hP79SqBGBDLO"
      },
      "source": [
        "Ou a partir de arrays `NumPy`,\n",
        "\n"
      ]
    },
    {
      "cell_type": "code",
      "metadata": {
        "id": "6Oh428sEBDLO"
      },
      "source": [
        "np_array = np.array(data)\n",
        "x_np = torch.from_numpy(np_array)"
      ],
      "execution_count": 4,
      "outputs": []
    },
    {
      "cell_type": "markdown",
      "metadata": {
        "id": "eomiwXCbBDLP"
      },
      "source": [
        "Ou ainda empregando funções de inicialização de arrays do `PyTorch`,\n",
        "\n"
      ]
    },
    {
      "cell_type": "code",
      "metadata": {
        "id": "oh9hrS47BDLQ",
        "colab": {
          "base_uri": "https://localhost:8080/"
        },
        "outputId": "ea051c97-1b29-467e-fe5a-69c9494163dc"
      },
      "source": [
        "shape = (2,3,)\n",
        "rand_tensor = torch.rand(shape)\n",
        "ones_tensor = torch.ones(shape)\n",
        "zeros_tensor = torch.zeros(shape)\n",
        "\n",
        "print(f\"Random Tensor: \\n {rand_tensor} \\n\")\n",
        "print(f\"Ones Tensor: \\n {ones_tensor} \\n\")\n",
        "print(f\"Zeros Tensor: \\n {zeros_tensor}\")\n",
        "\n",
        "x_ones = torch.ones_like(x_data) # retains the properties of x_data\n",
        "print(f\"Ones Tensor: \\n {x_ones} \\n\")\n",
        "\n",
        "x_rand = torch.rand_like(x_data, dtype=torch.float) # overrides the datatype of x_data\n",
        "print(f\"Random Tensor: \\n {x_rand} \\n\")\n"
      ],
      "execution_count": 5,
      "outputs": [
        {
          "output_type": "stream",
          "text": [
            "Random Tensor: \n",
            " tensor([[0.6553, 0.3029, 0.3072],\n",
            "        [0.0528, 0.1503, 0.8082]]) \n",
            "\n",
            "Ones Tensor: \n",
            " tensor([[1., 1., 1.],\n",
            "        [1., 1., 1.]]) \n",
            "\n",
            "Zeros Tensor: \n",
            " tensor([[0., 0., 0.],\n",
            "        [0., 0., 0.]])\n",
            "Ones Tensor: \n",
            " tensor([[1, 1],\n",
            "        [1, 1]]) \n",
            "\n",
            "Random Tensor: \n",
            " tensor([[0.1211, 0.6379],\n",
            "        [0.9239, 0.4084]]) \n",
            "\n"
          ],
          "name": "stdout"
        }
      ]
    },
    {
      "cell_type": "markdown",
      "metadata": {
        "id": "UXUCoddkBDLQ"
      },
      "source": [
        "## Atributos\n",
        "\n",
        "Os atributos `shape` e `dtype` são imediatos, e o atributo `device` indica em que dispositivo o tensor está sendo executado (CPU ou qual GPU, por exemplo). \n",
        "\n"
      ]
    },
    {
      "cell_type": "code",
      "metadata": {
        "id": "uJvDZmPTBDLR",
        "colab": {
          "base_uri": "https://localhost:8080/"
        },
        "outputId": "171e529b-09ba-4230-c4c3-bca8a10f37c1"
      },
      "source": [
        "tensor = torch.rand(3,4)\n",
        "\n",
        "print(f\"Forma do tensor: {tensor.shape}\")\n",
        "print(f\"Datatype do tensor: {tensor.dtype}\")\n",
        "print(f\"Device onde o tensor está armazenado: {tensor.device}\")"
      ],
      "execution_count": 6,
      "outputs": [
        {
          "output_type": "stream",
          "text": [
            "Forma do tensor: torch.Size([3, 4])\n",
            "Datatype do tensor: torch.float32\n",
            "Device onde o tensor está armazenado: cpu\n"
          ],
          "name": "stdout"
        }
      ]
    },
    {
      "cell_type": "markdown",
      "metadata": {
        "id": "U31eLM1-BDLR"
      },
      "source": [
        "--------------\n",
        "\n",
        "\n"
      ]
    },
    {
      "cell_type": "markdown",
      "metadata": {
        "id": "i4eISsrgBDLR"
      },
      "source": [
        "## Operações com Tensores\n",
        "\n",
        "As operações incluem todas as operações comumente empregadas como operações aritméticas, de  álgebra linear e  manipulação de matrizes (transposição, indexação, divisão), amostragem etc. e são muito semelhantes às empregadas em `NumPy` e o `TensorFlow`. Por padrão, tensores são criados na CPU e precisamos mover explicitamente tensores para a GPU usando método ` .to(device)`."
      ]
    },
    {
      "cell_type": "code",
      "metadata": {
        "id": "18PfT_t-BDLS"
      },
      "source": [
        "# Configure o Colab para uso de cpu antes de executar\n",
        "if torch.cuda.is_available():\n",
        "  tensor = tensor.to('cuda')"
      ],
      "execution_count": 7,
      "outputs": []
    },
    {
      "cell_type": "code",
      "metadata": {
        "colab": {
          "base_uri": "https://localhost:8080/"
        },
        "id": "2lz0b_eUF4bs",
        "outputId": "44342514-b604-41be-fead-71d092d63a01"
      },
      "source": [
        "tensor.device "
      ],
      "execution_count": 8,
      "outputs": [
        {
          "output_type": "execute_result",
          "data": {
            "text/plain": [
              "device(type='cpu')"
            ]
          },
          "metadata": {
            "tags": []
          },
          "execution_count": 8
        }
      ]
    },
    {
      "cell_type": "markdown",
      "metadata": {
        "id": "6VhAAkczBDLS"
      },
      "source": [
        "### Indexação e *Slicing*\n",
        "\n"
      ]
    },
    {
      "cell_type": "code",
      "metadata": {
        "id": "KzjmtVw4BDLS",
        "colab": {
          "base_uri": "https://localhost:8080/"
        },
        "outputId": "ee414305-c8c5-438f-d5f3-e70cb93d7425"
      },
      "source": [
        "tensor = torch.ones(4, 4)\n",
        "print('First row: ',tensor[0])\n",
        "print('First column: ', tensor[:, 0])\n",
        "print('Last column:', tensor[..., -1])\n",
        "tensor[:,1] = 0\n",
        "print(tensor)"
      ],
      "execution_count": 9,
      "outputs": [
        {
          "output_type": "stream",
          "text": [
            "First row:  tensor([1., 1., 1., 1.])\n",
            "First column:  tensor([1., 1., 1., 1.])\n",
            "Last column: tensor([1., 1., 1., 1.])\n",
            "tensor([[1., 0., 1., 1.],\n",
            "        [1., 0., 1., 1.],\n",
            "        [1., 0., 1., 1.],\n",
            "        [1., 0., 1., 1.]])\n"
          ],
          "name": "stdout"
        }
      ]
    },
    {
      "cell_type": "markdown",
      "metadata": {
        "id": "Ii8_VlkhBDLT"
      },
      "source": [
        "### Aritmética\n",
        "\n"
      ]
    },
    {
      "cell_type": "code",
      "metadata": {
        "id": "K8FC7kZeBDLT"
      },
      "source": [
        "# Produto de Matrizes y1 = y2\n",
        "y1 = tensor @ tensor.T\n",
        "y2 = tensor.matmul(tensor.T)\n",
        "\n",
        "# Produto elemento a elemento z1 = z2\n",
        "z1 = tensor * tensor\n",
        "z2 = tensor.mul(tensor)\n",
        "\n"
      ],
      "execution_count": 10,
      "outputs": []
    },
    {
      "cell_type": "markdown",
      "metadata": {
        "id": "gj4j5hiKBDLU"
      },
      "source": [
        "Se você tiver um tensor de um elemento, por exemplo, agregando todos os valores de um tensor em um valor, você pode convertê-lo em um valor numérico Python usando `item()`:\n",
        "\n"
      ]
    },
    {
      "cell_type": "code",
      "metadata": {
        "id": "yHQQNe0_BDLU",
        "colab": {
          "base_uri": "https://localhost:8080/"
        },
        "outputId": "df551823-8af3-4e40-c812-f3dc11e239c7"
      },
      "source": [
        "agg = tensor.sum()\n",
        "agg_item = agg.item()  \n",
        "print(agg_item, type(agg_item))"
      ],
      "execution_count": 11,
      "outputs": [
        {
          "output_type": "stream",
          "text": [
            "12.0 <class 'float'>\n"
          ],
          "name": "stdout"
        }
      ]
    },
    {
      "cell_type": "markdown",
      "metadata": {
        "id": "_IHCZ4DeLo4E"
      },
      "source": [
        "## Autograd e Grafos de execução\n",
        "\n",
        "Na maior parte do tempo estaremos empregando isso de modo implícito na construção dos modelos e não precisamos entrar aqui em detalhes além do que já vimos nas trilhas anteriores. Mas é bom que você saiba que podemos explicitamente indicar se um tensor terá ou não o gradiente automático e que o `PyTorch` também fornece uma função para exibir os grafos de execução."
      ]
    },
    {
      "cell_type": "code",
      "metadata": {
        "colab": {
          "base_uri": "https://localhost:8080/"
        },
        "id": "sWtb2svLMNZ9",
        "outputId": "ec7331bb-9931-4198-a39a-428585740834"
      },
      "source": [
        "!pip install torchviz"
      ],
      "execution_count": 12,
      "outputs": [
        {
          "output_type": "stream",
          "text": [
            "Requirement already satisfied: torchviz in /usr/local/lib/python3.7/dist-packages (0.0.2)\n",
            "Requirement already satisfied: torch in /usr/local/lib/python3.7/dist-packages (from torchviz) (1.8.1+cu101)\n",
            "Requirement already satisfied: graphviz in /usr/local/lib/python3.7/dist-packages (from torchviz) (0.10.1)\n",
            "Requirement already satisfied: typing-extensions in /usr/local/lib/python3.7/dist-packages (from torch->torchviz) (3.7.4.3)\n",
            "Requirement already satisfied: numpy in /usr/local/lib/python3.7/dist-packages (from torch->torchviz) (1.19.5)\n"
          ],
          "name": "stdout"
        }
      ]
    },
    {
      "cell_type": "code",
      "metadata": {
        "colab": {
          "base_uri": "https://localhost:8080/",
          "height": 529
        },
        "id": "aKKPorzqLpYw",
        "outputId": "579a0609-6862-4dc9-e57b-3dc64c41447b"
      },
      "source": [
        "from torchviz import make_dot\n",
        "\n",
        "a = torch.randn(1, requires_grad=True, dtype=torch.float)\n",
        "b = torch.randn(1, requires_grad=True, dtype=torch.float)\n",
        "c = torch.randn(1)\n",
        "\n",
        "yhat = a + b \n",
        "error = c - yhat\n",
        "loss = (error ** 2).mean()\n",
        "\n",
        "make_dot(loss)"
      ],
      "execution_count": 13,
      "outputs": [
        {
          "output_type": "execute_result",
          "data": {
            "text/plain": [
              "<graphviz.dot.Digraph at 0x7f6b91e60ed0>"
            ],
            "image/svg+xml": "<?xml version=\"1.0\" encoding=\"UTF-8\" standalone=\"no\"?>\n<!DOCTYPE svg PUBLIC \"-//W3C//DTD SVG 1.1//EN\"\n \"http://www.w3.org/Graphics/SVG/1.1/DTD/svg11.dtd\">\n<!-- Generated by graphviz version 2.40.1 (20161225.0304)\n -->\n<!-- Title: %3 Pages: 1 -->\n<svg width=\"228pt\" height=\"381pt\"\n viewBox=\"0.00 0.00 228.00 381.00\" xmlns=\"http://www.w3.org/2000/svg\" xmlns:xlink=\"http://www.w3.org/1999/xlink\">\n<g id=\"graph0\" class=\"graph\" transform=\"scale(1 1) rotate(0) translate(4 377)\">\n<title>%3</title>\n<polygon fill=\"#ffffff\" stroke=\"transparent\" points=\"-4,4 -4,-377 224,-377 224,4 -4,4\"/>\n<!-- 140098306218816 -->\n<g id=\"node1\" class=\"node\">\n<title>140098306218816</title>\n<polygon fill=\"#caff70\" stroke=\"#000000\" points=\"136.5,-31 82.5,-31 82.5,0 136.5,0 136.5,-31\"/>\n<text text-anchor=\"middle\" x=\"109.5\" y=\"-7\" font-family=\"monospace\" font-size=\"10.00\" fill=\"#000000\"> ()</text>\n</g>\n<!-- 140099746002640 -->\n<g id=\"node2\" class=\"node\">\n<title>140099746002640</title>\n<polygon fill=\"#d3d3d3\" stroke=\"#000000\" points=\"157,-86 62,-86 62,-67 157,-67 157,-86\"/>\n<text text-anchor=\"middle\" x=\"109.5\" y=\"-74\" font-family=\"monospace\" font-size=\"10.00\" fill=\"#000000\">MeanBackward0</text>\n</g>\n<!-- 140099746002640&#45;&gt;140098306218816 -->\n<g id=\"edge8\" class=\"edge\">\n<title>140099746002640&#45;&gt;140098306218816</title>\n<path fill=\"none\" stroke=\"#000000\" d=\"M109.5,-66.9688C109.5,-60.1289 109.5,-50.5621 109.5,-41.5298\"/>\n<polygon fill=\"#000000\" stroke=\"#000000\" points=\"113.0001,-41.3678 109.5,-31.3678 106.0001,-41.3678 113.0001,-41.3678\"/>\n</g>\n<!-- 140099664653648 -->\n<g id=\"node3\" class=\"node\">\n<title>140099664653648</title>\n<polygon fill=\"#d3d3d3\" stroke=\"#000000\" points=\"154,-141 65,-141 65,-122 154,-122 154,-141\"/>\n<text text-anchor=\"middle\" x=\"109.5\" y=\"-129\" font-family=\"monospace\" font-size=\"10.00\" fill=\"#000000\">PowBackward0</text>\n</g>\n<!-- 140099664653648&#45;&gt;140099746002640 -->\n<g id=\"edge1\" class=\"edge\">\n<title>140099664653648&#45;&gt;140099746002640</title>\n<path fill=\"none\" stroke=\"#000000\" d=\"M109.5,-121.9197C109.5,-114.9083 109.5,-105.1442 109.5,-96.4652\"/>\n<polygon fill=\"#000000\" stroke=\"#000000\" points=\"113.0001,-96.3408 109.5,-86.3408 106.0001,-96.3409 113.0001,-96.3408\"/>\n</g>\n<!-- 140098306185232 -->\n<g id=\"node4\" class=\"node\">\n<title>140098306185232</title>\n<polygon fill=\"#d3d3d3\" stroke=\"#000000\" points=\"154,-196 65,-196 65,-177 154,-177 154,-196\"/>\n<text text-anchor=\"middle\" x=\"109.5\" y=\"-184\" font-family=\"monospace\" font-size=\"10.00\" fill=\"#000000\">SubBackward0</text>\n</g>\n<!-- 140098306185232&#45;&gt;140099664653648 -->\n<g id=\"edge2\" class=\"edge\">\n<title>140098306185232&#45;&gt;140099664653648</title>\n<path fill=\"none\" stroke=\"#000000\" d=\"M109.5,-176.9197C109.5,-169.9083 109.5,-160.1442 109.5,-151.4652\"/>\n<polygon fill=\"#000000\" stroke=\"#000000\" points=\"113.0001,-151.3408 109.5,-141.3408 106.0001,-151.3409 113.0001,-151.3408\"/>\n</g>\n<!-- 140098306184848 -->\n<g id=\"node5\" class=\"node\">\n<title>140098306184848</title>\n<polygon fill=\"#d3d3d3\" stroke=\"#000000\" points=\"154,-251 65,-251 65,-232 154,-232 154,-251\"/>\n<text text-anchor=\"middle\" x=\"109.5\" y=\"-239\" font-family=\"monospace\" font-size=\"10.00\" fill=\"#000000\">AddBackward0</text>\n</g>\n<!-- 140098306184848&#45;&gt;140098306185232 -->\n<g id=\"edge3\" class=\"edge\">\n<title>140098306184848&#45;&gt;140098306185232</title>\n<path fill=\"none\" stroke=\"#000000\" d=\"M109.5,-231.9197C109.5,-224.9083 109.5,-215.1442 109.5,-206.4652\"/>\n<polygon fill=\"#000000\" stroke=\"#000000\" points=\"113.0001,-206.3408 109.5,-196.3408 106.0001,-206.3409 113.0001,-206.3408\"/>\n</g>\n<!-- 140098306184912 -->\n<g id=\"node6\" class=\"node\">\n<title>140098306184912</title>\n<polygon fill=\"#d3d3d3\" stroke=\"#000000\" points=\"101,-306 0,-306 0,-287 101,-287 101,-306\"/>\n<text text-anchor=\"middle\" x=\"50.5\" y=\"-294\" font-family=\"monospace\" font-size=\"10.00\" fill=\"#000000\">AccumulateGrad</text>\n</g>\n<!-- 140098306184912&#45;&gt;140098306184848 -->\n<g id=\"edge4\" class=\"edge\">\n<title>140098306184912&#45;&gt;140098306184848</title>\n<path fill=\"none\" stroke=\"#000000\" d=\"M60.777,-286.9197C69.2176,-279.0514 81.377,-267.7164 91.4369,-258.3385\"/>\n<polygon fill=\"#000000\" stroke=\"#000000\" points=\"94.0154,-260.7198 98.9435,-251.3408 89.2422,-255.5995 94.0154,-260.7198\"/>\n</g>\n<!-- 140098306322016 -->\n<g id=\"node7\" class=\"node\">\n<title>140098306322016</title>\n<polygon fill=\"#add8e6\" stroke=\"#000000\" points=\"77.5,-373 23.5,-373 23.5,-342 77.5,-342 77.5,-373\"/>\n<text text-anchor=\"middle\" x=\"50.5\" y=\"-349\" font-family=\"monospace\" font-size=\"10.00\" fill=\"#000000\"> (1)</text>\n</g>\n<!-- 140098306322016&#45;&gt;140098306184912 -->\n<g id=\"edge5\" class=\"edge\">\n<title>140098306322016&#45;&gt;140098306184912</title>\n<path fill=\"none\" stroke=\"#000000\" d=\"M50.5,-341.791C50.5,-334.0249 50.5,-324.5706 50.5,-316.3129\"/>\n<polygon fill=\"#000000\" stroke=\"#000000\" points=\"54.0001,-316.0647 50.5,-306.0648 47.0001,-316.0648 54.0001,-316.0647\"/>\n</g>\n<!-- 140098306184976 -->\n<g id=\"node8\" class=\"node\">\n<title>140098306184976</title>\n<polygon fill=\"#d3d3d3\" stroke=\"#000000\" points=\"220,-306 119,-306 119,-287 220,-287 220,-306\"/>\n<text text-anchor=\"middle\" x=\"169.5\" y=\"-294\" font-family=\"monospace\" font-size=\"10.00\" fill=\"#000000\">AccumulateGrad</text>\n</g>\n<!-- 140098306184976&#45;&gt;140098306184848 -->\n<g id=\"edge6\" class=\"edge\">\n<title>140098306184976&#45;&gt;140098306184848</title>\n<path fill=\"none\" stroke=\"#000000\" d=\"M159.0488,-286.9197C150.4651,-279.0514 138.0997,-267.7164 127.8693,-258.3385\"/>\n<polygon fill=\"#000000\" stroke=\"#000000\" points=\"129.9721,-255.5181 120.2355,-251.3408 125.242,-260.6782 129.9721,-255.5181\"/>\n</g>\n<!-- 140098306274480 -->\n<g id=\"node9\" class=\"node\">\n<title>140098306274480</title>\n<polygon fill=\"#add8e6\" stroke=\"#000000\" points=\"196.5,-373 142.5,-373 142.5,-342 196.5,-342 196.5,-373\"/>\n<text text-anchor=\"middle\" x=\"169.5\" y=\"-349\" font-family=\"monospace\" font-size=\"10.00\" fill=\"#000000\"> (1)</text>\n</g>\n<!-- 140098306274480&#45;&gt;140098306184976 -->\n<g id=\"edge7\" class=\"edge\">\n<title>140098306274480&#45;&gt;140098306184976</title>\n<path fill=\"none\" stroke=\"#000000\" d=\"M169.5,-341.791C169.5,-334.0249 169.5,-324.5706 169.5,-316.3129\"/>\n<polygon fill=\"#000000\" stroke=\"#000000\" points=\"173.0001,-316.0647 169.5,-306.0648 166.0001,-316.0648 173.0001,-316.0647\"/>\n</g>\n</g>\n</svg>\n"
          },
          "metadata": {
            "tags": []
          },
          "execution_count": 13
        }
      ]
    },
    {
      "cell_type": "markdown",
      "metadata": {
        "id": "7FXhELJ7NlhE"
      },
      "source": [
        "Você pode ver mais sobre isso e sobre operações com tensores na documentação do `PyTorch`. Para nossos propósitos essa introdução já é bastante suficiente para começarmos a construir modelos simples com o `PyTorch`. "
      ]
    },
    {
      "cell_type": "markdown",
      "metadata": {
        "id": "eqFtEDUFKEMo"
      },
      "source": [
        "# Classificação\n",
        "\n",
        "Vamos começar fazendo um modelo simples de classificação e entender a forma geral de desenvolvimento de modelos do tipo sequencial e as classes empregadas.\n",
        "\n",
        "Para esse exemplo vamos criar um conjunto de dados simples com o `make_moons` do `Scikit-learn`."
      ]
    },
    {
      "cell_type": "markdown",
      "metadata": {
        "id": "QKb9-KZ7LFL1"
      },
      "source": [
        "## Dados"
      ]
    },
    {
      "cell_type": "code",
      "metadata": {
        "colab": {
          "base_uri": "https://localhost:8080/",
          "height": 281
        },
        "id": "XvjsXt8qItgG",
        "outputId": "cb8c462a-2919-4435-9c36-e228b5b105f5"
      },
      "source": [
        "from sklearn.datasets import make_moons\n",
        "\n",
        "X, y = make_moons(noise=0.352, random_state=1, n_samples=100)\n",
        "\n",
        "sns.scatterplot(x=X[:, 0], y=X[:, 1], hue=y, marker='o', s=50, edgecolor='k', legend=False).set_title(\"Data\")\n",
        "plt.show()"
      ],
      "execution_count": 14,
      "outputs": [
        {
          "output_type": "display_data",
          "data": {
            "image/png": "[encoded data removed]",
            "text/plain": [
              "<Figure size 432x288 with 1 Axes>"
            ]
          },
          "metadata": {
            "tags": [],
            "needs_background": "light"
          }
        }
      ]
    },
    {
      "cell_type": "markdown",
      "metadata": {
        "id": "YzXbsQRoLHqq"
      },
      "source": [
        "### Train e Test Split"
      ]
    },
    {
      "cell_type": "code",
      "metadata": {
        "id": "uqgW0qsjKFmC"
      },
      "source": [
        "from sklearn.model_selection import train_test_split\n",
        "\n",
        "X_train, X_test, y_train, y_test = train_test_split(X, y, test_size=0.3, random_state=123)"
      ],
      "execution_count": 15,
      "outputs": []
    },
    {
      "cell_type": "markdown",
      "metadata": {
        "id": "l2WouxaGN24v"
      },
      "source": [
        "## Import `torch`\n",
        "\n",
        "Esses são os imports essenciais para iniciarmos o nosso modelo."
      ]
    },
    {
      "cell_type": "code",
      "metadata": {
        "id": "6f3hZ7yjKFmC"
      },
      "source": [
        "import torch\n",
        "import torch.nn as nn\n",
        "from torch.autograd import Variable"
      ],
      "execution_count": 16,
      "outputs": []
    },
    {
      "cell_type": "markdown",
      "metadata": {
        "id": "rkIk7CHwOMMe"
      },
      "source": [
        "## Definindo o Modelo\n",
        "\n",
        "Um modelo é definido como uma extensão da classe `Module`. Os métodos principais são o método construtor da classe `__init__` que inicializa os elementos da rede e o método `forward`,  "
      ]
    },
    {
      "cell_type": "code",
      "metadata": {
        "id": "7Jf5YH7jKFmC"
      },
      "source": [
        "class Model(nn.Module):\n",
        "    def __init__(self, input_dim):\n",
        "        super(Model, self).__init__()\n",
        "        self.layer1 = nn.Linear(input_dim, 50)\n",
        "        self.layer2 = nn.Linear(50, 50)\n",
        "        self.layer3 = nn.Linear(50, 2)\n",
        "        \n",
        "    def forward(self, x):\n",
        "        x = torch.relu(self.layer1(x))\n",
        "        x = torch.relu(self.layer2(x))\n",
        "        # x = torch.sigmoid(self.layer3(x))        # você pode querer empregar a sigmoid ou a softmax\n",
        "        x = torch.softmax(self.layer3(x), dim=1)\n",
        "        return x"
      ],
      "execution_count": 17,
      "outputs": []
    },
    {
      "cell_type": "markdown",
      "metadata": {
        "id": "sZceO4T5PEsd"
      },
      "source": [
        "`Linear` implementa uma camada densa e tem como parâmetros básicos o número de elementos de entrada e saída,\n",
        "\n",
        "```\n",
        "torch.nn.Linear(in_features, out_features, bias=True)\n",
        "```\n",
        "E irá aplicar a transformação:\n",
        "\n",
        "$$ y = x A^T + b $$\n",
        "\n",
        "sobre os dados.\n",
        "\n",
        "$\\rightarrow$ Importante: esse módulo suporta tipos `TensorFloat32`.\n",
        "\n",
        "Embora tenhamos apenas duas classes dados vamos empregar aqui uma classificação multiclasse. Desse modo você pode notar a saída do modelo com dimensão 2, correspondendo às duas classes de dados.\n"
      ]
    },
    {
      "cell_type": "markdown",
      "metadata": {
        "id": "S5RMx-cHQshb"
      },
      "source": [
        "## Inicialização\n",
        "\n",
        "Não temos aqui uma função `compile` como no `TensorFlow` mas precisamos inicializar nosso modelo, e definir a função de perda e o otimizador que desejamos empregar.\n",
        "\n",
        "Você encontrará no `PyTorch` otimizadores e funções de perda semelhantes a que vimos no `TensorFlow` como o Adam, SGD para otimizadores e CrossEntropyLoss, BCELoss (Binary Cross Entropy Loss) e MSELoss para funções de perda."
      ]
    },
    {
      "cell_type": "code",
      "metadata": {
        "colab": {
          "base_uri": "https://localhost:8080/"
        },
        "id": "sijTa96OKFmD",
        "outputId": "ac707bbf-4a57-4927-acb7-e5fccfda9370"
      },
      "source": [
        "model     = Model(X_train.shape[1])\n",
        "optimizer = torch.optim.Adam(model.parameters(), lr=0.001)\n",
        "loss_fn   = nn.CrossEntropyLoss()\n",
        "model"
      ],
      "execution_count": 18,
      "outputs": [
        {
          "output_type": "execute_result",
          "data": {
            "text/plain": [
              "Model(\n",
              "  (layer1): Linear(in_features=2, out_features=50, bias=True)\n",
              "  (layer2): Linear(in_features=50, out_features=50, bias=True)\n",
              "  (layer3): Linear(in_features=50, out_features=2, bias=True)\n",
              ")"
            ]
          },
          "metadata": {
            "tags": []
          },
          "execution_count": 18
        }
      ]
    },
    {
      "cell_type": "markdown",
      "metadata": {
        "id": "aHeVzJo7SbWX"
      },
      "source": [
        "No `PyTorch` precisamos transformar explicatamente nossas entradas em tensores, tendo ainda atenção nos tipos de dados suportados por cada módulo,"
      ]
    },
    {
      "cell_type": "code",
      "metadata": {
        "id": "ID9Hy7yxSYvy"
      },
      "source": [
        "X_train = Variable(torch.from_numpy(X_train)).float()\n",
        "y_train = Variable(torch.from_numpy(y_train)).long()\n",
        "X_test  = Variable(torch.from_numpy(X_test)).float()\n",
        "y_test  = Variable(torch.from_numpy(y_test)).long()"
      ],
      "execution_count": 19,
      "outputs": []
    },
    {
      "cell_type": "markdown",
      "metadata": {
        "id": "ck2eyahvV_WC"
      },
      "source": [
        "Neste ponto você pode aplicar a rede não treinada a um conjunto de dados e observar as saídas produzidas pelo modelo não treinado,"
      ]
    },
    {
      "cell_type": "code",
      "metadata": {
        "colab": {
          "base_uri": "https://localhost:8080/"
        },
        "id": "u2LLblgTUsPh",
        "outputId": "70214092-660c-4270-e450-abe392188b49"
      },
      "source": [
        "model(X_train)[0:10] # exibindo somente as 10 primeiras ocorrências"
      ],
      "execution_count": 20,
      "outputs": [
        {
          "output_type": "execute_result",
          "data": {
            "text/plain": [
              "tensor([[0.4993, 0.5007],\n",
              "        [0.5359, 0.4641],\n",
              "        [0.5529, 0.4471],\n",
              "        [0.5380, 0.4620],\n",
              "        [0.5343, 0.4657],\n",
              "        [0.5322, 0.4678],\n",
              "        [0.5013, 0.4987],\n",
              "        [0.4754, 0.5246],\n",
              "        [0.4990, 0.5010],\n",
              "        [0.5325, 0.4675]], grad_fn=<SliceBackward>)"
            ]
          },
          "metadata": {
            "tags": []
          },
          "execution_count": 20
        }
      ]
    },
    {
      "cell_type": "markdown",
      "metadata": {
        "id": "lonAkB7RWboi"
      },
      "source": [
        "Se você quiser aplicar a uma única instância dos dados é nessário fazer um reshape dos dados compatibilizando a forma de instância com o conjunto de dados,"
      ]
    },
    {
      "cell_type": "code",
      "metadata": {
        "colab": {
          "base_uri": "https://localhost:8080/"
        },
        "id": "Gll0ox3iU7KJ",
        "outputId": "cc4801b9-4416-4c7f-99fd-aba61c5b5018"
      },
      "source": [
        "print('Check shape X_train: ', X_train.shape)\n",
        "print('Check shape X_train[0]: ', X_train[0].shape)\n",
        "print('Check shape X_train[0].reshape([1,2]): ', X_train[0].reshape([1,2]).shape)\n",
        "\n",
        "model( X_train[0].reshape([1,2]) )"
      ],
      "execution_count": 21,
      "outputs": [
        {
          "output_type": "stream",
          "text": [
            "Check shape X_train:  torch.Size([70, 2])\n",
            "Check shape X_train[0]:  torch.Size([2])\n",
            "Check shape X_train[0].reshape([1,2]):  torch.Size([1, 2])\n"
          ],
          "name": "stdout"
        },
        {
          "output_type": "execute_result",
          "data": {
            "text/plain": [
              "tensor([[0.4993, 0.5007]], grad_fn=<SoftmaxBackward>)"
            ]
          },
          "metadata": {
            "tags": []
          },
          "execution_count": 21
        }
      ]
    },
    {
      "cell_type": "markdown",
      "metadata": {
        "id": "IbZwqs6IXGug"
      },
      "source": [
        "Entender isso pode ser importante mais adiante."
      ]
    },
    {
      "cell_type": "markdown",
      "metadata": {
        "id": "t2tnnLgiS1yD"
      },
      "source": [
        "## Treinamento\n",
        "\n",
        "O treinamento é bastante semelhante ao que vimos no modelo de subclasses do `TensorFlow` e segue essencialmente:\n",
        "\n",
        "```\n",
        "for epoch in EPOCHS:\n",
        "\n",
        "    # Forward da rede\n",
        "    y_pred = model(X_train)\n",
        "\n",
        "    # Cálculo do erro\n",
        "    loss = loss_fn(y_pred, y_train)\n",
        "    \n",
        "    # Zera os gradientes anteriores do otimizador\n",
        "    optimizer.zero_grad()\n",
        "\n",
        "    # Recupera os gradientes \n",
        "    loss.backward()\n",
        "\n",
        "    # Atualiza os parâmetros da rede com base nos gradientes\n",
        "    optimizer.step()\n",
        "```\n",
        "Sendo os demais comandos opcionais para exibição do histórico do treinamento.\n"
      ]
    },
    {
      "cell_type": "code",
      "metadata": {
        "colab": {
          "base_uri": "https://localhost:8080/"
        },
        "id": "U92hrjoAKFmD",
        "outputId": "d0d23a00-993c-4986-dc6f-1bf833fff234"
      },
      "source": [
        "import tqdm # somente para display da evolução do loop\n",
        "\n",
        "EPOCHS  = 100\n",
        "\n",
        "loss_list     = np.zeros((EPOCHS,))\n",
        "accuracy_list = np.zeros((EPOCHS,))\n",
        "\n",
        "for epoch in tqdm.trange(EPOCHS):\n",
        "    y_pred = model(X_train)\n",
        "    loss = loss_fn(y_pred, y_train)\n",
        "    loss_list[epoch] = loss.item()\n",
        "    \n",
        "    # Zero gradients\n",
        "    optimizer.zero_grad()\n",
        "    loss.backward()\n",
        "    optimizer.step()\n",
        "    \n",
        "    with torch.no_grad():\n",
        "        y_pred = model(X_test)\n",
        "        correct = (torch.argmax(y_pred, dim=1) == y_test).type(torch.FloatTensor)\n",
        "        accuracy_list[epoch] = correct.mean()"
      ],
      "execution_count": 22,
      "outputs": [
        {
          "output_type": "stream",
          "text": [
            "100%|██████████| 100/100 [00:00<00:00, 948.59it/s]\n"
          ],
          "name": "stderr"
        }
      ]
    },
    {
      "cell_type": "markdown",
      "metadata": {
        "id": "ZWuyAtcAUMNy"
      },
      "source": [
        "A instrução `with torch.no_grad()` indica ao `PyTorch` que não precisará obter os gradientes das operações aninhadas."
      ]
    },
    {
      "cell_type": "markdown",
      "metadata": {
        "id": "xGhwss9mXVio"
      },
      "source": [
        "### Curva de Aprendizado\n",
        "\n",
        "Obtemos então a Curva de Aprendizado. Embora não faça parte do treinamento da rede é algo comumente necessário para o ajuste do modelo e que frequentemente implementamos."
      ]
    },
    {
      "cell_type": "code",
      "metadata": {
        "colab": {
          "base_uri": "https://localhost:8080/",
          "height": 497
        },
        "id": "4r2wUwTvKFmD",
        "outputId": "9d4c996d-30c5-423b-ec91-78ca58d2d15b"
      },
      "source": [
        "def plot_history(loss_list,  accuracy_list):\n",
        "  fig, (ax1, ax2) = plt.subplots(2, figsize=(6, 8), sharex=True)\n",
        "\n",
        "  ax1.plot(accuracy_list)\n",
        "  ax1.set_ylabel(\"validation accuracy\")\n",
        "  ax2.plot(loss_list)\n",
        "  ax2.set_ylabel(\"validation loss\")\n",
        "  ax2.set_xlabel(\"epochs\")\n",
        "  plt.show()\n",
        "\n",
        "  return\n",
        "\n",
        "plot_history(loss_list,  accuracy_list) "
      ],
      "execution_count": 23,
      "outputs": [
        {
          "output_type": "display_data",
          "data": {
            "image/png": "[encoded data removed]",
            "text/plain": [
              "<Figure size 432x576 with 2 Axes>"
            ]
          },
          "metadata": {
            "tags": [],
            "needs_background": "light"
          }
        }
      ]
    },
    {
      "cell_type": "markdown",
      "metadata": {
        "id": "u3qGoC2CZQXz"
      },
      "source": [
        "## Predição\n",
        "\n",
        "Podemos agora aplicar o nosso modelo para todo o nosso conjunto de dados e ver os acertos da classificação obtida pela rede."
      ]
    },
    {
      "cell_type": "code",
      "metadata": {
        "id": "2MiJGJokKeSB"
      },
      "source": [
        "X_ = Variable(torch.from_numpy(X)).float()\n",
        "y_pred = model(X_)"
      ],
      "execution_count": 24,
      "outputs": []
    },
    {
      "cell_type": "code",
      "metadata": {
        "id": "LI8fHfANMrKh"
      },
      "source": [
        "y_pred = np.argmax( y_pred.detach().numpy(), axis=1 )"
      ],
      "execution_count": 25,
      "outputs": []
    },
    {
      "cell_type": "code",
      "metadata": {
        "colab": {
          "base_uri": "https://localhost:8080/",
          "height": 281
        },
        "id": "LJGAo3P_KaNZ",
        "outputId": "e2d8afc6-9fb3-4135-c3ee-c6d223907009"
      },
      "source": [
        "sns.scatterplot(x=X[:, 0], y=X[:, 1], hue=y_pred, marker='o', s=250, legend=False, alpha=0.6)\n",
        "sns.scatterplot(x=X[:, 0], y=X[:, 1], hue=y, marker='o', s=50, edgecolor='k', legend=False).set_title(\"Data\")\n",
        "\n",
        "plt.show()"
      ],
      "execution_count": 26,
      "outputs": [
        {
          "output_type": "display_data",
          "data": {
            "image/png": "[encoded data removed]",
            "text/plain": [
              "<Figure size 432x288 with 1 Axes>"
            ]
          },
          "metadata": {
            "tags": [],
            "needs_background": "light"
          }
        }
      ]
    },
    {
      "cell_type": "markdown",
      "metadata": {
        "id": "kvYd5Nc_ZskK"
      },
      "source": [
        "Os pontos que o modelo retorna a classe correta apresentam a mesma cor no cento e no contorno. Um resultado bastante bom, não?"
      ]
    },
    {
      "cell_type": "markdown",
      "metadata": {
        "id": "3aU_-HqaSJfz"
      },
      "source": [
        "# Regressão\n",
        "\n",
        "Vamos criar agora um modelo simples de regressão. Começaremos empregando o mesmo conjunto de dados gerado a partir da função $cos(\\frac{3}{2}  \\pi x)$  da trilha anterior. "
      ]
    },
    {
      "cell_type": "markdown",
      "metadata": {
        "id": "6udjSdcmbXQX"
      },
      "source": [
        "## Dados"
      ]
    },
    {
      "cell_type": "code",
      "metadata": {
        "id": "IQ81Sk197MW_",
        "colab": {
          "base_uri": "https://localhost:8080/",
          "height": 265
        },
        "outputId": "1a14d7ff-a95b-4526-a9c2-0c941dda0fdc"
      },
      "source": [
        "def true_fun(X):\n",
        "    return np.cos(1.5 * np.pi * X)\n",
        "\n",
        "np.random.seed(0)\n",
        "\n",
        "n_samples = 30\n",
        "\n",
        "x = np.sort(np.random.rand(n_samples))\n",
        "y = true_fun(x) + np.random.randn(n_samples) * 0.1\n",
        "\n",
        "plt.scatter(x,y)\n",
        "xr = np.linspace(0,1,100)\n",
        "sns.lineplot(x=xr,y=true_fun(xr),color='orange')\n",
        "\n",
        "plt.show()"
      ],
      "execution_count": 27,
      "outputs": [
        {
          "output_type": "display_data",
          "data": {
            "image/png": "[encoded data removed]",
            "text/plain": [
              "<Figure size 432x288 with 1 Axes>"
            ]
          },
          "metadata": {
            "tags": [],
            "needs_background": "light"
          }
        }
      ]
    },
    {
      "cell_type": "markdown",
      "metadata": {
        "id": "KqtF0h4abZTU"
      },
      "source": [
        "### Normalização"
      ]
    },
    {
      "cell_type": "code",
      "metadata": {
        "id": "GiLbPCc28YDH"
      },
      "source": [
        "X = (x - x.mean()) / x.std()\n",
        "y = (y - y.mean()) / y.std()"
      ],
      "execution_count": 28,
      "outputs": []
    },
    {
      "cell_type": "markdown",
      "metadata": {
        "id": "foznrNHObq6A"
      },
      "source": [
        "### Train e Test Split"
      ]
    },
    {
      "cell_type": "code",
      "metadata": {
        "id": "J9vZRP7BRznL"
      },
      "source": [
        "from sklearn.model_selection import train_test_split\n",
        "\n",
        "X_train, X_test, y_train, y_test = train_test_split(X, y, test_size=0.3, random_state=123)"
      ],
      "execution_count": 29,
      "outputs": []
    },
    {
      "cell_type": "markdown",
      "metadata": {
        "id": "Sn2Yps_kb5ll"
      },
      "source": [
        "## Import `torch`"
      ]
    },
    {
      "cell_type": "code",
      "metadata": {
        "id": "7C1L9Bl2RznL"
      },
      "source": [
        "import torch\n",
        "import torch.nn as nn\n",
        "from torch.autograd import Variable"
      ],
      "execution_count": 30,
      "outputs": []
    },
    {
      "cell_type": "markdown",
      "metadata": {
        "id": "RNkTNFaEcM3d"
      },
      "source": [
        "## Definindo o Modelo\n",
        "\n",
        "Também construímos aqui um modelo de 3 camadas, mas agora nossa saída é um único neurônio e deve retornar o valor da transformação linear sem qualquer função de ativação adicional."
      ]
    },
    {
      "cell_type": "code",
      "metadata": {
        "id": "yOBv-9_PcL0X"
      },
      "source": [
        "class Model(nn.Module):\n",
        "    def __init__(self, input_dim):\n",
        "        super(Model, self).__init__()\n",
        "        self.layer1 = nn.Linear(input_dim, 10)\n",
        "        self.layer2 = nn.Linear(10, 8)\n",
        "        self.layer3 = nn.Linear(8, 1)\n",
        "        \n",
        "    def forward(self, x):\n",
        "        x = torch.tanh(self.layer1(x))\n",
        "        x = torch.tanh(self.layer2(x))\n",
        "        x = self.layer3(x)\n",
        "        return x"
      ],
      "execution_count": 31,
      "outputs": []
    },
    {
      "cell_type": "markdown",
      "metadata": {
        "id": "YwBezjCmdCfE"
      },
      "source": [
        "## Inicialização\n",
        "\n",
        "Do mesmo modo como fizemos para nosso modelo de classificação precisamos inicializar a rede e transformar nossas entradas em tensores."
      ]
    },
    {
      "cell_type": "code",
      "metadata": {
        "colab": {
          "base_uri": "https://localhost:8080/"
        },
        "id": "RnIDQG93fm02",
        "outputId": "8d83c1f8-77d7-4ebf-e572-285017e3998b"
      },
      "source": [
        "model     = Model(1)\n",
        "optimizer = torch.optim.SGD(model.parameters(), lr=0.001, momentum=0.9)\n",
        "loss_fn   = nn.MSELoss()\n",
        "model"
      ],
      "execution_count": 32,
      "outputs": [
        {
          "output_type": "execute_result",
          "data": {
            "text/plain": [
              "Model(\n",
              "  (layer1): Linear(in_features=1, out_features=10, bias=True)\n",
              "  (layer2): Linear(in_features=10, out_features=8, bias=True)\n",
              "  (layer3): Linear(in_features=8, out_features=1, bias=True)\n",
              ")"
            ]
          },
          "metadata": {
            "tags": []
          },
          "execution_count": 32
        }
      ]
    },
    {
      "cell_type": "markdown",
      "metadata": {
        "id": "JoM55mYIfry8"
      },
      "source": [
        "Vamos empregar aqui o otimizador SGD e, sendo um modelo de regressão, é mais apropriado empregar uma função custo de média do erro quadrático."
      ]
    },
    {
      "cell_type": "code",
      "metadata": {
        "id": "INOGxl9L2ULI",
        "colab": {
          "base_uri": "https://localhost:8080/"
        },
        "outputId": "7b79acb5-c082-4e84-9ae9-9edab177583b"
      },
      "source": [
        "X_train = Variable(torch.from_numpy(X_train)).float()\n",
        "print( 'Type: ', type(X_train), '\\nShape: ',  X_train.shape, '\\nContent: ',  X_train[0:5] )\n",
        "y_train = Variable(torch.from_numpy(y_train)).float()\n",
        "X_test  = Variable(torch.from_numpy(X_test)).float()\n",
        "y_test  = Variable(torch.from_numpy(y_test)).float()\n",
        "\n",
        "X_train = X_train.unsqueeze(-1) # o mesmo que X_train.reshape(len(X_train),1)\n",
        "y_train = y_train.unsqueeze(-1)\n",
        "X_test = X_test.unsqueeze(-1)\n",
        "y_test = y_test.unsqueeze(-1)\n",
        "\n",
        "print( 'Type: ', type(X_train), '\\nShape: ',  X_train.shape, '\\nContent: ',  X_train[0:5] )"
      ],
      "execution_count": 33,
      "outputs": [
        {
          "output_type": "stream",
          "text": [
            "Type:  <class 'torch.Tensor'> \n",
            "Shape:  torch.Size([21]) \n",
            "Content:  tensor([ 0.8977,  0.4785, -1.5625, -1.6520,  1.0311])\n",
            "Type:  <class 'torch.Tensor'> \n",
            "Shape:  torch.Size([21, 1]) \n",
            "Content:  tensor([[ 0.8977],\n",
            "        [ 0.4785],\n",
            "        [-1.5625],\n",
            "        [-1.6520],\n",
            "        [ 1.0311]])\n"
          ],
          "name": "stdout"
        }
      ]
    },
    {
      "cell_type": "markdown",
      "metadata": {
        "id": "CWE2W7xbdkB4"
      },
      "source": [
        "Note que agora todos os dados são `float` e fazemos o reshape dos dados para um formato análogo ao que empregamos antes."
      ]
    },
    {
      "cell_type": "markdown",
      "metadata": {
        "id": "iihDsg4qf9Ru"
      },
      "source": [
        "Novamente nosso modelo está pronto para aplicarmos a rede não treinada a um conjunto de dados e observarmos as saídas do modelo antes do treinamento,"
      ]
    },
    {
      "cell_type": "code",
      "metadata": {
        "colab": {
          "base_uri": "https://localhost:8080/"
        },
        "id": "TyaoL6z7gYLy",
        "outputId": "605a299b-999a-4b6b-f47a-a75c07add17b"
      },
      "source": [
        "model(X_train)[0:5] # Exibindo apenas as 5 primeiras ocorrências"
      ],
      "execution_count": 34,
      "outputs": [
        {
          "output_type": "execute_result",
          "data": {
            "text/plain": [
              "tensor([[-0.1325],\n",
              "        [-0.1247],\n",
              "        [-0.0631],\n",
              "        [-0.0585],\n",
              "        [-0.1355]], grad_fn=<SliceBackward>)"
            ]
          },
          "metadata": {
            "tags": []
          },
          "execution_count": 34
        }
      ]
    },
    {
      "cell_type": "markdown",
      "metadata": {
        "id": "uAvgoArWglCJ"
      },
      "source": [
        "## Treinamento\n",
        "\n",
        "O treinamento não tem diferença com relação ao modelo de classificação, mas precisamos ajustar a coleta do histórico de treinamento para os dados referentes a regressão."
      ]
    },
    {
      "cell_type": "code",
      "metadata": {
        "id": "HTBZG94Y82wt"
      },
      "source": [
        "def plot_history(loss_train, loss_val):\n",
        "\n",
        "  plt.plot(loss_train, label = 'Train Error')\n",
        "  plt.plot(loss_val, label = 'Val Error')\n",
        "  plt.xlabel('Epoch')\n",
        "  plt.ylabel('Mean Square Error')\n",
        "  plt.legend()\n",
        "\n",
        "  plt.show()"
      ],
      "execution_count": 35,
      "outputs": []
    },
    {
      "cell_type": "code",
      "metadata": {
        "colab": {
          "base_uri": "https://localhost:8080/",
          "height": 296
        },
        "id": "fVcFG4DHRznL",
        "outputId": "7e1565c2-ade6-4136-be51-a4395b99eac7"
      },
      "source": [
        "import tqdm\n",
        "\n",
        "EPOCHS  = 1000\n",
        "\n",
        "loss_train    = np.zeros((EPOCHS,))\n",
        "loss_val      = np.zeros((EPOCHS,))\n",
        "\n",
        "for epoch in tqdm.trange(EPOCHS):\n",
        "    y_pred = model(X_train)\n",
        "    loss = loss_fn(y_pred, y_train)\n",
        "    loss_train[epoch] = loss.item()\n",
        "    \n",
        "    # Zero gradients\n",
        "    optimizer.zero_grad()\n",
        "    loss.backward()\n",
        "    optimizer.step()\n",
        "    \n",
        "    with torch.no_grad():\n",
        "        y_pred = model(X_test)\n",
        "        loss = loss_fn(y_pred, y_test)\n",
        "        loss_val[epoch] = loss.item()\n",
        "\n",
        "plot_history(loss_train,  loss_val) \n",
        "\n"
      ],
      "execution_count": 36,
      "outputs": [
        {
          "output_type": "stream",
          "text": [
            "100%|██████████| 1000/1000 [00:00<00:00, 1568.73it/s]\n"
          ],
          "name": "stderr"
        },
        {
          "output_type": "display_data",
          "data": {
            "image/png": "[encoded data removed]",
            "text/plain": [
              "<Figure size 432x288 with 1 Axes>"
            ]
          },
          "metadata": {
            "tags": [],
            "needs_background": "light"
          }
        }
      ]
    },
    {
      "cell_type": "markdown",
      "metadata": {
        "id": "-FnGESkxiN39"
      },
      "source": [
        "## Predição\n",
        "\n",
        "Finalmente, podemos empregar o modelo para a predição de um range de valores e observar o resultado obtido."
      ]
    },
    {
      "cell_type": "code",
      "metadata": {
        "colab": {
          "base_uri": "https://localhost:8080/",
          "height": 268
        },
        "id": "TSHs0-91iMY7",
        "outputId": "43c7466d-ec16-48e8-c1bd-924cd0ed8a61"
      },
      "source": [
        "x_pred = np.linspace(-2,1.5,100)\n",
        "y_pred = model(Variable(torch.from_numpy(x_pred)).float().unsqueeze(-1))\n",
        "plt.scatter(X,y)\n",
        "sns.lineplot(x=x_pred,y=y_pred.detach().numpy()[:,0],color='k')\n",
        "plt.show()"
      ],
      "execution_count": 37,
      "outputs": [
        {
          "output_type": "display_data",
          "data": {
            "image/png": "[encoded data removed]",
            "text/plain": [
              "<Figure size 432x288 with 1 Axes>"
            ]
          },
          "metadata": {
            "tags": [],
            "needs_background": "light"
          }
        }
      ]
    },
    {
      "cell_type": "markdown",
      "metadata": {
        "id": "dCtwaiaTtsgu"
      },
      "source": [
        "# Exemplo: Classificação `biopsy`\n",
        "\n",
        "Os exemplos acima são bastante simples mas ajudam a compreender como criar modelos com `PyTorch` e entender a flexibilidade que ele fornece na implementação de redes profundas. \n",
        "\n",
        "Vamos ver uma solução mais elaborada empregando as classes `Dataset`, `DataLoader` e o uso de GPU com o `PyTorch`. Embora possamos desenvolver modelos sem o uso dessas classes como fizemos acima, elas desempenham um papel fundamental em aplicações mais complexas e profissionais e são bastante empregadas. O `TensorFlow` também implementa classes semelhantes e, depois de aprender a empregá-las no `PyTorch`, você pode consultar a documentação do `TensorFlow` para encontrar as mesmas funções.\n",
        "\n",
        "Vamos empregar aqui o mesmo conjunto de dados `biopsy` empregado para classificação, `biopsy` na trilha anterior.\n",
        "\n"
      ]
    },
    {
      "cell_type": "markdown",
      "metadata": {
        "id": "G8MZh7gcYLIy"
      },
      "source": [
        "## Dataset\n",
        "\n",
        "No `PyTorch`, um conjunto de dados é representado por uma classe `Python` que herda da classe `Dataset`. Esse `Dataset` pode ter várias formas, mas você pode pensar, no caso de um problema de classificação, como uma lista de tuplas `Python` em que cada tupla é da forma (*features*, *classe*).\n",
        "\n",
        "Os métodos essencias dessa classe são:\n",
        "\n",
        "* __init__(self) : Construir uma lista de tuplas. Um arquivo CSV que será carregado e processado; dois tensores , um para *features*  e outro para *classes*; e muitas outras coisas a depender do problema.\n",
        "\n",
        "* __get_item__(self, index): permite que o conjunto de dados seja indexado  para que possa funcionar como uma lista (dataset[i]) e deve retornar uma tupla (*features*, *classe*) correspondente ao índice solicitado. \n",
        "\n",
        "* __len__(self): retorna o tamanho de todo o conjunto de dados.\n",
        "\n",
        "\n",
        "Assim para nosso exemplo `biopsy` podemos, por exemplo, construir:"
      ]
    },
    {
      "cell_type": "code",
      "metadata": {
        "id": "KvbtFf3kZFrE"
      },
      "source": [
        "import pandas as pd\n",
        "from torch.utils.data import Dataset\n",
        "from sklearn.preprocessing import LabelEncoder\n",
        "\n",
        "class CSVDataset(Dataset):\n",
        "    # load the dataset\n",
        "    def __init__(self, path):\n",
        "        # load the csv file as a dataframe\n",
        "        df = pd.read_csv(path, header=0, index_col=0)\n",
        "        \n",
        "        # some preparation \n",
        "        df = df.drop(columns=['ID'])\n",
        "        df.V6 = df.V6.fillna( df.V6.mean() )\n",
        "\n",
        "        # store the inputs and outputs\n",
        "        self.X = df.values[:, :-1]\n",
        "        self.y = df.values[:, -1]\n",
        "\n",
        "        # ensure input data is floats\n",
        "        self.X = self.X.astype('float32')\n",
        "\n",
        "        # label encode target and ensure the values are floats\n",
        "        self.y = LabelEncoder().fit_transform(self.y)\n",
        "        self.y = self.y.astype('float32')\n",
        "        self.y = self.y.reshape((len(self.y), 1))\n",
        "\n",
        "\n",
        "    # number of rows in the dataset\n",
        "    def __len__(self):\n",
        "        return len(self.X)\n",
        "\n",
        "    # get a row at an index\n",
        "    def __getitem__(self, idx):\n",
        "        return [self.X[idx], self.y[idx]]\n",
        "\n",
        "path = 'https://vincentarelbundock.github.io/Rdatasets/csv/MASS/biopsy.csv'\n",
        "dataset = CSVDataset(path)\n",
        "\n"
      ],
      "execution_count": 2,
      "outputs": []
    },
    {
      "cell_type": "markdown",
      "metadata": {
        "id": "LdGDjcr3dYKX"
      },
      "source": [
        "Cada uma das __len__() tuplas é então da forma (*features*, *classe*):"
      ]
    },
    {
      "cell_type": "code",
      "metadata": {
        "colab": {
          "base_uri": "https://localhost:8080/"
        },
        "id": "QQeJ8DEHZgvV",
        "outputId": "eb40d355-0332-4b6b-c240-65a47ef6ace5"
      },
      "source": [
        "print( 'Número de tuplas:' , dataset.__len__() ) \n",
        "print( dataset[0] ) \n",
        "# \n",
        "print( dataset.__getitem__(0) )"
      ],
      "execution_count": 3,
      "outputs": [
        {
          "output_type": "stream",
          "text": [
            "Número de tuplas: 699\n",
            "[array([5., 1., 1., 1., 2., 1., 3., 1., 1.], dtype=float32), array([0.], dtype=float32)]\n",
            "[array([5., 1., 1., 1., 2., 1., 3., 1., 1.], dtype=float32), array([0.], dtype=float32)]\n"
          ],
          "name": "stdout"
        }
      ]
    },
    {
      "cell_type": "markdown",
      "metadata": {
        "id": "g68l-X4-eQa2"
      },
      "source": [
        "E podemos ainda referenciar somente as *features* (os atributos `X`) ou às *classes* (atributo `y`): "
      ]
    },
    {
      "cell_type": "code",
      "metadata": {
        "colab": {
          "base_uri": "https://localhost:8080/"
        },
        "id": "iI2EBLTEeghT",
        "outputId": "451c5e23-42d1-428e-fecc-422ee316c910"
      },
      "source": [
        "for i in range(2):\n",
        "  print( dataset.X[i], dataset.y[i] )"
      ],
      "execution_count": 4,
      "outputs": [
        {
          "output_type": "stream",
          "text": [
            "[5. 1. 1. 1. 2. 1. 3. 1. 1.] [0.]\n",
            "[ 5.  4.  4.  5.  7. 10.  3.  2.  1.] [0.]\n"
          ],
          "name": "stdout"
        }
      ]
    },
    {
      "cell_type": "markdown",
      "metadata": {
        "id": "km0SI8wHj8Ct"
      },
      "source": [
        "Podemos agora separar no nosso `Dataset` os conjuntos de dados de treinamento e teste por qualquer método que quisermos e poderíamos até mesmo ter adicionado um método `__get__train_test_split` à nossa classe `Dataset`. Aqui seria suficiente empregarmos a função `train_test_split` do `Scikit-learn` que você já conhece."
      ]
    },
    {
      "cell_type": "code",
      "metadata": {
        "id": "zmYMshRjj1n6"
      },
      "source": [
        "from sklearn.model_selection import train_test_split\n",
        "\n",
        "train_dataset, test_dataset = train_test_split(dataset, test_size=0.3, random_state=123)"
      ],
      "execution_count": 5,
      "outputs": []
    },
    {
      "cell_type": "markdown",
      "metadata": {
        "id": "CvTfci1Oli76"
      },
      "source": [
        "Mas podemos também empregar o módulo `random_split` do próprio `PyTorch`,"
      ]
    },
    {
      "cell_type": "code",
      "metadata": {
        "id": "iRPJ0g5embEy"
      },
      "source": [
        "from torch.utils.data.dataset import random_split\n",
        "import torch\n",
        "\n",
        "train_len = int(0.7*len(dataset))\n",
        "test_len = len(dataset) - train_len\n",
        "\n",
        "train_dataset, test_dataset = random_split(dataset,[train_len,test_len], generator=torch.Generator().manual_seed(123),)"
      ],
      "execution_count": 6,
      "outputs": []
    },
    {
      "cell_type": "markdown",
      "metadata": {
        "id": "CdLUAN4elt7Z"
      },
      "source": [
        "E existem muitas outras funções de transformação e manipulação de dados, incluindo imagens, para os quais essas classes são ainda mais fundamentais."
      ]
    },
    {
      "cell_type": "markdown",
      "metadata": {
        "id": "ua7xswWklmlS"
      },
      "source": [
        "Ao final nossos conjuntos `train` e `test` seguem sendo tuplas do tipo (*features*, *classe*):"
      ]
    },
    {
      "cell_type": "code",
      "metadata": {
        "colab": {
          "base_uri": "https://localhost:8080/"
        },
        "id": "dzuNrLsgljS8",
        "outputId": "4aea87cc-b53d-4c0c-89a0-399b02884f6b"
      },
      "source": [
        "train_dataset[0:5]"
      ],
      "execution_count": 7,
      "outputs": [
        {
          "output_type": "execute_result",
          "data": {
            "text/plain": [
              "[array([[ 3.,  1.,  1.,  1.,  2.,  1.,  2.,  1.,  1.],\n",
              "        [ 1.,  3.,  3.,  2.,  2.,  1.,  7.,  2.,  1.],\n",
              "        [10.,  3.,  3.,  1.,  2., 10.,  7.,  6.,  1.],\n",
              "        [ 1.,  1.,  1.,  1.,  2.,  1.,  3.,  2.,  1.],\n",
              "        [ 5.,  1.,  1.,  1.,  2.,  1.,  1.,  1.,  1.]], dtype=float32),\n",
              " array([[0.],\n",
              "        [0.],\n",
              "        [1.],\n",
              "        [0.],\n",
              "        [0.]], dtype=float32)]"
            ]
          },
          "metadata": {
            "tags": []
          },
          "execution_count": 7
        }
      ]
    },
    {
      "cell_type": "markdown",
      "metadata": {
        "id": "1dt44c3ek6na"
      },
      "source": [
        "Como você pode ver essa classe é bastante flexível e podemos construir *quaisquer* operações sobre os dados para criarmos as tuplas de treinamento do modelo."
      ]
    },
    {
      "cell_type": "markdown",
      "metadata": {
        "id": "_aQYJ88oe6Jq"
      },
      "source": [
        "## DataLoader \n",
        "\n",
        "Até agora, usamos todos os dados de treinamento em cada etapa do treinamento, isto é, cada iteração para ajuste dos pesos faz o forward da rede para todos os dados, calcula o erro e com os gradientes ajusta os pesos. Nosso *batch* (ou lote) de treinamento é todo o conjunto de dados. Isso pode ser feito quando a quantidade de dados é bastante pequena mas, em casos mais práticos, devemos empregar *mini-batchs* para o ajuste dos parâmetros da rede a cada iteração. \n",
        "\n",
        "A classe da DataLoader do `PyTorch` faz este trabalho para nós. Ele recebe um `Dataset` e o tamanho do lote desejado, e cria um objeto que se comportará como um iterador para podermos fazer um loop sobre ele e processar cada mini-batch pode vez.\n"
      ]
    },
    {
      "cell_type": "code",
      "metadata": {
        "id": "urQszdLJlMkE"
      },
      "source": [
        "from torch.utils.data import DataLoader\n",
        "\n",
        "train = DataLoader(train_dataset, batch_size=16, shuffle=True)\n"
      ],
      "execution_count": 8,
      "outputs": []
    },
    {
      "cell_type": "markdown",
      "metadata": {
        "id": "rvSsaE-wqcwu"
      },
      "source": [
        "Podemos agora iterar sobre esses dados!"
      ]
    },
    {
      "cell_type": "code",
      "metadata": {
        "colab": {
          "base_uri": "https://localhost:8080/"
        },
        "id": "CP2ej3G0mGbC",
        "outputId": "55f96ba8-272c-418b-8f30-f087e797c07f"
      },
      "source": [
        "X_train, y_train = next(iter(train))\n",
        "\n",
        "print( X_train )\n",
        "print( y_train )"
      ],
      "execution_count": 9,
      "outputs": [
        {
          "output_type": "stream",
          "text": [
            "tensor([[ 3.,  3.,  2.,  1.,  2.,  3.,  3.,  1.,  1.],\n",
            "        [ 5.,  1.,  1.,  3.,  2.,  1.,  1.,  1.,  1.],\n",
            "        [ 6.,  9.,  7.,  5.,  5.,  8.,  4.,  2.,  1.],\n",
            "        [ 1.,  1.,  1.,  3.,  2.,  1.,  1.,  1.,  1.],\n",
            "        [ 8.,  4.,  4.,  1.,  2.,  9.,  3.,  3.,  1.],\n",
            "        [ 1.,  1.,  1.,  1.,  2.,  3.,  3.,  1.,  1.],\n",
            "        [ 2.,  1.,  1.,  1.,  2.,  1.,  3.,  1.,  1.],\n",
            "        [10.,  4.,  7.,  2.,  2.,  8.,  6.,  1.,  1.],\n",
            "        [10.,  3.,  4.,  5.,  3., 10.,  4.,  1.,  1.],\n",
            "        [10., 10., 10.,  4.,  8.,  1.,  8., 10.,  1.],\n",
            "        [ 3.,  1.,  1.,  1.,  2.,  1.,  2.,  1.,  1.],\n",
            "        [ 4.,  7.,  8.,  3.,  4., 10.,  9.,  1.,  1.],\n",
            "        [ 1.,  2.,  3.,  1.,  2.,  1.,  1.,  1.,  1.],\n",
            "        [ 3.,  1.,  1.,  1.,  1.,  1.,  1.,  1.,  1.],\n",
            "        [10., 10., 10.,  8.,  6.,  1.,  8.,  9.,  1.],\n",
            "        [ 8., 10., 10.,  8.,  7., 10.,  9.,  7.,  1.]])\n",
            "tensor([[0.],\n",
            "        [0.],\n",
            "        [0.],\n",
            "        [0.],\n",
            "        [1.],\n",
            "        [0.],\n",
            "        [0.],\n",
            "        [1.],\n",
            "        [1.],\n",
            "        [1.],\n",
            "        [0.],\n",
            "        [1.],\n",
            "        [0.],\n",
            "        [0.],\n",
            "        [1.],\n",
            "        [1.]])\n"
          ],
          "name": "stdout"
        }
      ]
    },
    {
      "cell_type": "markdown",
      "metadata": {
        "id": "28hzWcrImiao"
      },
      "source": [
        "O restante seguirá bem de perto o modelo de classificação que criamos."
      ]
    },
    {
      "cell_type": "markdown",
      "metadata": {
        "id": "6Na-drNPrj_o"
      },
      "source": [
        "## Definindo o modelo\n",
        "\n",
        "Poderíamos empregar aqui o mesmo modelo anterior de classificação multiclasse e emprega-lo pode ser um bom exercício para você. Mas temos apenas duas classes de saída nos dados e podemos então empregar uma classificação binária. A saída de rede é então um único neurônio que retornará a *chance* (~ probabilidade) de uma classe de dados tendo como saída a função logística. \n",
        "\n"
      ]
    },
    {
      "cell_type": "code",
      "metadata": {
        "id": "CRkIt1-Jrmh_"
      },
      "source": [
        "import torch.nn as nn\n",
        "\n",
        "class MLP(nn.Module):\n",
        "    # define model elements\n",
        "    def __init__(self, n_inputs):\n",
        "        super(MLP, self).__init__()\n",
        "\n",
        "        self.hidden1 = nn.Linear(n_inputs, 10)\n",
        "        self.act1 = nn.ReLU()\n",
        "\n",
        "        self.hidden2 = nn.Linear(10, 8)\n",
        "        self.act2 = nn.ReLU()\n",
        "\n",
        "        self.hidden3 = nn.Linear(8, 1)\n",
        "        self.act3 = nn.Sigmoid()\n",
        "\n",
        "    # forward  \n",
        "    def forward(self, X):\n",
        "        X = self.hidden1(X)\n",
        "        X = self.act1(X)\n",
        "        X = self.hidden2(X)\n",
        "        X = self.act2(X)\n",
        "        X = self.hidden3(X)\n",
        "        X = self.act3(X)\n",
        "        return X\n",
        "\n",
        "        "
      ],
      "execution_count": 10,
      "outputs": []
    },
    {
      "cell_type": "markdown",
      "metadata": {
        "id": "m3q7ysEvoMLq"
      },
      "source": [
        "## Inicialização\n",
        "\n",
        "Agora empregaremos a função de custo *Binary Cross Entropy Loss* e o otimizador Adam, e inicializamos nosso modelo."
      ]
    },
    {
      "cell_type": "code",
      "metadata": {
        "colab": {
          "base_uri": "https://localhost:8080/"
        },
        "id": "sasn2gRuoLhY",
        "outputId": "40afcc71-9e96-4394-d53e-52ffa7b003c5"
      },
      "source": [
        "from torch.optim import SGD, Adam\n",
        "\n",
        "model = MLP(9)\n",
        "loss_fn = nn.BCELoss()\n",
        "# optimizer = SGD(model.parameters(), lr=0.01, momentum=0.9) # Você pode optar por esse se quiser\n",
        "optimizer = Adam(model.parameters(), lr=0.001)\n",
        "\n",
        "print( model )"
      ],
      "execution_count": 29,
      "outputs": [
        {
          "output_type": "stream",
          "text": [
            "MLP(\n",
            "  (hidden1): Linear(in_features=9, out_features=10, bias=True)\n",
            "  (act1): ReLU()\n",
            "  (hidden2): Linear(in_features=10, out_features=8, bias=True)\n",
            "  (act2): ReLU()\n",
            "  (hidden3): Linear(in_features=8, out_features=1, bias=True)\n",
            "  (act3): Sigmoid()\n",
            ")\n"
          ],
          "name": "stdout"
        }
      ]
    },
    {
      "cell_type": "markdown",
      "metadata": {
        "id": "MDV6O1a5pG3X"
      },
      "source": [
        "As transformações para tensores são são feitas pelas classes `Dataset` e `DataLoader` e você pode aplicar o modelo ainda não treinado a um *lote* da próxima iteração diretamente:"
      ]
    },
    {
      "cell_type": "code",
      "metadata": {
        "colab": {
          "base_uri": "https://localhost:8080/"
        },
        "id": "Jv_JWxg2pqh-",
        "outputId": "f9b67922-858d-433a-e30c-8e5e70adabcb"
      },
      "source": [
        "X_train, y_train = next(iter(train))\n",
        "\n",
        "model(X_train)"
      ],
      "execution_count": 30,
      "outputs": [
        {
          "output_type": "execute_result",
          "data": {
            "text/plain": [
              "tensor([[0.5236],\n",
              "        [0.5675],\n",
              "        [0.5433],\n",
              "        [0.6136],\n",
              "        [0.5597],\n",
              "        [0.5384],\n",
              "        [0.5298],\n",
              "        [0.5323],\n",
              "        [0.6944],\n",
              "        [0.5385],\n",
              "        [0.5560],\n",
              "        [0.5580],\n",
              "        [0.6286],\n",
              "        [0.5916],\n",
              "        [0.5263],\n",
              "        [0.5557]], grad_fn=<SigmoidBackward>)"
            ]
          },
          "metadata": {
            "tags": []
          },
          "execution_count": 30
        }
      ]
    },
    {
      "cell_type": "markdown",
      "metadata": {
        "id": "7yugqpAvtqxm"
      },
      "source": [
        "## Treinamento\n",
        "\n",
        "Apenas para tornar o código mais simples não iremos gerar o histórico de acuracidade como antes e iremos apenas exibir o evolução da função de custo."
      ]
    },
    {
      "cell_type": "code",
      "metadata": {
        "id": "ppRmXZXKtsbM"
      },
      "source": [
        "EPOCHS = 100\n",
        "loss_list = np.zeros((EPOCHS,))\n",
        "\n",
        "for epoch in range(EPOCHS):\n",
        "    loss_batch = 0\n",
        "\n",
        "    for x_batch, y_batch in train:\n",
        "        # compute the model output\n",
        "        y_pred = model(x_batch)\n",
        "        loss = loss_fn(y_pred, y_batch)\n",
        "        # Zero gradients\n",
        "        optimizer.zero_grad()\n",
        "        loss.backward()\n",
        "        optimizer.step()\n",
        "        loss_batch = loss_batch + loss.item()\n",
        "    \n",
        "    loss_list[epoch] = loss_batch / len(x_batch)"
      ],
      "execution_count": 31,
      "outputs": []
    },
    {
      "cell_type": "code",
      "metadata": {
        "colab": {
          "base_uri": "https://localhost:8080/",
          "height": 279
        },
        "id": "1rzHGKITu0Dz",
        "outputId": "036d8e5a-9e47-4021-d816-e7d813861259"
      },
      "source": [
        "def plot_history(loss_list):\n",
        "\n",
        "  plt.plot(loss_list)\n",
        "  plt.ylabel(\"Train Loss\")\n",
        "  plt.xlabel(\"Epoch\")\n",
        "  plt.show()\n",
        "\n",
        "plot_history(loss_list) "
      ],
      "execution_count": 32,
      "outputs": [
        {
          "output_type": "display_data",
          "data": {
            "image/png": "[encoded data removed]",
            "text/plain": [
              "<Figure size 432x288 with 1 Axes>"
            ]
          },
          "metadata": {
            "tags": [],
            "needs_background": "light"
          }
        }
      ]
    },
    {
      "cell_type": "markdown",
      "metadata": {
        "id": "9IdcJ5-TrkLO"
      },
      "source": [
        "## Predição\n",
        "\n",
        "Temos várias formas de fazer predições e analisar os resultados. Uma forma simples, neste caso, parecer ser criarmos um lote como todos os dados de teste e aplicar o modelo,"
      ]
    },
    {
      "cell_type": "code",
      "metadata": {
        "id": "uIH8uRYhwck3"
      },
      "source": [
        "test = DataLoader(test_dataset, batch_size=len(test_dataset))\n",
        "xx_test, yy_test = next(iter(test))"
      ],
      "execution_count": 36,
      "outputs": []
    },
    {
      "cell_type": "code",
      "metadata": {
        "id": "7jhF7SpldvPN"
      },
      "source": [
        "yy_pred = model(xx_test).round()"
      ],
      "execution_count": 37,
      "outputs": []
    },
    {
      "cell_type": "markdown",
      "metadata": {
        "id": "gJT5TjvbsNbZ"
      },
      "source": [
        "Lembre que a saída é um valor entre $[0,1]$ indicando a chance da classe ser $0$ e, portanto, o arredondamento produz o valores de classe 0 e 1 que você pode empregar para verificar a acuracidade contra o conjunto de teste."
      ]
    },
    {
      "cell_type": "code",
      "metadata": {
        "colab": {
          "base_uri": "https://localhost:8080/"
        },
        "id": "thKlJUpJxtNd",
        "outputId": "62041e5e-a398-4a5d-aee5-2945c20e1a1a"
      },
      "source": [
        "from sklearn.metrics import accuracy_score\n",
        "print(accuracy_score(yy_test.detach().numpy(), yy_pred.detach().numpy()))"
      ],
      "execution_count": 38,
      "outputs": [
        {
          "output_type": "stream",
          "text": [
            "0.9809523809523809\n"
          ],
          "name": "stdout"
        }
      ]
    },
    {
      "cell_type": "markdown",
      "metadata": {
        "id": "FQ2AR3pItA0p"
      },
      "source": [
        "O *detach* dos valores é necessário apenas por que o `Scikit-learn` não opera diretamente com os tensores."
      ]
    },
    {
      "cell_type": "markdown",
      "metadata": {
        "id": "uiEMj0vN12tc"
      },
      "source": [
        "## GPU\n",
        "\n",
        "Para completarmos o nosso modelo mais elaborado vamos configurá-lo para processar os tensores e o modelo nas GPUs disponíveis. \n",
        "\n",
        "No `PyTorch` precisamos explicitamente direcionar os elementos para empregar a GPU. Esse comando irá setar a variável `device` com a GPU se ela estiver disponível e podemos empregá-la com a instrução `.to(device)` para direcionar os elementos para o dispositivo."
      ]
    },
    {
      "cell_type": "code",
      "metadata": {
        "colab": {
          "base_uri": "https://localhost:8080/"
        },
        "id": "-day2kkk11xz",
        "outputId": "376284db-ce6b-4cab-bfe3-705c607952b6"
      },
      "source": [
        "device = \"cuda\" if torch.cuda.is_available() else \"cpu\"\n",
        "print(\"Using {} device\".format(device))"
      ],
      "execution_count": 39,
      "outputs": [
        {
          "output_type": "stream",
          "text": [
            "Using cpu device\n"
          ],
          "name": "stdout"
        }
      ]
    },
    {
      "cell_type": "markdown",
      "metadata": {
        "id": "BmaPsMhcuZba"
      },
      "source": [
        "### Movendo o Modelo\n",
        "\n",
        "O parâmetros do modelo (os pesos) são tensores e passarão a ser executados no dispositivo indicado."
      ]
    },
    {
      "cell_type": "code",
      "metadata": {
        "id": "oKP8XFt02OVp",
        "colab": {
          "base_uri": "https://localhost:8080/"
        },
        "outputId": "ccea38a6-8d71-4f1b-80d3-042d11af3765"
      },
      "source": [
        "model = MLP(9).to(device)\n",
        "optimizer = Adam(model.parameters(), lr=0.001) # o otimizador também precisa ser reinicializado!\n",
        "\n",
        "print( model )"
      ],
      "execution_count": 43,
      "outputs": [
        {
          "output_type": "stream",
          "text": [
            "MLP(\n",
            "  (hidden1): Linear(in_features=9, out_features=10, bias=True)\n",
            "  (act1): ReLU()\n",
            "  (hidden2): Linear(in_features=10, out_features=8, bias=True)\n",
            "  (act2): ReLU()\n",
            "  (hidden3): Linear(in_features=8, out_features=1, bias=True)\n",
            "  (act3): Sigmoid()\n",
            ")\n"
          ],
          "name": "stdout"
        }
      ]
    },
    {
      "cell_type": "markdown",
      "metadata": {
        "id": "Ik_e2B6gudOm"
      },
      "source": [
        "### Movendo os dados `x_batch` e `y_batch`\n",
        "\n",
        "Como o modelo e os dados precisam estar no mesmo contexto para serem processados é necessário mover os tensores de dados também para o device."
      ]
    },
    {
      "cell_type": "code",
      "metadata": {
        "id": "9zEfvfv12EHv",
        "colab": {
          "base_uri": "https://localhost:8080/",
          "height": 281
        },
        "outputId": "5dd3d349-7bf7-498d-a369-4ba1290e8164"
      },
      "source": [
        "EPOCHS = 100\n",
        "loss_list = np.zeros((EPOCHS,))\n",
        "\n",
        "for epoch in range(EPOCHS):\n",
        "    loss_batch = 0\n",
        "\n",
        "    for x_batch, y_batch in train:\n",
        "\n",
        "        x_batch = x_batch.to(device)\n",
        "        y_batch = y_batch.to(device)\n",
        "\n",
        "        # compute the model output\n",
        "        y_pred = model(x_batch)\n",
        "        loss = loss_fn(y_pred, y_batch)\n",
        "        # Zero gradients\n",
        "        optimizer.zero_grad()\n",
        "        loss.backward()\n",
        "        optimizer.step()\n",
        "        loss_batch = loss_batch + loss.item()\n",
        "    \n",
        "    loss_list[epoch] = loss_batch / len(x_batch)\n",
        "\n",
        "plot_history(loss_list)     "
      ],
      "execution_count": 44,
      "outputs": [
        {
          "output_type": "display_data",
          "data": {
            "image/png": "[encoded data removed]",
            "text/plain": [
              "<Figure size 432x288 with 1 Axes>"
            ]
          },
          "metadata": {
            "tags": [],
            "needs_background": "light"
          }
        }
      ]
    },
    {
      "cell_type": "markdown",
      "metadata": {
        "id": "pP0E-U9I-tWg"
      },
      "source": [
        "O resultado é análogo ao que fizemos antes."
      ]
    },
    {
      "cell_type": "code",
      "metadata": {
        "id": "E7TvhXB4-3B1"
      },
      "source": [
        "test = DataLoader(test_dataset, batch_size=len(test_dataset))\n",
        "xx_test, yy_test = next(iter(test))"
      ],
      "execution_count": 45,
      "outputs": []
    },
    {
      "cell_type": "code",
      "metadata": {
        "id": "RwQjwTjF-3B2"
      },
      "source": [
        "yy_pred = model(xx_test).round()"
      ],
      "execution_count": 46,
      "outputs": []
    },
    {
      "cell_type": "code",
      "metadata": {
        "colab": {
          "base_uri": "https://localhost:8080/"
        },
        "id": "Kqm_yRRc-3B2",
        "outputId": "e92295a2-a90b-41df-bae5-fdbbaedef9d4"
      },
      "source": [
        "from sklearn.metrics import accuracy_score\n",
        "print(accuracy_score(yy_test.detach().numpy(), yy_pred.detach().numpy()))"
      ],
      "execution_count": 47,
      "outputs": [
        {
          "output_type": "stream",
          "text": [
            "0.9761904761904762\n"
          ],
          "name": "stdout"
        }
      ]
    },
    {
      "cell_type": "markdown",
      "metadata": {
        "id": "m-_QM8ceztWe"
      },
      "source": [
        "# Síntese\n",
        "\n",
        "Nesta trilha você aprendeu a criar modelos de redes profundas com `PyTorch` para predição de valores de classificação e regressão. \n",
        "\n",
        "Muito do quê aprendemos a empregar aqui com o `PyTorch` é semelhante ao quê você aprendeu com o `TensorFlow` nas trilhas anteriores, e você pôde se concentrar apenas nas diferenças da implementação, como a necessidade de indicar explicitamente os dispositivos de execução, executar as transformações dos dados para tensores e as diferentes instruções empregadas.\n",
        "\n",
        "Pudemos ainda explorar outras classes do `PyTorch`, como as classes `Dataset` e `DataLoader` para tratamento de dados. Essas mesmas funções também podem ser encontradas no `TensorFlow` e desempenham um papel muito importante no tratamento de dados mais complexos, em especial para dados multimídia.\n",
        "\n",
        "Como você pôde observar que o `PyTorch` é um framework eficiente de programação diferenciável sobre tensores do mesmo modo que o `TensorFlow` e que fornece uma interface suficiente amigável e bastante flexível para a construção de modelos de redes profundas. Ele oferece muitos outros recursos e você pode encontrar na documentação do `PyTorch` implementações das funções mesmas funções que empregamos antes com o `TensorFlow`, como Dropout ou Early Stopping, que não exploramos aqui por brevidade. Mas existem muitos outros recursos que não tratamos aqui nos dois pacotes.\n",
        "\n",
        "\n",
        "\n",
        "\n",
        "\n",
        "\n",
        "\n"
      ]
    },
    {
      "cell_type": "markdown",
      "metadata": {
        "id": "NmG9yqIREr0w"
      },
      "source": [
        "## Para saber mais\n",
        "\n",
        "Um tópico avançado que não tratamos aqui é a inicialização dos parâmetros da rede que podem ter um grande efeito em modelos de redes mais profundas. Tanto o `PyTorch` como o `TensorFlow` implementam diferentes técnicas e você pode começar pelos seguintes tutoriais:\n",
        "\n",
        "* Para `TensorFlow`: **Weight initialization tutorial in TensorFlow**, https://adventuresinmachinelearning.com/weight-initialization-tutorial-tensorflow/\n",
        "* Para `PyTorch`: **How to initialize model weights in PyTorch**, https://www.askpython.com/python-modules/initialize-model-weights-pytorch\n",
        "\n",
        "Os dois tutoriais a seguir também trazem implementações bastante semelhantes a que fizemos aqui e podem ser úteis para você:\n",
        "\n",
        "* **PyTorch Tutorial: How to Develop Deep Learning Models with Python** https://machinelearningmastery.com/pytorch-tutorial-develop-deep-learning-models/\n",
        "\n",
        "* **Understanding PyTorch with an example: a step-by-step tutorial** https://towardsdatascience.com/understanding-pytorch-with-an-example-a-step-by-step-tutorial-81fc5f8c4e8e\n",
        "\n",
        "Não deixe de visitar o tutorial do `PyTorch` em https://pytorch.org/tutorials/, Em especial o QuickStart e as seções de Datasets & DataLoaders, e a seção de de Transforms (que não tratamos aqui). \n",
        "\n",
        "\n",
        "\n",
        "\n",
        "\n"
      ]
    },
    {
      "cell_type": "markdown",
      "metadata": {
        "id": "h_6fwcVkCsLf"
      },
      "source": [
        "## Referências\n",
        "\n",
        "1. Aston Zhang and Zachary C. Lipton and Mu Li and Alexander J. Smola. **Dive into Deep Learning** (2020). Disponível em: https://d2l.ai/index.html Acesso em: 21 de abril de 2021. \n",
        "\n",
        "1. ___. **Tensors**. Disponível em: https://pytorch.org/tutorials/beginner/basics/tensorqs_tutorial.html  Acesso em: 28 de maio de 2021.\n",
        "\n",
        "1. ___. **PyTorch Tutorials**. Disponível em: https://pytorch.org/tutorials/ Acesso em: 11 de junho de 2021.\n",
        "\n",
        "1. Géron, A. **Hands-on machine learning with Scikit-Learn, Keras and TensorFlow: concepts, tools, and techniques to build intelligent systems**, 2nd ed. (2019) O'Reilly \n",
        "\n",
        "1. Godoy, D. V. **Deep Learning with PyTorch Step-by-Step\n",
        "A Beginner's Guide**, eBook: leanpub.com, (2020). \n",
        "\n",
        "\n"
      ]
    }
  ]
}